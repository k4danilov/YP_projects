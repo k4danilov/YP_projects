{
 "cells": [
  {
   "cell_type": "markdown",
   "metadata": {
    "toc": true
   },
   "source": [
    "<h1>Содержание<span class=\"tocSkip\"></span></h1>\n",
    "<div class=\"toc\"><ul class=\"toc-item\"><li><span><a href=\"#Подготовка\" data-toc-modified-id=\"Подготовка-1\"><span class=\"toc-item-num\">1&nbsp;&nbsp;</span>Подготовка</a></span><ul class=\"toc-item\"><li><span><a href=\"#Загрузка-данных-и-первичный-осмотр\" data-toc-modified-id=\"Загрузка-данных-и-первичный-осмотр-1.1\"><span class=\"toc-item-num\">1.1&nbsp;&nbsp;</span>Загрузка данных и первичный осмотр</a></span></li><li><span><a href=\"#Лемматизация-и-токенизация-текста\" data-toc-modified-id=\"Лемматизация-и-токенизация-текста-1.2\"><span class=\"toc-item-num\">1.2&nbsp;&nbsp;</span>Лемматизация и токенизация текста</a></span></li><li><span><a href=\"#Дисбаланс-классов\" data-toc-modified-id=\"Дисбаланс-классов-1.3\"><span class=\"toc-item-num\">1.3&nbsp;&nbsp;</span>Дисбаланс классов</a></span></li><li><span><a href=\"#Разделение-на-признаки-и-целевой-признак\" data-toc-modified-id=\"Разделение-на-признаки-и-целевой-признак-1.4\"><span class=\"toc-item-num\">1.4&nbsp;&nbsp;</span>Разделение на признаки и целевой признак</a></span></li></ul></li><li><span><a href=\"#Обучение\" data-toc-modified-id=\"Обучение-2\"><span class=\"toc-item-num\">2&nbsp;&nbsp;</span>Обучение</a></span><ul class=\"toc-item\"><li><span><a href=\"#Создание-корпуса-текстов-и-учет-стоп-слов\" data-toc-modified-id=\"Создание-корпуса-текстов-и-учет-стоп-слов-2.1\"><span class=\"toc-item-num\">2.1&nbsp;&nbsp;</span>Создание корпуса текстов и учет стоп-слов</a></span></li><li><span><a href=\"#Linear-Regression\" data-toc-modified-id=\"Linear-Regression-2.2\"><span class=\"toc-item-num\">2.2&nbsp;&nbsp;</span>Linear Regression</a></span></li><li><span><a href=\"#Random-Forest\" data-toc-modified-id=\"Random-Forest-2.3\"><span class=\"toc-item-num\">2.3&nbsp;&nbsp;</span>Random Forest</a></span></li><li><span><a href=\"#LightGBM\" data-toc-modified-id=\"LightGBM-2.4\"><span class=\"toc-item-num\">2.4&nbsp;&nbsp;</span>LightGBM</a></span></li><li><span><a href=\"#Выбор-лучшей-модели\" data-toc-modified-id=\"Выбор-лучшей-модели-2.5\"><span class=\"toc-item-num\">2.5&nbsp;&nbsp;</span>Выбор лучшей модели</a></span></li></ul></li><li><span><a href=\"#Проверка-лучшей-модели-на-тестовой-выборке\" data-toc-modified-id=\"Проверка-лучшей-модели-на-тестовой-выборке-3\"><span class=\"toc-item-num\">3&nbsp;&nbsp;</span>Проверка лучшей модели на тестовой выборке</a></span></li><li><span><a href=\"#Выводы\" data-toc-modified-id=\"Выводы-4\"><span class=\"toc-item-num\">4&nbsp;&nbsp;</span>Выводы</a></span></li><li><span><a href=\"#Чек-лист-проверки\" data-toc-modified-id=\"Чек-лист-проверки-5\"><span class=\"toc-item-num\">5&nbsp;&nbsp;</span>Чек-лист проверки</a></span></li></ul></div>"
   ]
  },
  {
   "cell_type": "markdown",
   "metadata": {},
   "source": [
    "# Проект для «Викишоп»"
   ]
  },
  {
   "cell_type": "markdown",
   "metadata": {},
   "source": [
    "Интернет-магазин «Викишоп» запускает новый сервис. Теперь пользователи могут редактировать и дополнять описания товаров, как в вики-сообществах. То есть клиенты предлагают свои правки и комментируют изменения других. Магазину нужен инструмент, который будет искать токсичные комментарии и отправлять их на модерацию. \n",
    "\n",
    "В вашем распоряжении набор данных с разметкой о токсичности правок.\n"
   ]
  },
  {
   "cell_type": "markdown",
   "metadata": {},
   "source": [
    "**Цель проект:**\n",
    "- Обучить модель классифицировать комментарии на позитивные и негативные. Метрика качества *F1* должна быть не меньше 0.75."
   ]
  },
  {
   "cell_type": "markdown",
   "metadata": {},
   "source": [
    "**Задачи проекта:**\n",
    "- Загрузить и подготовить данные.\n",
    "- Обучить разные модели. \n",
    "- Выбрать наилучшую модель и сформулировать вывод."
   ]
  },
  {
   "cell_type": "markdown",
   "metadata": {},
   "source": [
    "В нашем распоряжении набор данных с разметкой о токсичности правок."
   ]
  },
  {
   "cell_type": "code",
   "execution_count": 1,
   "metadata": {},
   "outputs": [
    {
     "name": "stderr",
     "output_type": "stream",
     "text": [
      "[nltk_data] Downloading package stopwords to\n",
      "[nltk_data]     C:\\Users\\Кирилл\\AppData\\Roaming\\nltk_data...\n",
      "[nltk_data]   Package stopwords is already up-to-date!\n",
      "[nltk_data] Downloading package wordnet to\n",
      "[nltk_data]     C:\\Users\\Кирилл\\AppData\\Roaming\\nltk_data...\n",
      "[nltk_data]   Package wordnet is already up-to-date!\n",
      "[nltk_data] Downloading package omw-1.4 to\n",
      "[nltk_data]     C:\\Users\\Кирилл\\AppData\\Roaming\\nltk_data...\n",
      "[nltk_data]   Package omw-1.4 is already up-to-date!\n",
      "[nltk_data] Downloading package punkt to\n",
      "[nltk_data]     C:\\Users\\Кирилл\\AppData\\Roaming\\nltk_data...\n",
      "[nltk_data]   Package punkt is already up-to-date!\n"
     ]
    }
   ],
   "source": [
    "import pandas as pd\n",
    "import matplotlib.pyplot as plt\n",
    "import numpy as np\n",
    "import seaborn as sns\n",
    "import re\n",
    "import nltk\n",
    "\n",
    "\n",
    "from nltk.corpus import stopwords as nltk_stopwords\n",
    "\n",
    "nltk.download('stopwords')\n",
    "nltk.download('wordnet')\n",
    "nltk.download('omw-1.4')\n",
    "nltk.download('punkt')\n",
    "from sklearn.model_selection import train_test_split\n",
    "from sklearn.utils import shuffle\n",
    "from sklearn.metrics import f1_score\n",
    "from sklearn.feature_extraction.text import TfidfVectorizer\n",
    "from sklearn.linear_model import LogisticRegression\n",
    "from sklearn.ensemble import RandomForestClassifier\n",
    "from sklearn.model_selection import cross_val_score\n",
    "from sklearn.model_selection import GridSearchCV\n",
    "from lightgbm import LGBMClassifier\n",
    "import warnings\n",
    "warnings.filterwarnings(\"ignore\")\n",
    "from tqdm.notebook import tqdm\n",
    "import spacy\n",
    "from sklearn.pipeline import Pipeline"
   ]
  },
  {
   "cell_type": "markdown",
   "metadata": {},
   "source": [
    "## Подготовка"
   ]
  },
  {
   "cell_type": "markdown",
   "metadata": {},
   "source": [
    "### Загрузка данных и первичный осмотр"
   ]
  },
  {
   "cell_type": "code",
   "execution_count": 2,
   "metadata": {},
   "outputs": [],
   "source": [
    "try:\n",
    "    df = pd.read_csv('/datasets/toxic_comments.csv')\n",
    "except:\n",
    "    df = pd.read_csv('toxic_comments.csv')"
   ]
  },
  {
   "cell_type": "code",
   "execution_count": 3,
   "metadata": {},
   "outputs": [
    {
     "data": {
      "text/html": [
       "<div>\n",
       "<style scoped>\n",
       "    .dataframe tbody tr th:only-of-type {\n",
       "        vertical-align: middle;\n",
       "    }\n",
       "\n",
       "    .dataframe tbody tr th {\n",
       "        vertical-align: top;\n",
       "    }\n",
       "\n",
       "    .dataframe thead th {\n",
       "        text-align: right;\n",
       "    }\n",
       "</style>\n",
       "<table border=\"1\" class=\"dataframe\">\n",
       "  <thead>\n",
       "    <tr style=\"text-align: right;\">\n",
       "      <th></th>\n",
       "      <th>Unnamed: 0</th>\n",
       "      <th>text</th>\n",
       "      <th>toxic</th>\n",
       "    </tr>\n",
       "  </thead>\n",
       "  <tbody>\n",
       "    <tr>\n",
       "      <th>0</th>\n",
       "      <td>0</td>\n",
       "      <td>Explanation\\nWhy the edits made under my usern...</td>\n",
       "      <td>0</td>\n",
       "    </tr>\n",
       "    <tr>\n",
       "      <th>1</th>\n",
       "      <td>1</td>\n",
       "      <td>D'aww! He matches this background colour I'm s...</td>\n",
       "      <td>0</td>\n",
       "    </tr>\n",
       "    <tr>\n",
       "      <th>2</th>\n",
       "      <td>2</td>\n",
       "      <td>Hey man, I'm really not trying to edit war. It...</td>\n",
       "      <td>0</td>\n",
       "    </tr>\n",
       "    <tr>\n",
       "      <th>3</th>\n",
       "      <td>3</td>\n",
       "      <td>\"\\nMore\\nI can't make any real suggestions on ...</td>\n",
       "      <td>0</td>\n",
       "    </tr>\n",
       "    <tr>\n",
       "      <th>4</th>\n",
       "      <td>4</td>\n",
       "      <td>You, sir, are my hero. Any chance you remember...</td>\n",
       "      <td>0</td>\n",
       "    </tr>\n",
       "    <tr>\n",
       "      <th>5</th>\n",
       "      <td>5</td>\n",
       "      <td>\"\\n\\nCongratulations from me as well, use the ...</td>\n",
       "      <td>0</td>\n",
       "    </tr>\n",
       "    <tr>\n",
       "      <th>6</th>\n",
       "      <td>6</td>\n",
       "      <td>COCKSUCKER BEFORE YOU PISS AROUND ON MY WORK</td>\n",
       "      <td>1</td>\n",
       "    </tr>\n",
       "    <tr>\n",
       "      <th>7</th>\n",
       "      <td>7</td>\n",
       "      <td>Your vandalism to the Matt Shirvington article...</td>\n",
       "      <td>0</td>\n",
       "    </tr>\n",
       "    <tr>\n",
       "      <th>8</th>\n",
       "      <td>8</td>\n",
       "      <td>Sorry if the word 'nonsense' was offensive to ...</td>\n",
       "      <td>0</td>\n",
       "    </tr>\n",
       "    <tr>\n",
       "      <th>9</th>\n",
       "      <td>9</td>\n",
       "      <td>alignment on this subject and which are contra...</td>\n",
       "      <td>0</td>\n",
       "    </tr>\n",
       "  </tbody>\n",
       "</table>\n",
       "</div>"
      ],
      "text/plain": [
       "   Unnamed: 0                                               text  toxic\n",
       "0           0  Explanation\\nWhy the edits made under my usern...      0\n",
       "1           1  D'aww! He matches this background colour I'm s...      0\n",
       "2           2  Hey man, I'm really not trying to edit war. It...      0\n",
       "3           3  \"\\nMore\\nI can't make any real suggestions on ...      0\n",
       "4           4  You, sir, are my hero. Any chance you remember...      0\n",
       "5           5  \"\\n\\nCongratulations from me as well, use the ...      0\n",
       "6           6       COCKSUCKER BEFORE YOU PISS AROUND ON MY WORK      1\n",
       "7           7  Your vandalism to the Matt Shirvington article...      0\n",
       "8           8  Sorry if the word 'nonsense' was offensive to ...      0\n",
       "9           9  alignment on this subject and which are contra...      0"
      ]
     },
     "execution_count": 3,
     "metadata": {},
     "output_type": "execute_result"
    }
   ],
   "source": [
    "df.head(10)"
   ]
  },
  {
   "cell_type": "code",
   "execution_count": 4,
   "metadata": {},
   "outputs": [
    {
     "name": "stdout",
     "output_type": "stream",
     "text": [
      "<class 'pandas.core.frame.DataFrame'>\n",
      "RangeIndex: 159292 entries, 0 to 159291\n",
      "Data columns (total 3 columns):\n",
      " #   Column      Non-Null Count   Dtype \n",
      "---  ------      --------------   ----- \n",
      " 0   Unnamed: 0  159292 non-null  int64 \n",
      " 1   text        159292 non-null  object\n",
      " 2   toxic       159292 non-null  int64 \n",
      "dtypes: int64(2), object(1)\n",
      "memory usage: 3.6+ MB\n"
     ]
    }
   ],
   "source": [
    "df.info()"
   ]
  },
  {
   "cell_type": "code",
   "execution_count": 5,
   "metadata": {},
   "outputs": [
    {
     "data": {
      "text/plain": [
       "159292"
      ]
     },
     "execution_count": 5,
     "metadata": {},
     "output_type": "execute_result"
    }
   ],
   "source": [
    "df['Unnamed: 0'].nunique()"
   ]
  },
  {
   "cell_type": "code",
   "execution_count": 6,
   "metadata": {},
   "outputs": [],
   "source": [
    "# удаляем ненужный столбец Unnamed\n",
    "df = df.drop(['Unnamed: 0'], axis=1)"
   ]
  },
  {
   "cell_type": "markdown",
   "metadata": {},
   "source": [
    "**Вывод:** В датасете представлено около 160 тыс. строк с различными описаниями товаров. Пропуски отсутствуют. В связи с ненадобностью, удален столбец, который повторяет столбец с индексами."
   ]
  },
  {
   "cell_type": "markdown",
   "metadata": {},
   "source": [
    "### Лемматизация и токенизация текста"
   ]
  },
  {
   "cell_type": "code",
   "execution_count": 7,
   "metadata": {},
   "outputs": [
    {
     "data": {
      "text/plain": [
       "'the stripe bat be hang on their foot for good'"
      ]
     },
     "execution_count": 7,
     "metadata": {},
     "output_type": "execute_result"
    }
   ],
   "source": [
    "# Spacy lemmatizer\n",
    "nlp = spacy.load(\"en_core_web_sm\")\n",
    "sentence = \"The striped bats are hanging on their feet for best\"\n",
    "doc = nlp(sentence)\n",
    "\" \".join([token.lemma_ for token in doc])"
   ]
  },
  {
   "cell_type": "code",
   "execution_count": 8,
   "metadata": {},
   "outputs": [],
   "source": [
    "def lemm_spacy(text):\n",
    "    clear_text = nlp(\" \".join(re.sub(r'[^a-zA-z]', ' ', text).split()))\n",
    "    lemmatized_text = \" \".join([token.lemma_ for token in clear_text])\n",
    "    return lemmatized_text"
   ]
  },
  {
   "cell_type": "code",
   "execution_count": 9,
   "metadata": {},
   "outputs": [
    {
     "data": {
      "application/vnd.jupyter.widget-view+json": {
       "model_id": "2629d579b26e4b34ae781f8b3c86671c",
       "version_major": 2,
       "version_minor": 0
      },
      "text/plain": [
       "  0%|          | 0/159292 [00:00<?, ?it/s]"
      ]
     },
     "metadata": {},
     "output_type": "display_data"
    }
   ],
   "source": [
    "tqdm.pandas()\n",
    "df['lemmatized_text'] = df['text'].progress_apply(lemm_spacy)"
   ]
  },
  {
   "cell_type": "markdown",
   "metadata": {},
   "source": [
    "<img src=\"https://upload.wikimedia.org/wikipedia/commons/b/ba/Warning_sign_4.0.png\" align=left width=44, heigth=33>\n",
    "<div class=\"alert alert-warning\">\n",
    "\n",
    "Правильная лемматизация длится долго... Минут 20-30, в зависимости от мощности компьютера. Гораздо комфортнее видеть прогресс выполнения этой длительной операции, чем сидеть и гадать \"а не зависла ли она\", \"закончит только к утру или через 30 секунд\"? Можно воспользоваться прогресс -баром от tqdm.\n",
    "    \n",
    "     \n",
    "    from tqdm.notebook import tqdm\n",
    "    tqdm.pandas()\n",
    "\n",
    "    data['lemm_text'] = data['text'].progress_apply(lemmafunction)\n",
    "    \n",
    "    \n",
    "    \n",
    "    \n",
    "</div>\n",
    "\n"
   ]
  },
  {
   "cell_type": "markdown",
   "metadata": {},
   "source": [
    "<div class=\"alert\" style=\"background-color:#ead7f7;color:#8737bf\">\n",
    "    <font size=\"3\"><b>образец комментария студента</b></font>\n",
    "   \n",
    "Добавил визуальный прогресс. Спасибо за новую фичу, не знал про функцию progress_apply\n",
    "\n",
    "</div>"
   ]
  },
  {
   "cell_type": "markdown",
   "metadata": {},
   "source": [
    "<img src=\"https://emojigraph.org/media/apple/check-mark-button_2705.png\" align=left width=33, heigth=33>\n",
    "<div class=\"alert alert-success\">\n",
    "    <b>v2</b> 🤝 </div>"
   ]
  },
  {
   "cell_type": "code",
   "execution_count": 10,
   "metadata": {
    "scrolled": true
   },
   "outputs": [
    {
     "data": {
      "text/html": [
       "<div>\n",
       "<style scoped>\n",
       "    .dataframe tbody tr th:only-of-type {\n",
       "        vertical-align: middle;\n",
       "    }\n",
       "\n",
       "    .dataframe tbody tr th {\n",
       "        vertical-align: top;\n",
       "    }\n",
       "\n",
       "    .dataframe thead th {\n",
       "        text-align: right;\n",
       "    }\n",
       "</style>\n",
       "<table border=\"1\" class=\"dataframe\">\n",
       "  <thead>\n",
       "    <tr style=\"text-align: right;\">\n",
       "      <th></th>\n",
       "      <th>text</th>\n",
       "      <th>toxic</th>\n",
       "      <th>lemmatized_text</th>\n",
       "    </tr>\n",
       "  </thead>\n",
       "  <tbody>\n",
       "    <tr>\n",
       "      <th>0</th>\n",
       "      <td>Explanation\\nWhy the edits made under my usern...</td>\n",
       "      <td>0</td>\n",
       "      <td>Explanation why the edit make under my usernam...</td>\n",
       "    </tr>\n",
       "    <tr>\n",
       "      <th>1</th>\n",
       "      <td>D'aww! He matches this background colour I'm s...</td>\n",
       "      <td>0</td>\n",
       "      <td>d aww he match this background colour I m seem...</td>\n",
       "    </tr>\n",
       "    <tr>\n",
       "      <th>2</th>\n",
       "      <td>Hey man, I'm really not trying to edit war. It...</td>\n",
       "      <td>0</td>\n",
       "      <td>hey man I m really not try to edit war it s ju...</td>\n",
       "    </tr>\n",
       "    <tr>\n",
       "      <th>3</th>\n",
       "      <td>\"\\nMore\\nI can't make any real suggestions on ...</td>\n",
       "      <td>0</td>\n",
       "      <td>More I can t make any real suggestion on impro...</td>\n",
       "    </tr>\n",
       "    <tr>\n",
       "      <th>4</th>\n",
       "      <td>You, sir, are my hero. Any chance you remember...</td>\n",
       "      <td>0</td>\n",
       "      <td>you sir be my hero any chance you remember wha...</td>\n",
       "    </tr>\n",
       "    <tr>\n",
       "      <th>5</th>\n",
       "      <td>\"\\n\\nCongratulations from me as well, use the ...</td>\n",
       "      <td>0</td>\n",
       "      <td>congratulation from I as well use the tool wel...</td>\n",
       "    </tr>\n",
       "    <tr>\n",
       "      <th>6</th>\n",
       "      <td>COCKSUCKER BEFORE YOU PISS AROUND ON MY WORK</td>\n",
       "      <td>1</td>\n",
       "      <td>COCKSUCKER before you pis around on MY work</td>\n",
       "    </tr>\n",
       "    <tr>\n",
       "      <th>7</th>\n",
       "      <td>Your vandalism to the Matt Shirvington article...</td>\n",
       "      <td>0</td>\n",
       "      <td>your vandalism to the Matt Shirvington article...</td>\n",
       "    </tr>\n",
       "    <tr>\n",
       "      <th>8</th>\n",
       "      <td>Sorry if the word 'nonsense' was offensive to ...</td>\n",
       "      <td>0</td>\n",
       "      <td>sorry if the word nonsense be offensive to you...</td>\n",
       "    </tr>\n",
       "    <tr>\n",
       "      <th>9</th>\n",
       "      <td>alignment on this subject and which are contra...</td>\n",
       "      <td>0</td>\n",
       "      <td>alignment on this subject and which be contrar...</td>\n",
       "    </tr>\n",
       "  </tbody>\n",
       "</table>\n",
       "</div>"
      ],
      "text/plain": [
       "                                                text  toxic  \\\n",
       "0  Explanation\\nWhy the edits made under my usern...      0   \n",
       "1  D'aww! He matches this background colour I'm s...      0   \n",
       "2  Hey man, I'm really not trying to edit war. It...      0   \n",
       "3  \"\\nMore\\nI can't make any real suggestions on ...      0   \n",
       "4  You, sir, are my hero. Any chance you remember...      0   \n",
       "5  \"\\n\\nCongratulations from me as well, use the ...      0   \n",
       "6       COCKSUCKER BEFORE YOU PISS AROUND ON MY WORK      1   \n",
       "7  Your vandalism to the Matt Shirvington article...      0   \n",
       "8  Sorry if the word 'nonsense' was offensive to ...      0   \n",
       "9  alignment on this subject and which are contra...      0   \n",
       "\n",
       "                                     lemmatized_text  \n",
       "0  Explanation why the edit make under my usernam...  \n",
       "1  d aww he match this background colour I m seem...  \n",
       "2  hey man I m really not try to edit war it s ju...  \n",
       "3  More I can t make any real suggestion on impro...  \n",
       "4  you sir be my hero any chance you remember wha...  \n",
       "5  congratulation from I as well use the tool wel...  \n",
       "6        COCKSUCKER before you pis around on MY work  \n",
       "7  your vandalism to the Matt Shirvington article...  \n",
       "8  sorry if the word nonsense be offensive to you...  \n",
       "9  alignment on this subject and which be contrar...  "
      ]
     },
     "execution_count": 10,
     "metadata": {},
     "output_type": "execute_result"
    }
   ],
   "source": [
    "df.head(10)"
   ]
  },
  {
   "cell_type": "markdown",
   "metadata": {},
   "source": [
    "<img src=\"https://upload.wikimedia.org/wikipedia/commons/thumb/8/81/Stop_sign.png/240px-Stop_sign.png\" align=left width=35, heigth=35>\n",
    "<div class=\"alert alert-danger\">\n",
    "Молодец, что используешь лемматизатор WordNetLemmatizer. Но в данном случае он отработал не очень хорошо, и если присмотреться к тексту это хорошо видно. Например, в четвертой строке видим глагол are, но его начальная форма - be. Аналогично в нулевой строке есть глагол made, а его начальная форма make. \n",
    "    \n",
    "Как правило, совершаются следующие ошибки:\n",
    "    \n",
    " - Лемматизация должна производиться по одному слову, а не весь комментарий целиком\n",
    " - Слова должны быть приведены к нижнему регистру\n",
    " - Кроме самого слова в лемматизатор нужно передать дополнительную информацию о части речи слова (POS тег). \n",
    "    \n",
    "    \n",
    "    \n",
    "Ты можешь доработать подход с WordNetLemmatizer или использовать spaCy, там все отрабатывает \"из коробки\". Можешь посмотреть вот эту статью.  \n",
    "\n",
    "\n",
    "https://webdevblog.ru/podhody-lemmatizacii-s-primerami-v-python/\n",
    "    \n",
    "Хочу обратить твое внимание, что код из вышеуказанной статьи выполняется несколько дольше, чем оптимизированный, вот из этого топика\n",
    "    \n",
    "https://stackoverflow.com/questions/50992974/nltk-wordnetlemmatizer-not-lemmatizing-as-expected    \n",
    "    \n",
    "    \n",
    "    \n",
    "Совет - старайся сразу проверять  результаты лемматизации. Например, для предложения\n",
    "    \n",
    "    sentence = \"The striped bats are hanging on their feet for best\"\n",
    "    \n",
    "После лемматизации должен получиться вот такой результат\n",
    "    \n",
    "    \"the strip bat be hang on their foot for best\"    \n",
    "    \n",
    "Если будешь лемматизировать по второму способу, то слово  striped может остаться без изменений, это тоже  нормально (особенность алгоритма).       \n",
    "</div>"
   ]
  },
  {
   "cell_type": "markdown",
   "metadata": {},
   "source": [
    "<div class=\"alert\" style=\"background-color:#ead7f7;color:#8737bf\">\n",
    "    <font size=\"3\"><b>образец комментария студента</b></font>\n",
    "   \n",
    "Исправлено, использовал spacy для лемматизации\n",
    "\n",
    "</div>"
   ]
  },
  {
   "cell_type": "markdown",
   "metadata": {},
   "source": [
    "<img src=\"https://emojigraph.org/media/apple/check-mark-button_2705.png\" align=left width=33, heigth=33>\n",
    "<div class=\"alert alert-success\">\n",
    "    <b>v2</b> 👍 </div>"
   ]
  },
  {
   "cell_type": "markdown",
   "metadata": {},
   "source": [
    "### Дисбаланс классов"
   ]
  },
  {
   "cell_type": "code",
   "execution_count": 11,
   "metadata": {},
   "outputs": [
    {
     "data": {
      "image/png": "[encoded data removed]",
      "text/plain": [
       "<Figure size 640x480 with 1 Axes>"
      ]
     },
     "metadata": {},
     "output_type": "display_data"
    }
   ],
   "source": [
    "df['toxic'].value_counts().plot(kind='bar')\n",
    "plt.ylabel('Количество')\n",
    "plt.title('Количество токсичных и нетоксичных комментариев')\n",
    "plt.xticks([0, 1], ['Нетоксичный', 'Токсичный'])\n",
    "plt.show()"
   ]
  },
  {
   "cell_type": "markdown",
   "metadata": {},
   "source": [
    "<img src=\"https://emojigraph.org/media/apple/check-mark-button_2705.png\" align=left width=33, heigth=33>\n",
    "<div class=\"alert alert-success\">\n",
    "Молодец, исследован баланс классов. Это важная информация для задачи классификации.</div>"
   ]
  },
  {
   "cell_type": "markdown",
   "metadata": {},
   "source": [
    "<img src=\"https://upload.wikimedia.org/wikipedia/commons/b/ba/Warning_sign_4.0.png\" align=left width=44, heigth=33>\n",
    "<div class=\"alert alert-warning\">\n",
    "    Для категориальных признаком лучше исполользовать столбчатую диаграмму, а гистограмму давай оставим для числовых признаков.\n",
    "\n",
    "</div>"
   ]
  },
  {
   "cell_type": "markdown",
   "metadata": {},
   "source": [
    "<img src=\"https://upload.wikimedia.org/wikipedia/commons/thumb/8/81/Stop_sign.png/240px-Stop_sign.png\" align=left width=35, heigth=35>\n",
    "<div class=\"alert alert-danger\">\n",
    "Напоминаю, что по правилам оформления проектов у графиков должны быть заголовки и подписаны оси (где это уместно).</div>"
   ]
  },
  {
   "cell_type": "markdown",
   "metadata": {},
   "source": [
    "<div class=\"alert\" style=\"background-color:#ead7f7;color:#8737bf\">\n",
    "    <font size=\"3\"><b>образец комментария студента</b></font>\n",
    "   \n",
    "Исправлено\n",
    "\n",
    "</div>"
   ]
  },
  {
   "cell_type": "markdown",
   "metadata": {},
   "source": [
    "<img src=\"https://emojigraph.org/media/apple/check-mark-button_2705.png\" align=left width=33, heigth=33>\n",
    "<div class=\"alert alert-success\">\n",
    "    <b>v2</b> 👍 </div>"
   ]
  },
  {
   "cell_type": "code",
   "execution_count": 12,
   "metadata": {},
   "outputs": [
    {
     "name": "stdout",
     "output_type": "stream",
     "text": [
      "143106\n",
      "16186\n"
     ]
    }
   ],
   "source": [
    "class_balance = df['toxic'].value_counts()\n",
    "print(class_balance[0])\n",
    "print(class_balance[1])"
   ]
  },
  {
   "cell_type": "code",
   "execution_count": 13,
   "metadata": {},
   "outputs": [
    {
     "data": {
      "text/plain": [
       "8.841344371679229"
      ]
     },
     "execution_count": 13,
     "metadata": {},
     "output_type": "execute_result"
    }
   ],
   "source": [
    "class_balance[0] / class_balance[1]"
   ]
  },
  {
   "cell_type": "markdown",
   "metadata": {},
   "source": [
    "Обнаружен явный дисбаланс, где класс с токсичными комментариями меньше почти в 9 раз"
   ]
  },
  {
   "cell_type": "markdown",
   "metadata": {},
   "source": [
    "### Разделение на признаки и целевой признак"
   ]
  },
  {
   "cell_type": "code",
   "execution_count": 14,
   "metadata": {},
   "outputs": [
    {
     "name": "stdout",
     "output_type": "stream",
     "text": [
      "(143362,)\n",
      "(143362,)\n",
      "(15930,)\n",
      "(15930,)\n"
     ]
    }
   ],
   "source": [
    "features = df['lemmatized_text']\n",
    "target = df['toxic']\n",
    "\n",
    "features_train, features_test, target_train, target_test = train_test_split(\n",
    "    features, target, test_size = 0.1, random_state = 12345, stratify=target)\n",
    "\n",
    "\n",
    "print(features_train.shape)\n",
    "print(target_train.shape)\n",
    "\n",
    "print(features_test.shape)\n",
    "print(target_test.shape)"
   ]
  },
  {
   "cell_type": "markdown",
   "metadata": {},
   "source": [
    "<img src=\"https://emojigraph.org/media/apple/check-mark-button_2705.png\" align=left width=33, heigth=33>\n",
    "<div class=\"alert alert-success\">\n",
    "    \n",
    "Абсолютно согласен с твоим решением выделить 10% на тестовую выборку. Учитывая общий размер данных данной выборки достаточно.\n",
    "    \n",
    "Отдельный \"лайк\" за стратификацию.    \n",
    "\n",
    "</div>"
   ]
  },
  {
   "cell_type": "markdown",
   "metadata": {},
   "source": [
    "<img src=\"https://upload.wikimedia.org/wikipedia/commons/b/ba/Warning_sign_4.0.png\" align=left width=44, heigth=33>\n",
    "<div class=\"alert alert-warning\">\n",
    "    \n",
    "Не стоит делать балансировку - это \"скользкая дорожка\". Это было бы нормально, если бы ты использовал сбалансированную выборку только для обучения модели. Но ведь ты используешь её для кросс-валидации, соответственно и оценку модели ты производишь на сбалансированном валидационном фолде. А оценка метрики f1, полученная на сбалансированной выборке покажет заметно более высокие значения, чем оценка этой же метрики этой же модели, но полученная на исходной, несбаласнированной выборки.\n",
    "    \n",
    "    \n",
    "</div>"
   ]
  },
  {
   "cell_type": "markdown",
   "metadata": {},
   "source": [
    "<div class=\"alert\" style=\"background-color:#ead7f7;color:#8737bf\">\n",
    "    <font size=\"3\"><b>образец комментария студента</b></font>\n",
    "   \n",
    "Удалил ячейки с кодом, где использовалась балансировка с помощью downsampling-a\n",
    "\n",
    "</div>"
   ]
  },
  {
   "cell_type": "markdown",
   "metadata": {},
   "source": [
    "<img src=\"https://emojigraph.org/media/apple/check-mark-button_2705.png\" align=left width=33, heigth=33>\n",
    "<div class=\"alert alert-success\">\n",
    "    <b>v2</b> 👍 </div>"
   ]
  },
  {
   "cell_type": "markdown",
   "metadata": {},
   "source": [
    "**Вывод:** Загружены все описания товаров в сервисе ВикиШоп, произведены операции лемматизации и токенизации текста. Данные разделены на обучающую и тестовую выборки."
   ]
  },
  {
   "cell_type": "markdown",
   "metadata": {},
   "source": [
    "## Обучение"
   ]
  },
  {
   "cell_type": "markdown",
   "metadata": {},
   "source": [
    "### Создание корпуса текстов и учет стоп-слов"
   ]
  },
  {
   "cell_type": "code",
   "execution_count": 15,
   "metadata": {},
   "outputs": [],
   "source": [
    "stopwords = set(nltk_stopwords.words('english'))\n",
    "\n",
    "count_tf_idf = TfidfVectorizer(stop_words=stopwords)\n",
    "tf_idf_train = count_tf_idf.fit_transform(features_train)\n",
    "\n",
    "tf_idf_test = count_tf_idf.transform(features_test)"
   ]
  },
  {
   "cell_type": "markdown",
   "metadata": {},
   "source": [
    "### Linear Regression"
   ]
  },
  {
   "cell_type": "code",
   "execution_count": 16,
   "metadata": {},
   "outputs": [],
   "source": [
    "pipeline_lr = Pipeline(\n",
    "    [\n",
    "        (\"vect\", TfidfVectorizer(stop_words=stopwords)),\n",
    "        (\"clf\", LogisticRegression()),\n",
    "    ]\n",
    ")"
   ]
  },
  {
   "cell_type": "code",
   "execution_count": 17,
   "metadata": {},
   "outputs": [
    {
     "data": {
      "text/plain": [
       "0.7365059329538844"
      ]
     },
     "execution_count": 17,
     "metadata": {},
     "output_type": "execute_result"
    }
   ],
   "source": [
    "scores_lr = cross_val_score(pipeline_lr, features_train, target_train, cv=5, scoring='f1')\n",
    "f1_lr = scores_lr.mean()\n",
    "f1_lr"
   ]
  },
  {
   "cell_type": "markdown",
   "metadata": {},
   "source": [
    "### Random Forest"
   ]
  },
  {
   "cell_type": "code",
   "execution_count": 18,
   "metadata": {},
   "outputs": [],
   "source": [
    "pipeline_rf = Pipeline(\n",
    "    [\n",
    "        (\"vect\", TfidfVectorizer(stop_words=stopwords)),\n",
    "        (\"clf\", RandomForestClassifier(random_state=12345)),\n",
    "    ]\n",
    ")"
   ]
  },
  {
   "cell_type": "code",
   "execution_count": 19,
   "metadata": {},
   "outputs": [],
   "source": [
    "params_grid = {\n",
    "    'clf__n_estimators' : [10, 30, 60],\n",
    "    'clf__max_depth' : [2, 5, 10, 15]\n",
    "}"
   ]
  },
  {
   "cell_type": "code",
   "execution_count": 20,
   "metadata": {},
   "outputs": [],
   "source": [
    "GS_rf = GridSearchCV(estimator = pipeline_rf,\n",
    "                     param_grid = params_grid,\n",
    "                     scoring = 'f1',\n",
    "                     cv=5) "
   ]
  },
  {
   "cell_type": "code",
   "execution_count": 21,
   "metadata": {},
   "outputs": [
    {
     "name": "stdout",
     "output_type": "stream",
     "text": [
      "CPU times: total: 3min 48s\n",
      "Wall time: 3min 48s\n"
     ]
    },
    {
     "data": {
      "text/plain": [
       "GridSearchCV(cv=5,\n",
       "             estimator=Pipeline(steps=[('vect',\n",
       "                                        TfidfVectorizer(stop_words={'a',\n",
       "                                                                    'about',\n",
       "                                                                    'above',\n",
       "                                                                    'after',\n",
       "                                                                    'again',\n",
       "                                                                    'against',\n",
       "                                                                    'ain',\n",
       "                                                                    'all', 'am',\n",
       "                                                                    'an', 'and',\n",
       "                                                                    'any',\n",
       "                                                                    'are',\n",
       "                                                                    'aren',\n",
       "                                                                    \"aren't\",\n",
       "                                                                    'as', 'at',\n",
       "                                                                    'be',\n",
       "                                                                    'because',\n",
       "                                                                    'been',\n",
       "                                                                    'before',\n",
       "                                                                    'being',\n",
       "                                                                    'below',\n",
       "                                                                    'between',\n",
       "                                                                    'both',\n",
       "                                                                    'but', 'by',\n",
       "                                                                    'can',\n",
       "                                                                    'couldn',\n",
       "                                                                    \"couldn't\", ...})),\n",
       "                                       ('clf',\n",
       "                                        RandomForestClassifier(random_state=12345))]),\n",
       "             param_grid={'clf__max_depth': [2, 5, 10, 15],\n",
       "                         'clf__n_estimators': [10, 30, 60]},\n",
       "             scoring='f1')"
      ]
     },
     "execution_count": 21,
     "metadata": {},
     "output_type": "execute_result"
    }
   ],
   "source": [
    "%%time\n",
    "GS_rf.fit(features_train, target_train)"
   ]
  },
  {
   "cell_type": "code",
   "execution_count": 22,
   "metadata": {},
   "outputs": [
    {
     "data": {
      "text/plain": [
       "{'clf__max_depth': 15, 'clf__n_estimators': 10}"
      ]
     },
     "execution_count": 22,
     "metadata": {},
     "output_type": "execute_result"
    }
   ],
   "source": [
    "GS_rf.best_params_"
   ]
  },
  {
   "cell_type": "code",
   "execution_count": 23,
   "metadata": {},
   "outputs": [
    {
     "data": {
      "text/plain": [
       "0.004106778589007964"
      ]
     },
     "execution_count": 23,
     "metadata": {},
     "output_type": "execute_result"
    }
   ],
   "source": [
    "f1_rf = GS_rf.best_score_\n",
    "f1_rf"
   ]
  },
  {
   "cell_type": "markdown",
   "metadata": {},
   "source": [
    "### LightGBM"
   ]
  },
  {
   "cell_type": "code",
   "execution_count": 24,
   "metadata": {},
   "outputs": [],
   "source": [
    "pipeline_lgb = Pipeline(\n",
    "    [\n",
    "        (\"vect\", TfidfVectorizer(stop_words=stopwords)),\n",
    "        (\"clf\", LGBMClassifier(random_state=12345)),\n",
    "    ]\n",
    ")"
   ]
  },
  {
   "cell_type": "code",
   "execution_count": 25,
   "metadata": {},
   "outputs": [],
   "source": [
    "params_grid_lgb = {\n",
    "    'clf__num_leaves': [31, 50, 80],\n",
    "    'clf__learning_rate': [0.05, 0.1],\n",
    "    'clf__n_estimators': [100, 150]\n",
    "}"
   ]
  },
  {
   "cell_type": "code",
   "execution_count": 26,
   "metadata": {},
   "outputs": [],
   "source": [
    "GS_lgb = GridSearchCV(estimator = pipeline_lgb,\n",
    "                     param_grid = params_grid_lgb,\n",
    "                     scoring = 'f1',\n",
    "                     cv=5)"
   ]
  },
  {
   "cell_type": "code",
   "execution_count": 27,
   "metadata": {
    "scrolled": true
   },
   "outputs": [
    {
     "name": "stdout",
     "output_type": "stream",
     "text": [
      "[LightGBM] [Info] Number of positive: 11653, number of negative: 103036\n",
      "[LightGBM] [Info] Auto-choosing row-wise multi-threading, the overhead of testing was 0.678040 seconds.\n",
      "You can set `force_row_wise=true` to remove the overhead.\n",
      "And if memory is not enough, you can set `force_col_wise=true`.\n",
      "[LightGBM] [Info] Total Bins 500348\n",
      "[LightGBM] [Info] Number of data points in the train set: 114689, number of used features: 9306\n",
      "[LightGBM] [Info] [binary:BoostFromScore]: pavg=0.101605 -> initscore=-2.179515\n",
      "[LightGBM] [Info] Start training from score -2.179515\n",
      "[LightGBM] [Info] Number of positive: 11653, number of negative: 103036\n",
      "[LightGBM] [Info] Auto-choosing row-wise multi-threading, the overhead of testing was 0.731307 seconds.\n",
      "You can set `force_row_wise=true` to remove the overhead.\n",
      "And if memory is not enough, you can set `force_col_wise=true`.\n",
      "[LightGBM] [Info] Total Bins 500895\n",
      "[LightGBM] [Info] Number of data points in the train set: 114689, number of used features: 9376\n",
      "[LightGBM] [Info] [binary:BoostFromScore]: pavg=0.101605 -> initscore=-2.179515\n",
      "[LightGBM] [Info] Start training from score -2.179515\n",
      "[LightGBM] [Info] Number of positive: 11654, number of negative: 103036\n",
      "[LightGBM] [Info] Auto-choosing row-wise multi-threading, the overhead of testing was 0.702261 seconds.\n",
      "You can set `force_row_wise=true` to remove the overhead.\n",
      "And if memory is not enough, you can set `force_col_wise=true`.\n",
      "[LightGBM] [Info] Total Bins 502780\n",
      "[LightGBM] [Info] Number of data points in the train set: 114690, number of used features: 9377\n",
      "[LightGBM] [Info] [binary:BoostFromScore]: pavg=0.101613 -> initscore=-2.179429\n",
      "[LightGBM] [Info] Start training from score -2.179429\n",
      "[LightGBM] [Info] Number of positive: 11654, number of negative: 103036\n",
      "[LightGBM] [Info] Auto-choosing row-wise multi-threading, the overhead of testing was 0.703250 seconds.\n",
      "You can set `force_row_wise=true` to remove the overhead.\n",
      "And if memory is not enough, you can set `force_col_wise=true`.\n",
      "[LightGBM] [Info] Total Bins 500569\n",
      "[LightGBM] [Info] Number of data points in the train set: 114690, number of used features: 9342\n",
      "[LightGBM] [Info] [binary:BoostFromScore]: pavg=0.101613 -> initscore=-2.179429\n",
      "[LightGBM] [Info] Start training from score -2.179429\n",
      "[LightGBM] [Info] Number of positive: 11654, number of negative: 103036\n",
      "[LightGBM] [Info] Auto-choosing row-wise multi-threading, the overhead of testing was 0.679890 seconds.\n",
      "You can set `force_row_wise=true` to remove the overhead.\n",
      "And if memory is not enough, you can set `force_col_wise=true`.\n",
      "[LightGBM] [Info] Total Bins 501066\n",
      "[LightGBM] [Info] Number of data points in the train set: 114690, number of used features: 9322\n",
      "[LightGBM] [Info] [binary:BoostFromScore]: pavg=0.101613 -> initscore=-2.179429\n",
      "[LightGBM] [Info] Start training from score -2.179429\n",
      "[LightGBM] [Info] Number of positive: 11653, number of negative: 103036\n",
      "[LightGBM] [Info] Auto-choosing row-wise multi-threading, the overhead of testing was 0.693738 seconds.\n",
      "You can set `force_row_wise=true` to remove the overhead.\n",
      "And if memory is not enough, you can set `force_col_wise=true`.\n",
      "[LightGBM] [Info] Total Bins 500348\n",
      "[LightGBM] [Info] Number of data points in the train set: 114689, number of used features: 9306\n",
      "[LightGBM] [Info] [binary:BoostFromScore]: pavg=0.101605 -> initscore=-2.179515\n",
      "[LightGBM] [Info] Start training from score -2.179515\n",
      "[LightGBM] [Info] Number of positive: 11653, number of negative: 103036\n",
      "[LightGBM] [Info] Auto-choosing row-wise multi-threading, the overhead of testing was 0.694329 seconds.\n",
      "You can set `force_row_wise=true` to remove the overhead.\n",
      "And if memory is not enough, you can set `force_col_wise=true`.\n",
      "[LightGBM] [Info] Total Bins 500895\n",
      "[LightGBM] [Info] Number of data points in the train set: 114689, number of used features: 9376\n",
      "[LightGBM] [Info] [binary:BoostFromScore]: pavg=0.101605 -> initscore=-2.179515\n",
      "[LightGBM] [Info] Start training from score -2.179515\n",
      "[LightGBM] [Info] Number of positive: 11654, number of negative: 103036\n",
      "[LightGBM] [Info] Auto-choosing col-wise multi-threading, the overhead of testing was 0.677361 seconds.\n",
      "You can set `force_col_wise=true` to remove the overhead.\n",
      "[LightGBM] [Info] Total Bins 502780\n",
      "[LightGBM] [Info] Number of data points in the train set: 114690, number of used features: 9377\n",
      "[LightGBM] [Info] [binary:BoostFromScore]: pavg=0.101613 -> initscore=-2.179429\n",
      "[LightGBM] [Info] Start training from score -2.179429\n",
      "[LightGBM] [Info] Number of positive: 11654, number of negative: 103036\n",
      "[LightGBM] [Info] Auto-choosing col-wise multi-threading, the overhead of testing was 0.701093 seconds.\n",
      "You can set `force_col_wise=true` to remove the overhead.\n",
      "[LightGBM] [Info] Total Bins 500569\n",
      "[LightGBM] [Info] Number of data points in the train set: 114690, number of used features: 9342\n",
      "[LightGBM] [Info] [binary:BoostFromScore]: pavg=0.101613 -> initscore=-2.179429\n",
      "[LightGBM] [Info] Start training from score -2.179429\n",
      "[LightGBM] [Info] Number of positive: 11654, number of negative: 103036\n",
      "[LightGBM] [Info] Auto-choosing row-wise multi-threading, the overhead of testing was 0.667395 seconds.\n",
      "You can set `force_row_wise=true` to remove the overhead.\n",
      "And if memory is not enough, you can set `force_col_wise=true`.\n",
      "[LightGBM] [Info] Total Bins 501066\n",
      "[LightGBM] [Info] Number of data points in the train set: 114690, number of used features: 9322\n",
      "[LightGBM] [Info] [binary:BoostFromScore]: pavg=0.101613 -> initscore=-2.179429\n",
      "[LightGBM] [Info] Start training from score -2.179429\n",
      "[LightGBM] [Info] Number of positive: 11653, number of negative: 103036\n",
      "[LightGBM] [Info] Auto-choosing row-wise multi-threading, the overhead of testing was 0.675388 seconds.\n",
      "You can set `force_row_wise=true` to remove the overhead.\n",
      "And if memory is not enough, you can set `force_col_wise=true`.\n",
      "[LightGBM] [Info] Total Bins 500348\n",
      "[LightGBM] [Info] Number of data points in the train set: 114689, number of used features: 9306\n",
      "[LightGBM] [Info] [binary:BoostFromScore]: pavg=0.101605 -> initscore=-2.179515\n",
      "[LightGBM] [Info] Start training from score -2.179515\n",
      "[LightGBM] [Info] Number of positive: 11653, number of negative: 103036\n",
      "[LightGBM] [Info] Auto-choosing col-wise multi-threading, the overhead of testing was 0.677820 seconds.\n",
      "You can set `force_col_wise=true` to remove the overhead.\n",
      "[LightGBM] [Info] Total Bins 500895\n",
      "[LightGBM] [Info] Number of data points in the train set: 114689, number of used features: 9376\n",
      "[LightGBM] [Info] [binary:BoostFromScore]: pavg=0.101605 -> initscore=-2.179515\n",
      "[LightGBM] [Info] Start training from score -2.179515\n",
      "[LightGBM] [Info] Number of positive: 11654, number of negative: 103036\n",
      "[LightGBM] [Info] Auto-choosing col-wise multi-threading, the overhead of testing was 0.741547 seconds.\n",
      "You can set `force_col_wise=true` to remove the overhead.\n",
      "[LightGBM] [Info] Total Bins 502780\n",
      "[LightGBM] [Info] Number of data points in the train set: 114690, number of used features: 9377\n",
      "[LightGBM] [Info] [binary:BoostFromScore]: pavg=0.101613 -> initscore=-2.179429\n",
      "[LightGBM] [Info] Start training from score -2.179429\n",
      "[LightGBM] [Info] Number of positive: 11654, number of negative: 103036\n",
      "[LightGBM] [Info] Auto-choosing row-wise multi-threading, the overhead of testing was 0.694028 seconds.\n",
      "You can set `force_row_wise=true` to remove the overhead.\n",
      "And if memory is not enough, you can set `force_col_wise=true`.\n",
      "[LightGBM] [Info] Total Bins 500569\n",
      "[LightGBM] [Info] Number of data points in the train set: 114690, number of used features: 9342\n",
      "[LightGBM] [Info] [binary:BoostFromScore]: pavg=0.101613 -> initscore=-2.179429\n",
      "[LightGBM] [Info] Start training from score -2.179429\n",
      "[LightGBM] [Info] Number of positive: 11654, number of negative: 103036\n",
      "[LightGBM] [Info] Auto-choosing row-wise multi-threading, the overhead of testing was 0.661177 seconds.\n",
      "You can set `force_row_wise=true` to remove the overhead.\n",
      "And if memory is not enough, you can set `force_col_wise=true`.\n",
      "[LightGBM] [Info] Total Bins 501066\n",
      "[LightGBM] [Info] Number of data points in the train set: 114690, number of used features: 9322\n",
      "[LightGBM] [Info] [binary:BoostFromScore]: pavg=0.101613 -> initscore=-2.179429\n",
      "[LightGBM] [Info] Start training from score -2.179429\n",
      "[LightGBM] [Info] Number of positive: 11653, number of negative: 103036\n",
      "[LightGBM] [Info] Auto-choosing row-wise multi-threading, the overhead of testing was 0.728548 seconds.\n",
      "You can set `force_row_wise=true` to remove the overhead.\n",
      "And if memory is not enough, you can set `force_col_wise=true`.\n",
      "[LightGBM] [Info] Total Bins 500348\n",
      "[LightGBM] [Info] Number of data points in the train set: 114689, number of used features: 9306\n",
      "[LightGBM] [Info] [binary:BoostFromScore]: pavg=0.101605 -> initscore=-2.179515\n",
      "[LightGBM] [Info] Start training from score -2.179515\n",
      "[LightGBM] [Info] Number of positive: 11653, number of negative: 103036\n",
      "[LightGBM] [Info] Auto-choosing row-wise multi-threading, the overhead of testing was 0.746956 seconds.\n",
      "You can set `force_row_wise=true` to remove the overhead.\n",
      "And if memory is not enough, you can set `force_col_wise=true`.\n",
      "[LightGBM] [Info] Total Bins 500895\n",
      "[LightGBM] [Info] Number of data points in the train set: 114689, number of used features: 9376\n",
      "[LightGBM] [Info] [binary:BoostFromScore]: pavg=0.101605 -> initscore=-2.179515\n",
      "[LightGBM] [Info] Start training from score -2.179515\n",
      "[LightGBM] [Info] Number of positive: 11654, number of negative: 103036\n",
      "[LightGBM] [Info] Auto-choosing row-wise multi-threading, the overhead of testing was 0.718104 seconds.\n",
      "You can set `force_row_wise=true` to remove the overhead.\n",
      "And if memory is not enough, you can set `force_col_wise=true`.\n",
      "[LightGBM] [Info] Total Bins 502780\n",
      "[LightGBM] [Info] Number of data points in the train set: 114690, number of used features: 9377\n",
      "[LightGBM] [Info] [binary:BoostFromScore]: pavg=0.101613 -> initscore=-2.179429\n",
      "[LightGBM] [Info] Start training from score -2.179429\n",
      "[LightGBM] [Info] Number of positive: 11654, number of negative: 103036\n",
      "[LightGBM] [Info] Auto-choosing col-wise multi-threading, the overhead of testing was 0.730446 seconds.\n",
      "You can set `force_col_wise=true` to remove the overhead.\n",
      "[LightGBM] [Info] Total Bins 500569\n",
      "[LightGBM] [Info] Number of data points in the train set: 114690, number of used features: 9342\n",
      "[LightGBM] [Info] [binary:BoostFromScore]: pavg=0.101613 -> initscore=-2.179429\n",
      "[LightGBM] [Info] Start training from score -2.179429\n",
      "[LightGBM] [Info] Number of positive: 11654, number of negative: 103036\n",
      "[LightGBM] [Info] Auto-choosing row-wise multi-threading, the overhead of testing was 0.719396 seconds.\n",
      "You can set `force_row_wise=true` to remove the overhead.\n",
      "And if memory is not enough, you can set `force_col_wise=true`.\n",
      "[LightGBM] [Info] Total Bins 501066\n",
      "[LightGBM] [Info] Number of data points in the train set: 114690, number of used features: 9322\n",
      "[LightGBM] [Info] [binary:BoostFromScore]: pavg=0.101613 -> initscore=-2.179429\n",
      "[LightGBM] [Info] Start training from score -2.179429\n",
      "[LightGBM] [Info] Number of positive: 11653, number of negative: 103036\n",
      "[LightGBM] [Info] Auto-choosing row-wise multi-threading, the overhead of testing was 0.696125 seconds.\n",
      "You can set `force_row_wise=true` to remove the overhead.\n",
      "And if memory is not enough, you can set `force_col_wise=true`.\n",
      "[LightGBM] [Info] Total Bins 500348\n",
      "[LightGBM] [Info] Number of data points in the train set: 114689, number of used features: 9306\n",
      "[LightGBM] [Info] [binary:BoostFromScore]: pavg=0.101605 -> initscore=-2.179515\n",
      "[LightGBM] [Info] Start training from score -2.179515\n",
      "[LightGBM] [Info] Number of positive: 11653, number of negative: 103036\n",
      "[LightGBM] [Info] Auto-choosing row-wise multi-threading, the overhead of testing was 0.755889 seconds.\n",
      "You can set `force_row_wise=true` to remove the overhead.\n",
      "And if memory is not enough, you can set `force_col_wise=true`.\n",
      "[LightGBM] [Info] Total Bins 500895\n",
      "[LightGBM] [Info] Number of data points in the train set: 114689, number of used features: 9376\n",
      "[LightGBM] [Info] [binary:BoostFromScore]: pavg=0.101605 -> initscore=-2.179515\n",
      "[LightGBM] [Info] Start training from score -2.179515\n",
      "[LightGBM] [Info] Number of positive: 11654, number of negative: 103036\n",
      "[LightGBM] [Info] Auto-choosing row-wise multi-threading, the overhead of testing was 0.682270 seconds.\n",
      "You can set `force_row_wise=true` to remove the overhead.\n",
      "And if memory is not enough, you can set `force_col_wise=true`.\n",
      "[LightGBM] [Info] Total Bins 502780\n",
      "[LightGBM] [Info] Number of data points in the train set: 114690, number of used features: 9377\n",
      "[LightGBM] [Info] [binary:BoostFromScore]: pavg=0.101613 -> initscore=-2.179429\n",
      "[LightGBM] [Info] Start training from score -2.179429\n",
      "[LightGBM] [Info] Number of positive: 11654, number of negative: 103036\n",
      "[LightGBM] [Info] Auto-choosing col-wise multi-threading, the overhead of testing was 0.727013 seconds.\n",
      "You can set `force_col_wise=true` to remove the overhead.\n",
      "[LightGBM] [Info] Total Bins 500569\n",
      "[LightGBM] [Info] Number of data points in the train set: 114690, number of used features: 9342\n",
      "[LightGBM] [Info] [binary:BoostFromScore]: pavg=0.101613 -> initscore=-2.179429\n",
      "[LightGBM] [Info] Start training from score -2.179429\n",
      "[LightGBM] [Info] Number of positive: 11654, number of negative: 103036\n",
      "[LightGBM] [Info] Auto-choosing row-wise multi-threading, the overhead of testing was 0.707822 seconds.\n",
      "You can set `force_row_wise=true` to remove the overhead.\n",
      "And if memory is not enough, you can set `force_col_wise=true`.\n",
      "[LightGBM] [Info] Total Bins 501066\n",
      "[LightGBM] [Info] Number of data points in the train set: 114690, number of used features: 9322\n",
      "[LightGBM] [Info] [binary:BoostFromScore]: pavg=0.101613 -> initscore=-2.179429\n",
      "[LightGBM] [Info] Start training from score -2.179429\n",
      "[LightGBM] [Info] Number of positive: 11653, number of negative: 103036\n",
      "[LightGBM] [Info] Auto-choosing col-wise multi-threading, the overhead of testing was 0.677761 seconds.\n",
      "You can set `force_col_wise=true` to remove the overhead.\n",
      "[LightGBM] [Info] Total Bins 500348\n",
      "[LightGBM] [Info] Number of data points in the train set: 114689, number of used features: 9306\n",
      "[LightGBM] [Info] [binary:BoostFromScore]: pavg=0.101605 -> initscore=-2.179515\n",
      "[LightGBM] [Info] Start training from score -2.179515\n",
      "[LightGBM] [Info] Number of positive: 11653, number of negative: 103036\n",
      "[LightGBM] [Info] Auto-choosing row-wise multi-threading, the overhead of testing was 0.691412 seconds.\n",
      "You can set `force_row_wise=true` to remove the overhead.\n",
      "And if memory is not enough, you can set `force_col_wise=true`.\n",
      "[LightGBM] [Info] Total Bins 500895\n",
      "[LightGBM] [Info] Number of data points in the train set: 114689, number of used features: 9376\n",
      "[LightGBM] [Info] [binary:BoostFromScore]: pavg=0.101605 -> initscore=-2.179515\n",
      "[LightGBM] [Info] Start training from score -2.179515\n",
      "[LightGBM] [Info] Number of positive: 11654, number of negative: 103036\n",
      "[LightGBM] [Info] Auto-choosing row-wise multi-threading, the overhead of testing was 0.813832 seconds.\n",
      "You can set `force_row_wise=true` to remove the overhead.\n",
      "And if memory is not enough, you can set `force_col_wise=true`.\n",
      "[LightGBM] [Info] Total Bins 502780\n",
      "[LightGBM] [Info] Number of data points in the train set: 114690, number of used features: 9377\n",
      "[LightGBM] [Info] [binary:BoostFromScore]: pavg=0.101613 -> initscore=-2.179429\n",
      "[LightGBM] [Info] Start training from score -2.179429\n",
      "[LightGBM] [Info] Number of positive: 11654, number of negative: 103036\n",
      "[LightGBM] [Info] Auto-choosing row-wise multi-threading, the overhead of testing was 0.663651 seconds.\n",
      "You can set `force_row_wise=true` to remove the overhead.\n",
      "And if memory is not enough, you can set `force_col_wise=true`.\n",
      "[LightGBM] [Info] Total Bins 500569\n",
      "[LightGBM] [Info] Number of data points in the train set: 114690, number of used features: 9342\n",
      "[LightGBM] [Info] [binary:BoostFromScore]: pavg=0.101613 -> initscore=-2.179429\n",
      "[LightGBM] [Info] Start training from score -2.179429\n",
      "[LightGBM] [Info] Number of positive: 11654, number of negative: 103036\n",
      "[LightGBM] [Info] Auto-choosing row-wise multi-threading, the overhead of testing was 0.681955 seconds.\n",
      "You can set `force_row_wise=true` to remove the overhead.\n",
      "And if memory is not enough, you can set `force_col_wise=true`.\n",
      "[LightGBM] [Info] Total Bins 501066\n",
      "[LightGBM] [Info] Number of data points in the train set: 114690, number of used features: 9322\n",
      "[LightGBM] [Info] [binary:BoostFromScore]: pavg=0.101613 -> initscore=-2.179429\n",
      "[LightGBM] [Info] Start training from score -2.179429\n",
      "[LightGBM] [Info] Number of positive: 11653, number of negative: 103036\n",
      "[LightGBM] [Info] Auto-choosing row-wise multi-threading, the overhead of testing was 0.703808 seconds.\n",
      "You can set `force_row_wise=true` to remove the overhead.\n",
      "And if memory is not enough, you can set `force_col_wise=true`.\n",
      "[LightGBM] [Info] Total Bins 500348\n",
      "[LightGBM] [Info] Number of data points in the train set: 114689, number of used features: 9306\n",
      "[LightGBM] [Info] [binary:BoostFromScore]: pavg=0.101605 -> initscore=-2.179515\n",
      "[LightGBM] [Info] Start training from score -2.179515\n",
      "[LightGBM] [Info] Number of positive: 11653, number of negative: 103036\n",
      "[LightGBM] [Info] Auto-choosing row-wise multi-threading, the overhead of testing was 0.702781 seconds.\n",
      "You can set `force_row_wise=true` to remove the overhead.\n",
      "And if memory is not enough, you can set `force_col_wise=true`.\n",
      "[LightGBM] [Info] Total Bins 500895\n",
      "[LightGBM] [Info] Number of data points in the train set: 114689, number of used features: 9376\n",
      "[LightGBM] [Info] [binary:BoostFromScore]: pavg=0.101605 -> initscore=-2.179515\n",
      "[LightGBM] [Info] Start training from score -2.179515\n",
      "[LightGBM] [Info] Number of positive: 11654, number of negative: 103036\n",
      "[LightGBM] [Info] Auto-choosing col-wise multi-threading, the overhead of testing was 0.734143 seconds.\n",
      "You can set `force_col_wise=true` to remove the overhead.\n",
      "[LightGBM] [Info] Total Bins 502780\n",
      "[LightGBM] [Info] Number of data points in the train set: 114690, number of used features: 9377\n",
      "[LightGBM] [Info] [binary:BoostFromScore]: pavg=0.101613 -> initscore=-2.179429\n",
      "[LightGBM] [Info] Start training from score -2.179429\n",
      "[LightGBM] [Info] Number of positive: 11654, number of negative: 103036\n",
      "[LightGBM] [Info] Auto-choosing row-wise multi-threading, the overhead of testing was 0.717392 seconds.\n",
      "You can set `force_row_wise=true` to remove the overhead.\n",
      "And if memory is not enough, you can set `force_col_wise=true`.\n",
      "[LightGBM] [Info] Total Bins 500569\n",
      "[LightGBM] [Info] Number of data points in the train set: 114690, number of used features: 9342\n",
      "[LightGBM] [Info] [binary:BoostFromScore]: pavg=0.101613 -> initscore=-2.179429\n",
      "[LightGBM] [Info] Start training from score -2.179429\n",
      "[LightGBM] [Info] Number of positive: 11654, number of negative: 103036\n",
      "[LightGBM] [Info] Auto-choosing row-wise multi-threading, the overhead of testing was 0.761929 seconds.\n",
      "You can set `force_row_wise=true` to remove the overhead.\n",
      "And if memory is not enough, you can set `force_col_wise=true`.\n",
      "[LightGBM] [Info] Total Bins 501066\n",
      "[LightGBM] [Info] Number of data points in the train set: 114690, number of used features: 9322\n",
      "[LightGBM] [Info] [binary:BoostFromScore]: pavg=0.101613 -> initscore=-2.179429\n",
      "[LightGBM] [Info] Start training from score -2.179429\n",
      "[LightGBM] [Info] Number of positive: 11653, number of negative: 103036\n",
      "[LightGBM] [Info] Auto-choosing row-wise multi-threading, the overhead of testing was 0.742048 seconds.\n",
      "You can set `force_row_wise=true` to remove the overhead.\n",
      "And if memory is not enough, you can set `force_col_wise=true`.\n",
      "[LightGBM] [Info] Total Bins 500348\n",
      "[LightGBM] [Info] Number of data points in the train set: 114689, number of used features: 9306\n",
      "[LightGBM] [Info] [binary:BoostFromScore]: pavg=0.101605 -> initscore=-2.179515\n",
      "[LightGBM] [Info] Start training from score -2.179515\n",
      "[LightGBM] [Info] Number of positive: 11653, number of negative: 103036\n",
      "[LightGBM] [Info] Auto-choosing row-wise multi-threading, the overhead of testing was 0.851784 seconds.\n",
      "You can set `force_row_wise=true` to remove the overhead.\n",
      "And if memory is not enough, you can set `force_col_wise=true`.\n",
      "[LightGBM] [Info] Total Bins 500895\n",
      "[LightGBM] [Info] Number of data points in the train set: 114689, number of used features: 9376\n",
      "[LightGBM] [Info] [binary:BoostFromScore]: pavg=0.101605 -> initscore=-2.179515\n",
      "[LightGBM] [Info] Start training from score -2.179515\n",
      "[LightGBM] [Info] Number of positive: 11654, number of negative: 103036\n",
      "[LightGBM] [Info] Auto-choosing row-wise multi-threading, the overhead of testing was 0.649064 seconds.\n",
      "You can set `force_row_wise=true` to remove the overhead.\n",
      "And if memory is not enough, you can set `force_col_wise=true`.\n",
      "[LightGBM] [Info] Total Bins 502780\n",
      "[LightGBM] [Info] Number of data points in the train set: 114690, number of used features: 9377\n",
      "[LightGBM] [Info] [binary:BoostFromScore]: pavg=0.101613 -> initscore=-2.179429\n",
      "[LightGBM] [Info] Start training from score -2.179429\n",
      "[LightGBM] [Info] Number of positive: 11654, number of negative: 103036\n",
      "[LightGBM] [Info] Auto-choosing col-wise multi-threading, the overhead of testing was 0.860096 seconds.\n",
      "You can set `force_col_wise=true` to remove the overhead.\n",
      "[LightGBM] [Info] Total Bins 500569\n",
      "[LightGBM] [Info] Number of data points in the train set: 114690, number of used features: 9342\n",
      "[LightGBM] [Info] [binary:BoostFromScore]: pavg=0.101613 -> initscore=-2.179429\n",
      "[LightGBM] [Info] Start training from score -2.179429\n",
      "[LightGBM] [Info] Number of positive: 11654, number of negative: 103036\n",
      "[LightGBM] [Info] Auto-choosing row-wise multi-threading, the overhead of testing was 0.780668 seconds.\n",
      "You can set `force_row_wise=true` to remove the overhead.\n",
      "And if memory is not enough, you can set `force_col_wise=true`.\n",
      "[LightGBM] [Info] Total Bins 501066\n",
      "[LightGBM] [Info] Number of data points in the train set: 114690, number of used features: 9322\n",
      "[LightGBM] [Info] [binary:BoostFromScore]: pavg=0.101613 -> initscore=-2.179429\n",
      "[LightGBM] [Info] Start training from score -2.179429\n",
      "[LightGBM] [Info] Number of positive: 11653, number of negative: 103036\n",
      "[LightGBM] [Info] Auto-choosing row-wise multi-threading, the overhead of testing was 0.850411 seconds.\n",
      "You can set `force_row_wise=true` to remove the overhead.\n",
      "And if memory is not enough, you can set `force_col_wise=true`.\n",
      "[LightGBM] [Info] Total Bins 500348\n",
      "[LightGBM] [Info] Number of data points in the train set: 114689, number of used features: 9306\n",
      "[LightGBM] [Info] [binary:BoostFromScore]: pavg=0.101605 -> initscore=-2.179515\n",
      "[LightGBM] [Info] Start training from score -2.179515\n",
      "[LightGBM] [Info] Number of positive: 11653, number of negative: 103036\n",
      "[LightGBM] [Info] Auto-choosing row-wise multi-threading, the overhead of testing was 0.788339 seconds.\n",
      "You can set `force_row_wise=true` to remove the overhead.\n",
      "And if memory is not enough, you can set `force_col_wise=true`.\n",
      "[LightGBM] [Info] Total Bins 500895\n",
      "[LightGBM] [Info] Number of data points in the train set: 114689, number of used features: 9376\n",
      "[LightGBM] [Info] [binary:BoostFromScore]: pavg=0.101605 -> initscore=-2.179515\n",
      "[LightGBM] [Info] Start training from score -2.179515\n",
      "[LightGBM] [Info] Number of positive: 11654, number of negative: 103036\n",
      "[LightGBM] [Info] Auto-choosing row-wise multi-threading, the overhead of testing was 0.802332 seconds.\n",
      "You can set `force_row_wise=true` to remove the overhead.\n",
      "And if memory is not enough, you can set `force_col_wise=true`.\n",
      "[LightGBM] [Info] Total Bins 502780\n",
      "[LightGBM] [Info] Number of data points in the train set: 114690, number of used features: 9377\n",
      "[LightGBM] [Info] [binary:BoostFromScore]: pavg=0.101613 -> initscore=-2.179429\n",
      "[LightGBM] [Info] Start training from score -2.179429\n",
      "[LightGBM] [Info] Number of positive: 11654, number of negative: 103036\n",
      "[LightGBM] [Info] Auto-choosing row-wise multi-threading, the overhead of testing was 0.807826 seconds.\n",
      "You can set `force_row_wise=true` to remove the overhead.\n",
      "And if memory is not enough, you can set `force_col_wise=true`.\n",
      "[LightGBM] [Info] Total Bins 500569\n",
      "[LightGBM] [Info] Number of data points in the train set: 114690, number of used features: 9342\n",
      "[LightGBM] [Info] [binary:BoostFromScore]: pavg=0.101613 -> initscore=-2.179429\n",
      "[LightGBM] [Info] Start training from score -2.179429\n",
      "[LightGBM] [Info] Number of positive: 11654, number of negative: 103036\n",
      "[LightGBM] [Info] Auto-choosing col-wise multi-threading, the overhead of testing was 0.794872 seconds.\n",
      "You can set `force_col_wise=true` to remove the overhead.\n",
      "[LightGBM] [Info] Total Bins 501066\n",
      "[LightGBM] [Info] Number of data points in the train set: 114690, number of used features: 9322\n",
      "[LightGBM] [Info] [binary:BoostFromScore]: pavg=0.101613 -> initscore=-2.179429\n",
      "[LightGBM] [Info] Start training from score -2.179429\n",
      "[LightGBM] [Info] Number of positive: 11653, number of negative: 103036\n",
      "[LightGBM] [Info] Auto-choosing col-wise multi-threading, the overhead of testing was 0.819890 seconds.\n",
      "You can set `force_col_wise=true` to remove the overhead.\n",
      "[LightGBM] [Info] Total Bins 500348\n",
      "[LightGBM] [Info] Number of data points in the train set: 114689, number of used features: 9306\n",
      "[LightGBM] [Info] [binary:BoostFromScore]: pavg=0.101605 -> initscore=-2.179515\n",
      "[LightGBM] [Info] Start training from score -2.179515\n",
      "[LightGBM] [Info] Number of positive: 11653, number of negative: 103036\n",
      "[LightGBM] [Info] Auto-choosing row-wise multi-threading, the overhead of testing was 0.893957 seconds.\n",
      "You can set `force_row_wise=true` to remove the overhead.\n",
      "And if memory is not enough, you can set `force_col_wise=true`.\n",
      "[LightGBM] [Info] Total Bins 500895\n",
      "[LightGBM] [Info] Number of data points in the train set: 114689, number of used features: 9376\n",
      "[LightGBM] [Info] [binary:BoostFromScore]: pavg=0.101605 -> initscore=-2.179515\n",
      "[LightGBM] [Info] Start training from score -2.179515\n",
      "[LightGBM] [Info] Number of positive: 11654, number of negative: 103036\n",
      "[LightGBM] [Info] Auto-choosing row-wise multi-threading, the overhead of testing was 0.798512 seconds.\n",
      "You can set `force_row_wise=true` to remove the overhead.\n",
      "And if memory is not enough, you can set `force_col_wise=true`.\n",
      "[LightGBM] [Info] Total Bins 502780\n",
      "[LightGBM] [Info] Number of data points in the train set: 114690, number of used features: 9377\n",
      "[LightGBM] [Info] [binary:BoostFromScore]: pavg=0.101613 -> initscore=-2.179429\n",
      "[LightGBM] [Info] Start training from score -2.179429\n",
      "[LightGBM] [Info] Number of positive: 11654, number of negative: 103036\n",
      "[LightGBM] [Info] Auto-choosing row-wise multi-threading, the overhead of testing was 1.042645 seconds.\n",
      "You can set `force_row_wise=true` to remove the overhead.\n",
      "And if memory is not enough, you can set `force_col_wise=true`.\n",
      "[LightGBM] [Info] Total Bins 500569\n",
      "[LightGBM] [Info] Number of data points in the train set: 114690, number of used features: 9342\n",
      "[LightGBM] [Info] [binary:BoostFromScore]: pavg=0.101613 -> initscore=-2.179429\n",
      "[LightGBM] [Info] Start training from score -2.179429\n",
      "[LightGBM] [Info] Number of positive: 11654, number of negative: 103036\n",
      "[LightGBM] [Info] Auto-choosing row-wise multi-threading, the overhead of testing was 0.921719 seconds.\n",
      "You can set `force_row_wise=true` to remove the overhead.\n",
      "And if memory is not enough, you can set `force_col_wise=true`.\n",
      "[LightGBM] [Info] Total Bins 501066\n",
      "[LightGBM] [Info] Number of data points in the train set: 114690, number of used features: 9322\n",
      "[LightGBM] [Info] [binary:BoostFromScore]: pavg=0.101613 -> initscore=-2.179429\n",
      "[LightGBM] [Info] Start training from score -2.179429\n",
      "[LightGBM] [Info] Number of positive: 11653, number of negative: 103036\n",
      "[LightGBM] [Info] Auto-choosing row-wise multi-threading, the overhead of testing was 0.693076 seconds.\n",
      "You can set `force_row_wise=true` to remove the overhead.\n",
      "And if memory is not enough, you can set `force_col_wise=true`.\n",
      "[LightGBM] [Info] Total Bins 500348\n",
      "[LightGBM] [Info] Number of data points in the train set: 114689, number of used features: 9306\n",
      "[LightGBM] [Info] [binary:BoostFromScore]: pavg=0.101605 -> initscore=-2.179515\n",
      "[LightGBM] [Info] Start training from score -2.179515\n",
      "[LightGBM] [Info] Number of positive: 11653, number of negative: 103036\n",
      "[LightGBM] [Info] Auto-choosing row-wise multi-threading, the overhead of testing was 0.732793 seconds.\n",
      "You can set `force_row_wise=true` to remove the overhead.\n",
      "And if memory is not enough, you can set `force_col_wise=true`.\n",
      "[LightGBM] [Info] Total Bins 500895\n",
      "[LightGBM] [Info] Number of data points in the train set: 114689, number of used features: 9376\n",
      "[LightGBM] [Info] [binary:BoostFromScore]: pavg=0.101605 -> initscore=-2.179515\n",
      "[LightGBM] [Info] Start training from score -2.179515\n",
      "[LightGBM] [Info] Number of positive: 11654, number of negative: 103036\n",
      "[LightGBM] [Info] Auto-choosing row-wise multi-threading, the overhead of testing was 0.929192 seconds.\n",
      "You can set `force_row_wise=true` to remove the overhead.\n",
      "And if memory is not enough, you can set `force_col_wise=true`.\n",
      "[LightGBM] [Info] Total Bins 502780\n",
      "[LightGBM] [Info] Number of data points in the train set: 114690, number of used features: 9377\n",
      "[LightGBM] [Info] [binary:BoostFromScore]: pavg=0.101613 -> initscore=-2.179429\n",
      "[LightGBM] [Info] Start training from score -2.179429\n",
      "[LightGBM] [Info] Number of positive: 11654, number of negative: 103036\n",
      "[LightGBM] [Info] Auto-choosing row-wise multi-threading, the overhead of testing was 0.948908 seconds.\n",
      "You can set `force_row_wise=true` to remove the overhead.\n",
      "And if memory is not enough, you can set `force_col_wise=true`.\n",
      "[LightGBM] [Info] Total Bins 500569\n",
      "[LightGBM] [Info] Number of data points in the train set: 114690, number of used features: 9342\n",
      "[LightGBM] [Info] [binary:BoostFromScore]: pavg=0.101613 -> initscore=-2.179429\n",
      "[LightGBM] [Info] Start training from score -2.179429\n",
      "[LightGBM] [Info] Number of positive: 11654, number of negative: 103036\n",
      "[LightGBM] [Info] Auto-choosing row-wise multi-threading, the overhead of testing was 0.903191 seconds.\n",
      "You can set `force_row_wise=true` to remove the overhead.\n",
      "And if memory is not enough, you can set `force_col_wise=true`.\n",
      "[LightGBM] [Info] Total Bins 501066\n",
      "[LightGBM] [Info] Number of data points in the train set: 114690, number of used features: 9322\n",
      "[LightGBM] [Info] [binary:BoostFromScore]: pavg=0.101613 -> initscore=-2.179429\n",
      "[LightGBM] [Info] Start training from score -2.179429\n",
      "[LightGBM] [Info] Number of positive: 11653, number of negative: 103036\n",
      "[LightGBM] [Info] Auto-choosing row-wise multi-threading, the overhead of testing was 0.949520 seconds.\n",
      "You can set `force_row_wise=true` to remove the overhead.\n",
      "And if memory is not enough, you can set `force_col_wise=true`.\n",
      "[LightGBM] [Info] Total Bins 500348\n",
      "[LightGBM] [Info] Number of data points in the train set: 114689, number of used features: 9306\n",
      "[LightGBM] [Info] [binary:BoostFromScore]: pavg=0.101605 -> initscore=-2.179515\n",
      "[LightGBM] [Info] Start training from score -2.179515\n",
      "[LightGBM] [Info] Number of positive: 11653, number of negative: 103036\n",
      "[LightGBM] [Info] Auto-choosing row-wise multi-threading, the overhead of testing was 0.816389 seconds.\n",
      "You can set `force_row_wise=true` to remove the overhead.\n",
      "And if memory is not enough, you can set `force_col_wise=true`.\n",
      "[LightGBM] [Info] Total Bins 500895\n",
      "[LightGBM] [Info] Number of data points in the train set: 114689, number of used features: 9376\n",
      "[LightGBM] [Info] [binary:BoostFromScore]: pavg=0.101605 -> initscore=-2.179515\n",
      "[LightGBM] [Info] Start training from score -2.179515\n",
      "[LightGBM] [Info] Number of positive: 11654, number of negative: 103036\n",
      "[LightGBM] [Info] Auto-choosing row-wise multi-threading, the overhead of testing was 0.826419 seconds.\n",
      "You can set `force_row_wise=true` to remove the overhead.\n",
      "And if memory is not enough, you can set `force_col_wise=true`.\n",
      "[LightGBM] [Info] Total Bins 502780\n",
      "[LightGBM] [Info] Number of data points in the train set: 114690, number of used features: 9377\n",
      "[LightGBM] [Info] [binary:BoostFromScore]: pavg=0.101613 -> initscore=-2.179429\n",
      "[LightGBM] [Info] Start training from score -2.179429\n",
      "[LightGBM] [Info] Number of positive: 11654, number of negative: 103036\n",
      "[LightGBM] [Info] Auto-choosing row-wise multi-threading, the overhead of testing was 0.954150 seconds.\n",
      "You can set `force_row_wise=true` to remove the overhead.\n",
      "And if memory is not enough, you can set `force_col_wise=true`.\n",
      "[LightGBM] [Info] Total Bins 500569\n",
      "[LightGBM] [Info] Number of data points in the train set: 114690, number of used features: 9342\n",
      "[LightGBM] [Info] [binary:BoostFromScore]: pavg=0.101613 -> initscore=-2.179429\n",
      "[LightGBM] [Info] Start training from score -2.179429\n",
      "[LightGBM] [Info] Number of positive: 11654, number of negative: 103036\n",
      "[LightGBM] [Info] Auto-choosing row-wise multi-threading, the overhead of testing was 0.886851 seconds.\n",
      "You can set `force_row_wise=true` to remove the overhead.\n",
      "And if memory is not enough, you can set `force_col_wise=true`.\n",
      "[LightGBM] [Info] Total Bins 501066\n",
      "[LightGBM] [Info] Number of data points in the train set: 114690, number of used features: 9322\n",
      "[LightGBM] [Info] [binary:BoostFromScore]: pavg=0.101613 -> initscore=-2.179429\n",
      "[LightGBM] [Info] Start training from score -2.179429\n",
      "[LightGBM] [Info] Number of positive: 14567, number of negative: 128795\n",
      "[LightGBM] [Info] Auto-choosing row-wise multi-threading, the overhead of testing was 1.109409 seconds.\n",
      "You can set `force_row_wise=true` to remove the overhead.\n",
      "And if memory is not enough, you can set `force_col_wise=true`.\n",
      "[LightGBM] [Info] Total Bins 587138\n",
      "[LightGBM] [Info] Number of data points in the train set: 143362, number of used features: 10762\n",
      "[LightGBM] [Info] [binary:BoostFromScore]: pavg=0.101610 -> initscore=-2.179463\n",
      "[LightGBM] [Info] Start training from score -2.179463\n",
      "CPU times: total: 1h 21min 39s\n",
      "Wall time: 17min 22s\n"
     ]
    },
    {
     "data": {
      "text/plain": [
       "GridSearchCV(cv=5,\n",
       "             estimator=Pipeline(steps=[('vect',\n",
       "                                        TfidfVectorizer(stop_words={'a',\n",
       "                                                                    'about',\n",
       "                                                                    'above',\n",
       "                                                                    'after',\n",
       "                                                                    'again',\n",
       "                                                                    'against',\n",
       "                                                                    'ain',\n",
       "                                                                    'all', 'am',\n",
       "                                                                    'an', 'and',\n",
       "                                                                    'any',\n",
       "                                                                    'are',\n",
       "                                                                    'aren',\n",
       "                                                                    \"aren't\",\n",
       "                                                                    'as', 'at',\n",
       "                                                                    'be',\n",
       "                                                                    'because',\n",
       "                                                                    'been',\n",
       "                                                                    'before',\n",
       "                                                                    'being',\n",
       "                                                                    'below',\n",
       "                                                                    'between',\n",
       "                                                                    'both',\n",
       "                                                                    'but', 'by',\n",
       "                                                                    'can',\n",
       "                                                                    'couldn',\n",
       "                                                                    \"couldn't\", ...})),\n",
       "                                       ('clf',\n",
       "                                        LGBMClassifier(random_state=12345))]),\n",
       "             param_grid={'clf__learning_rate': [0.05, 0.1],\n",
       "                         'clf__n_estimators': [100, 150],\n",
       "                         'clf__num_leaves': [31, 50, 80]},\n",
       "             scoring='f1')"
      ]
     },
     "execution_count": 27,
     "metadata": {},
     "output_type": "execute_result"
    }
   ],
   "source": [
    "%%time\n",
    "GS_lgb.fit(features_train, target_train)"
   ]
  },
  {
   "cell_type": "code",
   "execution_count": 28,
   "metadata": {},
   "outputs": [
    {
     "data": {
      "text/plain": [
       "{'clf__learning_rate': 0.1, 'clf__n_estimators': 150, 'clf__num_leaves': 80}"
      ]
     },
     "execution_count": 28,
     "metadata": {},
     "output_type": "execute_result"
    }
   ],
   "source": [
    "GS_lgb.best_params_"
   ]
  },
  {
   "cell_type": "code",
   "execution_count": 29,
   "metadata": {},
   "outputs": [
    {
     "data": {
      "text/plain": [
       "0.7789805574260013"
      ]
     },
     "execution_count": 29,
     "metadata": {},
     "output_type": "execute_result"
    }
   ],
   "source": [
    "f1_lgb = GS_lgb.best_score_\n",
    "f1_lgb"
   ]
  },
  {
   "cell_type": "markdown",
   "metadata": {},
   "source": [
    "### Выбор лучшей модели"
   ]
  },
  {
   "cell_type": "code",
   "execution_count": 30,
   "metadata": {},
   "outputs": [],
   "source": [
    "models_info = [['LinearRegression', f1_lr],\n",
    "            ['RandomForestRegression', f1_rf],\n",
    "            ['LightGBM', f1_lgb]]"
   ]
  },
  {
   "cell_type": "code",
   "execution_count": 31,
   "metadata": {},
   "outputs": [
    {
     "data": {
      "text/html": [
       "<div>\n",
       "<style scoped>\n",
       "    .dataframe tbody tr th:only-of-type {\n",
       "        vertical-align: middle;\n",
       "    }\n",
       "\n",
       "    .dataframe tbody tr th {\n",
       "        vertical-align: top;\n",
       "    }\n",
       "\n",
       "    .dataframe thead th {\n",
       "        text-align: right;\n",
       "    }\n",
       "</style>\n",
       "<table border=\"1\" class=\"dataframe\">\n",
       "  <thead>\n",
       "    <tr style=\"text-align: right;\">\n",
       "      <th></th>\n",
       "      <th>Model</th>\n",
       "      <th>F1_score</th>\n",
       "    </tr>\n",
       "  </thead>\n",
       "  <tbody>\n",
       "    <tr>\n",
       "      <th>0</th>\n",
       "      <td>LinearRegression</td>\n",
       "      <td>0.736506</td>\n",
       "    </tr>\n",
       "    <tr>\n",
       "      <th>1</th>\n",
       "      <td>RandomForestRegression</td>\n",
       "      <td>0.004107</td>\n",
       "    </tr>\n",
       "    <tr>\n",
       "      <th>2</th>\n",
       "      <td>LightGBM</td>\n",
       "      <td>0.778981</td>\n",
       "    </tr>\n",
       "  </tbody>\n",
       "</table>\n",
       "</div>"
      ],
      "text/plain": [
       "                    Model  F1_score\n",
       "0        LinearRegression  0.736506\n",
       "1  RandomForestRegression  0.004107\n",
       "2                LightGBM  0.778981"
      ]
     },
     "execution_count": 31,
     "metadata": {},
     "output_type": "execute_result"
    }
   ],
   "source": [
    "pd.DataFrame(models_info, columns=[\"Model\",\"F1_score\"])"
   ]
  },
  {
   "cell_type": "markdown",
   "metadata": {},
   "source": [
    "Наилучшее значение f1_score для тестовой выборки оказалось у модели LightGBM"
   ]
  },
  {
   "cell_type": "markdown",
   "metadata": {},
   "source": [
    "## Проверка лучшей модели на тестовой выборке"
   ]
  },
  {
   "cell_type": "code",
   "execution_count": 32,
   "metadata": {},
   "outputs": [
    {
     "data": {
      "text/plain": [
       "Pipeline(steps=[('vect',\n",
       "                 TfidfVectorizer(stop_words={'a', 'about', 'above', 'after',\n",
       "                                             'again', 'against', 'ain', 'all',\n",
       "                                             'am', 'an', 'and', 'any', 'are',\n",
       "                                             'aren', \"aren't\", 'as', 'at', 'be',\n",
       "                                             'because', 'been', 'before',\n",
       "                                             'being', 'below', 'between',\n",
       "                                             'both', 'but', 'by', 'can',\n",
       "                                             'couldn', \"couldn't\", ...})),\n",
       "                ('clf',\n",
       "                 LGBMClassifier(n_estimators=150, num_leaves=80,\n",
       "                                random_state=12345))])"
      ]
     },
     "execution_count": 32,
     "metadata": {},
     "output_type": "execute_result"
    }
   ],
   "source": [
    "GS_lgb.best_estimator_"
   ]
  },
  {
   "cell_type": "code",
   "execution_count": 33,
   "metadata": {},
   "outputs": [],
   "source": [
    "predictions_test = GS_lgb.predict(features_test)"
   ]
  },
  {
   "cell_type": "code",
   "execution_count": 34,
   "metadata": {},
   "outputs": [
    {
     "data": {
      "text/plain": [
       "0.790633608815427"
      ]
     },
     "execution_count": 34,
     "metadata": {},
     "output_type": "execute_result"
    }
   ],
   "source": [
    "f1_test = f1_score(target_test, predictions_test)\n",
    "f1_test"
   ]
  },
  {
   "cell_type": "markdown",
   "metadata": {},
   "source": [
    "**Вывод:** При проверке модели на тестовой выборке метрика f1 оказалась 0.79"
   ]
  },
  {
   "cell_type": "markdown",
   "metadata": {},
   "source": [
    "## Выводы"
   ]
  },
  {
   "cell_type": "markdown",
   "metadata": {},
   "source": [
    "В ходе работы на проектом выполнены следующие мероприятия:\n",
    "- Загружены и проанализированы описания товаров в интернет-магазине Wikishop.\n",
    "- Подготовлены данные для обучения моделей: произведены лемматизация и токенизация описаний, данные разделены на обучающую и тестовую выборки с использованием стратификации.\n",
    "- Обучены 3 разные модели (LinearRegression, RandomForest, LightGBM), подобраны оптимальные гиперпараметры. \n",
    "- Выбрана наилучшая модель по метрике f1. Ей оказалась модель LightGBM. При проверке качества модели на тестовой выборке метрика f1-score составил 0.79, что входит в пределы порогового значения >0.75."
   ]
  }
 ],
 "metadata": {
  "kernelspec": {
   "display_name": "Python 3 (ipykernel)",
   "language": "python",
   "name": "python3"
  },
  "language_info": {
   "codemirror_mode": {
    "name": "ipython",
    "version": 3
   },
   "file_extension": ".py",
   "mimetype": "text/x-python",
   "name": "python",
   "nbconvert_exporter": "python",
   "pygments_lexer": "ipython3",
   "version": "3.9.18"
  },
  "toc": {
   "base_numbering": 1,
   "nav_menu": {},
   "number_sections": true,
   "sideBar": true,
   "skip_h1_title": true,
   "title_cell": "Содержание",
   "title_sidebar": "Contents",
   "toc_cell": true,
   "toc_position": {
    "height": "calc(100% - 180px)",
    "left": "10px",
    "top": "150px",
    "width": "302.391px"
   },
   "toc_section_display": true,
   "toc_window_display": true
  }
 },
 "nbformat": 4,
 "nbformat_minor": 4
}
