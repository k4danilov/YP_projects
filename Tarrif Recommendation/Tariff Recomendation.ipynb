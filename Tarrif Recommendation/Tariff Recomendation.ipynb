{
 "cells": [
  {
   "cell_type": "markdown",
   "id": "7f80ced4-8102-4634-be6e-6860a55d0496",
   "metadata": {},
   "source": [
    "# Рекомендация тарифов"
   ]
  },
  {
   "cell_type": "markdown",
   "id": "d067edf1-e6ce-4f99-a5dd-1a120c09de93",
   "metadata": {},
   "source": [
    "**Описание проекта**"
   ]
  },
  {
   "cell_type": "markdown",
   "id": "23ce306a-52a1-4168-b191-772f6588f28d",
   "metadata": {},
   "source": [
    "Оператор мобильной связи «Мегалайн» выяснил: многие клиенты пользуются архивными тарифами. Они хотят построить систему, способную проанализировать поведение клиентов и предложить пользователям новый тариф: «Смарт» или «Ультра»."
   ]
  },
  {
   "cell_type": "markdown",
   "id": "9c6360b8-f6a0-47d4-92ef-89479d4a3de0",
   "metadata": {},
   "source": [
    "**Цель проекта** - построить модель для задачи классификации, которая выберет подходящий тариф. Accuracy должен быть не менее 0.75."
   ]
  },
  {
   "cell_type": "markdown",
   "id": "143e2bf3-db45-46f9-ba15-c6b118a40c96",
   "metadata": {},
   "source": [
    "**Описание имеющихся данных**\n",
    "\n"
   ]
  },
  {
   "cell_type": "markdown",
   "id": "2097f634-2cf2-4e35-892f-b28abf27d789",
   "metadata": {},
   "source": [
    "Каждый объект в наборе данных — это информация о поведении одного пользователя за месяц. \n",
    "<br>\n",
    "Известно:\n",
    "- сalls — количество звонков,\n",
    "- minutes — суммарная длительность звонков в минутах,\n",
    "- messages — количество sms-сообщений,\n",
    "- mb_used — израсходованный интернет-трафик в Мб,\n",
    "- is_ultra — каким тарифом пользовался в течение месяца («Ультра» — 1, «Смарт» — 0)."
   ]
  },
  {
   "cell_type": "code",
   "execution_count": 1,
   "id": "516d2f60-42f8-45b7-894c-ff7e9b2121b8",
   "metadata": {},
   "outputs": [],
   "source": [
    "import pandas as pd\n",
    "import matplotlib.pyplot as plt\n",
    "import numpy as np\n",
    "import scipy\n",
    "import sklearn\n",
    "\n",
    "from scipy import stats as st\n",
    "from sklearn.model_selection import train_test_split\n",
    "from sklearn.tree import DecisionTreeClassifier\n",
    "from sklearn.metrics import accuracy_score\n",
    "from sklearn.ensemble import RandomForestClassifier\n",
    "from sklearn.linear_model import LogisticRegression\n",
    "from sklearn.dummy import DummyClassifier\n",
    "from sklearn import tree\n",
    "from tqdm import tqdm"
   ]
  },
  {
   "cell_type": "markdown",
   "id": "63ae70e8-e6e5-4b64-b4d3-869d92d4d08e",
   "metadata": {},
   "source": [
    "## Шаг 1. Загрузка данных"
   ]
  },
  {
   "cell_type": "code",
   "execution_count": 2,
   "id": "f5a5d22b-2e95-4a30-bd00-c7dde90b4e89",
   "metadata": {},
   "outputs": [],
   "source": [
    "try:\n",
    "    df = pd.read_csv('/datasets/users_behavior.csv', decimal=\".\")\n",
    "except:\n",
    "    df = pd.read_csv('users_behavior.csv', decimal=\".\")"
   ]
  },
  {
   "cell_type": "code",
   "execution_count": 3,
   "id": "3c7c6fac-1f8b-49c9-91fe-ef215db01823",
   "metadata": {},
   "outputs": [
    {
     "data": {
      "text/html": [
       "<div>\n",
       "<style scoped>\n",
       "    .dataframe tbody tr th:only-of-type {\n",
       "        vertical-align: middle;\n",
       "    }\n",
       "\n",
       "    .dataframe tbody tr th {\n",
       "        vertical-align: top;\n",
       "    }\n",
       "\n",
       "    .dataframe thead th {\n",
       "        text-align: right;\n",
       "    }\n",
       "</style>\n",
       "<table border=\"1\" class=\"dataframe\">\n",
       "  <thead>\n",
       "    <tr style=\"text-align: right;\">\n",
       "      <th></th>\n",
       "      <th>calls</th>\n",
       "      <th>minutes</th>\n",
       "      <th>messages</th>\n",
       "      <th>mb_used</th>\n",
       "      <th>is_ultra</th>\n",
       "    </tr>\n",
       "  </thead>\n",
       "  <tbody>\n",
       "    <tr>\n",
       "      <th>0</th>\n",
       "      <td>40.0</td>\n",
       "      <td>311.90</td>\n",
       "      <td>83.0</td>\n",
       "      <td>19915.42</td>\n",
       "      <td>0</td>\n",
       "    </tr>\n",
       "    <tr>\n",
       "      <th>1</th>\n",
       "      <td>85.0</td>\n",
       "      <td>516.75</td>\n",
       "      <td>56.0</td>\n",
       "      <td>22696.96</td>\n",
       "      <td>0</td>\n",
       "    </tr>\n",
       "    <tr>\n",
       "      <th>2</th>\n",
       "      <td>77.0</td>\n",
       "      <td>467.66</td>\n",
       "      <td>86.0</td>\n",
       "      <td>21060.45</td>\n",
       "      <td>0</td>\n",
       "    </tr>\n",
       "    <tr>\n",
       "      <th>3</th>\n",
       "      <td>106.0</td>\n",
       "      <td>745.53</td>\n",
       "      <td>81.0</td>\n",
       "      <td>8437.39</td>\n",
       "      <td>1</td>\n",
       "    </tr>\n",
       "    <tr>\n",
       "      <th>4</th>\n",
       "      <td>66.0</td>\n",
       "      <td>418.74</td>\n",
       "      <td>1.0</td>\n",
       "      <td>14502.75</td>\n",
       "      <td>0</td>\n",
       "    </tr>\n",
       "    <tr>\n",
       "      <th>5</th>\n",
       "      <td>58.0</td>\n",
       "      <td>344.56</td>\n",
       "      <td>21.0</td>\n",
       "      <td>15823.37</td>\n",
       "      <td>0</td>\n",
       "    </tr>\n",
       "    <tr>\n",
       "      <th>6</th>\n",
       "      <td>57.0</td>\n",
       "      <td>431.64</td>\n",
       "      <td>20.0</td>\n",
       "      <td>3738.90</td>\n",
       "      <td>1</td>\n",
       "    </tr>\n",
       "    <tr>\n",
       "      <th>7</th>\n",
       "      <td>15.0</td>\n",
       "      <td>132.40</td>\n",
       "      <td>6.0</td>\n",
       "      <td>21911.60</td>\n",
       "      <td>0</td>\n",
       "    </tr>\n",
       "    <tr>\n",
       "      <th>8</th>\n",
       "      <td>7.0</td>\n",
       "      <td>43.39</td>\n",
       "      <td>3.0</td>\n",
       "      <td>2538.67</td>\n",
       "      <td>1</td>\n",
       "    </tr>\n",
       "    <tr>\n",
       "      <th>9</th>\n",
       "      <td>90.0</td>\n",
       "      <td>665.41</td>\n",
       "      <td>38.0</td>\n",
       "      <td>17358.61</td>\n",
       "      <td>0</td>\n",
       "    </tr>\n",
       "  </tbody>\n",
       "</table>\n",
       "</div>"
      ],
      "text/plain": [
       "   calls  minutes  messages   mb_used  is_ultra\n",
       "0   40.0   311.90      83.0  19915.42         0\n",
       "1   85.0   516.75      56.0  22696.96         0\n",
       "2   77.0   467.66      86.0  21060.45         0\n",
       "3  106.0   745.53      81.0   8437.39         1\n",
       "4   66.0   418.74       1.0  14502.75         0\n",
       "5   58.0   344.56      21.0  15823.37         0\n",
       "6   57.0   431.64      20.0   3738.90         1\n",
       "7   15.0   132.40       6.0  21911.60         0\n",
       "8    7.0    43.39       3.0   2538.67         1\n",
       "9   90.0   665.41      38.0  17358.61         0"
      ]
     },
     "execution_count": 3,
     "metadata": {},
     "output_type": "execute_result"
    }
   ],
   "source": [
    "df.head(10)"
   ]
  },
  {
   "cell_type": "code",
   "execution_count": 4,
   "id": "262c12bd-92a3-4d9f-8a7a-52c11be6407a",
   "metadata": {},
   "outputs": [
    {
     "name": "stdout",
     "output_type": "stream",
     "text": [
      "<class 'pandas.core.frame.DataFrame'>\n",
      "RangeIndex: 3214 entries, 0 to 3213\n",
      "Data columns (total 5 columns):\n",
      " #   Column    Non-Null Count  Dtype  \n",
      "---  ------    --------------  -----  \n",
      " 0   calls     3214 non-null   float64\n",
      " 1   minutes   3214 non-null   float64\n",
      " 2   messages  3214 non-null   float64\n",
      " 3   mb_used   3214 non-null   float64\n",
      " 4   is_ultra  3214 non-null   int64  \n",
      "dtypes: float64(4), int64(1)\n",
      "memory usage: 125.7 KB\n"
     ]
    }
   ],
   "source": [
    "df.info()"
   ]
  },
  {
   "cell_type": "code",
   "execution_count": 5,
   "id": "aa7e75b2-b2a4-42d7-b806-9e4712e9f2b4",
   "metadata": {},
   "outputs": [
    {
     "data": {
      "text/html": [
       "<div>\n",
       "<style scoped>\n",
       "    .dataframe tbody tr th:only-of-type {\n",
       "        vertical-align: middle;\n",
       "    }\n",
       "\n",
       "    .dataframe tbody tr th {\n",
       "        vertical-align: top;\n",
       "    }\n",
       "\n",
       "    .dataframe thead th {\n",
       "        text-align: right;\n",
       "    }\n",
       "</style>\n",
       "<table border=\"1\" class=\"dataframe\">\n",
       "  <thead>\n",
       "    <tr style=\"text-align: right;\">\n",
       "      <th></th>\n",
       "      <th>calls</th>\n",
       "      <th>minutes</th>\n",
       "      <th>messages</th>\n",
       "      <th>mb_used</th>\n",
       "      <th>is_ultra</th>\n",
       "    </tr>\n",
       "  </thead>\n",
       "  <tbody>\n",
       "    <tr>\n",
       "      <th>count</th>\n",
       "      <td>3214.000000</td>\n",
       "      <td>3214.000000</td>\n",
       "      <td>3214.000000</td>\n",
       "      <td>3214.000000</td>\n",
       "      <td>3214.000000</td>\n",
       "    </tr>\n",
       "    <tr>\n",
       "      <th>mean</th>\n",
       "      <td>63.038892</td>\n",
       "      <td>438.208787</td>\n",
       "      <td>38.281269</td>\n",
       "      <td>17207.673836</td>\n",
       "      <td>0.306472</td>\n",
       "    </tr>\n",
       "    <tr>\n",
       "      <th>std</th>\n",
       "      <td>33.236368</td>\n",
       "      <td>234.569872</td>\n",
       "      <td>36.148326</td>\n",
       "      <td>7570.968246</td>\n",
       "      <td>0.461100</td>\n",
       "    </tr>\n",
       "    <tr>\n",
       "      <th>min</th>\n",
       "      <td>0.000000</td>\n",
       "      <td>0.000000</td>\n",
       "      <td>0.000000</td>\n",
       "      <td>0.000000</td>\n",
       "      <td>0.000000</td>\n",
       "    </tr>\n",
       "    <tr>\n",
       "      <th>25%</th>\n",
       "      <td>40.000000</td>\n",
       "      <td>274.575000</td>\n",
       "      <td>9.000000</td>\n",
       "      <td>12491.902500</td>\n",
       "      <td>0.000000</td>\n",
       "    </tr>\n",
       "    <tr>\n",
       "      <th>50%</th>\n",
       "      <td>62.000000</td>\n",
       "      <td>430.600000</td>\n",
       "      <td>30.000000</td>\n",
       "      <td>16943.235000</td>\n",
       "      <td>0.000000</td>\n",
       "    </tr>\n",
       "    <tr>\n",
       "      <th>75%</th>\n",
       "      <td>82.000000</td>\n",
       "      <td>571.927500</td>\n",
       "      <td>57.000000</td>\n",
       "      <td>21424.700000</td>\n",
       "      <td>1.000000</td>\n",
       "    </tr>\n",
       "    <tr>\n",
       "      <th>max</th>\n",
       "      <td>244.000000</td>\n",
       "      <td>1632.060000</td>\n",
       "      <td>224.000000</td>\n",
       "      <td>49745.730000</td>\n",
       "      <td>1.000000</td>\n",
       "    </tr>\n",
       "  </tbody>\n",
       "</table>\n",
       "</div>"
      ],
      "text/plain": [
       "             calls      minutes     messages       mb_used     is_ultra\n",
       "count  3214.000000  3214.000000  3214.000000   3214.000000  3214.000000\n",
       "mean     63.038892   438.208787    38.281269  17207.673836     0.306472\n",
       "std      33.236368   234.569872    36.148326   7570.968246     0.461100\n",
       "min       0.000000     0.000000     0.000000      0.000000     0.000000\n",
       "25%      40.000000   274.575000     9.000000  12491.902500     0.000000\n",
       "50%      62.000000   430.600000    30.000000  16943.235000     0.000000\n",
       "75%      82.000000   571.927500    57.000000  21424.700000     1.000000\n",
       "max     244.000000  1632.060000   224.000000  49745.730000     1.000000"
      ]
     },
     "execution_count": 5,
     "metadata": {},
     "output_type": "execute_result"
    }
   ],
   "source": [
    "df.describe()"
   ]
  },
  {
   "cell_type": "code",
   "execution_count": 6,
   "id": "b0ac4cd9",
   "metadata": {},
   "outputs": [
    {
     "data": {
      "text/html": [
       "<div>\n",
       "<style scoped>\n",
       "    .dataframe tbody tr th:only-of-type {\n",
       "        vertical-align: middle;\n",
       "    }\n",
       "\n",
       "    .dataframe tbody tr th {\n",
       "        vertical-align: top;\n",
       "    }\n",
       "\n",
       "    .dataframe thead th {\n",
       "        text-align: right;\n",
       "    }\n",
       "</style>\n",
       "<table border=\"1\" class=\"dataframe\">\n",
       "  <thead>\n",
       "    <tr style=\"text-align: right;\">\n",
       "      <th></th>\n",
       "      <th>calls</th>\n",
       "      <th>minutes</th>\n",
       "      <th>messages</th>\n",
       "      <th>mb_used</th>\n",
       "      <th>is_ultra</th>\n",
       "    </tr>\n",
       "  </thead>\n",
       "  <tbody>\n",
       "    <tr>\n",
       "      <th>calls</th>\n",
       "      <td>1.000000</td>\n",
       "      <td>0.982083</td>\n",
       "      <td>0.177385</td>\n",
       "      <td>0.286442</td>\n",
       "      <td>0.207122</td>\n",
       "    </tr>\n",
       "    <tr>\n",
       "      <th>minutes</th>\n",
       "      <td>0.982083</td>\n",
       "      <td>1.000000</td>\n",
       "      <td>0.173110</td>\n",
       "      <td>0.280967</td>\n",
       "      <td>0.206955</td>\n",
       "    </tr>\n",
       "    <tr>\n",
       "      <th>messages</th>\n",
       "      <td>0.177385</td>\n",
       "      <td>0.173110</td>\n",
       "      <td>1.000000</td>\n",
       "      <td>0.195721</td>\n",
       "      <td>0.203830</td>\n",
       "    </tr>\n",
       "    <tr>\n",
       "      <th>mb_used</th>\n",
       "      <td>0.286442</td>\n",
       "      <td>0.280967</td>\n",
       "      <td>0.195721</td>\n",
       "      <td>1.000000</td>\n",
       "      <td>0.198568</td>\n",
       "    </tr>\n",
       "    <tr>\n",
       "      <th>is_ultra</th>\n",
       "      <td>0.207122</td>\n",
       "      <td>0.206955</td>\n",
       "      <td>0.203830</td>\n",
       "      <td>0.198568</td>\n",
       "      <td>1.000000</td>\n",
       "    </tr>\n",
       "  </tbody>\n",
       "</table>\n",
       "</div>"
      ],
      "text/plain": [
       "             calls   minutes  messages   mb_used  is_ultra\n",
       "calls     1.000000  0.982083  0.177385  0.286442  0.207122\n",
       "minutes   0.982083  1.000000  0.173110  0.280967  0.206955\n",
       "messages  0.177385  0.173110  1.000000  0.195721  0.203830\n",
       "mb_used   0.286442  0.280967  0.195721  1.000000  0.198568\n",
       "is_ultra  0.207122  0.206955  0.203830  0.198568  1.000000"
      ]
     },
     "execution_count": 6,
     "metadata": {},
     "output_type": "execute_result"
    }
   ],
   "source": [
    "df.corr()"
   ]
  },
  {
   "cell_type": "markdown",
   "id": "3b381d06-74b2-45b0-90a0-9f26cbdc2f67",
   "metadata": {},
   "source": [
    "Загружены данные и выведена основная информация о датасете. Столбцы calls, minutes, messages, mb_used  являются признаками. Целевым признаком является стобец is_ultra. Также наблюдается мультиколлинеарность между звонками и минутами разговора. "
   ]
  },
  {
   "cell_type": "markdown",
   "id": "e3453cd5-adf0-4321-8fef-9c1b7095e484",
   "metadata": {},
   "source": [
    "## Шаг 2. Разделите исходные данные на обучающую, валидационную и тестовую выборки."
   ]
  },
  {
   "cell_type": "code",
   "execution_count": 7,
   "id": "75b96275-6bb5-4b00-8abe-6e884c3d614a",
   "metadata": {},
   "outputs": [],
   "source": [
    "# Извлекаем целевой признак из датафрейма\n",
    "features = df.drop(['is_ultra'], axis=1)\n",
    "target = df['is_ultra']"
   ]
  },
  {
   "cell_type": "markdown",
   "id": "c55d5765-6b08-4b59-9364-40a426a6fb3c",
   "metadata": {},
   "source": [
    "Поскольку у нас нет отложенной тестовой выборки, то придется из текущего датасета выделять обучающую, валидационную и тестовую выборки в соотношении 3:1:1 (60% : 20% : 20%)"
   ]
  },
  {
   "cell_type": "code",
   "execution_count": 8,
   "id": "8f575c12-1883-4e21-8a43-ece227d3a3a4",
   "metadata": {},
   "outputs": [
    {
     "name": "stdout",
     "output_type": "stream",
     "text": [
      "[1337  591]\n",
      "[446 197]\n",
      "[446 197]\n"
     ]
    }
   ],
   "source": [
    "# сначала необходимо выделить обучающую выборку из всего датасета\n",
    "features_train, features_check, target_train, target_check = train_test_split(features, target, train_size=0.6, random_state=12345, stratify=target)\n",
    "# затем выделяем тестовую и валдиационную выборки \n",
    "features_test, features_valid, target_test, target_valid = train_test_split(features_check, target_check, test_size=0.5, random_state=12345, stratify=target_check)\n",
    "\n",
    "print(np.bincount(target_train))\n",
    "print(np.bincount(target_valid))\n",
    "print(np.bincount(target_test))"
   ]
  },
  {
   "cell_type": "code",
   "execution_count": 9,
   "id": "7366daf1-f3c5-406f-b81f-62380606fb39",
   "metadata": {},
   "outputs": [
    {
     "name": "stdout",
     "output_type": "stream",
     "text": [
      "1928\n",
      "643\n",
      "643\n"
     ]
    }
   ],
   "source": [
    "print(len(features_train['calls']))\n",
    "print(len(features_valid['calls']))\n",
    "print(len(features_test['calls']))\n"
   ]
  },
  {
   "cell_type": "markdown",
   "id": "e032e1a6-16f7-496a-9938-656fdcdb6838",
   "metadata": {},
   "source": [
    "## Шаг 3. Исследуйте качество разных моделей, меняя гиперпараметры. Кратко напишите выводы исследования."
   ]
  },
  {
   "cell_type": "markdown",
   "id": "48c0f9db-7659-4c08-83e5-f281625401f1",
   "metadata": {},
   "source": [
    "### Модель 1. Decision Tree"
   ]
  },
  {
   "cell_type": "code",
   "execution_count": 10,
   "id": "1ba411e3",
   "metadata": {},
   "outputs": [
    {
     "name": "stdout",
     "output_type": "stream",
     "text": [
      "Наивысшее значение accuracy =  0.8118195956454122\n",
      "Наивысшее значение accuracy при depth =  5\n",
      "Наивысшее значение accuracy при min_samples_leaf =  1\n",
      "Наивысшее значение accuracy при min_samples_split =  2\n",
      "CPU times: user 4.12 s, sys: 14.2 ms, total: 4.13 s\n",
      "Wall time: 4.14 s\n"
     ]
    }
   ],
   "source": [
    "%%time\n",
    "best_result = 0\n",
    "for split in range(2, 10):\n",
    "    for leaf in range(1, 10):\n",
    "        for depth in range(1, 11):\n",
    "            model = DecisionTreeClassifier(random_state=12345, max_depth=depth, min_samples_leaf=leaf, min_samples_split=split)\n",
    "            model.fit(features_train, target_train)\n",
    "            predictions = model.predict(features_valid)\n",
    "            accuracy = accuracy_score(target_valid, predictions)\n",
    "            if accuracy > best_result:\n",
    "                best_result = accuracy\n",
    "                best_depth = depth\n",
    "                best_leaf = leaf\n",
    "                best_split = split\n",
    "print(\"Наивысшее значение accuracy = \", best_result)\n",
    "print(\"Наивысшее значение accuracy при depth = \", best_depth)\n",
    "print(\"Наивысшее значение accuracy при min_samples_leaf = \", best_leaf)\n",
    "print(\"Наивысшее значение accuracy при min_samples_split = \", best_split)"
   ]
  },
  {
   "cell_type": "markdown",
   "id": "23efc407",
   "metadata": {},
   "source": [
    "Для модели Decision Tree подобрали гиперпараметры max_depth = 5, min_samples_split = 2, min_samples_leaf = 1 для достижения максимального значения Accuracy."
   ]
  },
  {
   "cell_type": "code",
   "execution_count": null,
   "id": "d0bd774f",
   "metadata": {},
   "outputs": [],
   "source": [
    "clf = tree.DecisionTreeClassifier(random_state=12345, max_depth=3, min_samples_leaf=1, min_samples_split=2)\n",
    "clf = clf.fit(features_train, target_train)\n",
    "plt.figure(figsize=(25,20))\n",
    "tree.plot_tree(clf);"
   ]
  },
  {
   "cell_type": "markdown",
   "id": "e591bb18-6d70-4d33-afd7-e9160228c423",
   "metadata": {},
   "source": [
    "### Модель 2. Random Forest"
   ]
  },
  {
   "cell_type": "code",
   "execution_count": 12,
   "id": "22304f88",
   "metadata": {},
   "outputs": [
    {
     "name": "stderr",
     "output_type": "stream",
     "text": [
      "100%|██████████| 10/10 [00:25<00:00,  2.59s/it]"
     ]
    },
    {
     "name": "stdout",
     "output_type": "stream",
     "text": [
      "Наивысшее значение accuracy =  0.8242612752721618\n",
      "Наивысшее значение accuracy при depth =  12\n",
      "Наивысшее значение accuracy при n_est =  31\n"
     ]
    },
    {
     "name": "stderr",
     "output_type": "stream",
     "text": [
      "\n"
     ]
    }
   ],
   "source": [
    "best_result = 0\n",
    "for est in tqdm(range(1, 100, 10)):\n",
    "    for depth in range(1, 20):\n",
    "        model = RandomForestClassifier(random_state=12345, n_estimators=est, max_depth=depth) \n",
    "        model.fit(features_train, target_train)\n",
    "        predictions = model.predict(features_valid)\n",
    "        result = accuracy_score(target_valid, predictions) \n",
    "        if result > best_result:\n",
    "            best_result = result\n",
    "            best_depth = depth\n",
    "            best_est = est\n",
    "print(\"Наивысшее значение accuracy = \", best_result)\n",
    "print(\"Наивысшее значение accuracy при depth = \", best_depth)\n",
    "print(\"Наивысшее значение accuracy при n_est = \", best_est)"
   ]
  },
  {
   "cell_type": "markdown",
   "id": "d6934386-dfba-49d9-91f0-7ee2196ee897",
   "metadata": {},
   "source": [
    "Для модели Random Forest подобрали гиперпараметры n_estimators=31 и max_depth=12 для достижения максимального значения Accuracy."
   ]
  },
  {
   "cell_type": "markdown",
   "id": "d38d768a-acc9-4ec2-ba77-ea8c4a123488",
   "metadata": {},
   "source": [
    "### Модель 3. Logistic Regression"
   ]
  },
  {
   "cell_type": "markdown",
   "id": "4f50b31d-62ad-4408-af42-9ff4131a6a81",
   "metadata": {},
   "source": [
    "**Гиперпараметр solver = lbfgs**"
   ]
  },
  {
   "cell_type": "code",
   "execution_count": 13,
   "id": "42984229-6caf-4c99-a55a-2062c8b542c4",
   "metadata": {},
   "outputs": [
    {
     "data": {
      "text/plain": [
       "0.7465007776049767"
      ]
     },
     "execution_count": 13,
     "metadata": {},
     "output_type": "execute_result"
    }
   ],
   "source": [
    "model = LogisticRegression(random_state=12345, solver='lbfgs', max_iter=1000)\n",
    "model.fit(features_train, target_train)\n",
    "predictions = model.predict(features_valid)\n",
    "accuracy = accuracy_score(target_valid, predictions)\n",
    "accuracy"
   ]
  },
  {
   "cell_type": "markdown",
   "id": "a78c8069-3117-466c-bbce-9720b77f2c4c",
   "metadata": {},
   "source": [
    "Для модели Logistic Regression оценено значение accuracy."
   ]
  },
  {
   "cell_type": "markdown",
   "id": "b348d99b-592f-4c42-b657-e8f95e98a5a5",
   "metadata": {},
   "source": [
    "**Вывод:** В ходе исследования 3-х различных моделей наивысшего значения accuracy для валидационной выборки удалось добиться в модели Random Forest равного почти 0.82, что является весьма хорошим показателем. На втором месте расположилась модель Decision Tree, а замыкает тройку логистическая регрессия. Подобраны оптимальные гиперпараметры для максимизации accuracy."
   ]
  },
  {
   "cell_type": "markdown",
   "id": "e1c862c4-0e25-4f2e-a49d-a397018be47a",
   "metadata": {},
   "source": [
    "## Шаг 4. Проверьте качество модели на тестовой выборке."
   ]
  },
  {
   "cell_type": "markdown",
   "id": "6170f096-04f7-4ad1-ac2b-1a711bd9cd77",
   "metadata": {},
   "source": [
    "### Обучаем модель на обучающей выборке"
   ]
  },
  {
   "cell_type": "code",
   "execution_count": 14,
   "id": "1d319d1d-ba75-4bed-a572-202486cc14c0",
   "metadata": {},
   "outputs": [
    {
     "data": {
      "text/plain": [
       "0.7978227060653188"
      ]
     },
     "execution_count": 14,
     "metadata": {},
     "output_type": "execute_result"
    }
   ],
   "source": [
    "model = RandomForestClassifier(random_state=12345, n_estimators=31, max_depth=12)\n",
    "model.fit(features_train, target_train)\n",
    "predictions = model.predict(features_test)\n",
    "accuracy = accuracy_score(target_test, predictions)\n",
    "accuracy"
   ]
  },
  {
   "cell_type": "markdown",
   "id": "0edaee73-e063-404c-8477-30e6a1ea649f",
   "metadata": {},
   "source": [
    "**Вывод:** При проверке качества модели RF на тестовой выборке получено значение accuracy = 0.797"
   ]
  },
  {
   "cell_type": "markdown",
   "id": "6b7abe92",
   "metadata": {},
   "source": [
    "### Обучаем модель на соединенной выборке из обучающей и валидационной"
   ]
  },
  {
   "cell_type": "code",
   "execution_count": 15,
   "id": "8ea80e06",
   "metadata": {},
   "outputs": [
    {
     "name": "stdout",
     "output_type": "stream",
     "text": [
      "(2571, 4)\n",
      "(2571,)\n"
     ]
    }
   ],
   "source": [
    "features_new = pd.concat([features_train, features_valid])\n",
    "target_new = pd.concat([target_train, target_valid])\n",
    "print(features_new.shape)\n",
    "print(target_new.shape)"
   ]
  },
  {
   "cell_type": "code",
   "execution_count": 16,
   "id": "3c47c998",
   "metadata": {},
   "outputs": [
    {
     "data": {
      "text/plain": [
       "0.8149300155520995"
      ]
     },
     "execution_count": 16,
     "metadata": {},
     "output_type": "execute_result"
    }
   ],
   "source": [
    "model = RandomForestClassifier(random_state=12345, n_estimators=31, max_depth=12)\n",
    "model.fit(features_new, target_new)\n",
    "predictions = model.predict(features_test)\n",
    "accuracy = accuracy_score(target_test, predictions)\n",
    "accuracy"
   ]
  },
  {
   "cell_type": "markdown",
   "id": "fb6c06f4",
   "metadata": {},
   "source": [
    "**Вывод:** При увеличении обучающей выборки получилось увеличить метрику accuracy для тестовой выборки."
   ]
  },
  {
   "cell_type": "markdown",
   "id": "10aeaedd-e0ae-461c-9d7c-25f02db2a82a",
   "metadata": {},
   "source": [
    "## Шаг 5. Дополнительное задание: проверьте модели на вменяемость."
   ]
  },
  {
   "cell_type": "markdown",
   "id": "a918c256-301e-48cf-b5c2-f34a32de3c5d",
   "metadata": {},
   "source": [
    "Для проверки адекватности модели машинного обучения в Python, удобно использовать DummyClassifier из библиотеки scikit-learn. Это простой классификатор, который можно использовать в качестве эталонной модели.\n",
    "<br>\n",
    "После обучения этой модели можно провести тестирование и результаты использовать для сравнения с результатами более сложных моделей. Например, если результаты DummyClassifier близки к результатам другой модели, то можно предположить, что более сложная модель не имеет смысла использовать в данной задаче.\n",
    "<br>\n",
    "\n",
    "Важно учитывать, что DummyClassifier не учитывает никаких особенностей данных и использует случайные значения для классификации, поэтому его результаты не могут быть использованы для принятия окончательных решений, а лишь для проверки адекватности моделей."
   ]
  },
  {
   "cell_type": "code",
   "execution_count": 17,
   "id": "2265def6-e669-4b48-9e3f-46f5e79c8af2",
   "metadata": {},
   "outputs": [
    {
     "data": {
      "text/plain": [
       "0.6936236391912908"
      ]
     },
     "execution_count": 17,
     "metadata": {},
     "output_type": "execute_result"
    }
   ],
   "source": [
    "classifier_dummy = DummyClassifier(strategy='most_frequent', random_state=12345)\n",
    "classifier_dummy.fit(features_train, target_train)\n",
    "predictions = classifier_dummy.predict(features_test)\n",
    "accuracy = accuracy_score(target_test, predictions)\n",
    "accuracy"
   ]
  },
  {
   "cell_type": "markdown",
   "id": "8faa4386-1dc0-4b63-abbb-fb32acbeb116",
   "metadata": {},
   "source": [
    "**Вывод:** Модели прошли проверку на вменяемость, поскольку их значение accuracy больше, чем у случайной модели."
   ]
  },
  {
   "cell_type": "markdown",
   "id": "970e9032-f7a1-4f6a-b8f7-393ae865dec7",
   "metadata": {},
   "source": [
    "**Общий вывод:** В ходе проделанного анализа выполнены следующие мероприятия:\n",
    "- Загружены и проанализированы данные о поведении пользователей оператора мобильной связи \"Мегалайн\".\n",
    "- Разделены исходные данные на обучающую, валидационную и тестовую выборки\n",
    "- Исследовано качество 3-х моделей, где подобраны оптимальные гиперпараметры для максимизации accuracy. Наибольшего значения для валидационной выборки удалось добиться для модели Decion Tree.\n",
    "- При проверке качества моделей на тестовой выборке наилучшей (с небольшим перевесом) оказалась модель Random Forest.\n",
    "- Все 3 модели оказались вменяемыми."
   ]
  }
 ],
 "metadata": {
  "ExecuteTimeLog": [
   {
    "duration": 3644,
    "start_time": "2024-01-18T05:49:48.168Z"
   },
   {
    "duration": 66,
    "start_time": "2024-01-18T05:49:51.814Z"
   },
   {
    "duration": 17,
    "start_time": "2024-01-18T05:49:51.882Z"
   },
   {
    "duration": 11,
    "start_time": "2024-01-18T05:49:51.901Z"
   },
   {
    "duration": 33,
    "start_time": "2024-01-18T05:49:51.914Z"
   },
   {
    "duration": 3,
    "start_time": "2024-01-18T05:49:51.949Z"
   },
   {
    "duration": 27,
    "start_time": "2024-01-18T05:49:51.953Z"
   },
   {
    "duration": 15,
    "start_time": "2024-01-18T05:49:51.982Z"
   },
   {
    "duration": 16,
    "start_time": "2024-01-18T05:49:51.999Z"
   },
   {
    "duration": 88,
    "start_time": "2024-01-18T05:49:52.017Z"
   },
   {
    "duration": 79,
    "start_time": "2024-01-18T05:49:52.107Z"
   },
   {
    "duration": 79,
    "start_time": "2024-01-18T05:49:52.188Z"
   },
   {
    "duration": 203,
    "start_time": "2024-01-18T05:49:52.269Z"
   },
   {
    "duration": 1959,
    "start_time": "2024-01-18T05:49:52.474Z"
   },
   {
    "duration": 4539,
    "start_time": "2024-01-18T05:49:54.435Z"
   },
   {
    "duration": 57,
    "start_time": "2024-01-18T05:49:58.975Z"
   },
   {
    "duration": 13,
    "start_time": "2024-01-18T05:49:59.033Z"
   },
   {
    "duration": 274,
    "start_time": "2024-01-18T05:49:59.047Z"
   },
   {
    "duration": 15,
    "start_time": "2024-01-18T05:49:59.323Z"
   },
   {
    "duration": 324,
    "start_time": "2024-01-18T05:49:59.340Z"
   },
   {
    "duration": 23,
    "start_time": "2024-01-18T05:49:59.665Z"
   },
   {
    "duration": 13,
    "start_time": "2024-01-18T05:49:59.690Z"
   },
   {
    "duration": 1499,
    "start_time": "2024-01-18T09:53:16.594Z"
   },
   {
    "duration": 4,
    "start_time": "2024-01-18T09:56:31.830Z"
   },
   {
    "duration": 121,
    "start_time": "2024-01-18T09:58:06.938Z"
   },
   {
    "duration": 31,
    "start_time": "2024-01-18T09:59:18.634Z"
   },
   {
    "duration": 31,
    "start_time": "2024-01-18T09:59:29.595Z"
   },
   {
    "duration": 29,
    "start_time": "2024-01-18T10:06:38.905Z"
   },
   {
    "duration": 30,
    "start_time": "2024-01-18T10:09:01.117Z"
   },
   {
    "duration": 32,
    "start_time": "2024-01-18T10:09:04.845Z"
   },
   {
    "duration": 19,
    "start_time": "2024-01-18T10:09:09.740Z"
   },
   {
    "duration": 31,
    "start_time": "2024-01-18T10:09:20.061Z"
   },
   {
    "duration": 8,
    "start_time": "2024-01-18T10:09:22.701Z"
   },
   {
    "duration": 29,
    "start_time": "2024-01-18T10:10:44.620Z"
   },
   {
    "duration": 10,
    "start_time": "2024-01-18T10:10:47.060Z"
   },
   {
    "duration": 102,
    "start_time": "2024-01-18T10:13:36.603Z"
   },
   {
    "duration": 9,
    "start_time": "2024-01-18T10:13:43.230Z"
   },
   {
    "duration": 10,
    "start_time": "2024-01-18T10:19:44.293Z"
   },
   {
    "duration": 56,
    "start_time": "2024-01-18T16:49:08.981Z"
   },
   {
    "duration": 1688,
    "start_time": "2024-01-18T16:49:16.669Z"
   },
   {
    "duration": 125,
    "start_time": "2024-01-18T16:49:18.364Z"
   },
   {
    "duration": 15,
    "start_time": "2024-01-18T16:49:18.491Z"
   },
   {
    "duration": 11,
    "start_time": "2024-01-18T16:49:18.508Z"
   },
   {
    "duration": 27,
    "start_time": "2024-01-18T16:49:18.521Z"
   },
   {
    "duration": 23,
    "start_time": "2024-01-18T16:49:18.549Z"
   },
   {
    "duration": 8,
    "start_time": "2024-01-18T16:49:18.575Z"
   },
   {
    "duration": 146,
    "start_time": "2024-01-18T16:49:18.588Z"
   },
   {
    "duration": 0,
    "start_time": "2024-01-18T16:49:18.736Z"
   },
   {
    "duration": 0,
    "start_time": "2024-01-18T16:49:18.737Z"
   },
   {
    "duration": 0,
    "start_time": "2024-01-18T16:49:18.738Z"
   },
   {
    "duration": 0,
    "start_time": "2024-01-18T16:49:18.739Z"
   },
   {
    "duration": 0,
    "start_time": "2024-01-18T16:49:18.741Z"
   },
   {
    "duration": 0,
    "start_time": "2024-01-18T16:49:18.742Z"
   },
   {
    "duration": 0,
    "start_time": "2024-01-18T16:49:18.760Z"
   },
   {
    "duration": 0,
    "start_time": "2024-01-18T16:49:18.761Z"
   },
   {
    "duration": 0,
    "start_time": "2024-01-18T16:49:18.762Z"
   },
   {
    "duration": 0,
    "start_time": "2024-01-18T16:49:18.767Z"
   },
   {
    "duration": 0,
    "start_time": "2024-01-18T16:49:18.772Z"
   },
   {
    "duration": 0,
    "start_time": "2024-01-18T16:49:18.773Z"
   },
   {
    "duration": 0,
    "start_time": "2024-01-18T16:49:18.774Z"
   },
   {
    "duration": 0,
    "start_time": "2024-01-18T16:49:18.775Z"
   },
   {
    "duration": 0,
    "start_time": "2024-01-18T16:49:18.775Z"
   },
   {
    "duration": 10,
    "start_time": "2024-01-18T16:54:33.200Z"
   },
   {
    "duration": 9,
    "start_time": "2024-01-18T16:54:47.907Z"
   },
   {
    "duration": 24,
    "start_time": "2024-01-18T16:59:42.295Z"
   },
   {
    "duration": 22,
    "start_time": "2024-01-18T16:59:53.639Z"
   },
   {
    "duration": 10,
    "start_time": "2024-01-18T17:00:31.282Z"
   },
   {
    "duration": 13,
    "start_time": "2024-01-18T17:00:37.167Z"
   },
   {
    "duration": 9,
    "start_time": "2024-01-18T17:00:46.898Z"
   },
   {
    "duration": 5,
    "start_time": "2024-01-18T17:00:50.979Z"
   },
   {
    "duration": 18,
    "start_time": "2024-01-18T17:02:15.454Z"
   },
   {
    "duration": 83,
    "start_time": "2024-01-18T17:02:17.650Z"
   },
   {
    "duration": 77,
    "start_time": "2024-01-18T17:02:20.470Z"
   },
   {
    "duration": 71,
    "start_time": "2024-01-18T17:02:25.397Z"
   },
   {
    "duration": 37,
    "start_time": "2024-01-18T21:59:42.731Z"
   },
   {
    "duration": 13,
    "start_time": "2024-01-18T22:03:16.726Z"
   },
   {
    "duration": 523,
    "start_time": "2024-01-18T22:03:42.542Z"
   },
   {
    "duration": 568,
    "start_time": "2024-01-18T22:04:32.202Z"
   },
   {
    "duration": 524,
    "start_time": "2024-01-18T22:05:26.398Z"
   },
   {
    "duration": 525,
    "start_time": "2024-01-18T22:06:09.369Z"
   },
   {
    "duration": 1221,
    "start_time": "2024-01-18T22:06:45.494Z"
   },
   {
    "duration": 144,
    "start_time": "2024-01-18T22:08:37.493Z"
   },
   {
    "duration": 161,
    "start_time": "2024-01-18T22:09:30.843Z"
   },
   {
    "duration": 63,
    "start_time": "2024-01-18T22:09:47.222Z"
   },
   {
    "duration": 76,
    "start_time": "2024-01-18T22:10:14.974Z"
   },
   {
    "duration": 159,
    "start_time": "2024-01-18T22:31:31.252Z"
   },
   {
    "duration": 158,
    "start_time": "2024-01-18T22:31:39.839Z"
   },
   {
    "duration": 1749,
    "start_time": "2024-01-18T22:31:53.262Z"
   },
   {
    "duration": 79,
    "start_time": "2024-01-18T22:34:46.474Z"
   },
   {
    "duration": 1407,
    "start_time": "2024-01-18T22:35:20.813Z"
   },
   {
    "duration": 32,
    "start_time": "2024-01-18T22:35:22.221Z"
   },
   {
    "duration": 21,
    "start_time": "2024-01-18T22:35:22.259Z"
   },
   {
    "duration": 12,
    "start_time": "2024-01-18T22:35:22.281Z"
   },
   {
    "duration": 19,
    "start_time": "2024-01-18T22:35:22.295Z"
   },
   {
    "duration": 8,
    "start_time": "2024-01-18T22:35:22.315Z"
   },
   {
    "duration": 3,
    "start_time": "2024-01-18T22:35:22.324Z"
   },
   {
    "duration": 30,
    "start_time": "2024-01-18T22:35:22.328Z"
   },
   {
    "duration": 14,
    "start_time": "2024-01-18T22:35:22.366Z"
   },
   {
    "duration": 18,
    "start_time": "2024-01-18T22:35:22.381Z"
   },
   {
    "duration": 74,
    "start_time": "2024-01-18T22:35:22.400Z"
   },
   {
    "duration": 61,
    "start_time": "2024-01-18T22:35:22.476Z"
   },
   {
    "duration": 75,
    "start_time": "2024-01-18T22:35:22.538Z"
   },
   {
    "duration": 1311,
    "start_time": "2024-01-18T22:35:22.616Z"
   },
   {
    "duration": 159,
    "start_time": "2024-01-18T22:35:23.928Z"
   },
   {
    "duration": 169,
    "start_time": "2024-01-18T22:35:24.089Z"
   },
   {
    "duration": 1861,
    "start_time": "2024-01-18T22:35:24.259Z"
   },
   {
    "duration": 4180,
    "start_time": "2024-01-18T22:35:26.122Z"
   },
   {
    "duration": 53,
    "start_time": "2024-01-18T22:35:30.304Z"
   },
   {
    "duration": 26,
    "start_time": "2024-01-18T22:35:30.361Z"
   },
   {
    "duration": 228,
    "start_time": "2024-01-18T22:35:30.388Z"
   },
   {
    "duration": 12,
    "start_time": "2024-01-18T22:35:30.617Z"
   },
   {
    "duration": 297,
    "start_time": "2024-01-18T22:35:30.630Z"
   },
   {
    "duration": 12,
    "start_time": "2024-01-18T22:35:30.929Z"
   },
   {
    "duration": 45,
    "start_time": "2024-01-18T22:35:30.943Z"
   },
   {
    "duration": 157,
    "start_time": "2024-01-18T22:41:09.102Z"
   },
   {
    "duration": 159,
    "start_time": "2024-01-18T22:41:35.493Z"
   },
   {
    "duration": 168,
    "start_time": "2024-01-18T22:41:42.574Z"
   },
   {
    "duration": 894,
    "start_time": "2024-01-18T22:41:51.702Z"
   },
   {
    "duration": 526,
    "start_time": "2024-01-18T22:44:07.206Z"
   },
   {
    "duration": 106,
    "start_time": "2024-01-18T22:45:48.626Z"
   },
   {
    "duration": 14,
    "start_time": "2024-01-18T22:45:56.458Z"
   },
   {
    "duration": 4020,
    "start_time": "2024-01-18T22:46:04.050Z"
   },
   {
    "duration": 4188,
    "start_time": "2024-01-18T22:46:51.193Z"
   },
   {
    "duration": 4218,
    "start_time": "2024-01-18T22:47:24.531Z"
   },
   {
    "duration": 1305,
    "start_time": "2024-01-18T22:48:03.389Z"
   },
   {
    "duration": 31,
    "start_time": "2024-01-18T22:48:04.695Z"
   },
   {
    "duration": 12,
    "start_time": "2024-01-18T22:48:04.727Z"
   },
   {
    "duration": 30,
    "start_time": "2024-01-18T22:48:04.741Z"
   },
   {
    "duration": 20,
    "start_time": "2024-01-18T22:48:04.772Z"
   },
   {
    "duration": 8,
    "start_time": "2024-01-18T22:48:04.794Z"
   },
   {
    "duration": 4,
    "start_time": "2024-01-18T22:48:04.803Z"
   },
   {
    "duration": 8,
    "start_time": "2024-01-18T22:48:04.808Z"
   },
   {
    "duration": 4,
    "start_time": "2024-01-18T22:48:04.817Z"
   },
   {
    "duration": 33,
    "start_time": "2024-01-18T22:48:04.823Z"
   },
   {
    "duration": 69,
    "start_time": "2024-01-18T22:48:04.857Z"
   },
   {
    "duration": 66,
    "start_time": "2024-01-18T22:48:04.928Z"
   },
   {
    "duration": 79,
    "start_time": "2024-01-18T22:48:04.996Z"
   },
   {
    "duration": 4153,
    "start_time": "2024-01-18T22:48:05.078Z"
   },
   {
    "duration": 170,
    "start_time": "2024-01-18T22:48:09.232Z"
   },
   {
    "duration": 1764,
    "start_time": "2024-01-18T22:48:09.404Z"
   },
   {
    "duration": 3933,
    "start_time": "2024-01-18T22:48:11.172Z"
   },
   {
    "duration": 53,
    "start_time": "2024-01-18T22:48:15.107Z"
   },
   {
    "duration": 16,
    "start_time": "2024-01-18T22:48:15.161Z"
   },
   {
    "duration": 214,
    "start_time": "2024-01-18T22:48:15.179Z"
   },
   {
    "duration": 12,
    "start_time": "2024-01-18T22:48:15.394Z"
   },
   {
    "duration": 265,
    "start_time": "2024-01-18T22:48:15.407Z"
   },
   {
    "duration": 18,
    "start_time": "2024-01-18T22:48:15.674Z"
   },
   {
    "duration": 14,
    "start_time": "2024-01-18T22:48:15.694Z"
   },
   {
    "duration": 126,
    "start_time": "2024-01-18T22:54:56.978Z"
   },
   {
    "duration": 3,
    "start_time": "2024-01-18T22:55:16.171Z"
   },
   {
    "duration": 194,
    "start_time": "2024-01-18T22:55:22.734Z"
   },
   {
    "duration": 198,
    "start_time": "2024-01-18T22:56:58.554Z"
   },
   {
    "duration": 1285,
    "start_time": "2024-01-18T22:57:17.559Z"
   },
   {
    "duration": 31,
    "start_time": "2024-01-18T22:57:18.846Z"
   },
   {
    "duration": 14,
    "start_time": "2024-01-18T22:57:18.878Z"
   },
   {
    "duration": 9,
    "start_time": "2024-01-18T22:57:18.894Z"
   },
   {
    "duration": 20,
    "start_time": "2024-01-18T22:57:18.905Z"
   },
   {
    "duration": 9,
    "start_time": "2024-01-18T22:57:18.926Z"
   },
   {
    "duration": 3,
    "start_time": "2024-01-18T22:57:18.936Z"
   },
   {
    "duration": 16,
    "start_time": "2024-01-18T22:57:18.941Z"
   },
   {
    "duration": 3,
    "start_time": "2024-01-18T22:57:18.959Z"
   },
   {
    "duration": 3949,
    "start_time": "2024-01-18T22:57:18.965Z"
   },
   {
    "duration": 1508,
    "start_time": "2024-01-18T22:57:22.915Z"
   },
   {
    "duration": 0,
    "start_time": "2024-01-18T22:57:24.425Z"
   },
   {
    "duration": 0,
    "start_time": "2024-01-18T22:57:24.426Z"
   },
   {
    "duration": 0,
    "start_time": "2024-01-18T22:57:24.427Z"
   },
   {
    "duration": 0,
    "start_time": "2024-01-18T22:57:24.428Z"
   },
   {
    "duration": 0,
    "start_time": "2024-01-18T22:57:24.430Z"
   },
   {
    "duration": 0,
    "start_time": "2024-01-18T22:57:24.431Z"
   },
   {
    "duration": 0,
    "start_time": "2024-01-18T22:57:24.432Z"
   },
   {
    "duration": 0,
    "start_time": "2024-01-18T22:57:24.452Z"
   },
   {
    "duration": 0,
    "start_time": "2024-01-18T22:57:24.453Z"
   },
   {
    "duration": 0,
    "start_time": "2024-01-18T22:57:24.454Z"
   },
   {
    "duration": 1317,
    "start_time": "2024-01-18T22:57:40.111Z"
   },
   {
    "duration": 1249,
    "start_time": "2024-01-18T22:57:57.446Z"
   },
   {
    "duration": 9,
    "start_time": "2024-01-18T22:59:26.495Z"
   },
   {
    "duration": 1534,
    "start_time": "2024-01-18T23:01:08.435Z"
   },
   {
    "duration": 1623,
    "start_time": "2024-01-18T23:01:23.935Z"
   },
   {
    "duration": 1811,
    "start_time": "2024-01-18T23:01:59.059Z"
   },
   {
    "duration": 602,
    "start_time": "2024-01-18T23:02:24.255Z"
   },
   {
    "duration": 124,
    "start_time": "2024-01-18T23:06:21.047Z"
   },
   {
    "duration": 1326,
    "start_time": "2024-01-18T23:08:21.218Z"
   },
   {
    "duration": 31,
    "start_time": "2024-01-18T23:08:22.545Z"
   },
   {
    "duration": 13,
    "start_time": "2024-01-18T23:08:22.577Z"
   },
   {
    "duration": 10,
    "start_time": "2024-01-18T23:08:22.592Z"
   },
   {
    "duration": 20,
    "start_time": "2024-01-18T23:08:22.603Z"
   },
   {
    "duration": 8,
    "start_time": "2024-01-18T23:08:22.625Z"
   },
   {
    "duration": 3,
    "start_time": "2024-01-18T23:08:22.634Z"
   },
   {
    "duration": 17,
    "start_time": "2024-01-18T23:08:22.639Z"
   },
   {
    "duration": 4,
    "start_time": "2024-01-18T23:08:22.658Z"
   },
   {
    "duration": 3945,
    "start_time": "2024-01-18T23:08:22.664Z"
   },
   {
    "duration": 663,
    "start_time": "2024-01-18T23:08:26.611Z"
   },
   {
    "duration": 204,
    "start_time": "2024-01-18T23:08:27.276Z"
   },
   {
    "duration": 1633,
    "start_time": "2024-01-18T23:08:27.482Z"
   },
   {
    "duration": 3745,
    "start_time": "2024-01-18T23:08:29.117Z"
   },
   {
    "duration": 24640,
    "start_time": "2024-01-18T23:08:32.863Z"
   },
   {
    "duration": 37,
    "start_time": "2024-01-18T23:08:57.504Z"
   },
   {
    "duration": 19,
    "start_time": "2024-01-18T23:08:57.543Z"
   },
   {
    "duration": 207,
    "start_time": "2024-01-18T23:08:57.563Z"
   },
   {
    "duration": 12,
    "start_time": "2024-01-18T23:08:57.771Z"
   },
   {
    "duration": 250,
    "start_time": "2024-01-18T23:08:57.785Z"
   },
   {
    "duration": 17,
    "start_time": "2024-01-18T23:08:58.037Z"
   },
   {
    "duration": 7,
    "start_time": "2024-01-18T23:08:58.057Z"
   },
   {
    "duration": 1293,
    "start_time": "2024-01-18T23:09:34.419Z"
   },
   {
    "duration": 31,
    "start_time": "2024-01-18T23:09:35.713Z"
   },
   {
    "duration": 13,
    "start_time": "2024-01-18T23:09:35.745Z"
   },
   {
    "duration": 24,
    "start_time": "2024-01-18T23:09:35.760Z"
   },
   {
    "duration": 35,
    "start_time": "2024-01-18T23:09:35.785Z"
   },
   {
    "duration": 8,
    "start_time": "2024-01-18T23:09:35.821Z"
   },
   {
    "duration": 17,
    "start_time": "2024-01-18T23:09:35.830Z"
   },
   {
    "duration": 15,
    "start_time": "2024-01-18T23:09:35.848Z"
   },
   {
    "duration": 15,
    "start_time": "2024-01-18T23:09:35.864Z"
   },
   {
    "duration": 3905,
    "start_time": "2024-01-18T23:09:35.882Z"
   },
   {
    "duration": 629,
    "start_time": "2024-01-18T23:09:39.789Z"
   },
   {
    "duration": 148,
    "start_time": "2024-01-18T23:09:40.419Z"
   },
   {
    "duration": 1619,
    "start_time": "2024-01-18T23:09:40.568Z"
   },
   {
    "duration": 3691,
    "start_time": "2024-01-18T23:09:42.188Z"
   },
   {
    "duration": 24155,
    "start_time": "2024-01-18T23:09:45.881Z"
   },
   {
    "duration": 51,
    "start_time": "2024-01-18T23:10:10.037Z"
   },
   {
    "duration": 12,
    "start_time": "2024-01-18T23:10:10.090Z"
   },
   {
    "duration": 209,
    "start_time": "2024-01-18T23:10:10.104Z"
   },
   {
    "duration": 11,
    "start_time": "2024-01-18T23:10:10.314Z"
   },
   {
    "duration": 239,
    "start_time": "2024-01-18T23:10:10.326Z"
   },
   {
    "duration": 10,
    "start_time": "2024-01-18T23:10:10.566Z"
   },
   {
    "duration": 5,
    "start_time": "2024-01-18T23:10:10.577Z"
   },
   {
    "duration": 24180,
    "start_time": "2024-01-18T23:10:41.072Z"
   },
   {
    "duration": 51957,
    "start_time": "2024-01-18T23:14:32.112Z"
   },
   {
    "duration": 23941,
    "start_time": "2024-01-18T23:15:36.032Z"
   },
   {
    "duration": 124,
    "start_time": "2024-01-18T23:27:44.412Z"
   },
   {
    "duration": 4,
    "start_time": "2024-01-18T23:33:40.772Z"
   },
   {
    "duration": 13,
    "start_time": "2024-01-18T23:33:47.640Z"
   },
   {
    "duration": 5,
    "start_time": "2024-01-18T23:34:34.896Z"
   },
   {
    "duration": 5,
    "start_time": "2024-01-18T23:35:53.632Z"
   },
   {
    "duration": 144,
    "start_time": "2024-01-18T23:37:24.752Z"
   },
   {
    "duration": 1406,
    "start_time": "2024-01-19T00:24:45.969Z"
   },
   {
    "duration": 31,
    "start_time": "2024-01-19T00:24:47.377Z"
   },
   {
    "duration": 13,
    "start_time": "2024-01-19T00:24:47.410Z"
   },
   {
    "duration": 10,
    "start_time": "2024-01-19T00:24:47.425Z"
   },
   {
    "duration": 27,
    "start_time": "2024-01-19T00:24:47.436Z"
   },
   {
    "duration": 10,
    "start_time": "2024-01-19T00:24:47.465Z"
   },
   {
    "duration": 4,
    "start_time": "2024-01-19T00:24:47.476Z"
   },
   {
    "duration": 23,
    "start_time": "2024-01-19T00:24:47.482Z"
   },
   {
    "duration": 4,
    "start_time": "2024-01-19T00:24:47.506Z"
   },
   {
    "duration": 4157,
    "start_time": "2024-01-19T00:24:47.513Z"
   },
   {
    "duration": 658,
    "start_time": "2024-01-19T00:24:51.672Z"
   },
   {
    "duration": 25895,
    "start_time": "2024-01-19T00:24:52.331Z"
   },
   {
    "duration": 54,
    "start_time": "2024-01-19T00:25:18.228Z"
   },
   {
    "duration": 116,
    "start_time": "2024-01-19T00:25:18.284Z"
   },
   {
    "duration": 4,
    "start_time": "2024-01-19T00:25:18.402Z"
   },
   {
    "duration": 142,
    "start_time": "2024-01-19T00:25:18.407Z"
   },
   {
    "duration": 15,
    "start_time": "2024-01-19T00:25:18.554Z"
   },
   {
    "duration": 77,
    "start_time": "2024-01-19T07:34:36.438Z"
   },
   {
    "duration": 48,
    "start_time": "2024-01-19T07:34:49.209Z"
   },
   {
    "duration": 7,
    "start_time": "2024-01-19T07:34:52.307Z"
   }
  ],
  "kernelspec": {
   "display_name": "Python 3 (ipykernel)",
   "language": "python",
   "name": "python3"
  },
  "language_info": {
   "codemirror_mode": {
    "name": "ipython",
    "version": 3
   },
   "file_extension": ".py",
   "mimetype": "text/x-python",
   "name": "python",
   "nbconvert_exporter": "python",
   "pygments_lexer": "ipython3",
   "version": "3.9.18"
  },
  "toc": {
   "base_numbering": 1,
   "nav_menu": {},
   "number_sections": true,
   "sideBar": true,
   "skip_h1_title": true,
   "title_cell": "Table of Contents",
   "title_sidebar": "Contents",
   "toc_cell": false,
   "toc_position": {},
   "toc_section_display": true,
   "toc_window_display": false
  }
 },
 "nbformat": 4,
 "nbformat_minor": 5
}
