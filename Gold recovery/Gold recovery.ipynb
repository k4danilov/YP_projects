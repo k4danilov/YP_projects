{
 "cells": [
  {
   "cell_type": "markdown",
   "id": "8001f247-a87f-4728-b369-5144b2830419",
   "metadata": {},
   "source": [
    "# Оптимизация производства восстановления золота из руды."
   ]
  },
  {
   "cell_type": "markdown",
   "id": "d64ec491-696e-4aa0-b89b-91e8c0428efc",
   "metadata": {},
   "source": [
    "**Процесс получения золота из руды**\n",
    "<br>\n",
    "Когда добытая руда проходит первичную обработку, получается дроблёная смесь. Её отправляют на флотацию (обогащение) и двухэтапную очистку.\n",
    "- **Флотация.** Во флотационную установку подаётся смесь золотосодержащей руды. После обогащения получается черновой концентрат и «отвальные хвосты», то есть остатки продукта с низкой концентрацией ценных металлов.\n",
    "На стабильность этого процесса влияет непостоянное и неоптимальное физико-химическое состояние флотационной пульпы (смеси твёрдых частиц и жидкости)\n",
    "- **Очистка.** Черновой концентрат проходит две очистки. На выходе получается финальный концентрат и новые отвальные хвосты."
   ]
  },
  {
   "cell_type": "markdown",
   "id": "d1fadf89-a7e1-4087-a18d-088e00301ce3",
   "metadata": {},
   "source": [
    "**Цель проекта:** Подготовить прототип модели машинного обучения для компании «Цифры». Модель должна предсказать коэффициент восстановления золота из золотосодержащей руды.\n",
    "<br>\n",
    "**Задачи проекта:** \n",
    "- Подготовить данные\n",
    "- Провести исследовательский анализ данных\n",
    "- Построить и обучить модель"
   ]
  },
  {
   "cell_type": "markdown",
   "id": "c73255de-f780-4dd1-a93e-05d2b2781d2a",
   "metadata": {},
   "source": [
    "**Описание данных**"
   ]
  },
  {
   "cell_type": "markdown",
   "id": "4fd31737-deb8-4a7b-8da2-52772283fc62",
   "metadata": {},
   "source": [
    "Технологический процесс\n",
    "<br>\n",
    "- Rougher feed — исходное сырье\n",
    "- Rougher additions (или reagent additions) — флотационные реагенты: Xanthate, Sulphate, Depressant\n",
    "- Xanthate — ксантогенат (промотер, или активатор флотации);\n",
    "- Sulphate — сульфат (на данном производстве сульфид натрия);\n",
    "- Depressant — депрессант (силикат натрия).\n",
    "- Rougher process (англ. «грубый процесс») — флотация\n",
    "- Rougher tails — отвальные хвосты\n",
    "- Float banks — флотационная установка\n",
    "- Cleaner process — очистка\n",
    "- Rougher Au — черновой концентрат золота\n",
    "- Final Au — финальный концентрат золотадачи"
   ]
  },
  {
   "cell_type": "markdown",
   "id": "b988cf1d-9a9e-4a5d-8a9e-7b3cc318f696",
   "metadata": {},
   "source": [
    "Параметры этапов\n",
    "<br>\n",
    "- air amount — объём воздуха\n",
    "- fluid levels — уровень жидкости\n",
    "- feed size — размер гранул сырья\n",
    "- feed rate — скорость подачи"
   ]
  },
  {
   "cell_type": "code",
   "execution_count": 1,
   "id": "447975c0-2c41-41c4-8858-4e1ec7fefcf5",
   "metadata": {},
   "outputs": [],
   "source": [
    "import pandas as pd\n",
    "import matplotlib.pyplot as plt\n",
    "import numpy as np\n",
    "import seaborn as sns\n",
    "\n",
    "from scipy import stats as st\n",
    "from sklearn.tree import DecisionTreeRegressor\n",
    "from sklearn.ensemble import RandomForestRegressor\n",
    "from sklearn.linear_model import LinearRegression\n",
    "from sklearn.preprocessing import StandardScaler\n",
    "from tqdm import tqdm\n",
    "from sklearn.metrics import precision_score, recall_score\n",
    "from sklearn.metrics import mean_squared_error\n",
    "from sklearn.metrics import mean_absolute_error\n",
    "from sklearn.model_selection import cross_val_score\n",
    "from sklearn.metrics import make_scorer\n",
    "from sklearn.dummy import DummyRegressor\n",
    "from collections import defaultdict"
   ]
  },
  {
   "cell_type": "markdown",
   "id": "4692edce-5ea8-4676-8d38-b89ee9090783",
   "metadata": {},
   "source": [
    "## Шаг 1. Подготовка данных"
   ]
  },
  {
   "cell_type": "markdown",
   "id": "9eebd3be-d675-4656-9906-98d2b8410eed",
   "metadata": {},
   "source": [
    "### Загрузка и изучение данных"
   ]
  },
  {
   "cell_type": "code",
   "execution_count": 2,
   "id": "b7177b2f-77b9-4c11-9597-6b3e08c4f13b",
   "metadata": {},
   "outputs": [],
   "source": [
    "try:\n",
    "    df_train = pd.read_csv('/datasets/gold_industry_train.csv', parse_dates = ['date'])\n",
    "    df_test = pd.read_csv('/datasets/gold_industry_test.csv', parse_dates = ['date'])\n",
    "    df_full = pd.read_csv('/datasets/gold_industry_full.csv', parse_dates = ['date'])\n",
    "except:\n",
    "    df_train = pd.read_csv('gold_industry_train.csv', parse_dates = ['date'])\n",
    "    df_test = pd.read_csv('gold_industry_test.csv', parse_dates = ['date'])\n",
    "    df_full = pd.read_csv('gold_industry_full.csv', parse_dates = ['date'])"
   ]
  },
  {
   "cell_type": "code",
   "execution_count": 3,
   "id": "53ae86ec-b270-4900-b229-4664a9ccde97",
   "metadata": {},
   "outputs": [
    {
     "data": {
      "text/html": [
       "<div>\n",
       "<style scoped>\n",
       "    .dataframe tbody tr th:only-of-type {\n",
       "        vertical-align: middle;\n",
       "    }\n",
       "\n",
       "    .dataframe tbody tr th {\n",
       "        vertical-align: top;\n",
       "    }\n",
       "\n",
       "    .dataframe thead th {\n",
       "        text-align: right;\n",
       "    }\n",
       "</style>\n",
       "<table border=\"1\" class=\"dataframe\">\n",
       "  <thead>\n",
       "    <tr style=\"text-align: right;\">\n",
       "      <th></th>\n",
       "      <th>date</th>\n",
       "      <th>rougher.input.feed_au</th>\n",
       "      <th>rougher.input.feed_ag</th>\n",
       "      <th>rougher.input.feed_pb</th>\n",
       "      <th>rougher.input.feed_sol</th>\n",
       "      <th>rougher.input.feed_rate</th>\n",
       "      <th>rougher.input.feed_size</th>\n",
       "      <th>rougher.input.floatbank10_sulfate</th>\n",
       "      <th>rougher.input.floatbank10_xanthate</th>\n",
       "      <th>rougher.state.floatbank10_a_air</th>\n",
       "      <th>...</th>\n",
       "      <th>secondary_cleaner.output.tail_sol</th>\n",
       "      <th>final.output.concentrate_au</th>\n",
       "      <th>final.output.concentrate_ag</th>\n",
       "      <th>final.output.concentrate_pb</th>\n",
       "      <th>final.output.concentrate_sol</th>\n",
       "      <th>final.output.recovery</th>\n",
       "      <th>final.output.tail_au</th>\n",
       "      <th>final.output.tail_ag</th>\n",
       "      <th>final.output.tail_pb</th>\n",
       "      <th>final.output.tail_sol</th>\n",
       "    </tr>\n",
       "  </thead>\n",
       "  <tbody>\n",
       "    <tr>\n",
       "      <th>0</th>\n",
       "      <td>2016-01-15 00:00:00</td>\n",
       "      <td>6.486150</td>\n",
       "      <td>6.100378</td>\n",
       "      <td>2.284912</td>\n",
       "      <td>36.808594</td>\n",
       "      <td>523.546326</td>\n",
       "      <td>55.486599</td>\n",
       "      <td>11.986616</td>\n",
       "      <td>6.007990</td>\n",
       "      <td>999.706909</td>\n",
       "      <td>...</td>\n",
       "      <td>8.764648</td>\n",
       "      <td>42.192020</td>\n",
       "      <td>6.055403</td>\n",
       "      <td>9.889648</td>\n",
       "      <td>5.507324</td>\n",
       "      <td>70.541216</td>\n",
       "      <td>2.143149</td>\n",
       "      <td>10.411962</td>\n",
       "      <td>0.895447</td>\n",
       "      <td>16.904297</td>\n",
       "    </tr>\n",
       "    <tr>\n",
       "      <th>1</th>\n",
       "      <td>2016-01-15 01:00:00</td>\n",
       "      <td>6.478583</td>\n",
       "      <td>6.161113</td>\n",
       "      <td>2.266033</td>\n",
       "      <td>35.753385</td>\n",
       "      <td>525.290581</td>\n",
       "      <td>57.278666</td>\n",
       "      <td>11.971193</td>\n",
       "      <td>6.005766</td>\n",
       "      <td>1000.286398</td>\n",
       "      <td>...</td>\n",
       "      <td>9.001494</td>\n",
       "      <td>42.701629</td>\n",
       "      <td>6.029369</td>\n",
       "      <td>9.968944</td>\n",
       "      <td>5.257781</td>\n",
       "      <td>69.266198</td>\n",
       "      <td>2.224930</td>\n",
       "      <td>10.462676</td>\n",
       "      <td>0.927452</td>\n",
       "      <td>16.634514</td>\n",
       "    </tr>\n",
       "    <tr>\n",
       "      <th>2</th>\n",
       "      <td>2016-01-15 02:00:00</td>\n",
       "      <td>6.362222</td>\n",
       "      <td>6.116455</td>\n",
       "      <td>2.159622</td>\n",
       "      <td>35.971630</td>\n",
       "      <td>530.026610</td>\n",
       "      <td>57.510649</td>\n",
       "      <td>11.920603</td>\n",
       "      <td>6.197377</td>\n",
       "      <td>999.719565</td>\n",
       "      <td>...</td>\n",
       "      <td>8.842896</td>\n",
       "      <td>42.657501</td>\n",
       "      <td>6.055926</td>\n",
       "      <td>10.213995</td>\n",
       "      <td>5.383759</td>\n",
       "      <td>68.116445</td>\n",
       "      <td>2.257889</td>\n",
       "      <td>10.507046</td>\n",
       "      <td>0.953716</td>\n",
       "      <td>16.208849</td>\n",
       "    </tr>\n",
       "    <tr>\n",
       "      <th>3</th>\n",
       "      <td>2016-01-15 03:00:00</td>\n",
       "      <td>6.118189</td>\n",
       "      <td>6.043309</td>\n",
       "      <td>2.037807</td>\n",
       "      <td>36.862241</td>\n",
       "      <td>542.590390</td>\n",
       "      <td>57.792734</td>\n",
       "      <td>11.630094</td>\n",
       "      <td>6.203177</td>\n",
       "      <td>999.814770</td>\n",
       "      <td>...</td>\n",
       "      <td>9.122857</td>\n",
       "      <td>42.689819</td>\n",
       "      <td>6.047977</td>\n",
       "      <td>9.977019</td>\n",
       "      <td>4.858634</td>\n",
       "      <td>68.347543</td>\n",
       "      <td>2.146849</td>\n",
       "      <td>10.422762</td>\n",
       "      <td>0.883763</td>\n",
       "      <td>16.532835</td>\n",
       "    </tr>\n",
       "    <tr>\n",
       "      <th>4</th>\n",
       "      <td>2016-01-15 04:00:00</td>\n",
       "      <td>5.663707</td>\n",
       "      <td>6.060915</td>\n",
       "      <td>1.786875</td>\n",
       "      <td>34.347666</td>\n",
       "      <td>540.531893</td>\n",
       "      <td>56.047189</td>\n",
       "      <td>10.957755</td>\n",
       "      <td>6.198826</td>\n",
       "      <td>999.678690</td>\n",
       "      <td>...</td>\n",
       "      <td>8.871028</td>\n",
       "      <td>42.774141</td>\n",
       "      <td>6.148599</td>\n",
       "      <td>10.142511</td>\n",
       "      <td>4.939416</td>\n",
       "      <td>66.927016</td>\n",
       "      <td>2.055292</td>\n",
       "      <td>10.360302</td>\n",
       "      <td>0.792826</td>\n",
       "      <td>16.525686</td>\n",
       "    </tr>\n",
       "  </tbody>\n",
       "</table>\n",
       "<p>5 rows × 87 columns</p>\n",
       "</div>"
      ],
      "text/plain": [
       "                 date  rougher.input.feed_au  rougher.input.feed_ag  \\\n",
       "0 2016-01-15 00:00:00               6.486150               6.100378   \n",
       "1 2016-01-15 01:00:00               6.478583               6.161113   \n",
       "2 2016-01-15 02:00:00               6.362222               6.116455   \n",
       "3 2016-01-15 03:00:00               6.118189               6.043309   \n",
       "4 2016-01-15 04:00:00               5.663707               6.060915   \n",
       "\n",
       "   rougher.input.feed_pb  rougher.input.feed_sol  rougher.input.feed_rate  \\\n",
       "0               2.284912               36.808594               523.546326   \n",
       "1               2.266033               35.753385               525.290581   \n",
       "2               2.159622               35.971630               530.026610   \n",
       "3               2.037807               36.862241               542.590390   \n",
       "4               1.786875               34.347666               540.531893   \n",
       "\n",
       "   rougher.input.feed_size  rougher.input.floatbank10_sulfate  \\\n",
       "0                55.486599                          11.986616   \n",
       "1                57.278666                          11.971193   \n",
       "2                57.510649                          11.920603   \n",
       "3                57.792734                          11.630094   \n",
       "4                56.047189                          10.957755   \n",
       "\n",
       "   rougher.input.floatbank10_xanthate  rougher.state.floatbank10_a_air  ...  \\\n",
       "0                            6.007990                       999.706909  ...   \n",
       "1                            6.005766                      1000.286398  ...   \n",
       "2                            6.197377                       999.719565  ...   \n",
       "3                            6.203177                       999.814770  ...   \n",
       "4                            6.198826                       999.678690  ...   \n",
       "\n",
       "   secondary_cleaner.output.tail_sol  final.output.concentrate_au  \\\n",
       "0                           8.764648                    42.192020   \n",
       "1                           9.001494                    42.701629   \n",
       "2                           8.842896                    42.657501   \n",
       "3                           9.122857                    42.689819   \n",
       "4                           8.871028                    42.774141   \n",
       "\n",
       "   final.output.concentrate_ag  final.output.concentrate_pb  \\\n",
       "0                     6.055403                     9.889648   \n",
       "1                     6.029369                     9.968944   \n",
       "2                     6.055926                    10.213995   \n",
       "3                     6.047977                     9.977019   \n",
       "4                     6.148599                    10.142511   \n",
       "\n",
       "   final.output.concentrate_sol  final.output.recovery  final.output.tail_au  \\\n",
       "0                      5.507324              70.541216              2.143149   \n",
       "1                      5.257781              69.266198              2.224930   \n",
       "2                      5.383759              68.116445              2.257889   \n",
       "3                      4.858634              68.347543              2.146849   \n",
       "4                      4.939416              66.927016              2.055292   \n",
       "\n",
       "   final.output.tail_ag  final.output.tail_pb  final.output.tail_sol  \n",
       "0             10.411962              0.895447              16.904297  \n",
       "1             10.462676              0.927452              16.634514  \n",
       "2             10.507046              0.953716              16.208849  \n",
       "3             10.422762              0.883763              16.532835  \n",
       "4             10.360302              0.792826              16.525686  \n",
       "\n",
       "[5 rows x 87 columns]"
      ]
     },
     "execution_count": 3,
     "metadata": {},
     "output_type": "execute_result"
    }
   ],
   "source": [
    "df_train.head()"
   ]
  },
  {
   "cell_type": "code",
   "execution_count": 4,
   "id": "b4a74f00-cd78-4283-aa60-ced2a73e278c",
   "metadata": {},
   "outputs": [
    {
     "data": {
      "text/html": [
       "<div>\n",
       "<style scoped>\n",
       "    .dataframe tbody tr th:only-of-type {\n",
       "        vertical-align: middle;\n",
       "    }\n",
       "\n",
       "    .dataframe tbody tr th {\n",
       "        vertical-align: top;\n",
       "    }\n",
       "\n",
       "    .dataframe thead th {\n",
       "        text-align: right;\n",
       "    }\n",
       "</style>\n",
       "<table border=\"1\" class=\"dataframe\">\n",
       "  <thead>\n",
       "    <tr style=\"text-align: right;\">\n",
       "      <th></th>\n",
       "      <th>date</th>\n",
       "      <th>rougher.input.feed_au</th>\n",
       "      <th>rougher.input.feed_ag</th>\n",
       "      <th>rougher.input.feed_pb</th>\n",
       "      <th>rougher.input.feed_sol</th>\n",
       "      <th>rougher.input.feed_rate</th>\n",
       "      <th>rougher.input.feed_size</th>\n",
       "      <th>rougher.input.floatbank10_sulfate</th>\n",
       "      <th>rougher.input.floatbank10_xanthate</th>\n",
       "      <th>rougher.state.floatbank10_a_air</th>\n",
       "      <th>...</th>\n",
       "      <th>secondary_cleaner.state.floatbank4_a_air</th>\n",
       "      <th>secondary_cleaner.state.floatbank4_a_level</th>\n",
       "      <th>secondary_cleaner.state.floatbank4_b_air</th>\n",
       "      <th>secondary_cleaner.state.floatbank4_b_level</th>\n",
       "      <th>secondary_cleaner.state.floatbank5_a_air</th>\n",
       "      <th>secondary_cleaner.state.floatbank5_a_level</th>\n",
       "      <th>secondary_cleaner.state.floatbank5_b_air</th>\n",
       "      <th>secondary_cleaner.state.floatbank5_b_level</th>\n",
       "      <th>secondary_cleaner.state.floatbank6_a_air</th>\n",
       "      <th>secondary_cleaner.state.floatbank6_a_level</th>\n",
       "    </tr>\n",
       "  </thead>\n",
       "  <tbody>\n",
       "    <tr>\n",
       "      <th>0</th>\n",
       "      <td>2017-12-09 14:59:59</td>\n",
       "      <td>4.365491</td>\n",
       "      <td>6.158718</td>\n",
       "      <td>3.875727</td>\n",
       "      <td>39.135119</td>\n",
       "      <td>555.820208</td>\n",
       "      <td>94.544358</td>\n",
       "      <td>6.146982</td>\n",
       "      <td>9.308612</td>\n",
       "      <td>1196.238112</td>\n",
       "      <td>...</td>\n",
       "      <td>23.018622</td>\n",
       "      <td>-500.492702</td>\n",
       "      <td>20.020205</td>\n",
       "      <td>-500.220296</td>\n",
       "      <td>17.963512</td>\n",
       "      <td>-499.939490</td>\n",
       "      <td>12.990306</td>\n",
       "      <td>-500.080993</td>\n",
       "      <td>19.990336</td>\n",
       "      <td>-499.191575</td>\n",
       "    </tr>\n",
       "    <tr>\n",
       "      <th>1</th>\n",
       "      <td>2017-12-09 15:59:59</td>\n",
       "      <td>4.362781</td>\n",
       "      <td>6.048130</td>\n",
       "      <td>3.902537</td>\n",
       "      <td>39.713906</td>\n",
       "      <td>544.731687</td>\n",
       "      <td>123.742430</td>\n",
       "      <td>6.210119</td>\n",
       "      <td>9.297709</td>\n",
       "      <td>1201.904177</td>\n",
       "      <td>...</td>\n",
       "      <td>23.024963</td>\n",
       "      <td>-501.153409</td>\n",
       "      <td>20.054122</td>\n",
       "      <td>-500.314711</td>\n",
       "      <td>17.979515</td>\n",
       "      <td>-499.272871</td>\n",
       "      <td>12.992404</td>\n",
       "      <td>-499.976268</td>\n",
       "      <td>20.013986</td>\n",
       "      <td>-500.625471</td>\n",
       "    </tr>\n",
       "    <tr>\n",
       "      <th>2</th>\n",
       "      <td>2017-12-09 16:59:59</td>\n",
       "      <td>5.081681</td>\n",
       "      <td>6.082745</td>\n",
       "      <td>4.564078</td>\n",
       "      <td>37.208683</td>\n",
       "      <td>558.155110</td>\n",
       "      <td>82.610855</td>\n",
       "      <td>7.363824</td>\n",
       "      <td>9.003562</td>\n",
       "      <td>1200.826926</td>\n",
       "      <td>...</td>\n",
       "      <td>22.993827</td>\n",
       "      <td>-501.559663</td>\n",
       "      <td>20.029144</td>\n",
       "      <td>-500.000662</td>\n",
       "      <td>18.012723</td>\n",
       "      <td>-500.024764</td>\n",
       "      <td>13.016445</td>\n",
       "      <td>-500.058432</td>\n",
       "      <td>19.973767</td>\n",
       "      <td>-501.394155</td>\n",
       "    </tr>\n",
       "    <tr>\n",
       "      <th>3</th>\n",
       "      <td>2017-12-09 17:59:59</td>\n",
       "      <td>5.145949</td>\n",
       "      <td>6.084374</td>\n",
       "      <td>4.768124</td>\n",
       "      <td>36.808874</td>\n",
       "      <td>539.713765</td>\n",
       "      <td>77.984784</td>\n",
       "      <td>6.927072</td>\n",
       "      <td>8.955597</td>\n",
       "      <td>1199.292489</td>\n",
       "      <td>...</td>\n",
       "      <td>23.032807</td>\n",
       "      <td>-501.287889</td>\n",
       "      <td>19.977466</td>\n",
       "      <td>-500.159903</td>\n",
       "      <td>17.980463</td>\n",
       "      <td>-500.504602</td>\n",
       "      <td>12.949071</td>\n",
       "      <td>-500.009937</td>\n",
       "      <td>20.010332</td>\n",
       "      <td>-508.337973</td>\n",
       "    </tr>\n",
       "    <tr>\n",
       "      <th>4</th>\n",
       "      <td>2017-12-09 18:59:59</td>\n",
       "      <td>5.735249</td>\n",
       "      <td>6.165220</td>\n",
       "      <td>4.512346</td>\n",
       "      <td>37.810642</td>\n",
       "      <td>558.713584</td>\n",
       "      <td>86.434874</td>\n",
       "      <td>7.823471</td>\n",
       "      <td>7.490356</td>\n",
       "      <td>1198.005449</td>\n",
       "      <td>...</td>\n",
       "      <td>23.001911</td>\n",
       "      <td>-499.947838</td>\n",
       "      <td>20.023735</td>\n",
       "      <td>-499.713680</td>\n",
       "      <td>17.990955</td>\n",
       "      <td>-500.334769</td>\n",
       "      <td>13.007523</td>\n",
       "      <td>-499.968459</td>\n",
       "      <td>19.995999</td>\n",
       "      <td>-499.788805</td>\n",
       "    </tr>\n",
       "  </tbody>\n",
       "</table>\n",
       "<p>5 rows × 53 columns</p>\n",
       "</div>"
      ],
      "text/plain": [
       "                 date  rougher.input.feed_au  rougher.input.feed_ag  \\\n",
       "0 2017-12-09 14:59:59               4.365491               6.158718   \n",
       "1 2017-12-09 15:59:59               4.362781               6.048130   \n",
       "2 2017-12-09 16:59:59               5.081681               6.082745   \n",
       "3 2017-12-09 17:59:59               5.145949               6.084374   \n",
       "4 2017-12-09 18:59:59               5.735249               6.165220   \n",
       "\n",
       "   rougher.input.feed_pb  rougher.input.feed_sol  rougher.input.feed_rate  \\\n",
       "0               3.875727               39.135119               555.820208   \n",
       "1               3.902537               39.713906               544.731687   \n",
       "2               4.564078               37.208683               558.155110   \n",
       "3               4.768124               36.808874               539.713765   \n",
       "4               4.512346               37.810642               558.713584   \n",
       "\n",
       "   rougher.input.feed_size  rougher.input.floatbank10_sulfate  \\\n",
       "0                94.544358                           6.146982   \n",
       "1               123.742430                           6.210119   \n",
       "2                82.610855                           7.363824   \n",
       "3                77.984784                           6.927072   \n",
       "4                86.434874                           7.823471   \n",
       "\n",
       "   rougher.input.floatbank10_xanthate  rougher.state.floatbank10_a_air  ...  \\\n",
       "0                            9.308612                      1196.238112  ...   \n",
       "1                            9.297709                      1201.904177  ...   \n",
       "2                            9.003562                      1200.826926  ...   \n",
       "3                            8.955597                      1199.292489  ...   \n",
       "4                            7.490356                      1198.005449  ...   \n",
       "\n",
       "   secondary_cleaner.state.floatbank4_a_air  \\\n",
       "0                                 23.018622   \n",
       "1                                 23.024963   \n",
       "2                                 22.993827   \n",
       "3                                 23.032807   \n",
       "4                                 23.001911   \n",
       "\n",
       "   secondary_cleaner.state.floatbank4_a_level  \\\n",
       "0                                 -500.492702   \n",
       "1                                 -501.153409   \n",
       "2                                 -501.559663   \n",
       "3                                 -501.287889   \n",
       "4                                 -499.947838   \n",
       "\n",
       "   secondary_cleaner.state.floatbank4_b_air  \\\n",
       "0                                 20.020205   \n",
       "1                                 20.054122   \n",
       "2                                 20.029144   \n",
       "3                                 19.977466   \n",
       "4                                 20.023735   \n",
       "\n",
       "   secondary_cleaner.state.floatbank4_b_level  \\\n",
       "0                                 -500.220296   \n",
       "1                                 -500.314711   \n",
       "2                                 -500.000662   \n",
       "3                                 -500.159903   \n",
       "4                                 -499.713680   \n",
       "\n",
       "   secondary_cleaner.state.floatbank5_a_air  \\\n",
       "0                                 17.963512   \n",
       "1                                 17.979515   \n",
       "2                                 18.012723   \n",
       "3                                 17.980463   \n",
       "4                                 17.990955   \n",
       "\n",
       "   secondary_cleaner.state.floatbank5_a_level  \\\n",
       "0                                 -499.939490   \n",
       "1                                 -499.272871   \n",
       "2                                 -500.024764   \n",
       "3                                 -500.504602   \n",
       "4                                 -500.334769   \n",
       "\n",
       "   secondary_cleaner.state.floatbank5_b_air  \\\n",
       "0                                 12.990306   \n",
       "1                                 12.992404   \n",
       "2                                 13.016445   \n",
       "3                                 12.949071   \n",
       "4                                 13.007523   \n",
       "\n",
       "   secondary_cleaner.state.floatbank5_b_level  \\\n",
       "0                                 -500.080993   \n",
       "1                                 -499.976268   \n",
       "2                                 -500.058432   \n",
       "3                                 -500.009937   \n",
       "4                                 -499.968459   \n",
       "\n",
       "   secondary_cleaner.state.floatbank6_a_air  \\\n",
       "0                                 19.990336   \n",
       "1                                 20.013986   \n",
       "2                                 19.973767   \n",
       "3                                 20.010332   \n",
       "4                                 19.995999   \n",
       "\n",
       "   secondary_cleaner.state.floatbank6_a_level  \n",
       "0                                 -499.191575  \n",
       "1                                 -500.625471  \n",
       "2                                 -501.394155  \n",
       "3                                 -508.337973  \n",
       "4                                 -499.788805  \n",
       "\n",
       "[5 rows x 53 columns]"
      ]
     },
     "execution_count": 4,
     "metadata": {},
     "output_type": "execute_result"
    }
   ],
   "source": [
    "df_test.head()"
   ]
  },
  {
   "cell_type": "code",
   "execution_count": 5,
   "id": "bbe98518-54a9-48fc-8e3d-c20770263f8d",
   "metadata": {},
   "outputs": [
    {
     "data": {
      "text/html": [
       "<div>\n",
       "<style scoped>\n",
       "    .dataframe tbody tr th:only-of-type {\n",
       "        vertical-align: middle;\n",
       "    }\n",
       "\n",
       "    .dataframe tbody tr th {\n",
       "        vertical-align: top;\n",
       "    }\n",
       "\n",
       "    .dataframe thead th {\n",
       "        text-align: right;\n",
       "    }\n",
       "</style>\n",
       "<table border=\"1\" class=\"dataframe\">\n",
       "  <thead>\n",
       "    <tr style=\"text-align: right;\">\n",
       "      <th></th>\n",
       "      <th>date</th>\n",
       "      <th>rougher.input.feed_au</th>\n",
       "      <th>rougher.input.feed_ag</th>\n",
       "      <th>rougher.input.feed_pb</th>\n",
       "      <th>rougher.input.feed_sol</th>\n",
       "      <th>rougher.input.feed_rate</th>\n",
       "      <th>rougher.input.feed_size</th>\n",
       "      <th>rougher.input.floatbank10_sulfate</th>\n",
       "      <th>rougher.input.floatbank10_xanthate</th>\n",
       "      <th>rougher.state.floatbank10_a_air</th>\n",
       "      <th>...</th>\n",
       "      <th>secondary_cleaner.output.tail_sol</th>\n",
       "      <th>final.output.concentrate_au</th>\n",
       "      <th>final.output.concentrate_ag</th>\n",
       "      <th>final.output.concentrate_pb</th>\n",
       "      <th>final.output.concentrate_sol</th>\n",
       "      <th>final.output.recovery</th>\n",
       "      <th>final.output.tail_au</th>\n",
       "      <th>final.output.tail_ag</th>\n",
       "      <th>final.output.tail_pb</th>\n",
       "      <th>final.output.tail_sol</th>\n",
       "    </tr>\n",
       "  </thead>\n",
       "  <tbody>\n",
       "    <tr>\n",
       "      <th>0</th>\n",
       "      <td>2016-01-15 00:00:00</td>\n",
       "      <td>6.486150</td>\n",
       "      <td>6.100378</td>\n",
       "      <td>2.284912</td>\n",
       "      <td>36.808594</td>\n",
       "      <td>523.546326</td>\n",
       "      <td>55.486599</td>\n",
       "      <td>11.986616</td>\n",
       "      <td>6.007990</td>\n",
       "      <td>999.706909</td>\n",
       "      <td>...</td>\n",
       "      <td>8.764648</td>\n",
       "      <td>42.192020</td>\n",
       "      <td>6.055403</td>\n",
       "      <td>9.889648</td>\n",
       "      <td>5.507324</td>\n",
       "      <td>70.541216</td>\n",
       "      <td>2.143149</td>\n",
       "      <td>10.411962</td>\n",
       "      <td>0.895447</td>\n",
       "      <td>16.904297</td>\n",
       "    </tr>\n",
       "    <tr>\n",
       "      <th>1</th>\n",
       "      <td>2016-01-15 01:00:00</td>\n",
       "      <td>6.478583</td>\n",
       "      <td>6.161113</td>\n",
       "      <td>2.266033</td>\n",
       "      <td>35.753385</td>\n",
       "      <td>525.290581</td>\n",
       "      <td>57.278666</td>\n",
       "      <td>11.971193</td>\n",
       "      <td>6.005766</td>\n",
       "      <td>1000.286398</td>\n",
       "      <td>...</td>\n",
       "      <td>9.001494</td>\n",
       "      <td>42.701629</td>\n",
       "      <td>6.029369</td>\n",
       "      <td>9.968944</td>\n",
       "      <td>5.257781</td>\n",
       "      <td>69.266198</td>\n",
       "      <td>2.224930</td>\n",
       "      <td>10.462676</td>\n",
       "      <td>0.927452</td>\n",
       "      <td>16.634514</td>\n",
       "    </tr>\n",
       "    <tr>\n",
       "      <th>2</th>\n",
       "      <td>2016-01-15 02:00:00</td>\n",
       "      <td>6.362222</td>\n",
       "      <td>6.116455</td>\n",
       "      <td>2.159622</td>\n",
       "      <td>35.971630</td>\n",
       "      <td>530.026610</td>\n",
       "      <td>57.510649</td>\n",
       "      <td>11.920603</td>\n",
       "      <td>6.197377</td>\n",
       "      <td>999.719565</td>\n",
       "      <td>...</td>\n",
       "      <td>8.842896</td>\n",
       "      <td>42.657501</td>\n",
       "      <td>6.055926</td>\n",
       "      <td>10.213995</td>\n",
       "      <td>5.383759</td>\n",
       "      <td>68.116445</td>\n",
       "      <td>2.257889</td>\n",
       "      <td>10.507046</td>\n",
       "      <td>0.953716</td>\n",
       "      <td>16.208849</td>\n",
       "    </tr>\n",
       "    <tr>\n",
       "      <th>3</th>\n",
       "      <td>2016-01-15 03:00:00</td>\n",
       "      <td>6.118189</td>\n",
       "      <td>6.043309</td>\n",
       "      <td>2.037807</td>\n",
       "      <td>36.862241</td>\n",
       "      <td>542.590390</td>\n",
       "      <td>57.792734</td>\n",
       "      <td>11.630094</td>\n",
       "      <td>6.203177</td>\n",
       "      <td>999.814770</td>\n",
       "      <td>...</td>\n",
       "      <td>9.122857</td>\n",
       "      <td>42.689819</td>\n",
       "      <td>6.047977</td>\n",
       "      <td>9.977019</td>\n",
       "      <td>4.858634</td>\n",
       "      <td>68.347543</td>\n",
       "      <td>2.146849</td>\n",
       "      <td>10.422762</td>\n",
       "      <td>0.883763</td>\n",
       "      <td>16.532835</td>\n",
       "    </tr>\n",
       "    <tr>\n",
       "      <th>4</th>\n",
       "      <td>2016-01-15 04:00:00</td>\n",
       "      <td>5.663707</td>\n",
       "      <td>6.060915</td>\n",
       "      <td>1.786875</td>\n",
       "      <td>34.347666</td>\n",
       "      <td>540.531893</td>\n",
       "      <td>56.047189</td>\n",
       "      <td>10.957755</td>\n",
       "      <td>6.198826</td>\n",
       "      <td>999.678690</td>\n",
       "      <td>...</td>\n",
       "      <td>8.871028</td>\n",
       "      <td>42.774141</td>\n",
       "      <td>6.148599</td>\n",
       "      <td>10.142511</td>\n",
       "      <td>4.939416</td>\n",
       "      <td>66.927016</td>\n",
       "      <td>2.055292</td>\n",
       "      <td>10.360302</td>\n",
       "      <td>0.792826</td>\n",
       "      <td>16.525686</td>\n",
       "    </tr>\n",
       "  </tbody>\n",
       "</table>\n",
       "<p>5 rows × 87 columns</p>\n",
       "</div>"
      ],
      "text/plain": [
       "                 date  rougher.input.feed_au  rougher.input.feed_ag  \\\n",
       "0 2016-01-15 00:00:00               6.486150               6.100378   \n",
       "1 2016-01-15 01:00:00               6.478583               6.161113   \n",
       "2 2016-01-15 02:00:00               6.362222               6.116455   \n",
       "3 2016-01-15 03:00:00               6.118189               6.043309   \n",
       "4 2016-01-15 04:00:00               5.663707               6.060915   \n",
       "\n",
       "   rougher.input.feed_pb  rougher.input.feed_sol  rougher.input.feed_rate  \\\n",
       "0               2.284912               36.808594               523.546326   \n",
       "1               2.266033               35.753385               525.290581   \n",
       "2               2.159622               35.971630               530.026610   \n",
       "3               2.037807               36.862241               542.590390   \n",
       "4               1.786875               34.347666               540.531893   \n",
       "\n",
       "   rougher.input.feed_size  rougher.input.floatbank10_sulfate  \\\n",
       "0                55.486599                          11.986616   \n",
       "1                57.278666                          11.971193   \n",
       "2                57.510649                          11.920603   \n",
       "3                57.792734                          11.630094   \n",
       "4                56.047189                          10.957755   \n",
       "\n",
       "   rougher.input.floatbank10_xanthate  rougher.state.floatbank10_a_air  ...  \\\n",
       "0                            6.007990                       999.706909  ...   \n",
       "1                            6.005766                      1000.286398  ...   \n",
       "2                            6.197377                       999.719565  ...   \n",
       "3                            6.203177                       999.814770  ...   \n",
       "4                            6.198826                       999.678690  ...   \n",
       "\n",
       "   secondary_cleaner.output.tail_sol  final.output.concentrate_au  \\\n",
       "0                           8.764648                    42.192020   \n",
       "1                           9.001494                    42.701629   \n",
       "2                           8.842896                    42.657501   \n",
       "3                           9.122857                    42.689819   \n",
       "4                           8.871028                    42.774141   \n",
       "\n",
       "   final.output.concentrate_ag  final.output.concentrate_pb  \\\n",
       "0                     6.055403                     9.889648   \n",
       "1                     6.029369                     9.968944   \n",
       "2                     6.055926                    10.213995   \n",
       "3                     6.047977                     9.977019   \n",
       "4                     6.148599                    10.142511   \n",
       "\n",
       "   final.output.concentrate_sol  final.output.recovery  final.output.tail_au  \\\n",
       "0                      5.507324              70.541216              2.143149   \n",
       "1                      5.257781              69.266198              2.224930   \n",
       "2                      5.383759              68.116445              2.257889   \n",
       "3                      4.858634              68.347543              2.146849   \n",
       "4                      4.939416              66.927016              2.055292   \n",
       "\n",
       "   final.output.tail_ag  final.output.tail_pb  final.output.tail_sol  \n",
       "0             10.411962              0.895447              16.904297  \n",
       "1             10.462676              0.927452              16.634514  \n",
       "2             10.507046              0.953716              16.208849  \n",
       "3             10.422762              0.883763              16.532835  \n",
       "4             10.360302              0.792826              16.525686  \n",
       "\n",
       "[5 rows x 87 columns]"
      ]
     },
     "execution_count": 5,
     "metadata": {},
     "output_type": "execute_result"
    }
   ],
   "source": [
    "df_full.head()"
   ]
  },
  {
   "cell_type": "code",
   "execution_count": 6,
   "id": "5e986b60-133a-46dd-a91e-8b4ce6eafc03",
   "metadata": {},
   "outputs": [
    {
     "name": "stdout",
     "output_type": "stream",
     "text": [
      "<class 'pandas.core.frame.DataFrame'>\n",
      "RangeIndex: 14579 entries, 0 to 14578\n",
      "Data columns (total 87 columns):\n",
      " #   Column                                              Non-Null Count  Dtype         \n",
      "---  ------                                              --------------  -----         \n",
      " 0   date                                                14579 non-null  datetime64[ns]\n",
      " 1   rougher.input.feed_au                               14579 non-null  float64       \n",
      " 2   rougher.input.feed_ag                               14579 non-null  float64       \n",
      " 3   rougher.input.feed_pb                               14507 non-null  float64       \n",
      " 4   rougher.input.feed_sol                              14502 non-null  float64       \n",
      " 5   rougher.input.feed_rate                             14572 non-null  float64       \n",
      " 6   rougher.input.feed_size                             14478 non-null  float64       \n",
      " 7   rougher.input.floatbank10_sulfate                   14548 non-null  float64       \n",
      " 8   rougher.input.floatbank10_xanthate                  14572 non-null  float64       \n",
      " 9   rougher.state.floatbank10_a_air                     14579 non-null  float64       \n",
      " 10  rougher.state.floatbank10_a_level                   14579 non-null  float64       \n",
      " 11  rougher.state.floatbank10_b_air                     14579 non-null  float64       \n",
      " 12  rougher.state.floatbank10_b_level                   14579 non-null  float64       \n",
      " 13  rougher.state.floatbank10_c_air                     14579 non-null  float64       \n",
      " 14  rougher.state.floatbank10_c_level                   14579 non-null  float64       \n",
      " 15  rougher.state.floatbank10_d_air                     14579 non-null  float64       \n",
      " 16  rougher.state.floatbank10_d_level                   14579 non-null  float64       \n",
      " 17  rougher.state.floatbank10_e_air                     14150 non-null  float64       \n",
      " 18  rougher.state.floatbank10_e_level                   14579 non-null  float64       \n",
      " 19  rougher.state.floatbank10_f_air                     14579 non-null  float64       \n",
      " 20  rougher.state.floatbank10_f_level                   14579 non-null  float64       \n",
      " 21  rougher.input.floatbank11_sulfate                   14543 non-null  float64       \n",
      " 22  rougher.input.floatbank11_xanthate                  14172 non-null  float64       \n",
      " 23  rougher.calculation.sulfate_to_au_concentrate       14578 non-null  float64       \n",
      " 24  rougher.calculation.floatbank10_sulfate_to_au_feed  14578 non-null  float64       \n",
      " 25  rougher.calculation.floatbank11_sulfate_to_au_feed  14578 non-null  float64       \n",
      " 26  rougher.calculation.au_pb_ratio                     14579 non-null  float64       \n",
      " 27  rougher.output.concentrate_au                       14579 non-null  float64       \n",
      " 28  rougher.output.concentrate_ag                       14579 non-null  float64       \n",
      " 29  rougher.output.concentrate_pb                       14579 non-null  float64       \n",
      " 30  rougher.output.concentrate_sol                      14561 non-null  float64       \n",
      " 31  rougher.output.recovery                             14579 non-null  float64       \n",
      " 32  rougher.output.tail_au                              14579 non-null  float64       \n",
      " 33  rougher.output.tail_ag                              14578 non-null  float64       \n",
      " 34  rougher.output.tail_pb                              14579 non-null  float64       \n",
      " 35  rougher.output.tail_sol                             14579 non-null  float64       \n",
      " 36  primary_cleaner.input.sulfate                       14556 non-null  float64       \n",
      " 37  primary_cleaner.input.depressant                    14551 non-null  float64       \n",
      " 38  primary_cleaner.input.feed_size                     14579 non-null  float64       \n",
      " 39  primary_cleaner.input.xanthate                      14518 non-null  float64       \n",
      " 40  primary_cleaner.state.floatbank8_a_air              14576 non-null  float64       \n",
      " 41  primary_cleaner.state.floatbank8_a_level            14579 non-null  float64       \n",
      " 42  primary_cleaner.state.floatbank8_b_air              14576 non-null  float64       \n",
      " 43  primary_cleaner.state.floatbank8_b_level            14579 non-null  float64       \n",
      " 44  primary_cleaner.state.floatbank8_c_air              14579 non-null  float64       \n",
      " 45  primary_cleaner.state.floatbank8_c_level            14579 non-null  float64       \n",
      " 46  primary_cleaner.state.floatbank8_d_air              14578 non-null  float64       \n",
      " 47  primary_cleaner.state.floatbank8_d_level            14579 non-null  float64       \n",
      " 48  primary_cleaner.output.concentrate_au               14579 non-null  float64       \n",
      " 49  primary_cleaner.output.concentrate_ag               14579 non-null  float64       \n",
      " 50  primary_cleaner.output.concentrate_pb               14491 non-null  float64       \n",
      " 51  primary_cleaner.output.concentrate_sol              14314 non-null  float64       \n",
      " 52  primary_cleaner.output.tail_au                      14579 non-null  float64       \n",
      " 53  primary_cleaner.output.tail_ag                      14575 non-null  float64       \n",
      " 54  primary_cleaner.output.tail_pb                      14573 non-null  float64       \n",
      " 55  primary_cleaner.output.tail_sol                     14534 non-null  float64       \n",
      " 56  secondary_cleaner.state.floatbank2_a_air            14485 non-null  float64       \n",
      " 57  secondary_cleaner.state.floatbank2_a_level          14579 non-null  float64       \n",
      " 58  secondary_cleaner.state.floatbank2_b_air            14557 non-null  float64       \n",
      " 59  secondary_cleaner.state.floatbank2_b_level          14579 non-null  float64       \n",
      " 60  secondary_cleaner.state.floatbank3_a_air            14567 non-null  float64       \n",
      " 61  secondary_cleaner.state.floatbank3_a_level          14579 non-null  float64       \n",
      " 62  secondary_cleaner.state.floatbank3_b_air            14579 non-null  float64       \n",
      " 63  secondary_cleaner.state.floatbank3_b_level          14579 non-null  float64       \n",
      " 64  secondary_cleaner.state.floatbank4_a_air            14574 non-null  float64       \n",
      " 65  secondary_cleaner.state.floatbank4_a_level          14579 non-null  float64       \n",
      " 66  secondary_cleaner.state.floatbank4_b_air            14579 non-null  float64       \n",
      " 67  secondary_cleaner.state.floatbank4_b_level          14579 non-null  float64       \n",
      " 68  secondary_cleaner.state.floatbank5_a_air            14579 non-null  float64       \n",
      " 69  secondary_cleaner.state.floatbank5_a_level          14579 non-null  float64       \n",
      " 70  secondary_cleaner.state.floatbank5_b_air            14579 non-null  float64       \n",
      " 71  secondary_cleaner.state.floatbank5_b_level          14579 non-null  float64       \n",
      " 72  secondary_cleaner.state.floatbank6_a_air            14578 non-null  float64       \n",
      " 73  secondary_cleaner.state.floatbank6_a_level          14579 non-null  float64       \n",
      " 74  secondary_cleaner.output.tail_au                    14579 non-null  float64       \n",
      " 75  secondary_cleaner.output.tail_ag                    14578 non-null  float64       \n",
      " 76  secondary_cleaner.output.tail_pb                    14575 non-null  float64       \n",
      " 77  secondary_cleaner.output.tail_sol                   13659 non-null  float64       \n",
      " 78  final.output.concentrate_au                         14579 non-null  float64       \n",
      " 79  final.output.concentrate_ag                         14578 non-null  float64       \n",
      " 80  final.output.concentrate_pb                         14578 non-null  float64       \n",
      " 81  final.output.concentrate_sol                        14387 non-null  float64       \n",
      " 82  final.output.recovery                               14579 non-null  float64       \n",
      " 83  final.output.tail_au                                14579 non-null  float64       \n",
      " 84  final.output.tail_ag                                14578 non-null  float64       \n",
      " 85  final.output.tail_pb                                14504 non-null  float64       \n",
      " 86  final.output.tail_sol                               14574 non-null  float64       \n",
      "dtypes: datetime64[ns](1), float64(86)\n",
      "memory usage: 9.7 MB\n",
      "None\n",
      "<class 'pandas.core.frame.DataFrame'>\n",
      "RangeIndex: 4860 entries, 0 to 4859\n",
      "Data columns (total 53 columns):\n",
      " #   Column                                      Non-Null Count  Dtype         \n",
      "---  ------                                      --------------  -----         \n",
      " 0   date                                        4860 non-null   datetime64[ns]\n",
      " 1   rougher.input.feed_au                       4860 non-null   float64       \n",
      " 2   rougher.input.feed_ag                       4860 non-null   float64       \n",
      " 3   rougher.input.feed_pb                       4832 non-null   float64       \n",
      " 4   rougher.input.feed_sol                      4838 non-null   float64       \n",
      " 5   rougher.input.feed_rate                     4856 non-null   float64       \n",
      " 6   rougher.input.feed_size                     4816 non-null   float64       \n",
      " 7   rougher.input.floatbank10_sulfate           4857 non-null   float64       \n",
      " 8   rougher.input.floatbank10_xanthate          4859 non-null   float64       \n",
      " 9   rougher.state.floatbank10_a_air             4859 non-null   float64       \n",
      " 10  rougher.state.floatbank10_a_level           4859 non-null   float64       \n",
      " 11  rougher.state.floatbank10_b_air             4859 non-null   float64       \n",
      " 12  rougher.state.floatbank10_b_level           4859 non-null   float64       \n",
      " 13  rougher.state.floatbank10_c_air             4859 non-null   float64       \n",
      " 14  rougher.state.floatbank10_c_level           4859 non-null   float64       \n",
      " 15  rougher.state.floatbank10_d_air             4860 non-null   float64       \n",
      " 16  rougher.state.floatbank10_d_level           4860 non-null   float64       \n",
      " 17  rougher.state.floatbank10_e_air             4853 non-null   float64       \n",
      " 18  rougher.state.floatbank10_e_level           4860 non-null   float64       \n",
      " 19  rougher.state.floatbank10_f_air             4860 non-null   float64       \n",
      " 20  rougher.state.floatbank10_f_level           4860 non-null   float64       \n",
      " 21  rougher.input.floatbank11_sulfate           4852 non-null   float64       \n",
      " 22  rougher.input.floatbank11_xanthate          4814 non-null   float64       \n",
      " 23  primary_cleaner.input.sulfate               4859 non-null   float64       \n",
      " 24  primary_cleaner.input.depressant            4851 non-null   float64       \n",
      " 25  primary_cleaner.input.feed_size             4860 non-null   float64       \n",
      " 26  primary_cleaner.input.xanthate              4817 non-null   float64       \n",
      " 27  primary_cleaner.state.floatbank8_a_air      4859 non-null   float64       \n",
      " 28  primary_cleaner.state.floatbank8_a_level    4859 non-null   float64       \n",
      " 29  primary_cleaner.state.floatbank8_b_air      4859 non-null   float64       \n",
      " 30  primary_cleaner.state.floatbank8_b_level    4859 non-null   float64       \n",
      " 31  primary_cleaner.state.floatbank8_c_air      4858 non-null   float64       \n",
      " 32  primary_cleaner.state.floatbank8_c_level    4859 non-null   float64       \n",
      " 33  primary_cleaner.state.floatbank8_d_air      4858 non-null   float64       \n",
      " 34  primary_cleaner.state.floatbank8_d_level    4859 non-null   float64       \n",
      " 35  secondary_cleaner.state.floatbank2_a_air    4734 non-null   float64       \n",
      " 36  secondary_cleaner.state.floatbank2_a_level  4859 non-null   float64       \n",
      " 37  secondary_cleaner.state.floatbank2_b_air    4859 non-null   float64       \n",
      " 38  secondary_cleaner.state.floatbank2_b_level  4859 non-null   float64       \n",
      " 39  secondary_cleaner.state.floatbank3_a_air    4859 non-null   float64       \n",
      " 40  secondary_cleaner.state.floatbank3_a_level  4859 non-null   float64       \n",
      " 41  secondary_cleaner.state.floatbank3_b_air    4859 non-null   float64       \n",
      " 42  secondary_cleaner.state.floatbank3_b_level  4859 non-null   float64       \n",
      " 43  secondary_cleaner.state.floatbank4_a_air    4859 non-null   float64       \n",
      " 44  secondary_cleaner.state.floatbank4_a_level  4859 non-null   float64       \n",
      " 45  secondary_cleaner.state.floatbank4_b_air    4859 non-null   float64       \n",
      " 46  secondary_cleaner.state.floatbank4_b_level  4859 non-null   float64       \n",
      " 47  secondary_cleaner.state.floatbank5_a_air    4859 non-null   float64       \n",
      " 48  secondary_cleaner.state.floatbank5_a_level  4859 non-null   float64       \n",
      " 49  secondary_cleaner.state.floatbank5_b_air    4859 non-null   float64       \n",
      " 50  secondary_cleaner.state.floatbank5_b_level  4859 non-null   float64       \n",
      " 51  secondary_cleaner.state.floatbank6_a_air    4859 non-null   float64       \n",
      " 52  secondary_cleaner.state.floatbank6_a_level  4859 non-null   float64       \n",
      "dtypes: datetime64[ns](1), float64(52)\n",
      "memory usage: 2.0 MB\n",
      "None\n",
      "<class 'pandas.core.frame.DataFrame'>\n",
      "RangeIndex: 19439 entries, 0 to 19438\n",
      "Data columns (total 87 columns):\n",
      " #   Column                                              Non-Null Count  Dtype         \n",
      "---  ------                                              --------------  -----         \n",
      " 0   date                                                19439 non-null  datetime64[ns]\n",
      " 1   rougher.input.feed_au                               19439 non-null  float64       \n",
      " 2   rougher.input.feed_ag                               19439 non-null  float64       \n",
      " 3   rougher.input.feed_pb                               19339 non-null  float64       \n",
      " 4   rougher.input.feed_sol                              19340 non-null  float64       \n",
      " 5   rougher.input.feed_rate                             19428 non-null  float64       \n",
      " 6   rougher.input.feed_size                             19294 non-null  float64       \n",
      " 7   rougher.input.floatbank10_sulfate                   19405 non-null  float64       \n",
      " 8   rougher.input.floatbank10_xanthate                  19431 non-null  float64       \n",
      " 9   rougher.state.floatbank10_a_air                     19438 non-null  float64       \n",
      " 10  rougher.state.floatbank10_a_level                   19438 non-null  float64       \n",
      " 11  rougher.state.floatbank10_b_air                     19438 non-null  float64       \n",
      " 12  rougher.state.floatbank10_b_level                   19438 non-null  float64       \n",
      " 13  rougher.state.floatbank10_c_air                     19438 non-null  float64       \n",
      " 14  rougher.state.floatbank10_c_level                   19438 non-null  float64       \n",
      " 15  rougher.state.floatbank10_d_air                     19439 non-null  float64       \n",
      " 16  rougher.state.floatbank10_d_level                   19439 non-null  float64       \n",
      " 17  rougher.state.floatbank10_e_air                     19003 non-null  float64       \n",
      " 18  rougher.state.floatbank10_e_level                   19439 non-null  float64       \n",
      " 19  rougher.state.floatbank10_f_air                     19439 non-null  float64       \n",
      " 20  rougher.state.floatbank10_f_level                   19439 non-null  float64       \n",
      " 21  rougher.input.floatbank11_sulfate                   19395 non-null  float64       \n",
      " 22  rougher.input.floatbank11_xanthate                  18986 non-null  float64       \n",
      " 23  rougher.calculation.sulfate_to_au_concentrate       19437 non-null  float64       \n",
      " 24  rougher.calculation.floatbank10_sulfate_to_au_feed  19437 non-null  float64       \n",
      " 25  rougher.calculation.floatbank11_sulfate_to_au_feed  19437 non-null  float64       \n",
      " 26  rougher.calculation.au_pb_ratio                     19439 non-null  float64       \n",
      " 27  rougher.output.concentrate_au                       19439 non-null  float64       \n",
      " 28  rougher.output.concentrate_ag                       19439 non-null  float64       \n",
      " 29  rougher.output.concentrate_pb                       19439 non-null  float64       \n",
      " 30  rougher.output.concentrate_sol                      19416 non-null  float64       \n",
      " 31  rougher.output.recovery                             19439 non-null  float64       \n",
      " 32  rougher.output.tail_au                              19439 non-null  float64       \n",
      " 33  rougher.output.tail_ag                              19438 non-null  float64       \n",
      " 34  rougher.output.tail_pb                              19439 non-null  float64       \n",
      " 35  rougher.output.tail_sol                             19439 non-null  float64       \n",
      " 36  primary_cleaner.input.sulfate                       19415 non-null  float64       \n",
      " 37  primary_cleaner.input.depressant                    19402 non-null  float64       \n",
      " 38  primary_cleaner.input.feed_size                     19439 non-null  float64       \n",
      " 39  primary_cleaner.input.xanthate                      19335 non-null  float64       \n",
      " 40  primary_cleaner.state.floatbank8_a_air              19435 non-null  float64       \n",
      " 41  primary_cleaner.state.floatbank8_a_level            19438 non-null  float64       \n",
      " 42  primary_cleaner.state.floatbank8_b_air              19435 non-null  float64       \n",
      " 43  primary_cleaner.state.floatbank8_b_level            19438 non-null  float64       \n",
      " 44  primary_cleaner.state.floatbank8_c_air              19437 non-null  float64       \n",
      " 45  primary_cleaner.state.floatbank8_c_level            19438 non-null  float64       \n",
      " 46  primary_cleaner.state.floatbank8_d_air              19436 non-null  float64       \n",
      " 47  primary_cleaner.state.floatbank8_d_level            19438 non-null  float64       \n",
      " 48  primary_cleaner.output.concentrate_au               19439 non-null  float64       \n",
      " 49  primary_cleaner.output.concentrate_ag               19439 non-null  float64       \n",
      " 50  primary_cleaner.output.concentrate_pb               19323 non-null  float64       \n",
      " 51  primary_cleaner.output.concentrate_sol              19069 non-null  float64       \n",
      " 52  primary_cleaner.output.tail_au                      19439 non-null  float64       \n",
      " 53  primary_cleaner.output.tail_ag                      19435 non-null  float64       \n",
      " 54  primary_cleaner.output.tail_pb                      19418 non-null  float64       \n",
      " 55  primary_cleaner.output.tail_sol                     19377 non-null  float64       \n",
      " 56  secondary_cleaner.state.floatbank2_a_air            19219 non-null  float64       \n",
      " 57  secondary_cleaner.state.floatbank2_a_level          19438 non-null  float64       \n",
      " 58  secondary_cleaner.state.floatbank2_b_air            19416 non-null  float64       \n",
      " 59  secondary_cleaner.state.floatbank2_b_level          19438 non-null  float64       \n",
      " 60  secondary_cleaner.state.floatbank3_a_air            19426 non-null  float64       \n",
      " 61  secondary_cleaner.state.floatbank3_a_level          19438 non-null  float64       \n",
      " 62  secondary_cleaner.state.floatbank3_b_air            19438 non-null  float64       \n",
      " 63  secondary_cleaner.state.floatbank3_b_level          19438 non-null  float64       \n",
      " 64  secondary_cleaner.state.floatbank4_a_air            19433 non-null  float64       \n",
      " 65  secondary_cleaner.state.floatbank4_a_level          19438 non-null  float64       \n",
      " 66  secondary_cleaner.state.floatbank4_b_air            19438 non-null  float64       \n",
      " 67  secondary_cleaner.state.floatbank4_b_level          19438 non-null  float64       \n",
      " 68  secondary_cleaner.state.floatbank5_a_air            19438 non-null  float64       \n",
      " 69  secondary_cleaner.state.floatbank5_a_level          19438 non-null  float64       \n",
      " 70  secondary_cleaner.state.floatbank5_b_air            19438 non-null  float64       \n",
      " 71  secondary_cleaner.state.floatbank5_b_level          19438 non-null  float64       \n",
      " 72  secondary_cleaner.state.floatbank6_a_air            19437 non-null  float64       \n",
      " 73  secondary_cleaner.state.floatbank6_a_level          19438 non-null  float64       \n",
      " 74  secondary_cleaner.output.tail_au                    19439 non-null  float64       \n",
      " 75  secondary_cleaner.output.tail_ag                    19437 non-null  float64       \n",
      " 76  secondary_cleaner.output.tail_pb                    19427 non-null  float64       \n",
      " 77  secondary_cleaner.output.tail_sol                   17691 non-null  float64       \n",
      " 78  final.output.concentrate_au                         19439 non-null  float64       \n",
      " 79  final.output.concentrate_ag                         19438 non-null  float64       \n",
      " 80  final.output.concentrate_pb                         19438 non-null  float64       \n",
      " 81  final.output.concentrate_sol                        19228 non-null  float64       \n",
      " 82  final.output.recovery                               19439 non-null  float64       \n",
      " 83  final.output.tail_au                                19439 non-null  float64       \n",
      " 84  final.output.tail_ag                                19438 non-null  float64       \n",
      " 85  final.output.tail_pb                                19338 non-null  float64       \n",
      " 86  final.output.tail_sol                               19433 non-null  float64       \n",
      "dtypes: datetime64[ns](1), float64(86)\n",
      "memory usage: 12.9 MB\n",
      "None\n"
     ]
    }
   ],
   "source": [
    "print(df_train.info())\n",
    "print(df_test.info())\n",
    "print(df_full.info())"
   ]
  },
  {
   "cell_type": "code",
   "execution_count": 7,
   "id": "be74280b-55b8-4960-bb97-61c13c5aa811",
   "metadata": {},
   "outputs": [
    {
     "name": "stdout",
     "output_type": "stream",
     "text": [
      "(14579, 87)\n",
      "(4860, 53)\n",
      "(19439, 87)\n"
     ]
    }
   ],
   "source": [
    "print(df_train.shape)\n",
    "print(df_test.shape)\n",
    "print(df_full.shape)"
   ]
  },
  {
   "cell_type": "markdown",
   "id": "6ec2b9aa-3c21-42bf-9fcd-59702233790b",
   "metadata": {},
   "source": [
    "### Проверим, что эффективность обогащения рассчитана правильно. Вычислим её на обучающей выборке для признака rougher.output.recovery. Найдем MAE между вашими расчётами и значением признака. Опишем выводы."
   ]
  },
  {
   "cell_type": "code",
   "execution_count": 8,
   "id": "344d028b-fe62-42d5-9326-a32ef63c4ff4",
   "metadata": {},
   "outputs": [],
   "source": [
    "C = df_train['rougher.output.concentrate_au']\n",
    "F = df_train['rougher.input.feed_au']\n",
    "T = df_train['rougher.output.tail_au']"
   ]
  },
  {
   "cell_type": "code",
   "execution_count": 9,
   "id": "f50729ee-caba-457a-a9fe-1b7e8873beea",
   "metadata": {},
   "outputs": [],
   "source": [
    "# рассчитаем эффективность обогащения после флотации.\n",
    "\n",
    "recovery_checking = (C * (F - T) * 100) / (F * (C - T))"
   ]
  },
  {
   "cell_type": "code",
   "execution_count": 10,
   "id": "735818a1-d7a4-4c67-9085-11db5dd39c9c",
   "metadata": {},
   "outputs": [
    {
     "data": {
      "text/plain": [
       "1.1181885454685472e-14"
      ]
     },
     "execution_count": 10,
     "metadata": {},
     "output_type": "execute_result"
    }
   ],
   "source": [
    "mae = mean_absolute_error(df_train['rougher.output.recovery'], recovery_checking)\n",
    "mae"
   ]
  },
  {
   "cell_type": "markdown",
   "id": "21a6632f-2306-46e7-b103-11bcc2d3e084",
   "metadata": {},
   "source": [
    "Как видно из средней абсолютной ошибки, погрешность в расчетах стремится к нулю. В связи с этим, можно заключить, что эффективность обогащения в исходных данных расчитана правильно."
   ]
  },
  {
   "cell_type": "markdown",
   "id": "f00fe86a-d91a-42d3-a2e0-8b933c69906e",
   "metadata": {},
   "source": [
    "### Проанализируем признаки, недоступные в тестовой выборке. Что это за параметры? К какому типу относятся?"
   ]
  },
  {
   "cell_type": "code",
   "execution_count": 11,
   "id": "d9c76e22-7ba1-4ead-81bb-15295c8afed2",
   "metadata": {},
   "outputs": [],
   "source": [
    "train_cols = df_train.columns\n",
    "test_cols = df_test.columns\n",
    "\n",
    "# поместим в переменные стоблцы, которые есть в обоих датасетах, а также различающиеся столбцы\n",
    "intersection_cols = train_cols.intersection(test_cols)\n",
    "different_cols = train_cols.difference(test_cols)"
   ]
  },
  {
   "cell_type": "code",
   "execution_count": 12,
   "id": "4d4defd6-f7c0-49f2-9ad7-83c650736dcb",
   "metadata": {},
   "outputs": [
    {
     "data": {
      "text/plain": [
       "0                                           date\n",
       "24              primary_cleaner.input.depressant\n",
       "25               primary_cleaner.input.feed_size\n",
       "23                 primary_cleaner.input.sulfate\n",
       "26                primary_cleaner.input.xanthate\n",
       "27        primary_cleaner.state.floatbank8_a_air\n",
       "28      primary_cleaner.state.floatbank8_a_level\n",
       "29        primary_cleaner.state.floatbank8_b_air\n",
       "30      primary_cleaner.state.floatbank8_b_level\n",
       "31        primary_cleaner.state.floatbank8_c_air\n",
       "32      primary_cleaner.state.floatbank8_c_level\n",
       "33        primary_cleaner.state.floatbank8_d_air\n",
       "34      primary_cleaner.state.floatbank8_d_level\n",
       "2                          rougher.input.feed_ag\n",
       "1                          rougher.input.feed_au\n",
       "3                          rougher.input.feed_pb\n",
       "5                        rougher.input.feed_rate\n",
       "6                        rougher.input.feed_size\n",
       "4                         rougher.input.feed_sol\n",
       "7              rougher.input.floatbank10_sulfate\n",
       "8             rougher.input.floatbank10_xanthate\n",
       "21             rougher.input.floatbank11_sulfate\n",
       "22            rougher.input.floatbank11_xanthate\n",
       "9                rougher.state.floatbank10_a_air\n",
       "10             rougher.state.floatbank10_a_level\n",
       "11               rougher.state.floatbank10_b_air\n",
       "12             rougher.state.floatbank10_b_level\n",
       "13               rougher.state.floatbank10_c_air\n",
       "14             rougher.state.floatbank10_c_level\n",
       "15               rougher.state.floatbank10_d_air\n",
       "16             rougher.state.floatbank10_d_level\n",
       "17               rougher.state.floatbank10_e_air\n",
       "18             rougher.state.floatbank10_e_level\n",
       "19               rougher.state.floatbank10_f_air\n",
       "20             rougher.state.floatbank10_f_level\n",
       "35      secondary_cleaner.state.floatbank2_a_air\n",
       "36    secondary_cleaner.state.floatbank2_a_level\n",
       "37      secondary_cleaner.state.floatbank2_b_air\n",
       "38    secondary_cleaner.state.floatbank2_b_level\n",
       "39      secondary_cleaner.state.floatbank3_a_air\n",
       "40    secondary_cleaner.state.floatbank3_a_level\n",
       "41      secondary_cleaner.state.floatbank3_b_air\n",
       "42    secondary_cleaner.state.floatbank3_b_level\n",
       "43      secondary_cleaner.state.floatbank4_a_air\n",
       "44    secondary_cleaner.state.floatbank4_a_level\n",
       "45      secondary_cleaner.state.floatbank4_b_air\n",
       "46    secondary_cleaner.state.floatbank4_b_level\n",
       "47      secondary_cleaner.state.floatbank5_a_air\n",
       "48    secondary_cleaner.state.floatbank5_a_level\n",
       "49      secondary_cleaner.state.floatbank5_b_air\n",
       "50    secondary_cleaner.state.floatbank5_b_level\n",
       "51      secondary_cleaner.state.floatbank6_a_air\n",
       "52    secondary_cleaner.state.floatbank6_a_level\n",
       "dtype: object"
      ]
     },
     "execution_count": 12,
     "metadata": {},
     "output_type": "execute_result"
    }
   ],
   "source": [
    "# пересекающиеся столбцы\n",
    "pd.Series(intersection_cols).sort_values()"
   ]
  },
  {
   "cell_type": "code",
   "execution_count": 13,
   "id": "d1a3325f-7704-4181-89d6-8b864ada6b3e",
   "metadata": {},
   "outputs": [
    {
     "data": {
      "text/plain": [
       "0                           final.output.concentrate_ag\n",
       "1                           final.output.concentrate_au\n",
       "2                           final.output.concentrate_pb\n",
       "3                          final.output.concentrate_sol\n",
       "4                                 final.output.recovery\n",
       "5                                  final.output.tail_ag\n",
       "6                                  final.output.tail_au\n",
       "7                                  final.output.tail_pb\n",
       "8                                 final.output.tail_sol\n",
       "9                 primary_cleaner.output.concentrate_ag\n",
       "10                primary_cleaner.output.concentrate_au\n",
       "11                primary_cleaner.output.concentrate_pb\n",
       "12               primary_cleaner.output.concentrate_sol\n",
       "13                       primary_cleaner.output.tail_ag\n",
       "14                       primary_cleaner.output.tail_au\n",
       "15                       primary_cleaner.output.tail_pb\n",
       "16                      primary_cleaner.output.tail_sol\n",
       "17                      rougher.calculation.au_pb_ratio\n",
       "18    rougher.calculation.floatbank10_sulfate_to_au_...\n",
       "19    rougher.calculation.floatbank11_sulfate_to_au_...\n",
       "20        rougher.calculation.sulfate_to_au_concentrate\n",
       "21                        rougher.output.concentrate_ag\n",
       "22                        rougher.output.concentrate_au\n",
       "23                        rougher.output.concentrate_pb\n",
       "24                       rougher.output.concentrate_sol\n",
       "25                              rougher.output.recovery\n",
       "26                               rougher.output.tail_ag\n",
       "27                               rougher.output.tail_au\n",
       "28                               rougher.output.tail_pb\n",
       "29                              rougher.output.tail_sol\n",
       "30                     secondary_cleaner.output.tail_ag\n",
       "31                     secondary_cleaner.output.tail_au\n",
       "32                     secondary_cleaner.output.tail_pb\n",
       "33                    secondary_cleaner.output.tail_sol\n",
       "dtype: object"
      ]
     },
     "execution_count": 13,
     "metadata": {},
     "output_type": "execute_result"
    }
   ],
   "source": [
    "# различающиеся столбцы\n",
    "pd.Series(different_cols).sort_values()"
   ]
  },
  {
   "cell_type": "markdown",
   "id": "1dada023-27fb-4e90-b08f-d33a7423422b",
   "metadata": {},
   "source": [
    "В тестовой выборке отсутствуют 34 столбца, где хранятся данные о продукции, отвальных хвостах после очисток и флотации, а также расчетные характеристики во флотационной установке. Все пропущенные данные - лабораторные, скорее всего их вносят химики вручную после проведения исследований. Они скорее являются целевыми признаками, но нас интересуют только эффективность обогащения."
   ]
  },
  {
   "cell_type": "markdown",
   "id": "25c89a62-c91a-4aa2-83ff-54df96bca090",
   "metadata": {},
   "source": [
    "### Проведите предобработку данных."
   ]
  },
  {
   "cell_type": "code",
   "execution_count": 14,
   "id": "30d71c28-fdbf-4641-9dc2-1e2a3d1ebb1b",
   "metadata": {},
   "outputs": [
    {
     "name": "stdout",
     "output_type": "stream",
     "text": [
      "3050\n",
      "375\n",
      "4481\n"
     ]
    }
   ],
   "source": [
    "print(df_train.isna().sum().sum())\n",
    "print(df_test.isna().sum().sum())\n",
    "print(df_full.isna().sum().sum())"
   ]
  },
  {
   "cell_type": "markdown",
   "id": "6b53e117-d0f7-45cc-bbac-1f45c4119ef0",
   "metadata": {},
   "source": [
    "В каждой выборке есть пропуски значений, которые нужно заменить."
   ]
  },
  {
   "cell_type": "code",
   "execution_count": 15,
   "id": "5c2d31b7-e713-4e18-aa37-ab151361d3f5",
   "metadata": {},
   "outputs": [
    {
     "data": {
      "text/plain": [
       "date                                                     0\n",
       "rougher.input.feed_au                                    0\n",
       "rougher.input.feed_ag                                    0\n",
       "rougher.input.feed_pb                                  100\n",
       "rougher.input.feed_sol                                  99\n",
       "rougher.input.feed_rate                                 11\n",
       "rougher.input.feed_size                                145\n",
       "rougher.input.floatbank10_sulfate                       34\n",
       "rougher.input.floatbank10_xanthate                       8\n",
       "rougher.state.floatbank10_a_air                          1\n",
       "rougher.state.floatbank10_a_level                        1\n",
       "rougher.state.floatbank10_b_air                          1\n",
       "rougher.state.floatbank10_b_level                        1\n",
       "rougher.state.floatbank10_c_air                          1\n",
       "rougher.state.floatbank10_c_level                        1\n",
       "rougher.state.floatbank10_d_air                          0\n",
       "rougher.state.floatbank10_d_level                        0\n",
       "rougher.state.floatbank10_e_air                        436\n",
       "rougher.state.floatbank10_e_level                        0\n",
       "rougher.state.floatbank10_f_air                          0\n",
       "rougher.state.floatbank10_f_level                        0\n",
       "rougher.input.floatbank11_sulfate                       44\n",
       "rougher.input.floatbank11_xanthate                     453\n",
       "rougher.calculation.sulfate_to_au_concentrate            2\n",
       "rougher.calculation.floatbank10_sulfate_to_au_feed       2\n",
       "rougher.calculation.floatbank11_sulfate_to_au_feed       2\n",
       "rougher.calculation.au_pb_ratio                          0\n",
       "rougher.output.concentrate_au                            0\n",
       "rougher.output.concentrate_ag                            0\n",
       "rougher.output.concentrate_pb                            0\n",
       "rougher.output.concentrate_sol                          23\n",
       "rougher.output.recovery                                  0\n",
       "rougher.output.tail_au                                   0\n",
       "rougher.output.tail_ag                                   1\n",
       "rougher.output.tail_pb                                   0\n",
       "rougher.output.tail_sol                                  0\n",
       "primary_cleaner.input.sulfate                           24\n",
       "primary_cleaner.input.depressant                        37\n",
       "primary_cleaner.input.feed_size                          0\n",
       "primary_cleaner.input.xanthate                         104\n",
       "primary_cleaner.state.floatbank8_a_air                   4\n",
       "primary_cleaner.state.floatbank8_a_level                 1\n",
       "primary_cleaner.state.floatbank8_b_air                   4\n",
       "primary_cleaner.state.floatbank8_b_level                 1\n",
       "primary_cleaner.state.floatbank8_c_air                   2\n",
       "primary_cleaner.state.floatbank8_c_level                 1\n",
       "primary_cleaner.state.floatbank8_d_air                   3\n",
       "primary_cleaner.state.floatbank8_d_level                 1\n",
       "primary_cleaner.output.concentrate_au                    0\n",
       "primary_cleaner.output.concentrate_ag                    0\n",
       "primary_cleaner.output.concentrate_pb                  116\n",
       "primary_cleaner.output.concentrate_sol                 370\n",
       "primary_cleaner.output.tail_au                           0\n",
       "primary_cleaner.output.tail_ag                           4\n",
       "primary_cleaner.output.tail_pb                          21\n",
       "primary_cleaner.output.tail_sol                         62\n",
       "secondary_cleaner.state.floatbank2_a_air               220\n",
       "secondary_cleaner.state.floatbank2_a_level               1\n",
       "secondary_cleaner.state.floatbank2_b_air                23\n",
       "secondary_cleaner.state.floatbank2_b_level               1\n",
       "secondary_cleaner.state.floatbank3_a_air                13\n",
       "secondary_cleaner.state.floatbank3_a_level               1\n",
       "secondary_cleaner.state.floatbank3_b_air                 1\n",
       "secondary_cleaner.state.floatbank3_b_level               1\n",
       "secondary_cleaner.state.floatbank4_a_air                 6\n",
       "secondary_cleaner.state.floatbank4_a_level               1\n",
       "secondary_cleaner.state.floatbank4_b_air                 1\n",
       "secondary_cleaner.state.floatbank4_b_level               1\n",
       "secondary_cleaner.state.floatbank5_a_air                 1\n",
       "secondary_cleaner.state.floatbank5_a_level               1\n",
       "secondary_cleaner.state.floatbank5_b_air                 1\n",
       "secondary_cleaner.state.floatbank5_b_level               1\n",
       "secondary_cleaner.state.floatbank6_a_air                 2\n",
       "secondary_cleaner.state.floatbank6_a_level               1\n",
       "secondary_cleaner.output.tail_au                         0\n",
       "secondary_cleaner.output.tail_ag                         2\n",
       "secondary_cleaner.output.tail_pb                        12\n",
       "secondary_cleaner.output.tail_sol                     1748\n",
       "final.output.concentrate_au                              0\n",
       "final.output.concentrate_ag                              1\n",
       "final.output.concentrate_pb                              1\n",
       "final.output.concentrate_sol                           211\n",
       "final.output.recovery                                    0\n",
       "final.output.tail_au                                     0\n",
       "final.output.tail_ag                                     1\n",
       "final.output.tail_pb                                   101\n",
       "final.output.tail_sol                                    6\n",
       "dtype: int64"
      ]
     },
     "execution_count": 15,
     "metadata": {},
     "output_type": "execute_result"
    }
   ],
   "source": [
    "pd.set_option('display.max_rows', None)\n",
    "df_full.isna().sum()"
   ]
  },
  {
   "cell_type": "code",
   "execution_count": 16,
   "id": "2b67737a-db54-4532-8e38-3a468c16fc17",
   "metadata": {},
   "outputs": [
    {
     "data": {
      "text/plain": [
       "0"
      ]
     },
     "execution_count": 16,
     "metadata": {},
     "output_type": "execute_result"
    }
   ],
   "source": [
    "# заполним пропуски в данных методом interpolate по времени\n",
    "df_train.index = df_train['date']\n",
    "df_train.drop('date',axis=1,inplace=True)\n",
    "df_train.interpolate(method='time',inplace=True)\n",
    "df_train.isna().sum().sum()"
   ]
  },
  {
   "cell_type": "code",
   "execution_count": 17,
   "id": "5a2d6c38-29cb-4c25-92d0-153a8da33ce5",
   "metadata": {},
   "outputs": [
    {
     "data": {
      "text/plain": [
       "0"
      ]
     },
     "execution_count": 17,
     "metadata": {},
     "output_type": "execute_result"
    }
   ],
   "source": [
    "df_test.index = df_test['date']\n",
    "df_test.drop('date',axis=1,inplace=True)\n",
    "df_test.interpolate(method='time',inplace=True)\n",
    "df_test.isna().sum().sum()"
   ]
  },
  {
   "cell_type": "code",
   "execution_count": 18,
   "id": "8431e91b-958a-4a7d-a242-58d823a0cdf1",
   "metadata": {},
   "outputs": [
    {
     "data": {
      "text/plain": [
       "0"
      ]
     },
     "execution_count": 18,
     "metadata": {},
     "output_type": "execute_result"
    }
   ],
   "source": [
    "df_full.index = df_full['date']\n",
    "df_full.drop('date',axis=1,inplace=True)\n",
    "df_full.interpolate(method='time',inplace=True)\n",
    "df_full.isna().sum().sum()"
   ]
  },
  {
   "cell_type": "markdown",
   "id": "7780b486-466e-4bee-a027-8d9c49f77b0e",
   "metadata": {},
   "source": [
    "Добавим целевые признаки в тестовую выборку"
   ]
  },
  {
   "cell_type": "code",
   "execution_count": 19,
   "id": "550d10ac-92ae-400c-8364-118a76e31e58",
   "metadata": {},
   "outputs": [],
   "source": [
    "target_cols = ['rougher.output.recovery', 'final.output.recovery']"
   ]
  },
  {
   "cell_type": "code",
   "execution_count": 20,
   "id": "26a4f7da-5432-4631-acdc-758c74f50074",
   "metadata": {},
   "outputs": [],
   "source": [
    "different_cols = list(different_cols)\n",
    "\n",
    "different_cols_new = []\n",
    "# создаем цикл, в котором перебираем названия столбцов. Если название столбца не соответствует названиям целевых признаков, то добавляем названия в новый список для удаления\n",
    "for col in different_cols:\n",
    "    if col not in target_cols:\n",
    "        different_cols_new.append(col)"
   ]
  },
  {
   "cell_type": "code",
   "execution_count": 21,
   "id": "3a8fab2d-a64b-4a54-a002-0d5ae38f1730",
   "metadata": {},
   "outputs": [
    {
     "data": {
      "text/plain": [
       "['final.output.concentrate_ag',\n",
       " 'final.output.concentrate_au',\n",
       " 'final.output.concentrate_pb',\n",
       " 'final.output.concentrate_sol',\n",
       " 'final.output.tail_ag',\n",
       " 'final.output.tail_au',\n",
       " 'final.output.tail_pb',\n",
       " 'final.output.tail_sol',\n",
       " 'primary_cleaner.output.concentrate_ag',\n",
       " 'primary_cleaner.output.concentrate_au',\n",
       " 'primary_cleaner.output.concentrate_pb',\n",
       " 'primary_cleaner.output.concentrate_sol',\n",
       " 'primary_cleaner.output.tail_ag',\n",
       " 'primary_cleaner.output.tail_au',\n",
       " 'primary_cleaner.output.tail_pb',\n",
       " 'primary_cleaner.output.tail_sol',\n",
       " 'rougher.calculation.au_pb_ratio',\n",
       " 'rougher.calculation.floatbank10_sulfate_to_au_feed',\n",
       " 'rougher.calculation.floatbank11_sulfate_to_au_feed',\n",
       " 'rougher.calculation.sulfate_to_au_concentrate',\n",
       " 'rougher.output.concentrate_ag',\n",
       " 'rougher.output.concentrate_au',\n",
       " 'rougher.output.concentrate_pb',\n",
       " 'rougher.output.concentrate_sol',\n",
       " 'rougher.output.tail_ag',\n",
       " 'rougher.output.tail_au',\n",
       " 'rougher.output.tail_pb',\n",
       " 'rougher.output.tail_sol',\n",
       " 'secondary_cleaner.output.tail_ag',\n",
       " 'secondary_cleaner.output.tail_au',\n",
       " 'secondary_cleaner.output.tail_pb',\n",
       " 'secondary_cleaner.output.tail_sol']"
      ]
     },
     "execution_count": 21,
     "metadata": {},
     "output_type": "execute_result"
    }
   ],
   "source": [
    "different_cols_new"
   ]
  },
  {
   "cell_type": "code",
   "execution_count": 22,
   "id": "9864a7d7-38cc-448e-bfe0-70c08fa3adb4",
   "metadata": {},
   "outputs": [
    {
     "data": {
      "text/html": [
       "<div>\n",
       "<style scoped>\n",
       "    .dataframe tbody tr th:only-of-type {\n",
       "        vertical-align: middle;\n",
       "    }\n",
       "\n",
       "    .dataframe tbody tr th {\n",
       "        vertical-align: top;\n",
       "    }\n",
       "\n",
       "    .dataframe thead th {\n",
       "        text-align: right;\n",
       "    }\n",
       "</style>\n",
       "<table border=\"1\" class=\"dataframe\">\n",
       "  <thead>\n",
       "    <tr style=\"text-align: right;\">\n",
       "      <th></th>\n",
       "      <th>rougher.input.feed_au</th>\n",
       "      <th>rougher.input.feed_ag</th>\n",
       "      <th>rougher.input.feed_pb</th>\n",
       "      <th>rougher.input.feed_sol</th>\n",
       "      <th>rougher.input.feed_rate</th>\n",
       "      <th>rougher.input.feed_size</th>\n",
       "      <th>rougher.input.floatbank10_sulfate</th>\n",
       "      <th>rougher.input.floatbank10_xanthate</th>\n",
       "      <th>rougher.state.floatbank10_a_air</th>\n",
       "      <th>rougher.state.floatbank10_a_level</th>\n",
       "      <th>...</th>\n",
       "      <th>secondary_cleaner.state.floatbank4_a_level</th>\n",
       "      <th>secondary_cleaner.state.floatbank4_b_air</th>\n",
       "      <th>secondary_cleaner.state.floatbank4_b_level</th>\n",
       "      <th>secondary_cleaner.state.floatbank5_a_air</th>\n",
       "      <th>secondary_cleaner.state.floatbank5_a_level</th>\n",
       "      <th>secondary_cleaner.state.floatbank5_b_air</th>\n",
       "      <th>secondary_cleaner.state.floatbank5_b_level</th>\n",
       "      <th>secondary_cleaner.state.floatbank6_a_air</th>\n",
       "      <th>secondary_cleaner.state.floatbank6_a_level</th>\n",
       "      <th>final.output.recovery</th>\n",
       "    </tr>\n",
       "    <tr>\n",
       "      <th>date</th>\n",
       "      <th></th>\n",
       "      <th></th>\n",
       "      <th></th>\n",
       "      <th></th>\n",
       "      <th></th>\n",
       "      <th></th>\n",
       "      <th></th>\n",
       "      <th></th>\n",
       "      <th></th>\n",
       "      <th></th>\n",
       "      <th></th>\n",
       "      <th></th>\n",
       "      <th></th>\n",
       "      <th></th>\n",
       "      <th></th>\n",
       "      <th></th>\n",
       "      <th></th>\n",
       "      <th></th>\n",
       "      <th></th>\n",
       "      <th></th>\n",
       "      <th></th>\n",
       "    </tr>\n",
       "  </thead>\n",
       "  <tbody>\n",
       "    <tr>\n",
       "      <th>2016-01-15 00:00:00</th>\n",
       "      <td>6.486150</td>\n",
       "      <td>6.100378</td>\n",
       "      <td>2.284912</td>\n",
       "      <td>36.808594</td>\n",
       "      <td>523.546326</td>\n",
       "      <td>55.486599</td>\n",
       "      <td>11.986616</td>\n",
       "      <td>6.007990</td>\n",
       "      <td>999.706909</td>\n",
       "      <td>-404.066986</td>\n",
       "      <td>...</td>\n",
       "      <td>-502.488007</td>\n",
       "      <td>12.099931</td>\n",
       "      <td>-504.715942</td>\n",
       "      <td>9.925633</td>\n",
       "      <td>-498.310211</td>\n",
       "      <td>8.079666</td>\n",
       "      <td>-500.470978</td>\n",
       "      <td>14.151341</td>\n",
       "      <td>-605.841980</td>\n",
       "      <td>70.541216</td>\n",
       "    </tr>\n",
       "    <tr>\n",
       "      <th>2016-01-15 01:00:00</th>\n",
       "      <td>6.478583</td>\n",
       "      <td>6.161113</td>\n",
       "      <td>2.266033</td>\n",
       "      <td>35.753385</td>\n",
       "      <td>525.290581</td>\n",
       "      <td>57.278666</td>\n",
       "      <td>11.971193</td>\n",
       "      <td>6.005766</td>\n",
       "      <td>1000.286398</td>\n",
       "      <td>-400.065196</td>\n",
       "      <td>...</td>\n",
       "      <td>-505.503262</td>\n",
       "      <td>11.950531</td>\n",
       "      <td>-501.331529</td>\n",
       "      <td>10.039245</td>\n",
       "      <td>-500.169983</td>\n",
       "      <td>7.984757</td>\n",
       "      <td>-500.582168</td>\n",
       "      <td>13.998353</td>\n",
       "      <td>-599.787184</td>\n",
       "      <td>69.266198</td>\n",
       "    </tr>\n",
       "    <tr>\n",
       "      <th>2016-01-15 02:00:00</th>\n",
       "      <td>6.362222</td>\n",
       "      <td>6.116455</td>\n",
       "      <td>2.159622</td>\n",
       "      <td>35.971630</td>\n",
       "      <td>530.026610</td>\n",
       "      <td>57.510649</td>\n",
       "      <td>11.920603</td>\n",
       "      <td>6.197377</td>\n",
       "      <td>999.719565</td>\n",
       "      <td>-400.074028</td>\n",
       "      <td>...</td>\n",
       "      <td>-502.520901</td>\n",
       "      <td>11.912783</td>\n",
       "      <td>-501.133383</td>\n",
       "      <td>10.070913</td>\n",
       "      <td>-500.129135</td>\n",
       "      <td>8.013877</td>\n",
       "      <td>-500.517572</td>\n",
       "      <td>14.028663</td>\n",
       "      <td>-601.427363</td>\n",
       "      <td>68.116445</td>\n",
       "    </tr>\n",
       "    <tr>\n",
       "      <th>2016-01-15 03:00:00</th>\n",
       "      <td>6.118189</td>\n",
       "      <td>6.043309</td>\n",
       "      <td>2.037807</td>\n",
       "      <td>36.862241</td>\n",
       "      <td>542.590390</td>\n",
       "      <td>57.792734</td>\n",
       "      <td>11.630094</td>\n",
       "      <td>6.203177</td>\n",
       "      <td>999.814770</td>\n",
       "      <td>-400.200179</td>\n",
       "      <td>...</td>\n",
       "      <td>-500.857308</td>\n",
       "      <td>11.999550</td>\n",
       "      <td>-501.193686</td>\n",
       "      <td>9.970366</td>\n",
       "      <td>-499.201640</td>\n",
       "      <td>7.977324</td>\n",
       "      <td>-500.255908</td>\n",
       "      <td>14.005551</td>\n",
       "      <td>-599.996129</td>\n",
       "      <td>68.347543</td>\n",
       "    </tr>\n",
       "    <tr>\n",
       "      <th>2016-01-15 04:00:00</th>\n",
       "      <td>5.663707</td>\n",
       "      <td>6.060915</td>\n",
       "      <td>1.786875</td>\n",
       "      <td>34.347666</td>\n",
       "      <td>540.531893</td>\n",
       "      <td>56.047189</td>\n",
       "      <td>10.957755</td>\n",
       "      <td>6.198826</td>\n",
       "      <td>999.678690</td>\n",
       "      <td>-399.752729</td>\n",
       "      <td>...</td>\n",
       "      <td>-499.838632</td>\n",
       "      <td>11.953070</td>\n",
       "      <td>-501.053894</td>\n",
       "      <td>9.925709</td>\n",
       "      <td>-501.686727</td>\n",
       "      <td>7.894242</td>\n",
       "      <td>-500.356035</td>\n",
       "      <td>13.996647</td>\n",
       "      <td>-601.496691</td>\n",
       "      <td>66.927016</td>\n",
       "    </tr>\n",
       "  </tbody>\n",
       "</table>\n",
       "<p>5 rows × 54 columns</p>\n",
       "</div>"
      ],
      "text/plain": [
       "                     rougher.input.feed_au  rougher.input.feed_ag  \\\n",
       "date                                                                \n",
       "2016-01-15 00:00:00               6.486150               6.100378   \n",
       "2016-01-15 01:00:00               6.478583               6.161113   \n",
       "2016-01-15 02:00:00               6.362222               6.116455   \n",
       "2016-01-15 03:00:00               6.118189               6.043309   \n",
       "2016-01-15 04:00:00               5.663707               6.060915   \n",
       "\n",
       "                     rougher.input.feed_pb  rougher.input.feed_sol  \\\n",
       "date                                                                 \n",
       "2016-01-15 00:00:00               2.284912               36.808594   \n",
       "2016-01-15 01:00:00               2.266033               35.753385   \n",
       "2016-01-15 02:00:00               2.159622               35.971630   \n",
       "2016-01-15 03:00:00               2.037807               36.862241   \n",
       "2016-01-15 04:00:00               1.786875               34.347666   \n",
       "\n",
       "                     rougher.input.feed_rate  rougher.input.feed_size  \\\n",
       "date                                                                    \n",
       "2016-01-15 00:00:00               523.546326                55.486599   \n",
       "2016-01-15 01:00:00               525.290581                57.278666   \n",
       "2016-01-15 02:00:00               530.026610                57.510649   \n",
       "2016-01-15 03:00:00               542.590390                57.792734   \n",
       "2016-01-15 04:00:00               540.531893                56.047189   \n",
       "\n",
       "                     rougher.input.floatbank10_sulfate  \\\n",
       "date                                                     \n",
       "2016-01-15 00:00:00                          11.986616   \n",
       "2016-01-15 01:00:00                          11.971193   \n",
       "2016-01-15 02:00:00                          11.920603   \n",
       "2016-01-15 03:00:00                          11.630094   \n",
       "2016-01-15 04:00:00                          10.957755   \n",
       "\n",
       "                     rougher.input.floatbank10_xanthate  \\\n",
       "date                                                      \n",
       "2016-01-15 00:00:00                            6.007990   \n",
       "2016-01-15 01:00:00                            6.005766   \n",
       "2016-01-15 02:00:00                            6.197377   \n",
       "2016-01-15 03:00:00                            6.203177   \n",
       "2016-01-15 04:00:00                            6.198826   \n",
       "\n",
       "                     rougher.state.floatbank10_a_air  \\\n",
       "date                                                   \n",
       "2016-01-15 00:00:00                       999.706909   \n",
       "2016-01-15 01:00:00                      1000.286398   \n",
       "2016-01-15 02:00:00                       999.719565   \n",
       "2016-01-15 03:00:00                       999.814770   \n",
       "2016-01-15 04:00:00                       999.678690   \n",
       "\n",
       "                     rougher.state.floatbank10_a_level  ...  \\\n",
       "date                                                    ...   \n",
       "2016-01-15 00:00:00                        -404.066986  ...   \n",
       "2016-01-15 01:00:00                        -400.065196  ...   \n",
       "2016-01-15 02:00:00                        -400.074028  ...   \n",
       "2016-01-15 03:00:00                        -400.200179  ...   \n",
       "2016-01-15 04:00:00                        -399.752729  ...   \n",
       "\n",
       "                     secondary_cleaner.state.floatbank4_a_level  \\\n",
       "date                                                              \n",
       "2016-01-15 00:00:00                                 -502.488007   \n",
       "2016-01-15 01:00:00                                 -505.503262   \n",
       "2016-01-15 02:00:00                                 -502.520901   \n",
       "2016-01-15 03:00:00                                 -500.857308   \n",
       "2016-01-15 04:00:00                                 -499.838632   \n",
       "\n",
       "                     secondary_cleaner.state.floatbank4_b_air  \\\n",
       "date                                                            \n",
       "2016-01-15 00:00:00                                 12.099931   \n",
       "2016-01-15 01:00:00                                 11.950531   \n",
       "2016-01-15 02:00:00                                 11.912783   \n",
       "2016-01-15 03:00:00                                 11.999550   \n",
       "2016-01-15 04:00:00                                 11.953070   \n",
       "\n",
       "                     secondary_cleaner.state.floatbank4_b_level  \\\n",
       "date                                                              \n",
       "2016-01-15 00:00:00                                 -504.715942   \n",
       "2016-01-15 01:00:00                                 -501.331529   \n",
       "2016-01-15 02:00:00                                 -501.133383   \n",
       "2016-01-15 03:00:00                                 -501.193686   \n",
       "2016-01-15 04:00:00                                 -501.053894   \n",
       "\n",
       "                     secondary_cleaner.state.floatbank5_a_air  \\\n",
       "date                                                            \n",
       "2016-01-15 00:00:00                                  9.925633   \n",
       "2016-01-15 01:00:00                                 10.039245   \n",
       "2016-01-15 02:00:00                                 10.070913   \n",
       "2016-01-15 03:00:00                                  9.970366   \n",
       "2016-01-15 04:00:00                                  9.925709   \n",
       "\n",
       "                     secondary_cleaner.state.floatbank5_a_level  \\\n",
       "date                                                              \n",
       "2016-01-15 00:00:00                                 -498.310211   \n",
       "2016-01-15 01:00:00                                 -500.169983   \n",
       "2016-01-15 02:00:00                                 -500.129135   \n",
       "2016-01-15 03:00:00                                 -499.201640   \n",
       "2016-01-15 04:00:00                                 -501.686727   \n",
       "\n",
       "                     secondary_cleaner.state.floatbank5_b_air  \\\n",
       "date                                                            \n",
       "2016-01-15 00:00:00                                  8.079666   \n",
       "2016-01-15 01:00:00                                  7.984757   \n",
       "2016-01-15 02:00:00                                  8.013877   \n",
       "2016-01-15 03:00:00                                  7.977324   \n",
       "2016-01-15 04:00:00                                  7.894242   \n",
       "\n",
       "                     secondary_cleaner.state.floatbank5_b_level  \\\n",
       "date                                                              \n",
       "2016-01-15 00:00:00                                 -500.470978   \n",
       "2016-01-15 01:00:00                                 -500.582168   \n",
       "2016-01-15 02:00:00                                 -500.517572   \n",
       "2016-01-15 03:00:00                                 -500.255908   \n",
       "2016-01-15 04:00:00                                 -500.356035   \n",
       "\n",
       "                     secondary_cleaner.state.floatbank6_a_air  \\\n",
       "date                                                            \n",
       "2016-01-15 00:00:00                                 14.151341   \n",
       "2016-01-15 01:00:00                                 13.998353   \n",
       "2016-01-15 02:00:00                                 14.028663   \n",
       "2016-01-15 03:00:00                                 14.005551   \n",
       "2016-01-15 04:00:00                                 13.996647   \n",
       "\n",
       "                     secondary_cleaner.state.floatbank6_a_level  \\\n",
       "date                                                              \n",
       "2016-01-15 00:00:00                                 -605.841980   \n",
       "2016-01-15 01:00:00                                 -599.787184   \n",
       "2016-01-15 02:00:00                                 -601.427363   \n",
       "2016-01-15 03:00:00                                 -599.996129   \n",
       "2016-01-15 04:00:00                                 -601.496691   \n",
       "\n",
       "                     final.output.recovery  \n",
       "date                                        \n",
       "2016-01-15 00:00:00              70.541216  \n",
       "2016-01-15 01:00:00              69.266198  \n",
       "2016-01-15 02:00:00              68.116445  \n",
       "2016-01-15 03:00:00              68.347543  \n",
       "2016-01-15 04:00:00              66.927016  \n",
       "\n",
       "[5 rows x 54 columns]"
      ]
     },
     "execution_count": 22,
     "metadata": {},
     "output_type": "execute_result"
    }
   ],
   "source": [
    "# удаляем из обучающей выборки столбцы, отсутствующие в тестовой выборке\n",
    "df_train.drop(columns=different_cols_new, inplace=True)\n",
    "df_train.head()"
   ]
  },
  {
   "cell_type": "code",
   "execution_count": 23,
   "id": "b161de84-8fed-434e-a62a-5e3e7fe1cb58",
   "metadata": {},
   "outputs": [
    {
     "data": {
      "text/html": [
       "<div>\n",
       "<style scoped>\n",
       "    .dataframe tbody tr th:only-of-type {\n",
       "        vertical-align: middle;\n",
       "    }\n",
       "\n",
       "    .dataframe tbody tr th {\n",
       "        vertical-align: top;\n",
       "    }\n",
       "\n",
       "    .dataframe thead th {\n",
       "        text-align: right;\n",
       "    }\n",
       "</style>\n",
       "<table border=\"1\" class=\"dataframe\">\n",
       "  <thead>\n",
       "    <tr style=\"text-align: right;\">\n",
       "      <th></th>\n",
       "      <th>rougher.input.feed_au</th>\n",
       "      <th>rougher.input.feed_ag</th>\n",
       "      <th>rougher.input.feed_pb</th>\n",
       "      <th>rougher.input.feed_sol</th>\n",
       "      <th>rougher.input.feed_rate</th>\n",
       "      <th>rougher.input.feed_size</th>\n",
       "      <th>rougher.input.floatbank10_sulfate</th>\n",
       "      <th>rougher.input.floatbank10_xanthate</th>\n",
       "      <th>rougher.state.floatbank10_a_air</th>\n",
       "      <th>rougher.state.floatbank10_a_level</th>\n",
       "      <th>...</th>\n",
       "      <th>secondary_cleaner.state.floatbank4_b_air</th>\n",
       "      <th>secondary_cleaner.state.floatbank4_b_level</th>\n",
       "      <th>secondary_cleaner.state.floatbank5_a_air</th>\n",
       "      <th>secondary_cleaner.state.floatbank5_a_level</th>\n",
       "      <th>secondary_cleaner.state.floatbank5_b_air</th>\n",
       "      <th>secondary_cleaner.state.floatbank5_b_level</th>\n",
       "      <th>secondary_cleaner.state.floatbank6_a_air</th>\n",
       "      <th>secondary_cleaner.state.floatbank6_a_level</th>\n",
       "      <th>rougher.output.recovery</th>\n",
       "      <th>final.output.recovery</th>\n",
       "    </tr>\n",
       "    <tr>\n",
       "      <th>date</th>\n",
       "      <th></th>\n",
       "      <th></th>\n",
       "      <th></th>\n",
       "      <th></th>\n",
       "      <th></th>\n",
       "      <th></th>\n",
       "      <th></th>\n",
       "      <th></th>\n",
       "      <th></th>\n",
       "      <th></th>\n",
       "      <th></th>\n",
       "      <th></th>\n",
       "      <th></th>\n",
       "      <th></th>\n",
       "      <th></th>\n",
       "      <th></th>\n",
       "      <th></th>\n",
       "      <th></th>\n",
       "      <th></th>\n",
       "      <th></th>\n",
       "      <th></th>\n",
       "    </tr>\n",
       "  </thead>\n",
       "  <tbody>\n",
       "    <tr>\n",
       "      <th>2017-12-09 14:59:59</th>\n",
       "      <td>4.365491</td>\n",
       "      <td>6.158718</td>\n",
       "      <td>3.875727</td>\n",
       "      <td>39.135119</td>\n",
       "      <td>555.820208</td>\n",
       "      <td>94.544358</td>\n",
       "      <td>6.146982</td>\n",
       "      <td>9.308612</td>\n",
       "      <td>1196.238112</td>\n",
       "      <td>-299.862743</td>\n",
       "      <td>...</td>\n",
       "      <td>20.020205</td>\n",
       "      <td>-500.220296</td>\n",
       "      <td>17.963512</td>\n",
       "      <td>-499.939490</td>\n",
       "      <td>12.990306</td>\n",
       "      <td>-500.080993</td>\n",
       "      <td>19.990336</td>\n",
       "      <td>-499.191575</td>\n",
       "      <td>89.514960</td>\n",
       "      <td>70.281454</td>\n",
       "    </tr>\n",
       "    <tr>\n",
       "      <th>2017-12-09 15:59:59</th>\n",
       "      <td>4.362781</td>\n",
       "      <td>6.048130</td>\n",
       "      <td>3.902537</td>\n",
       "      <td>39.713906</td>\n",
       "      <td>544.731687</td>\n",
       "      <td>123.742430</td>\n",
       "      <td>6.210119</td>\n",
       "      <td>9.297709</td>\n",
       "      <td>1201.904177</td>\n",
       "      <td>-299.907308</td>\n",
       "      <td>...</td>\n",
       "      <td>20.054122</td>\n",
       "      <td>-500.314711</td>\n",
       "      <td>17.979515</td>\n",
       "      <td>-499.272871</td>\n",
       "      <td>12.992404</td>\n",
       "      <td>-499.976268</td>\n",
       "      <td>20.013986</td>\n",
       "      <td>-500.625471</td>\n",
       "      <td>89.858126</td>\n",
       "      <td>65.523246</td>\n",
       "    </tr>\n",
       "    <tr>\n",
       "      <th>2017-12-09 16:59:59</th>\n",
       "      <td>5.081681</td>\n",
       "      <td>6.082745</td>\n",
       "      <td>4.564078</td>\n",
       "      <td>37.208683</td>\n",
       "      <td>558.155110</td>\n",
       "      <td>82.610855</td>\n",
       "      <td>7.363824</td>\n",
       "      <td>9.003562</td>\n",
       "      <td>1200.826926</td>\n",
       "      <td>-300.124116</td>\n",
       "      <td>...</td>\n",
       "      <td>20.029144</td>\n",
       "      <td>-500.000662</td>\n",
       "      <td>18.012723</td>\n",
       "      <td>-500.024764</td>\n",
       "      <td>13.016445</td>\n",
       "      <td>-500.058432</td>\n",
       "      <td>19.973767</td>\n",
       "      <td>-501.394155</td>\n",
       "      <td>91.816623</td>\n",
       "      <td>74.817644</td>\n",
       "    </tr>\n",
       "    <tr>\n",
       "      <th>2017-12-09 17:59:59</th>\n",
       "      <td>5.145949</td>\n",
       "      <td>6.084374</td>\n",
       "      <td>4.768124</td>\n",
       "      <td>36.808874</td>\n",
       "      <td>539.713765</td>\n",
       "      <td>77.984784</td>\n",
       "      <td>6.927072</td>\n",
       "      <td>8.955597</td>\n",
       "      <td>1199.292489</td>\n",
       "      <td>-299.778385</td>\n",
       "      <td>...</td>\n",
       "      <td>19.977466</td>\n",
       "      <td>-500.159903</td>\n",
       "      <td>17.980463</td>\n",
       "      <td>-500.504602</td>\n",
       "      <td>12.949071</td>\n",
       "      <td>-500.009937</td>\n",
       "      <td>20.010332</td>\n",
       "      <td>-508.337973</td>\n",
       "      <td>88.478959</td>\n",
       "      <td>63.082720</td>\n",
       "    </tr>\n",
       "    <tr>\n",
       "      <th>2017-12-09 18:59:59</th>\n",
       "      <td>5.735249</td>\n",
       "      <td>6.165220</td>\n",
       "      <td>4.512346</td>\n",
       "      <td>37.810642</td>\n",
       "      <td>558.713584</td>\n",
       "      <td>86.434874</td>\n",
       "      <td>7.823471</td>\n",
       "      <td>7.490356</td>\n",
       "      <td>1198.005449</td>\n",
       "      <td>-300.283401</td>\n",
       "      <td>...</td>\n",
       "      <td>20.023735</td>\n",
       "      <td>-499.713680</td>\n",
       "      <td>17.990955</td>\n",
       "      <td>-500.334769</td>\n",
       "      <td>13.007523</td>\n",
       "      <td>-499.968459</td>\n",
       "      <td>19.995999</td>\n",
       "      <td>-499.788805</td>\n",
       "      <td>89.230316</td>\n",
       "      <td>74.463380</td>\n",
       "    </tr>\n",
       "  </tbody>\n",
       "</table>\n",
       "<p>5 rows × 54 columns</p>\n",
       "</div>"
      ],
      "text/plain": [
       "                     rougher.input.feed_au  rougher.input.feed_ag  \\\n",
       "date                                                                \n",
       "2017-12-09 14:59:59               4.365491               6.158718   \n",
       "2017-12-09 15:59:59               4.362781               6.048130   \n",
       "2017-12-09 16:59:59               5.081681               6.082745   \n",
       "2017-12-09 17:59:59               5.145949               6.084374   \n",
       "2017-12-09 18:59:59               5.735249               6.165220   \n",
       "\n",
       "                     rougher.input.feed_pb  rougher.input.feed_sol  \\\n",
       "date                                                                 \n",
       "2017-12-09 14:59:59               3.875727               39.135119   \n",
       "2017-12-09 15:59:59               3.902537               39.713906   \n",
       "2017-12-09 16:59:59               4.564078               37.208683   \n",
       "2017-12-09 17:59:59               4.768124               36.808874   \n",
       "2017-12-09 18:59:59               4.512346               37.810642   \n",
       "\n",
       "                     rougher.input.feed_rate  rougher.input.feed_size  \\\n",
       "date                                                                    \n",
       "2017-12-09 14:59:59               555.820208                94.544358   \n",
       "2017-12-09 15:59:59               544.731687               123.742430   \n",
       "2017-12-09 16:59:59               558.155110                82.610855   \n",
       "2017-12-09 17:59:59               539.713765                77.984784   \n",
       "2017-12-09 18:59:59               558.713584                86.434874   \n",
       "\n",
       "                     rougher.input.floatbank10_sulfate  \\\n",
       "date                                                     \n",
       "2017-12-09 14:59:59                           6.146982   \n",
       "2017-12-09 15:59:59                           6.210119   \n",
       "2017-12-09 16:59:59                           7.363824   \n",
       "2017-12-09 17:59:59                           6.927072   \n",
       "2017-12-09 18:59:59                           7.823471   \n",
       "\n",
       "                     rougher.input.floatbank10_xanthate  \\\n",
       "date                                                      \n",
       "2017-12-09 14:59:59                            9.308612   \n",
       "2017-12-09 15:59:59                            9.297709   \n",
       "2017-12-09 16:59:59                            9.003562   \n",
       "2017-12-09 17:59:59                            8.955597   \n",
       "2017-12-09 18:59:59                            7.490356   \n",
       "\n",
       "                     rougher.state.floatbank10_a_air  \\\n",
       "date                                                   \n",
       "2017-12-09 14:59:59                      1196.238112   \n",
       "2017-12-09 15:59:59                      1201.904177   \n",
       "2017-12-09 16:59:59                      1200.826926   \n",
       "2017-12-09 17:59:59                      1199.292489   \n",
       "2017-12-09 18:59:59                      1198.005449   \n",
       "\n",
       "                     rougher.state.floatbank10_a_level  ...  \\\n",
       "date                                                    ...   \n",
       "2017-12-09 14:59:59                        -299.862743  ...   \n",
       "2017-12-09 15:59:59                        -299.907308  ...   \n",
       "2017-12-09 16:59:59                        -300.124116  ...   \n",
       "2017-12-09 17:59:59                        -299.778385  ...   \n",
       "2017-12-09 18:59:59                        -300.283401  ...   \n",
       "\n",
       "                     secondary_cleaner.state.floatbank4_b_air  \\\n",
       "date                                                            \n",
       "2017-12-09 14:59:59                                 20.020205   \n",
       "2017-12-09 15:59:59                                 20.054122   \n",
       "2017-12-09 16:59:59                                 20.029144   \n",
       "2017-12-09 17:59:59                                 19.977466   \n",
       "2017-12-09 18:59:59                                 20.023735   \n",
       "\n",
       "                     secondary_cleaner.state.floatbank4_b_level  \\\n",
       "date                                                              \n",
       "2017-12-09 14:59:59                                 -500.220296   \n",
       "2017-12-09 15:59:59                                 -500.314711   \n",
       "2017-12-09 16:59:59                                 -500.000662   \n",
       "2017-12-09 17:59:59                                 -500.159903   \n",
       "2017-12-09 18:59:59                                 -499.713680   \n",
       "\n",
       "                     secondary_cleaner.state.floatbank5_a_air  \\\n",
       "date                                                            \n",
       "2017-12-09 14:59:59                                 17.963512   \n",
       "2017-12-09 15:59:59                                 17.979515   \n",
       "2017-12-09 16:59:59                                 18.012723   \n",
       "2017-12-09 17:59:59                                 17.980463   \n",
       "2017-12-09 18:59:59                                 17.990955   \n",
       "\n",
       "                     secondary_cleaner.state.floatbank5_a_level  \\\n",
       "date                                                              \n",
       "2017-12-09 14:59:59                                 -499.939490   \n",
       "2017-12-09 15:59:59                                 -499.272871   \n",
       "2017-12-09 16:59:59                                 -500.024764   \n",
       "2017-12-09 17:59:59                                 -500.504602   \n",
       "2017-12-09 18:59:59                                 -500.334769   \n",
       "\n",
       "                     secondary_cleaner.state.floatbank5_b_air  \\\n",
       "date                                                            \n",
       "2017-12-09 14:59:59                                 12.990306   \n",
       "2017-12-09 15:59:59                                 12.992404   \n",
       "2017-12-09 16:59:59                                 13.016445   \n",
       "2017-12-09 17:59:59                                 12.949071   \n",
       "2017-12-09 18:59:59                                 13.007523   \n",
       "\n",
       "                     secondary_cleaner.state.floatbank5_b_level  \\\n",
       "date                                                              \n",
       "2017-12-09 14:59:59                                 -500.080993   \n",
       "2017-12-09 15:59:59                                 -499.976268   \n",
       "2017-12-09 16:59:59                                 -500.058432   \n",
       "2017-12-09 17:59:59                                 -500.009937   \n",
       "2017-12-09 18:59:59                                 -499.968459   \n",
       "\n",
       "                     secondary_cleaner.state.floatbank6_a_air  \\\n",
       "date                                                            \n",
       "2017-12-09 14:59:59                                 19.990336   \n",
       "2017-12-09 15:59:59                                 20.013986   \n",
       "2017-12-09 16:59:59                                 19.973767   \n",
       "2017-12-09 17:59:59                                 20.010332   \n",
       "2017-12-09 18:59:59                                 19.995999   \n",
       "\n",
       "                     secondary_cleaner.state.floatbank6_a_level  \\\n",
       "date                                                              \n",
       "2017-12-09 14:59:59                                 -499.191575   \n",
       "2017-12-09 15:59:59                                 -500.625471   \n",
       "2017-12-09 16:59:59                                 -501.394155   \n",
       "2017-12-09 17:59:59                                 -508.337973   \n",
       "2017-12-09 18:59:59                                 -499.788805   \n",
       "\n",
       "                     rougher.output.recovery  final.output.recovery  \n",
       "date                                                                 \n",
       "2017-12-09 14:59:59                89.514960              70.281454  \n",
       "2017-12-09 15:59:59                89.858126              65.523246  \n",
       "2017-12-09 16:59:59                91.816623              74.817644  \n",
       "2017-12-09 17:59:59                88.478959              63.082720  \n",
       "2017-12-09 18:59:59                89.230316              74.463380  \n",
       "\n",
       "[5 rows x 54 columns]"
      ]
     },
     "execution_count": 23,
     "metadata": {},
     "output_type": "execute_result"
    }
   ],
   "source": [
    "# переносим столбцы с целевыми признаками из полного датасета в тестовую выборку\n",
    "df_test = pd.merge(df_test, df_full[target_cols], left_index=True, right_index=True)\n",
    "df_test.head()"
   ]
  },
  {
   "cell_type": "markdown",
   "id": "92456e37-9164-47f0-86b5-d135e5bb4d86",
   "metadata": {},
   "source": [
    "**Вывод:** В ходе предобработки данных заменены пропуски во всех датасета методом интерполяции. Удалены целевые признаки (кроме эффективности обогащения) из обучающей выборки. Добавлены целевые признаки _rougher.output.recovery_ и _final.output.recovery_ в тестовую выборку из полного датасета. Теперь обучающая и тестовая выборки имеют одинаковое количество и названия столбцов."
   ]
  },
  {
   "cell_type": "markdown",
   "id": "b7f52f69-9e3e-48b2-ae12-0dce869d5941",
   "metadata": {},
   "source": [
    "## Шаг 2. Анализ данных"
   ]
  },
  {
   "cell_type": "markdown",
   "id": "0fb3fd5e-5a29-4d5e-93bd-a7ddfab6fbda",
   "metadata": {},
   "source": [
    "### Посмотрите, как меняется концентрация металлов (Au, Ag, Pb) на различных этапах: в сырье, в черновом концентрате, в концентрате после первой очистки и в финальном концентрате. Какие особенности имеют распределения? Опишите выводы."
   ]
  },
  {
   "cell_type": "code",
   "execution_count": 24,
   "id": "6fc4888d-6808-41df-aca8-46ce21507289",
   "metadata": {},
   "outputs": [
    {
     "data": {
      "text/html": [
       "<div>\n",
       "<style scoped>\n",
       "    .dataframe tbody tr th:only-of-type {\n",
       "        vertical-align: middle;\n",
       "    }\n",
       "\n",
       "    .dataframe tbody tr th {\n",
       "        vertical-align: top;\n",
       "    }\n",
       "\n",
       "    .dataframe thead th {\n",
       "        text-align: right;\n",
       "    }\n",
       "</style>\n",
       "<table border=\"1\" class=\"dataframe\">\n",
       "  <thead>\n",
       "    <tr style=\"text-align: right;\">\n",
       "      <th></th>\n",
       "      <th>rougher.input.feed_au</th>\n",
       "      <th>rougher.input.feed_ag</th>\n",
       "      <th>rougher.input.feed_pb</th>\n",
       "      <th>rougher.input.feed_sol</th>\n",
       "      <th>rougher.input.feed_rate</th>\n",
       "      <th>rougher.input.feed_size</th>\n",
       "      <th>rougher.input.floatbank10_sulfate</th>\n",
       "      <th>rougher.input.floatbank10_xanthate</th>\n",
       "      <th>rougher.state.floatbank10_a_air</th>\n",
       "      <th>rougher.state.floatbank10_a_level</th>\n",
       "      <th>...</th>\n",
       "      <th>secondary_cleaner.output.tail_sol</th>\n",
       "      <th>final.output.concentrate_au</th>\n",
       "      <th>final.output.concentrate_ag</th>\n",
       "      <th>final.output.concentrate_pb</th>\n",
       "      <th>final.output.concentrate_sol</th>\n",
       "      <th>final.output.recovery</th>\n",
       "      <th>final.output.tail_au</th>\n",
       "      <th>final.output.tail_ag</th>\n",
       "      <th>final.output.tail_pb</th>\n",
       "      <th>final.output.tail_sol</th>\n",
       "    </tr>\n",
       "    <tr>\n",
       "      <th>date</th>\n",
       "      <th></th>\n",
       "      <th></th>\n",
       "      <th></th>\n",
       "      <th></th>\n",
       "      <th></th>\n",
       "      <th></th>\n",
       "      <th></th>\n",
       "      <th></th>\n",
       "      <th></th>\n",
       "      <th></th>\n",
       "      <th></th>\n",
       "      <th></th>\n",
       "      <th></th>\n",
       "      <th></th>\n",
       "      <th></th>\n",
       "      <th></th>\n",
       "      <th></th>\n",
       "      <th></th>\n",
       "      <th></th>\n",
       "      <th></th>\n",
       "      <th></th>\n",
       "    </tr>\n",
       "  </thead>\n",
       "  <tbody>\n",
       "    <tr>\n",
       "      <th>2016-01-15 00:00:00</th>\n",
       "      <td>6.486150</td>\n",
       "      <td>6.100378</td>\n",
       "      <td>2.284912</td>\n",
       "      <td>36.808594</td>\n",
       "      <td>523.546326</td>\n",
       "      <td>55.486599</td>\n",
       "      <td>11.986616</td>\n",
       "      <td>6.007990</td>\n",
       "      <td>999.706909</td>\n",
       "      <td>-404.066986</td>\n",
       "      <td>...</td>\n",
       "      <td>8.764648</td>\n",
       "      <td>42.192020</td>\n",
       "      <td>6.055403</td>\n",
       "      <td>9.889648</td>\n",
       "      <td>5.507324</td>\n",
       "      <td>70.541216</td>\n",
       "      <td>2.143149</td>\n",
       "      <td>10.411962</td>\n",
       "      <td>0.895447</td>\n",
       "      <td>16.904297</td>\n",
       "    </tr>\n",
       "    <tr>\n",
       "      <th>2016-01-15 01:00:00</th>\n",
       "      <td>6.478583</td>\n",
       "      <td>6.161113</td>\n",
       "      <td>2.266033</td>\n",
       "      <td>35.753385</td>\n",
       "      <td>525.290581</td>\n",
       "      <td>57.278666</td>\n",
       "      <td>11.971193</td>\n",
       "      <td>6.005766</td>\n",
       "      <td>1000.286398</td>\n",
       "      <td>-400.065196</td>\n",
       "      <td>...</td>\n",
       "      <td>9.001494</td>\n",
       "      <td>42.701629</td>\n",
       "      <td>6.029369</td>\n",
       "      <td>9.968944</td>\n",
       "      <td>5.257781</td>\n",
       "      <td>69.266198</td>\n",
       "      <td>2.224930</td>\n",
       "      <td>10.462676</td>\n",
       "      <td>0.927452</td>\n",
       "      <td>16.634514</td>\n",
       "    </tr>\n",
       "    <tr>\n",
       "      <th>2016-01-15 02:00:00</th>\n",
       "      <td>6.362222</td>\n",
       "      <td>6.116455</td>\n",
       "      <td>2.159622</td>\n",
       "      <td>35.971630</td>\n",
       "      <td>530.026610</td>\n",
       "      <td>57.510649</td>\n",
       "      <td>11.920603</td>\n",
       "      <td>6.197377</td>\n",
       "      <td>999.719565</td>\n",
       "      <td>-400.074028</td>\n",
       "      <td>...</td>\n",
       "      <td>8.842896</td>\n",
       "      <td>42.657501</td>\n",
       "      <td>6.055926</td>\n",
       "      <td>10.213995</td>\n",
       "      <td>5.383759</td>\n",
       "      <td>68.116445</td>\n",
       "      <td>2.257889</td>\n",
       "      <td>10.507046</td>\n",
       "      <td>0.953716</td>\n",
       "      <td>16.208849</td>\n",
       "    </tr>\n",
       "    <tr>\n",
       "      <th>2016-01-15 03:00:00</th>\n",
       "      <td>6.118189</td>\n",
       "      <td>6.043309</td>\n",
       "      <td>2.037807</td>\n",
       "      <td>36.862241</td>\n",
       "      <td>542.590390</td>\n",
       "      <td>57.792734</td>\n",
       "      <td>11.630094</td>\n",
       "      <td>6.203177</td>\n",
       "      <td>999.814770</td>\n",
       "      <td>-400.200179</td>\n",
       "      <td>...</td>\n",
       "      <td>9.122857</td>\n",
       "      <td>42.689819</td>\n",
       "      <td>6.047977</td>\n",
       "      <td>9.977019</td>\n",
       "      <td>4.858634</td>\n",
       "      <td>68.347543</td>\n",
       "      <td>2.146849</td>\n",
       "      <td>10.422762</td>\n",
       "      <td>0.883763</td>\n",
       "      <td>16.532835</td>\n",
       "    </tr>\n",
       "    <tr>\n",
       "      <th>2016-01-15 04:00:00</th>\n",
       "      <td>5.663707</td>\n",
       "      <td>6.060915</td>\n",
       "      <td>1.786875</td>\n",
       "      <td>34.347666</td>\n",
       "      <td>540.531893</td>\n",
       "      <td>56.047189</td>\n",
       "      <td>10.957755</td>\n",
       "      <td>6.198826</td>\n",
       "      <td>999.678690</td>\n",
       "      <td>-399.752729</td>\n",
       "      <td>...</td>\n",
       "      <td>8.871028</td>\n",
       "      <td>42.774141</td>\n",
       "      <td>6.148599</td>\n",
       "      <td>10.142511</td>\n",
       "      <td>4.939416</td>\n",
       "      <td>66.927016</td>\n",
       "      <td>2.055292</td>\n",
       "      <td>10.360302</td>\n",
       "      <td>0.792826</td>\n",
       "      <td>16.525686</td>\n",
       "    </tr>\n",
       "  </tbody>\n",
       "</table>\n",
       "<p>5 rows × 86 columns</p>\n",
       "</div>"
      ],
      "text/plain": [
       "                     rougher.input.feed_au  rougher.input.feed_ag  \\\n",
       "date                                                                \n",
       "2016-01-15 00:00:00               6.486150               6.100378   \n",
       "2016-01-15 01:00:00               6.478583               6.161113   \n",
       "2016-01-15 02:00:00               6.362222               6.116455   \n",
       "2016-01-15 03:00:00               6.118189               6.043309   \n",
       "2016-01-15 04:00:00               5.663707               6.060915   \n",
       "\n",
       "                     rougher.input.feed_pb  rougher.input.feed_sol  \\\n",
       "date                                                                 \n",
       "2016-01-15 00:00:00               2.284912               36.808594   \n",
       "2016-01-15 01:00:00               2.266033               35.753385   \n",
       "2016-01-15 02:00:00               2.159622               35.971630   \n",
       "2016-01-15 03:00:00               2.037807               36.862241   \n",
       "2016-01-15 04:00:00               1.786875               34.347666   \n",
       "\n",
       "                     rougher.input.feed_rate  rougher.input.feed_size  \\\n",
       "date                                                                    \n",
       "2016-01-15 00:00:00               523.546326                55.486599   \n",
       "2016-01-15 01:00:00               525.290581                57.278666   \n",
       "2016-01-15 02:00:00               530.026610                57.510649   \n",
       "2016-01-15 03:00:00               542.590390                57.792734   \n",
       "2016-01-15 04:00:00               540.531893                56.047189   \n",
       "\n",
       "                     rougher.input.floatbank10_sulfate  \\\n",
       "date                                                     \n",
       "2016-01-15 00:00:00                          11.986616   \n",
       "2016-01-15 01:00:00                          11.971193   \n",
       "2016-01-15 02:00:00                          11.920603   \n",
       "2016-01-15 03:00:00                          11.630094   \n",
       "2016-01-15 04:00:00                          10.957755   \n",
       "\n",
       "                     rougher.input.floatbank10_xanthate  \\\n",
       "date                                                      \n",
       "2016-01-15 00:00:00                            6.007990   \n",
       "2016-01-15 01:00:00                            6.005766   \n",
       "2016-01-15 02:00:00                            6.197377   \n",
       "2016-01-15 03:00:00                            6.203177   \n",
       "2016-01-15 04:00:00                            6.198826   \n",
       "\n",
       "                     rougher.state.floatbank10_a_air  \\\n",
       "date                                                   \n",
       "2016-01-15 00:00:00                       999.706909   \n",
       "2016-01-15 01:00:00                      1000.286398   \n",
       "2016-01-15 02:00:00                       999.719565   \n",
       "2016-01-15 03:00:00                       999.814770   \n",
       "2016-01-15 04:00:00                       999.678690   \n",
       "\n",
       "                     rougher.state.floatbank10_a_level  ...  \\\n",
       "date                                                    ...   \n",
       "2016-01-15 00:00:00                        -404.066986  ...   \n",
       "2016-01-15 01:00:00                        -400.065196  ...   \n",
       "2016-01-15 02:00:00                        -400.074028  ...   \n",
       "2016-01-15 03:00:00                        -400.200179  ...   \n",
       "2016-01-15 04:00:00                        -399.752729  ...   \n",
       "\n",
       "                     secondary_cleaner.output.tail_sol  \\\n",
       "date                                                     \n",
       "2016-01-15 00:00:00                           8.764648   \n",
       "2016-01-15 01:00:00                           9.001494   \n",
       "2016-01-15 02:00:00                           8.842896   \n",
       "2016-01-15 03:00:00                           9.122857   \n",
       "2016-01-15 04:00:00                           8.871028   \n",
       "\n",
       "                     final.output.concentrate_au  final.output.concentrate_ag  \\\n",
       "date                                                                            \n",
       "2016-01-15 00:00:00                    42.192020                     6.055403   \n",
       "2016-01-15 01:00:00                    42.701629                     6.029369   \n",
       "2016-01-15 02:00:00                    42.657501                     6.055926   \n",
       "2016-01-15 03:00:00                    42.689819                     6.047977   \n",
       "2016-01-15 04:00:00                    42.774141                     6.148599   \n",
       "\n",
       "                     final.output.concentrate_pb  \\\n",
       "date                                               \n",
       "2016-01-15 00:00:00                     9.889648   \n",
       "2016-01-15 01:00:00                     9.968944   \n",
       "2016-01-15 02:00:00                    10.213995   \n",
       "2016-01-15 03:00:00                     9.977019   \n",
       "2016-01-15 04:00:00                    10.142511   \n",
       "\n",
       "                     final.output.concentrate_sol  final.output.recovery  \\\n",
       "date                                                                       \n",
       "2016-01-15 00:00:00                      5.507324              70.541216   \n",
       "2016-01-15 01:00:00                      5.257781              69.266198   \n",
       "2016-01-15 02:00:00                      5.383759              68.116445   \n",
       "2016-01-15 03:00:00                      4.858634              68.347543   \n",
       "2016-01-15 04:00:00                      4.939416              66.927016   \n",
       "\n",
       "                     final.output.tail_au  final.output.tail_ag  \\\n",
       "date                                                              \n",
       "2016-01-15 00:00:00              2.143149             10.411962   \n",
       "2016-01-15 01:00:00              2.224930             10.462676   \n",
       "2016-01-15 02:00:00              2.257889             10.507046   \n",
       "2016-01-15 03:00:00              2.146849             10.422762   \n",
       "2016-01-15 04:00:00              2.055292             10.360302   \n",
       "\n",
       "                     final.output.tail_pb  final.output.tail_sol  \n",
       "date                                                              \n",
       "2016-01-15 00:00:00              0.895447              16.904297  \n",
       "2016-01-15 01:00:00              0.927452              16.634514  \n",
       "2016-01-15 02:00:00              0.953716              16.208849  \n",
       "2016-01-15 03:00:00              0.883763              16.532835  \n",
       "2016-01-15 04:00:00              0.792826              16.525686  \n",
       "\n",
       "[5 rows x 86 columns]"
      ]
     },
     "execution_count": 24,
     "metadata": {},
     "output_type": "execute_result"
    }
   ],
   "source": [
    "df_full.head()"
   ]
  },
  {
   "cell_type": "code",
   "execution_count": 25,
   "id": "1225f7f6-6a7e-46d7-94cf-7166c1fbdfae",
   "metadata": {},
   "outputs": [],
   "source": [
    "aurum = ['rougher.input.feed_au', 'rougher.output.concentrate_au', 'primary_cleaner.output.concentrate_au', 'final.output.concentrate_au']\n",
    "argentum = ['rougher.input.feed_ag', 'rougher.output.concentrate_ag', 'primary_cleaner.output.concentrate_ag', 'final.output.concentrate_ag']\n",
    "plumbum = ['rougher.input.feed_pb', 'rougher.output.concentrate_pb', 'primary_cleaner.output.concentrate_pb', 'final.output.concentrate_pb']"
   ]
  },
  {
   "cell_type": "code",
   "execution_count": 26,
   "id": "28d3af81-9124-4209-8841-53845fa7812d",
   "metadata": {},
   "outputs": [
    {
     "data": {
      "image/png": "[encoded data removed]",
      "text/plain": [
       "<Figure size 936x504 with 1 Axes>"
      ]
     },
     "metadata": {
      "needs_background": "light"
     },
     "output_type": "display_data"
    },
    {
     "data": {
      "image/png": "[encoded data removed]",
      "text/plain": [
       "<Figure size 936x504 with 1 Axes>"
      ]
     },
     "metadata": {
      "needs_background": "light"
     },
     "output_type": "display_data"
    },
    {
     "data": {
      "image/png": "[encoded data removed]",
      "text/plain": [
       "<Figure size 936x504 with 1 Axes>"
      ]
     },
     "metadata": {
      "needs_background": "light"
     },
     "output_type": "display_data"
    }
   ],
   "source": [
    "metal_list = [aurum, argentum, plumbum]\n",
    "name = [\"Au\", \"Ag\", \"Pb\"]\n",
    "for metal in metal_list:\n",
    "    df_full[metal].plot(kind='hist', bins=100, grid=True, figsize=(13, 7), range=(0, 55), alpha=0.8)\n",
    "    plt.suptitle(f'Изменение концентрации металлов', fontsize=20)\n",
    "    plt.xlabel(\"Концентрация металла\")\n",
    "    plt.ylabel(\"Частота\")\n",
    "    plt.show()"
   ]
  },
  {
   "cell_type": "code",
   "execution_count": 27,
   "id": "320279ee",
   "metadata": {},
   "outputs": [
    {
     "data": {
      "text/plain": [
       "(19439, 86)"
      ]
     },
     "execution_count": 27,
     "metadata": {},
     "output_type": "execute_result"
    }
   ],
   "source": [
    "df_full.shape"
   ]
  },
  {
   "cell_type": "code",
   "execution_count": 28,
   "id": "197207c4",
   "metadata": {},
   "outputs": [],
   "source": [
    "# на данном этапе удаляем выбивающиеся значения. За порог принято значение 1.5%, основываясь на диаграммах изменения концентрация металлов\n",
    "df_full = df_full[df_full['rougher.output.concentrate_au'] >= 1.5]\n",
    "df_full = df_full[df_full['primary_cleaner.output.concentrate_au'] >= 1.5]\n",
    "df_full = df_full[df_full['final.output.concentrate_au'] >= 1.5]\n",
    "df_full = df_full[df_full['rougher.output.concentrate_ag'] >= 1.5]\n",
    "df_full = df_full[df_full['primary_cleaner.output.concentrate_ag'] >= 1.5]\n",
    "df_full = df_full[df_full['final.output.concentrate_ag'] >= 1.5]\n",
    "df_full = df_full[df_full['rougher.output.concentrate_pb'] >= 1.5]\n",
    "df_full = df_full[df_full['primary_cleaner.output.concentrate_pb'] >= 1.5]\n",
    "df_full = df_full[df_full['final.output.concentrate_pb'] >= 1.5]"
   ]
  },
  {
   "cell_type": "code",
   "execution_count": 29,
   "id": "2f2776e7",
   "metadata": {},
   "outputs": [
    {
     "data": {
      "text/plain": [
       "(18634, 86)"
      ]
     },
     "execution_count": 29,
     "metadata": {},
     "output_type": "execute_result"
    }
   ],
   "source": [
    "df_full.shape"
   ]
  },
  {
   "cell_type": "code",
   "execution_count": 30,
   "id": "4abac759",
   "metadata": {},
   "outputs": [
    {
     "data": {
      "image/png": "[encoded data removed]",
      "text/plain": [
       "<Figure size 936x504 with 1 Axes>"
      ]
     },
     "metadata": {
      "needs_background": "light"
     },
     "output_type": "display_data"
    },
    {
     "data": {
      "image/png": "[encoded data removed]",
      "text/plain": [
       "<Figure size 936x504 with 1 Axes>"
      ]
     },
     "metadata": {
      "needs_background": "light"
     },
     "output_type": "display_data"
    },
    {
     "data": {
      "image/png": "[encoded data removed]",
      "text/plain": [
       "<Figure size 936x504 with 1 Axes>"
      ]
     },
     "metadata": {
      "needs_background": "light"
     },
     "output_type": "display_data"
    }
   ],
   "source": [
    "# проверка результатов обработки данных\n",
    "metal_list = [aurum, argentum, plumbum]\n",
    "name = [\"Au\", \"Ag\", \"Pb\"]\n",
    "for metal in metal_list:\n",
    "    df_full[metal].plot(kind='hist', bins=100, grid=True, figsize=(13, 7), range=(0, 55), alpha=0.8)\n",
    "    plt.suptitle(f'Изменение концентрации металлов', fontsize=20)\n",
    "    plt.xlabel(\"Концентрация металла\")\n",
    "    plt.ylabel(\"Частота\")\n",
    "    plt.show()"
   ]
  },
  {
   "cell_type": "code",
   "execution_count": 31,
   "id": "28efe8a0",
   "metadata": {},
   "outputs": [
    {
     "name": "stdout",
     "output_type": "stream",
     "text": [
      "Длина обучающей выборки до удаления выбросов: 14579\n",
      "Длина тестовой выборки до удаления выбросов: 4860\n"
     ]
    }
   ],
   "source": [
    "print(\"Длина обучающей выборки до удаления выбросов:\", df_train.shape[0])\n",
    "print(\"Длина тестовой выборки до удаления выбросов:\", df_test.shape[0])"
   ]
  },
  {
   "cell_type": "code",
   "execution_count": 32,
   "id": "d47aa648",
   "metadata": {},
   "outputs": [],
   "source": [
    "df_train = df_train[df_train.index.isin(df_full.index)]\n",
    "df_test = df_test[df_test.index.isin(df_full.index)]"
   ]
  },
  {
   "cell_type": "code",
   "execution_count": 33,
   "id": "8d0ff184",
   "metadata": {},
   "outputs": [
    {
     "name": "stdout",
     "output_type": "stream",
     "text": [
      "Длина обучающей выборки после удаления выбросов: 13810\n",
      "Длина тестовой выборки после удаления выбросов: 4824\n"
     ]
    }
   ],
   "source": [
    "print(\"Длина обучающей выборки после удаления выбросов:\", df_train.shape[0])\n",
    "print(\"Длина тестовой выборки после удаления выбросов:\", df_test.shape[0])"
   ]
  },
  {
   "cell_type": "markdown",
   "id": "07bfa3a1-6b84-4a38-8aac-c5c74eb5411e",
   "metadata": {},
   "source": [
    "**Вывод:** Наиболее выраженное изменение концентрации наблюдается у золота, доля в среднем увеличилась с 8% до 45%. Концентрация серебра, напротив, уменьшилась, что говорит о том, что серебро ушло вместе с отвальными хвостами. Концентрация свинца увеличилась незначительно (с 4% до 10%). Также можно увидеть значения концентраций после очисток и флотации равное 0. Возможно, это связано с некорректными измерениями. Все аномалии удалены."
   ]
  },
  {
   "cell_type": "markdown",
   "id": "4b1a9961-013b-417a-9975-932929414fd4",
   "metadata": {},
   "source": [
    "### Сравните распределения размеров гранул исходного сырья на обучающей и тестовой выборках. Если распределения сильно отличаются друг от друга, оценка модели будет неправильной."
   ]
  },
  {
   "cell_type": "code",
   "execution_count": 34,
   "id": "a051124f-206e-4331-aa7d-8b38115c138e",
   "metadata": {},
   "outputs": [
    {
     "data": {
      "image/png": "[encoded data removed]",
      "text/plain": [
       "<Figure size 936x504 with 1 Axes>"
      ]
     },
     "metadata": {
      "needs_background": "light"
     },
     "output_type": "display_data"
    }
   ],
   "source": [
    "plt.figure(figsize=(13, 7))\n",
    "sns.histplot(data=df_train, x=\"rougher.input.feed_size\", color=\"skyblue\", label=\"Обучающая выборка\", kde=True, stat='density', common_norm=False)\n",
    "sns.histplot(data=df_test, x=\"rougher.input.feed_size\", color=\"red\", label=\"Тестовая выборка\", kde=True, stat='density', common_norm=False)\n",
    "\n",
    "plt.xlim(0, 120)\n",
    "plt.title('Распредление размеров гранул исходного сырья')\n",
    "plt.xlabel('Размер гранул исходного сырья')\n",
    "plt.ylabel('Плотность')\n",
    "plt.legend() \n",
    "plt.show()"
   ]
  },
  {
   "cell_type": "markdown",
   "id": "24bbf3a6-2cde-4043-8eae-1da5ebc58ad5",
   "metadata": {},
   "source": [
    "**Вывод:** Распредления размеров гранул исходного сырья в обучающей и тестовой выборках похожи, оценка будущих моделей должна быть правильной."
   ]
  },
  {
   "cell_type": "markdown",
   "id": "c6edf9b7-229e-452d-b689-26a3bb315cb7",
   "metadata": {},
   "source": [
    "### Исследуйте суммарную концентрацию металлов на разных стадиях: в сырье, в черновом концентрате, в концентрате после первой очистки и в финальном концентрате."
   ]
  },
  {
   "cell_type": "code",
   "execution_count": 35,
   "id": "840641c0-6c72-491f-90e6-332c55e1cfb3",
   "metadata": {},
   "outputs": [],
   "source": [
    "# помещаем названия целевых столбцов в соответствующие переменные\n",
    "input = ['rougher.input.feed_au', 'rougher.input.feed_ag', 'rougher.input.feed_pb', 'rougher.input.feed_sol']\n",
    "rougher_output = ['rougher.output.concentrate_au', 'rougher.output.concentrate_ag', 'rougher.output.concentrate_pb', 'rougher.output.concentrate_sol']\n",
    "primary_cleaner = ['primary_cleaner.output.concentrate_au', 'primary_cleaner.output.concentrate_ag', 'primary_cleaner.output.concentrate_pb', 'primary_cleaner.output.concentrate_sol']\n",
    "final_output = ['final.output.concentrate_au', 'final.output.concentrate_ag', 'final.output.concentrate_pb', 'final.output.concentrate_sol']"
   ]
  },
  {
   "cell_type": "code",
   "execution_count": 36,
   "id": "c2ee1831-628d-4245-9885-0b2bd669f391",
   "metadata": {},
   "outputs": [],
   "source": [
    "# суммируем значения целевых столбцов\n",
    "total_input = df_full[input[0]] + df_full[input[1]] + df_full[input[2]] + df_full[input[3]]\n",
    "total_rougher_output = df_full[rougher_output[0]] + df_full[rougher_output[1]] + df_full[rougher_output[2]] + df_full[rougher_output[3]]\n",
    "total_primary_cleaner = df_full[primary_cleaner[0]] + df_full[primary_cleaner[1]] + df_full[primary_cleaner[2]] + df_full[primary_cleaner[3]]\n",
    "total_final_output = df_full[final_output[0]] + df_full[final_output[1]] + df_full[final_output[2]] + df_full[final_output[3]]"
   ]
  },
  {
   "cell_type": "code",
   "execution_count": 37,
   "id": "e1475a92-c7ca-484c-9a9c-be94036a3f44",
   "metadata": {},
   "outputs": [
    {
     "data": {
      "image/png": "[encoded data removed]",
      "text/plain": [
       "<Figure size 864x432 with 1 Axes>"
      ]
     },
     "metadata": {
      "needs_background": "light"
     },
     "output_type": "display_data"
    }
   ],
   "source": [
    "plt.figure(figsize=(12, 6))\n",
    "sns.histplot(data=total_input, color=\"darkblue\", label=\"Сырье\", kde=True)\n",
    "sns.histplot(data=total_rougher_output, color=\"orange\", label=\"Черновой концентрат\", kde=True)\n",
    "sns.histplot(data=total_primary_cleaner, color=\"green\", label=\"Концентрат, после первой очистки\", kde=True)\n",
    "sns.histplot(data=total_final_output, color=\"darkred\", label=\"Финальный концентрат\", kde=True)\n",
    "\n",
    "plt.xlim(0, 100)\n",
    "plt.title('Суммарная концентрация металлов на разных стадиях')\n",
    "plt.xlabel('Суммарная концентрация металлов, %')\n",
    "plt.ylabel('Частота')\n",
    "plt.legend() \n",
    "plt.show()"
   ]
  },
  {
   "cell_type": "markdown",
   "id": "6224e237",
   "metadata": {},
   "source": [
    "Как видно из диаграммы, в ходе процесса обогащения золота наблюдается увеличение суммарной концентрации металлов. В исходном сырье минимальная концентрация металлов, после флотации происходит её резкое увеличение. После первой очистки концентрация снижается, поскольку удаляются ненужные металлы, а в финальном концентрации увеличивается доля золота.\n",
    "<br> "
   ]
  },
  {
   "cell_type": "markdown",
   "id": "4da2b50b-0dc7-4571-82b6-635de258bbfe",
   "metadata": {},
   "source": [
    "**Вывод:** Построена диграмма распределения суммарной концентрации в зависимости от стадии обработки золота. "
   ]
  },
  {
   "cell_type": "markdown",
   "id": "055ea3e9-9053-41d7-a173-62d6be7bc3f5",
   "metadata": {},
   "source": [
    "## Шаг 3. Построение моделей"
   ]
  },
  {
   "cell_type": "markdown",
   "id": "ca7992a5-cff9-40f8-afb0-6a3f39cbf74b",
   "metadata": {},
   "source": [
    "### Напишите функцию для вычисления итоговой sMAPE."
   ]
  },
  {
   "cell_type": "code",
   "execution_count": 38,
   "id": "3e7c7fca-adcd-4fd7-8b39-51861ff462da",
   "metadata": {},
   "outputs": [],
   "source": [
    "def smape(target_rough,prediction_rough,target_final,prediction_final):\n",
    "\n",
    "    # считаем smape для флотации\n",
    "    \n",
    "    smape_rough = abs(target_rough-prediction_rough)/((abs(target_rough)+abs(prediction_rough))/2)\n",
    "    smape_rough = smape_rough.sum()*100/len(smape_rough)\n",
    "\n",
    "    # считаем smape после очисток\n",
    "    \n",
    "    smape_final = abs(target_final-prediction_final)/((abs(target_final)+abs(prediction_final))/2)\n",
    "    smape_final = smape_final.sum()*100/len(smape_final)\n",
    "    \n",
    "    return 0.25*smape_rough+0.75*smape_final"
   ]
  },
  {
   "cell_type": "markdown",
   "id": "d6878abb-5586-4e8c-99b3-795202369c1f",
   "metadata": {},
   "source": [
    "### Обучите разные модели и оцените их качество кросс-валидацией. Выберите лучшую модель и проверьте её на тестовой выборке. Опишите выводы."
   ]
  },
  {
   "cell_type": "code",
   "execution_count": 39,
   "id": "667493ed-747b-4046-b0af-657f6290949a",
   "metadata": {},
   "outputs": [],
   "source": [
    "# перед созданием модели необходимо удалить столбец date\n",
    "df_train.reset_index(inplace=True)\n",
    "df_train.drop('date', axis=1, inplace=True)"
   ]
  },
  {
   "cell_type": "code",
   "execution_count": 40,
   "id": "0cda70f6-b217-4bda-8ebf-3c560b8e9c0b",
   "metadata": {},
   "outputs": [],
   "source": [
    "features = df_train.drop(['rougher.output.recovery','final.output.recovery'], axis=1)\n",
    "target = df_train[['rougher.output.recovery','final.output.recovery']]"
   ]
  },
  {
   "cell_type": "markdown",
   "id": "4d038180-f512-4e39-bf5d-384288ec926a",
   "metadata": {},
   "source": [
    "#### Linear Regression"
   ]
  },
  {
   "cell_type": "code",
   "execution_count": 41,
   "id": "96bbb3e9-d869-45de-84c1-847fd573d18a",
   "metadata": {},
   "outputs": [
    {
     "name": "stdout",
     "output_type": "stream",
     "text": [
      "Финальное sMAPE: 8.928\n"
     ]
    }
   ],
   "source": [
    "mae_rough = []\n",
    "mae_final = []\n",
    "\n",
    "smape_overall = []\n",
    "\n",
    "sample_size = int(len(df_train)/3)\n",
    "\n",
    "for i in range(0, len(df_train), sample_size):\n",
    "    valid_indexes = df_train.iloc[i:i+sample_size].index \n",
    "    train_indexes = (df_train.iloc[:i] + df_train.iloc[i + sample_size:]).index\n",
    "    \n",
    "    features_train = features.iloc[train_indexes]\n",
    "    features_valid = features.iloc[valid_indexes]\n",
    "    target_train = target.iloc[train_indexes]\n",
    "    target_valid = target.iloc[valid_indexes]\n",
    "\n",
    "    model_LR = LinearRegression()\n",
    "\n",
    "    # обучаем модель для пердсказания эффективности обогащения после флотации\n",
    "    \n",
    "    model_LR_rough = model_LR.fit(features_train, target_train['rougher.output.recovery'])\n",
    "    predictions_LR_rough = model_LR_rough.predict(features_valid)\n",
    "    predictions_LR_rough = pd.Series(predictions_LR_rough, index=features_valid.index)\n",
    "\n",
    "    # обучаем модель для пердсказания финальной эффективности обогащения\n",
    "    \n",
    "    model_LR_final = model_LR.fit(features_train, target_train['final.output.recovery'])\n",
    "    predictions_LR_final = model_LR_final.predict(features_valid)\n",
    "    predictions_LR_final = pd.Series(predictions_LR_final,index=features_valid.index)\n",
    "        \n",
    "    smape_overall.append(smape(target_valid['rougher.output.recovery'], predictions_LR_rough, target_valid['final.output.recovery'], predictions_LR_final))\n",
    "\n",
    "\n",
    "final_sMAPE_overall = np.array(smape_overall).mean()\n",
    "\n",
    "\n",
    "print('Финальное sMAPE:', round(final_sMAPE_overall,3))"
   ]
  },
  {
   "cell_type": "markdown",
   "id": "f76cb46c",
   "metadata": {},
   "source": [
    "**Использование автоматизированных средств проведения кросс-валидации**"
   ]
  },
  {
   "cell_type": "code",
   "execution_count": 42,
   "id": "64f952d1",
   "metadata": {},
   "outputs": [],
   "source": [
    "def smape_for_cv(target,prediction):\n",
    "    \n",
    "    # считаем метрику для определенной стадии обогащения\n",
    "    \n",
    "    smape = abs(target-prediction)/((abs(target)+abs(prediction))/2)\n",
    "    smape = smape.sum()*100/len(smape)\n",
    "    return smape\n",
    "    \n",
    "def smape_overall_cv(smape_rougher, smape_final):\n",
    "\n",
    "    #считаем финальную метрику\n",
    "    \n",
    "    return 0.25*smape_rougher+0.75*smape_final  "
   ]
  },
  {
   "cell_type": "code",
   "execution_count": 43,
   "id": "49a610af",
   "metadata": {},
   "outputs": [
    {
     "name": "stdout",
     "output_type": "stream",
     "text": [
      "Финальное sMAPE: 8.948\n"
     ]
    }
   ],
   "source": [
    "# создадим функцию оценки sMAPE на кросс-валидации\n",
    "def cv_score(features, target, model):\n",
    "\n",
    "    custom_score = make_scorer(smape_for_cv, greater_is_better=False)\n",
    "\n",
    "    score = cross_val_score(model, features, target, cv=5, scoring=custom_score)\n",
    "    \n",
    "    return abs(score)\n",
    "\n",
    "smape_rougher = cv_score(features, target[target.columns[0]], LinearRegression())\n",
    "smape_final = cv_score(features, target[target.columns[1]], LinearRegression())\n",
    "final_sMAPE_LR = smape_overall_cv(smape_rougher, smape_final)\n",
    "\n",
    "print('Финальное sMAPE:', round(np.mean(final_sMAPE_LR), 3))"
   ]
  },
  {
   "cell_type": "markdown",
   "id": "e237af52-c623-48e8-a85f-06e9f335823c",
   "metadata": {},
   "source": [
    "#### Random Forest"
   ]
  },
  {
   "cell_type": "code",
   "execution_count": 44,
   "id": "3e6d8afe",
   "metadata": {},
   "outputs": [
    {
     "name": "stderr",
     "output_type": "stream",
     "text": [
      "100%|██████████| 5/5 [29:16<00:00, 351.26s/it]\n"
     ]
    },
    {
     "data": {
      "text/html": [
       "<div>\n",
       "<style scoped>\n",
       "    .dataframe tbody tr th:only-of-type {\n",
       "        vertical-align: middle;\n",
       "    }\n",
       "\n",
       "    .dataframe tbody tr th {\n",
       "        vertical-align: top;\n",
       "    }\n",
       "\n",
       "    .dataframe thead th {\n",
       "        text-align: right;\n",
       "    }\n",
       "</style>\n",
       "<table border=\"1\" class=\"dataframe\">\n",
       "  <thead>\n",
       "    <tr style=\"text-align: right;\">\n",
       "      <th></th>\n",
       "      <th>smape_overall</th>\n",
       "      <th>max_depth</th>\n",
       "      <th>n_estimators</th>\n",
       "    </tr>\n",
       "  </thead>\n",
       "  <tbody>\n",
       "    <tr>\n",
       "      <th>18</th>\n",
       "      <td>8.227397</td>\n",
       "      <td>2</td>\n",
       "      <td>22</td>\n",
       "    </tr>\n",
       "    <tr>\n",
       "      <th>9</th>\n",
       "      <td>8.228031</td>\n",
       "      <td>2</td>\n",
       "      <td>12</td>\n",
       "    </tr>\n",
       "    <tr>\n",
       "      <th>36</th>\n",
       "      <td>8.229568</td>\n",
       "      <td>2</td>\n",
       "      <td>42</td>\n",
       "    </tr>\n",
       "    <tr>\n",
       "      <th>27</th>\n",
       "      <td>8.246678</td>\n",
       "      <td>2</td>\n",
       "      <td>32</td>\n",
       "    </tr>\n",
       "    <tr>\n",
       "      <th>10</th>\n",
       "      <td>8.262804</td>\n",
       "      <td>3</td>\n",
       "      <td>12</td>\n",
       "    </tr>\n",
       "    <tr>\n",
       "      <th>0</th>\n",
       "      <td>8.282492</td>\n",
       "      <td>2</td>\n",
       "      <td>2</td>\n",
       "    </tr>\n",
       "    <tr>\n",
       "      <th>1</th>\n",
       "      <td>8.284707</td>\n",
       "      <td>3</td>\n",
       "      <td>2</td>\n",
       "    </tr>\n",
       "    <tr>\n",
       "      <th>19</th>\n",
       "      <td>8.290580</td>\n",
       "      <td>3</td>\n",
       "      <td>22</td>\n",
       "    </tr>\n",
       "    <tr>\n",
       "      <th>11</th>\n",
       "      <td>8.302237</td>\n",
       "      <td>4</td>\n",
       "      <td>12</td>\n",
       "    </tr>\n",
       "    <tr>\n",
       "      <th>21</th>\n",
       "      <td>8.324400</td>\n",
       "      <td>5</td>\n",
       "      <td>22</td>\n",
       "    </tr>\n",
       "    <tr>\n",
       "      <th>20</th>\n",
       "      <td>8.332597</td>\n",
       "      <td>4</td>\n",
       "      <td>22</td>\n",
       "    </tr>\n",
       "    <tr>\n",
       "      <th>37</th>\n",
       "      <td>8.340590</td>\n",
       "      <td>3</td>\n",
       "      <td>42</td>\n",
       "    </tr>\n",
       "    <tr>\n",
       "      <th>28</th>\n",
       "      <td>8.342218</td>\n",
       "      <td>3</td>\n",
       "      <td>32</td>\n",
       "    </tr>\n",
       "    <tr>\n",
       "      <th>39</th>\n",
       "      <td>8.347004</td>\n",
       "      <td>5</td>\n",
       "      <td>42</td>\n",
       "    </tr>\n",
       "    <tr>\n",
       "      <th>12</th>\n",
       "      <td>8.348219</td>\n",
       "      <td>5</td>\n",
       "      <td>12</td>\n",
       "    </tr>\n",
       "    <tr>\n",
       "      <th>30</th>\n",
       "      <td>8.361451</td>\n",
       "      <td>5</td>\n",
       "      <td>32</td>\n",
       "    </tr>\n",
       "    <tr>\n",
       "      <th>38</th>\n",
       "      <td>8.375713</td>\n",
       "      <td>4</td>\n",
       "      <td>42</td>\n",
       "    </tr>\n",
       "    <tr>\n",
       "      <th>29</th>\n",
       "      <td>8.383133</td>\n",
       "      <td>4</td>\n",
       "      <td>32</td>\n",
       "    </tr>\n",
       "    <tr>\n",
       "      <th>40</th>\n",
       "      <td>8.399041</td>\n",
       "      <td>6</td>\n",
       "      <td>42</td>\n",
       "    </tr>\n",
       "    <tr>\n",
       "      <th>22</th>\n",
       "      <td>8.439202</td>\n",
       "      <td>6</td>\n",
       "      <td>22</td>\n",
       "    </tr>\n",
       "    <tr>\n",
       "      <th>31</th>\n",
       "      <td>8.442327</td>\n",
       "      <td>6</td>\n",
       "      <td>32</td>\n",
       "    </tr>\n",
       "    <tr>\n",
       "      <th>41</th>\n",
       "      <td>8.453346</td>\n",
       "      <td>7</td>\n",
       "      <td>42</td>\n",
       "    </tr>\n",
       "    <tr>\n",
       "      <th>13</th>\n",
       "      <td>8.476010</td>\n",
       "      <td>6</td>\n",
       "      <td>12</td>\n",
       "    </tr>\n",
       "    <tr>\n",
       "      <th>23</th>\n",
       "      <td>8.491934</td>\n",
       "      <td>7</td>\n",
       "      <td>22</td>\n",
       "    </tr>\n",
       "    <tr>\n",
       "      <th>32</th>\n",
       "      <td>8.500308</td>\n",
       "      <td>7</td>\n",
       "      <td>32</td>\n",
       "    </tr>\n",
       "    <tr>\n",
       "      <th>2</th>\n",
       "      <td>8.581071</td>\n",
       "      <td>4</td>\n",
       "      <td>2</td>\n",
       "    </tr>\n",
       "    <tr>\n",
       "      <th>14</th>\n",
       "      <td>8.597067</td>\n",
       "      <td>7</td>\n",
       "      <td>12</td>\n",
       "    </tr>\n",
       "    <tr>\n",
       "      <th>42</th>\n",
       "      <td>8.627816</td>\n",
       "      <td>8</td>\n",
       "      <td>42</td>\n",
       "    </tr>\n",
       "    <tr>\n",
       "      <th>24</th>\n",
       "      <td>8.658316</td>\n",
       "      <td>8</td>\n",
       "      <td>22</td>\n",
       "    </tr>\n",
       "    <tr>\n",
       "      <th>43</th>\n",
       "      <td>8.671078</td>\n",
       "      <td>9</td>\n",
       "      <td>42</td>\n",
       "    </tr>\n",
       "    <tr>\n",
       "      <th>33</th>\n",
       "      <td>8.671457</td>\n",
       "      <td>8</td>\n",
       "      <td>32</td>\n",
       "    </tr>\n",
       "    <tr>\n",
       "      <th>25</th>\n",
       "      <td>8.680821</td>\n",
       "      <td>9</td>\n",
       "      <td>22</td>\n",
       "    </tr>\n",
       "    <tr>\n",
       "      <th>34</th>\n",
       "      <td>8.694130</td>\n",
       "      <td>9</td>\n",
       "      <td>32</td>\n",
       "    </tr>\n",
       "    <tr>\n",
       "      <th>15</th>\n",
       "      <td>8.695632</td>\n",
       "      <td>8</td>\n",
       "      <td>12</td>\n",
       "    </tr>\n",
       "    <tr>\n",
       "      <th>44</th>\n",
       "      <td>8.737005</td>\n",
       "      <td>10</td>\n",
       "      <td>42</td>\n",
       "    </tr>\n",
       "    <tr>\n",
       "      <th>35</th>\n",
       "      <td>8.780491</td>\n",
       "      <td>10</td>\n",
       "      <td>32</td>\n",
       "    </tr>\n",
       "    <tr>\n",
       "      <th>26</th>\n",
       "      <td>8.823466</td>\n",
       "      <td>10</td>\n",
       "      <td>22</td>\n",
       "    </tr>\n",
       "    <tr>\n",
       "      <th>16</th>\n",
       "      <td>8.832032</td>\n",
       "      <td>9</td>\n",
       "      <td>12</td>\n",
       "    </tr>\n",
       "    <tr>\n",
       "      <th>17</th>\n",
       "      <td>8.940773</td>\n",
       "      <td>10</td>\n",
       "      <td>12</td>\n",
       "    </tr>\n",
       "    <tr>\n",
       "      <th>3</th>\n",
       "      <td>9.131728</td>\n",
       "      <td>5</td>\n",
       "      <td>2</td>\n",
       "    </tr>\n",
       "    <tr>\n",
       "      <th>4</th>\n",
       "      <td>9.399989</td>\n",
       "      <td>6</td>\n",
       "      <td>2</td>\n",
       "    </tr>\n",
       "    <tr>\n",
       "      <th>5</th>\n",
       "      <td>9.570294</td>\n",
       "      <td>7</td>\n",
       "      <td>2</td>\n",
       "    </tr>\n",
       "    <tr>\n",
       "      <th>6</th>\n",
       "      <td>9.788753</td>\n",
       "      <td>8</td>\n",
       "      <td>2</td>\n",
       "    </tr>\n",
       "    <tr>\n",
       "      <th>7</th>\n",
       "      <td>10.435964</td>\n",
       "      <td>9</td>\n",
       "      <td>2</td>\n",
       "    </tr>\n",
       "    <tr>\n",
       "      <th>8</th>\n",
       "      <td>10.519708</td>\n",
       "      <td>10</td>\n",
       "      <td>2</td>\n",
       "    </tr>\n",
       "  </tbody>\n",
       "</table>\n",
       "</div>"
      ],
      "text/plain": [
       "    smape_overall  max_depth  n_estimators\n",
       "18       8.227397          2            22\n",
       "9        8.228031          2            12\n",
       "36       8.229568          2            42\n",
       "27       8.246678          2            32\n",
       "10       8.262804          3            12\n",
       "0        8.282492          2             2\n",
       "1        8.284707          3             2\n",
       "19       8.290580          3            22\n",
       "11       8.302237          4            12\n",
       "21       8.324400          5            22\n",
       "20       8.332597          4            22\n",
       "37       8.340590          3            42\n",
       "28       8.342218          3            32\n",
       "39       8.347004          5            42\n",
       "12       8.348219          5            12\n",
       "30       8.361451          5            32\n",
       "38       8.375713          4            42\n",
       "29       8.383133          4            32\n",
       "40       8.399041          6            42\n",
       "22       8.439202          6            22\n",
       "31       8.442327          6            32\n",
       "41       8.453346          7            42\n",
       "13       8.476010          6            12\n",
       "23       8.491934          7            22\n",
       "32       8.500308          7            32\n",
       "2        8.581071          4             2\n",
       "14       8.597067          7            12\n",
       "42       8.627816          8            42\n",
       "24       8.658316          8            22\n",
       "43       8.671078          9            42\n",
       "33       8.671457          8            32\n",
       "25       8.680821          9            22\n",
       "34       8.694130          9            32\n",
       "15       8.695632          8            12\n",
       "44       8.737005         10            42\n",
       "35       8.780491         10            32\n",
       "26       8.823466         10            22\n",
       "16       8.832032          9            12\n",
       "17       8.940773         10            12\n",
       "3        9.131728          5             2\n",
       "4        9.399989          6             2\n",
       "5        9.570294          7             2\n",
       "6        9.788753          8             2\n",
       "7       10.435964          9             2\n",
       "8       10.519708         10             2"
      ]
     },
     "execution_count": 44,
     "metadata": {},
     "output_type": "execute_result"
    }
   ],
   "source": [
    "results = defaultdict(list)    \n",
    "\n",
    "\n",
    "for est in tqdm(range(2, 45, 10)):\n",
    "    for max_depth in range(2,11):    \n",
    "        model_RF_1 = RandomForestRegressor(random_state=12345, max_depth=max_depth, n_estimators=est)\n",
    "        model_RF_2 = RandomForestRegressor(random_state=12345, max_depth=max_depth, n_estimators=est) \n",
    "    \n",
    "        smape_rougher_1 = cv_score(features, target[target.columns[0]], model_RF_1)\n",
    "        smape_final_1 = cv_score(features, target[target.columns[1]], model_RF_2)\n",
    "    \n",
    "        smape_overall_1 = smape_overall_cv(smape_rougher_1, smape_final_1)\n",
    "        smape_overall_1 = np.mean(smape_overall_1)   \n",
    "    \n",
    "   \n",
    "        results['smape_overall'].append(smape_overall_1)\n",
    "        results['max_depth'].append(max_depth)\n",
    "        results['n_estimators'].append(est)\n",
    "        \n",
    "pd.DataFrame(results).sort_values(by='smape_overall')"
   ]
  },
  {
   "cell_type": "markdown",
   "id": "e4c90473-e928-46c1-a4d0-8e8634e20d96",
   "metadata": {},
   "source": [
    "Наилучшее значение метрики sMAPE показала модель случайного леса, где были подобраны оптимальные гиперпараметры (max_depth=2, n_estimators=22). Проверим тестовую выборку на данной модели."
   ]
  },
  {
   "cell_type": "markdown",
   "id": "d2af31c8-b21d-4659-831e-c7855d84bd60",
   "metadata": {},
   "source": [
    "### Проверка на тестовой выборке"
   ]
  },
  {
   "cell_type": "code",
   "execution_count": 45,
   "id": "44006c1a-050b-49fb-9f01-2eda6599a3fe",
   "metadata": {},
   "outputs": [],
   "source": [
    "df_test.reset_index(inplace=True)\n",
    "df_test.drop('date',axis=1,inplace=True)\n",
    "\n",
    "features_test = df_test.drop(['rougher.output.recovery','final.output.recovery'],axis=1)\n",
    "target_test = df_test[['rougher.output.recovery','final.output.recovery']]"
   ]
  },
  {
   "cell_type": "code",
   "execution_count": 46,
   "id": "3bbacb21",
   "metadata": {},
   "outputs": [
    {
     "name": "stdout",
     "output_type": "stream",
     "text": [
      "Финальное sMAPE для тестовой выборки: 12.551\n"
     ]
    }
   ],
   "source": [
    "model_RF = RandomForestRegressor(random_state=12345, max_depth=2, n_estimators=22)\n",
    "\n",
    "model_RF_rougher = model_RF.fit(features, target[target.columns[0]])\n",
    "model_RF_final = model_RF.fit(features, target[target.columns[1]])\n",
    "\n",
    "predictions_rougher = model_RF_rougher.predict(features_test)\n",
    "predictions_final = model_RF_final.predict(features_test)\n",
    "\n",
    "smape_rougher_test = smape_for_cv(target_test[target_test.columns[0]], predictions_rougher)\n",
    "smape_final_test = smape_for_cv(target_test[target_test.columns[1]], predictions_final)                                     \n",
    "                                         \n",
    "final_sMAPE_test = smape_overall_cv(smape_rougher_test, smape_final_test)\n",
    "\n",
    "print('Финальное sMAPE для тестовой выборки:', round(np.mean(final_sMAPE_test), 3))"
   ]
  },
  {
   "cell_type": "code",
   "execution_count": 48,
   "id": "22ab0c1a",
   "metadata": {},
   "outputs": [
    {
     "name": "stdout",
     "output_type": "stream",
     "text": [
      "Финальное sMAPE для тестовой выборки с DummyRegressor: 12.946\n"
     ]
    }
   ],
   "source": [
    "dummy_regressor = DummyRegressor(strategy='mean')\n",
    "\n",
    "dummy_regressor_rougher = dummy_regressor.fit(features, target[target.columns[0]])\n",
    "dummy_regressor_final = dummy_regressor.fit(features, target[target.columns[1]])\n",
    "\n",
    "predictions_dummy_rougher_test = dummy_regressor_rougher.predict(features_test)\n",
    "predictions_dummy_final_test = dummy_regressor_final.predict(features_test)\n",
    "\n",
    "smape_dummy_rougher_test = smape_for_cv(target_test[target_test.columns[0]], predictions_dummy_rougher_test)\n",
    "smape_dummy_final_test = smape_for_cv(target_test[target_test.columns[1]], predictions_dummy_final_test)\n",
    "\n",
    "final_sMAPE_dummy = smape_overall_cv(smape_dummy_rougher_test, smape_dummy_final_test)\n",
    "\n",
    "print('Финальное sMAPE для тестовой выборки с DummyRegressor:', round(np.mean(final_sMAPE_dummy), 3))"
   ]
  },
  {
   "cell_type": "markdown",
   "id": "c35de004",
   "metadata": {},
   "source": [
    "Проверили модель на тестовой выборке, переобучения не наблюдается, показатель метрики не сильно расходится с обучающей выборкой. С помощью DummyRegressor проверили модель на адекватность, как итог, полученная модель показывает лучшую метрику, чем константная.  "
   ]
  },
  {
   "cell_type": "markdown",
   "id": "f5b7063c-2d4a-4f9b-9ce2-5ded50d7ae09",
   "metadata": {},
   "source": [
    "## Общий вывод"
   ]
  },
  {
   "cell_type": "markdown",
   "id": "5ada4a03-46df-45d6-9f23-d765e0c32351",
   "metadata": {},
   "source": [
    "В ходе работы на проектом выполнены следующие мероприятия:\n",
    "- Загружены и проанализированы данные по процессу обогащения золота, проверена корректность расчета эффективности обогащения и проведена предобработка данных\n",
    "- Детально рассмотрено изменение концентраций металлов на основных стадиях обогащения.\n",
    "- Написана функция для расчета sMAPE (Symmetric Mean Absolute Percentage Error).\n",
    "- Построены 2 модели, где подобраны оптимальные гиперпараметры для минимаизации sMAPE. Наилучшего значения на кросс-валидации удалось добиться для модели Случайный ЛЕС.\n",
    "- При проверке качества модели на тестовой выборке метрика sMAPE оказалась на уровне обучающей выборки, явного переобучения не наблюдается. Сравнили полученную модель с константной, убедившись в её адеквантности. "
   ]
  }
 ],
 "metadata": {
  "ExecuteTimeLog": [
   {
    "duration": 53,
    "start_time": "2024-02-17T16:52:16.282Z"
   },
   {
    "duration": 1656,
    "start_time": "2024-02-17T16:52:25.912Z"
   },
   {
    "duration": 2304,
    "start_time": "2024-02-17T16:52:27.571Z"
   },
   {
    "duration": 28,
    "start_time": "2024-02-17T16:52:29.877Z"
   },
   {
    "duration": 22,
    "start_time": "2024-02-17T16:52:29.906Z"
   },
   {
    "duration": 22,
    "start_time": "2024-02-17T16:52:29.931Z"
   },
   {
    "duration": 45,
    "start_time": "2024-02-17T16:52:29.954Z"
   },
   {
    "duration": 22,
    "start_time": "2024-02-17T16:52:30.001Z"
   },
   {
    "duration": 39,
    "start_time": "2024-02-17T16:52:30.025Z"
   },
   {
    "duration": 51,
    "start_time": "2024-02-17T16:52:30.065Z"
   },
   {
    "duration": 309,
    "start_time": "2024-02-17T16:52:30.118Z"
   },
   {
    "duration": 22,
    "start_time": "2024-02-17T16:52:30.429Z"
   },
   {
    "duration": 44,
    "start_time": "2024-02-17T16:52:30.453Z"
   },
   {
    "duration": 75,
    "start_time": "2024-02-17T16:52:30.499Z"
   },
   {
    "duration": 47,
    "start_time": "2024-02-17T16:52:30.578Z"
   },
   {
    "duration": 63,
    "start_time": "2024-02-17T16:52:30.627Z"
   },
   {
    "duration": 71,
    "start_time": "2024-02-17T16:52:30.691Z"
   },
   {
    "duration": 104,
    "start_time": "2024-02-17T16:52:30.763Z"
   },
   {
    "duration": 167,
    "start_time": "2024-02-17T16:52:30.869Z"
   },
   {
    "duration": 3,
    "start_time": "2024-02-17T16:52:31.037Z"
   },
   {
    "duration": 104,
    "start_time": "2024-02-17T16:52:31.041Z"
   },
   {
    "duration": 41,
    "start_time": "2024-02-17T16:52:31.147Z"
   },
   {
    "duration": 50,
    "start_time": "2024-02-17T16:52:31.189Z"
   },
   {
    "duration": 63,
    "start_time": "2024-02-17T16:52:31.241Z"
   },
   {
    "duration": 23,
    "start_time": "2024-02-17T16:52:31.306Z"
   },
   {
    "duration": 25,
    "start_time": "2024-02-17T16:52:31.330Z"
   },
   {
    "duration": 2821,
    "start_time": "2024-02-17T16:52:31.357Z"
   },
   {
    "duration": 123,
    "start_time": "2024-02-17T16:52:34.180Z"
   },
   {
    "duration": 0,
    "start_time": "2024-02-17T16:52:34.304Z"
   },
   {
    "duration": 0,
    "start_time": "2024-02-17T16:52:34.306Z"
   },
   {
    "duration": 0,
    "start_time": "2024-02-17T16:52:34.307Z"
   },
   {
    "duration": 0,
    "start_time": "2024-02-17T16:52:34.308Z"
   },
   {
    "duration": 0,
    "start_time": "2024-02-17T16:52:34.323Z"
   },
   {
    "duration": 0,
    "start_time": "2024-02-17T16:52:34.324Z"
   },
   {
    "duration": 0,
    "start_time": "2024-02-17T16:52:34.326Z"
   },
   {
    "duration": 0,
    "start_time": "2024-02-17T16:52:34.327Z"
   },
   {
    "duration": 0,
    "start_time": "2024-02-17T16:52:34.327Z"
   },
   {
    "duration": 0,
    "start_time": "2024-02-17T16:52:34.328Z"
   },
   {
    "duration": 0,
    "start_time": "2024-02-17T16:52:34.330Z"
   },
   {
    "duration": 0,
    "start_time": "2024-02-17T16:52:34.331Z"
   },
   {
    "duration": 0,
    "start_time": "2024-02-17T16:52:34.333Z"
   },
   {
    "duration": 0,
    "start_time": "2024-02-17T16:52:34.334Z"
   },
   {
    "duration": 0,
    "start_time": "2024-02-17T16:52:34.335Z"
   },
   {
    "duration": 0,
    "start_time": "2024-02-17T16:52:34.336Z"
   },
   {
    "duration": 0,
    "start_time": "2024-02-17T16:52:34.338Z"
   },
   {
    "duration": 0,
    "start_time": "2024-02-17T16:52:34.339Z"
   },
   {
    "duration": 12,
    "start_time": "2024-02-17T18:33:58.530Z"
   },
   {
    "duration": 1624,
    "start_time": "2024-02-19T01:35:38.341Z"
   },
   {
    "duration": 3111,
    "start_time": "2024-02-19T01:35:39.966Z"
   },
   {
    "duration": 25,
    "start_time": "2024-02-19T01:35:43.078Z"
   },
   {
    "duration": 20,
    "start_time": "2024-02-19T01:35:43.105Z"
   },
   {
    "duration": 21,
    "start_time": "2024-02-19T01:35:43.126Z"
   },
   {
    "duration": 51,
    "start_time": "2024-02-19T01:35:43.148Z"
   },
   {
    "duration": 3,
    "start_time": "2024-02-19T01:35:43.201Z"
   },
   {
    "duration": 4,
    "start_time": "2024-02-19T01:35:43.205Z"
   },
   {
    "duration": 7,
    "start_time": "2024-02-19T01:35:43.210Z"
   },
   {
    "duration": 5,
    "start_time": "2024-02-19T01:35:43.219Z"
   },
   {
    "duration": 3,
    "start_time": "2024-02-19T01:35:43.225Z"
   },
   {
    "duration": 7,
    "start_time": "2024-02-19T01:35:43.229Z"
   },
   {
    "duration": 37,
    "start_time": "2024-02-19T01:35:43.237Z"
   },
   {
    "duration": 14,
    "start_time": "2024-02-19T01:35:43.275Z"
   },
   {
    "duration": 9,
    "start_time": "2024-02-19T01:35:43.290Z"
   },
   {
    "duration": 38,
    "start_time": "2024-02-19T01:35:43.301Z"
   },
   {
    "duration": 41,
    "start_time": "2024-02-19T01:35:43.341Z"
   },
   {
    "duration": 62,
    "start_time": "2024-02-19T01:35:43.384Z"
   },
   {
    "duration": 2,
    "start_time": "2024-02-19T01:35:43.448Z"
   },
   {
    "duration": 23,
    "start_time": "2024-02-19T01:35:43.452Z"
   },
   {
    "duration": 15,
    "start_time": "2024-02-19T01:35:43.477Z"
   },
   {
    "duration": 31,
    "start_time": "2024-02-19T01:35:43.493Z"
   },
   {
    "duration": 28,
    "start_time": "2024-02-19T01:35:43.526Z"
   },
   {
    "duration": 25,
    "start_time": "2024-02-19T01:35:43.555Z"
   },
   {
    "duration": 4,
    "start_time": "2024-02-19T01:35:43.581Z"
   },
   {
    "duration": 2634,
    "start_time": "2024-02-19T01:35:43.586Z"
   },
   {
    "duration": 1774,
    "start_time": "2024-02-19T01:35:46.222Z"
   },
   {
    "duration": 0,
    "start_time": "2024-02-19T01:35:47.998Z"
   },
   {
    "duration": 0,
    "start_time": "2024-02-19T01:35:47.999Z"
   },
   {
    "duration": 0,
    "start_time": "2024-02-19T01:35:48.000Z"
   },
   {
    "duration": 0,
    "start_time": "2024-02-19T01:35:48.001Z"
   },
   {
    "duration": 0,
    "start_time": "2024-02-19T01:35:48.002Z"
   },
   {
    "duration": 0,
    "start_time": "2024-02-19T01:35:48.003Z"
   },
   {
    "duration": 0,
    "start_time": "2024-02-19T01:35:48.003Z"
   },
   {
    "duration": 0,
    "start_time": "2024-02-19T01:35:48.004Z"
   },
   {
    "duration": 0,
    "start_time": "2024-02-19T01:35:48.005Z"
   },
   {
    "duration": 0,
    "start_time": "2024-02-19T01:35:48.006Z"
   },
   {
    "duration": 0,
    "start_time": "2024-02-19T01:35:48.007Z"
   },
   {
    "duration": 0,
    "start_time": "2024-02-19T01:35:48.009Z"
   },
   {
    "duration": 0,
    "start_time": "2024-02-19T01:35:48.010Z"
   },
   {
    "duration": 0,
    "start_time": "2024-02-19T01:35:48.010Z"
   },
   {
    "duration": 0,
    "start_time": "2024-02-19T01:35:48.011Z"
   },
   {
    "duration": 0,
    "start_time": "2024-02-19T01:35:48.012Z"
   },
   {
    "duration": 0,
    "start_time": "2024-02-19T01:35:48.013Z"
   },
   {
    "duration": 0,
    "start_time": "2024-02-19T01:35:48.014Z"
   },
   {
    "duration": 1679,
    "start_time": "2024-02-19T05:55:41.246Z"
   },
   {
    "duration": 2244,
    "start_time": "2024-02-19T05:55:42.928Z"
   },
   {
    "duration": 27,
    "start_time": "2024-02-19T05:55:45.174Z"
   },
   {
    "duration": 40,
    "start_time": "2024-02-19T05:55:45.204Z"
   },
   {
    "duration": 41,
    "start_time": "2024-02-19T05:55:45.245Z"
   },
   {
    "duration": 83,
    "start_time": "2024-02-19T05:55:45.288Z"
   },
   {
    "duration": 4,
    "start_time": "2024-02-19T05:55:45.373Z"
   },
   {
    "duration": 11,
    "start_time": "2024-02-19T05:55:45.378Z"
   },
   {
    "duration": 14,
    "start_time": "2024-02-19T05:55:45.391Z"
   },
   {
    "duration": 38,
    "start_time": "2024-02-19T05:55:45.407Z"
   },
   {
    "duration": 11,
    "start_time": "2024-02-19T05:55:45.447Z"
   },
   {
    "duration": 7,
    "start_time": "2024-02-19T05:55:45.459Z"
   },
   {
    "duration": 10,
    "start_time": "2024-02-19T05:55:45.468Z"
   },
   {
    "duration": 17,
    "start_time": "2024-02-19T05:55:45.479Z"
   },
   {
    "duration": 10,
    "start_time": "2024-02-19T05:55:45.498Z"
   },
   {
    "duration": 43,
    "start_time": "2024-02-19T05:55:45.510Z"
   },
   {
    "duration": 36,
    "start_time": "2024-02-19T05:55:45.555Z"
   },
   {
    "duration": 72,
    "start_time": "2024-02-19T05:55:45.593Z"
   },
   {
    "duration": 2,
    "start_time": "2024-02-19T05:55:45.667Z"
   },
   {
    "duration": 7,
    "start_time": "2024-02-19T05:55:45.684Z"
   },
   {
    "duration": 6,
    "start_time": "2024-02-19T05:55:45.692Z"
   },
   {
    "duration": 30,
    "start_time": "2024-02-19T05:55:45.699Z"
   },
   {
    "duration": 28,
    "start_time": "2024-02-19T05:55:45.731Z"
   },
   {
    "duration": 44,
    "start_time": "2024-02-19T05:55:45.761Z"
   },
   {
    "duration": 3,
    "start_time": "2024-02-19T05:55:45.807Z"
   },
   {
    "duration": 2918,
    "start_time": "2024-02-19T05:55:45.811Z"
   },
   {
    "duration": 73,
    "start_time": "2024-02-19T05:55:48.731Z"
   },
   {
    "duration": 0,
    "start_time": "2024-02-19T05:55:48.807Z"
   },
   {
    "duration": 0,
    "start_time": "2024-02-19T05:55:48.809Z"
   },
   {
    "duration": 0,
    "start_time": "2024-02-19T05:55:48.810Z"
   },
   {
    "duration": 0,
    "start_time": "2024-02-19T05:55:48.812Z"
   },
   {
    "duration": 0,
    "start_time": "2024-02-19T05:55:48.813Z"
   },
   {
    "duration": 0,
    "start_time": "2024-02-19T05:55:48.815Z"
   },
   {
    "duration": 0,
    "start_time": "2024-02-19T05:55:48.816Z"
   },
   {
    "duration": 0,
    "start_time": "2024-02-19T05:55:48.817Z"
   },
   {
    "duration": 0,
    "start_time": "2024-02-19T05:55:48.819Z"
   },
   {
    "duration": 0,
    "start_time": "2024-02-19T05:55:48.820Z"
   },
   {
    "duration": 0,
    "start_time": "2024-02-19T05:55:48.822Z"
   },
   {
    "duration": 0,
    "start_time": "2024-02-19T05:55:48.823Z"
   },
   {
    "duration": 0,
    "start_time": "2024-02-19T05:55:48.824Z"
   },
   {
    "duration": 0,
    "start_time": "2024-02-19T05:55:48.825Z"
   },
   {
    "duration": 0,
    "start_time": "2024-02-19T05:55:48.827Z"
   },
   {
    "duration": 0,
    "start_time": "2024-02-19T05:55:48.828Z"
   },
   {
    "duration": 0,
    "start_time": "2024-02-19T05:55:48.829Z"
   },
   {
    "duration": 0,
    "start_time": "2024-02-19T05:55:48.830Z"
   },
   {
    "duration": 8,
    "start_time": "2024-02-19T06:15:00.428Z"
   },
   {
    "duration": 135,
    "start_time": "2024-02-19T06:19:53.431Z"
   },
   {
    "duration": 42,
    "start_time": "2024-02-19T06:35:50.904Z"
   },
   {
    "duration": 6,
    "start_time": "2024-02-19T06:41:59.979Z"
   },
   {
    "duration": 10,
    "start_time": "2024-02-19T06:42:34.018Z"
   },
   {
    "duration": 14,
    "start_time": "2024-02-19T06:44:58.706Z"
   },
   {
    "duration": 51,
    "start_time": "2024-02-19T06:45:31.077Z"
   },
   {
    "duration": 2765,
    "start_time": "2024-02-19T06:45:59.181Z"
   },
   {
    "duration": 1510,
    "start_time": "2024-02-19T06:47:06.568Z"
   },
   {
    "duration": 883,
    "start_time": "2024-02-19T06:47:08.080Z"
   },
   {
    "duration": 31,
    "start_time": "2024-02-19T06:47:08.964Z"
   },
   {
    "duration": 19,
    "start_time": "2024-02-19T06:47:08.997Z"
   },
   {
    "duration": 25,
    "start_time": "2024-02-19T06:47:09.018Z"
   },
   {
    "duration": 53,
    "start_time": "2024-02-19T06:47:09.044Z"
   },
   {
    "duration": 4,
    "start_time": "2024-02-19T06:47:09.098Z"
   },
   {
    "duration": 4,
    "start_time": "2024-02-19T06:47:09.103Z"
   },
   {
    "duration": 7,
    "start_time": "2024-02-19T06:47:09.108Z"
   },
   {
    "duration": 8,
    "start_time": "2024-02-19T06:47:09.117Z"
   },
   {
    "duration": 5,
    "start_time": "2024-02-19T06:47:09.126Z"
   },
   {
    "duration": 6,
    "start_time": "2024-02-19T06:47:09.133Z"
   },
   {
    "duration": 19,
    "start_time": "2024-02-19T06:47:09.141Z"
   },
   {
    "duration": 31,
    "start_time": "2024-02-19T06:47:09.163Z"
   },
   {
    "duration": 10,
    "start_time": "2024-02-19T06:47:09.195Z"
   },
   {
    "duration": 42,
    "start_time": "2024-02-19T06:47:09.206Z"
   },
   {
    "duration": 45,
    "start_time": "2024-02-19T06:47:09.249Z"
   },
   {
    "duration": 60,
    "start_time": "2024-02-19T06:47:09.295Z"
   },
   {
    "duration": 2,
    "start_time": "2024-02-19T06:47:09.357Z"
   },
   {
    "duration": 21,
    "start_time": "2024-02-19T06:47:09.361Z"
   },
   {
    "duration": 14,
    "start_time": "2024-02-19T06:47:09.384Z"
   },
   {
    "duration": 26,
    "start_time": "2024-02-19T06:47:09.400Z"
   },
   {
    "duration": 33,
    "start_time": "2024-02-19T06:47:09.428Z"
   },
   {
    "duration": 23,
    "start_time": "2024-02-19T06:47:09.463Z"
   },
   {
    "duration": 3,
    "start_time": "2024-02-19T06:47:09.488Z"
   },
   {
    "duration": 2797,
    "start_time": "2024-02-19T06:47:09.493Z"
   },
   {
    "duration": 6,
    "start_time": "2024-02-19T06:47:12.291Z"
   },
   {
    "duration": 18,
    "start_time": "2024-02-19T06:47:12.300Z"
   },
   {
    "duration": 66,
    "start_time": "2024-02-19T06:47:12.320Z"
   },
   {
    "duration": 2690,
    "start_time": "2024-02-19T06:47:12.387Z"
   },
   {
    "duration": 1301,
    "start_time": "2024-02-19T06:47:15.081Z"
   },
   {
    "duration": 3,
    "start_time": "2024-02-19T06:47:16.384Z"
   },
   {
    "duration": 31,
    "start_time": "2024-02-19T06:47:16.389Z"
   },
   {
    "duration": 3186,
    "start_time": "2024-02-19T06:47:16.422Z"
   },
   {
    "duration": 41,
    "start_time": "2024-02-19T06:47:19.610Z"
   },
   {
    "duration": 8,
    "start_time": "2024-02-19T06:47:19.653Z"
   },
   {
    "duration": 2257,
    "start_time": "2024-02-19T06:47:19.663Z"
   },
   {
    "duration": 4,
    "start_time": "2024-02-19T06:47:21.921Z"
   },
   {
    "duration": 18,
    "start_time": "2024-02-19T06:47:21.926Z"
   },
   {
    "duration": 4,
    "start_time": "2024-02-19T06:47:21.946Z"
   },
   {
    "duration": 18,
    "start_time": "2024-02-19T06:47:21.951Z"
   },
   {
    "duration": 20,
    "start_time": "2024-02-19T06:47:21.971Z"
   },
   {
    "duration": 23,
    "start_time": "2024-02-19T06:47:21.993Z"
   },
   {
    "duration": 1465,
    "start_time": "2024-02-19T06:47:22.018Z"
   },
   {
    "duration": 625129,
    "start_time": "2024-02-19T06:47:23.486Z"
   },
   {
    "duration": 7,
    "start_time": "2024-02-19T06:57:48.617Z"
   },
   {
    "duration": 18271,
    "start_time": "2024-02-19T06:57:48.625Z"
   },
   {
    "duration": 14,
    "start_time": "2024-02-19T06:58:09.439Z"
   },
   {
    "duration": 142,
    "start_time": "2024-02-19T07:05:44.886Z"
   },
   {
    "duration": 3,
    "start_time": "2024-02-19T07:07:36.002Z"
   },
   {
    "duration": 12,
    "start_time": "2024-02-19T07:07:39.054Z"
   },
   {
    "duration": 600,
    "start_time": "2024-02-19T07:08:13.722Z"
   },
   {
    "duration": 1322,
    "start_time": "2024-02-19T07:09:54.430Z"
   },
   {
    "duration": 1329,
    "start_time": "2024-02-19T07:10:37.133Z"
   },
   {
    "duration": 81,
    "start_time": "2024-02-19T07:12:05.629Z"
   },
   {
    "duration": 1248,
    "start_time": "2024-02-19T07:18:38.772Z"
   },
   {
    "duration": 1333,
    "start_time": "2024-02-19T07:18:57.220Z"
   },
   {
    "duration": 1407,
    "start_time": "2024-02-19T07:19:24.637Z"
   },
   {
    "duration": 17,
    "start_time": "2024-02-19T07:26:31.911Z"
   },
   {
    "duration": 4,
    "start_time": "2024-02-19T07:26:49.455Z"
   },
   {
    "duration": 7,
    "start_time": "2024-02-19T07:26:52.247Z"
   },
   {
    "duration": 221,
    "start_time": "2024-02-19T07:27:12.679Z"
   },
   {
    "duration": 9,
    "start_time": "2024-02-19T07:27:29.119Z"
   },
   {
    "duration": 3,
    "start_time": "2024-02-19T07:28:52.575Z"
   },
   {
    "duration": 9,
    "start_time": "2024-02-19T07:28:53.791Z"
   },
   {
    "duration": 3,
    "start_time": "2024-02-19T07:30:30.389Z"
   },
   {
    "duration": 37,
    "start_time": "2024-02-19T07:35:11.426Z"
   },
   {
    "duration": 91,
    "start_time": "2024-02-19T08:02:18.336Z"
   },
   {
    "duration": 77,
    "start_time": "2024-02-19T08:02:22.624Z"
   },
   {
    "duration": 10,
    "start_time": "2024-02-19T08:02:32.527Z"
   },
   {
    "duration": 37,
    "start_time": "2024-02-19T08:04:13.163Z"
   },
   {
    "duration": 2548,
    "start_time": "2024-02-19T08:04:25.987Z"
   },
   {
    "duration": 3,
    "start_time": "2024-02-19T08:04:57.891Z"
   },
   {
    "duration": 2962,
    "start_time": "2024-02-19T08:04:59.187Z"
   },
   {
    "duration": 1452,
    "start_time": "2024-02-19T08:05:10.445Z"
   },
   {
    "duration": 923,
    "start_time": "2024-02-19T08:05:11.899Z"
   },
   {
    "duration": 26,
    "start_time": "2024-02-19T08:05:12.824Z"
   },
   {
    "duration": 21,
    "start_time": "2024-02-19T08:05:12.851Z"
   },
   {
    "duration": 25,
    "start_time": "2024-02-19T08:05:12.883Z"
   },
   {
    "duration": 57,
    "start_time": "2024-02-19T08:05:12.909Z"
   },
   {
    "duration": 4,
    "start_time": "2024-02-19T08:05:12.968Z"
   },
   {
    "duration": 19,
    "start_time": "2024-02-19T08:05:12.974Z"
   },
   {
    "duration": 8,
    "start_time": "2024-02-19T08:05:12.995Z"
   },
   {
    "duration": 5,
    "start_time": "2024-02-19T08:05:13.005Z"
   },
   {
    "duration": 5,
    "start_time": "2024-02-19T08:05:13.012Z"
   },
   {
    "duration": 8,
    "start_time": "2024-02-19T08:05:13.018Z"
   },
   {
    "duration": 8,
    "start_time": "2024-02-19T08:05:13.027Z"
   },
   {
    "duration": 17,
    "start_time": "2024-02-19T08:05:13.038Z"
   },
   {
    "duration": 33,
    "start_time": "2024-02-19T08:05:13.057Z"
   },
   {
    "duration": 41,
    "start_time": "2024-02-19T08:05:13.092Z"
   },
   {
    "duration": 48,
    "start_time": "2024-02-19T08:05:13.135Z"
   },
   {
    "duration": 65,
    "start_time": "2024-02-19T08:05:13.186Z"
   },
   {
    "duration": 2,
    "start_time": "2024-02-19T08:05:13.253Z"
   },
   {
    "duration": 7,
    "start_time": "2024-02-19T08:05:13.257Z"
   },
   {
    "duration": 18,
    "start_time": "2024-02-19T08:05:13.266Z"
   },
   {
    "duration": 24,
    "start_time": "2024-02-19T08:05:13.286Z"
   },
   {
    "duration": 25,
    "start_time": "2024-02-19T08:05:13.312Z"
   },
   {
    "duration": 20,
    "start_time": "2024-02-19T08:05:13.338Z"
   },
   {
    "duration": 4,
    "start_time": "2024-02-19T08:05:13.382Z"
   },
   {
    "duration": 3654,
    "start_time": "2024-02-19T08:05:13.387Z"
   },
   {
    "duration": 45,
    "start_time": "2024-02-19T08:05:17.042Z"
   },
   {
    "duration": 2740,
    "start_time": "2024-02-19T08:05:17.088Z"
   },
   {
    "duration": 1399,
    "start_time": "2024-02-19T08:05:19.830Z"
   },
   {
    "duration": 3,
    "start_time": "2024-02-19T08:05:21.231Z"
   },
   {
    "duration": 14,
    "start_time": "2024-02-19T08:05:21.235Z"
   },
   {
    "duration": 2368,
    "start_time": "2024-02-19T08:05:21.250Z"
   },
   {
    "duration": 42,
    "start_time": "2024-02-19T08:05:23.620Z"
   },
   {
    "duration": 20,
    "start_time": "2024-02-19T08:05:23.664Z"
   },
   {
    "duration": 2237,
    "start_time": "2024-02-19T08:05:23.686Z"
   },
   {
    "duration": 4,
    "start_time": "2024-02-19T08:05:25.924Z"
   },
   {
    "duration": 10,
    "start_time": "2024-02-19T08:05:25.930Z"
   },
   {
    "duration": 3,
    "start_time": "2024-02-19T08:05:25.942Z"
   },
   {
    "duration": 4,
    "start_time": "2024-02-19T08:05:25.947Z"
   },
   {
    "duration": 33,
    "start_time": "2024-02-19T08:05:25.953Z"
   },
   {
    "duration": 32,
    "start_time": "2024-02-19T08:05:25.990Z"
   },
   {
    "duration": 2165,
    "start_time": "2024-02-19T08:05:26.024Z"
   },
   {
    "duration": 1472,
    "start_time": "2024-02-19T08:08:46.009Z"
   },
   {
    "duration": 898,
    "start_time": "2024-02-19T08:08:47.483Z"
   },
   {
    "duration": 27,
    "start_time": "2024-02-19T08:08:48.382Z"
   },
   {
    "duration": 21,
    "start_time": "2024-02-19T08:08:48.410Z"
   },
   {
    "duration": 23,
    "start_time": "2024-02-19T08:08:48.433Z"
   },
   {
    "duration": 60,
    "start_time": "2024-02-19T08:08:48.457Z"
   },
   {
    "duration": 4,
    "start_time": "2024-02-19T08:08:48.518Z"
   },
   {
    "duration": 7,
    "start_time": "2024-02-19T08:08:48.523Z"
   },
   {
    "duration": 13,
    "start_time": "2024-02-19T08:08:48.532Z"
   },
   {
    "duration": 5,
    "start_time": "2024-02-19T08:08:48.547Z"
   },
   {
    "duration": 12,
    "start_time": "2024-02-19T08:08:48.553Z"
   },
   {
    "duration": 20,
    "start_time": "2024-02-19T08:08:48.566Z"
   },
   {
    "duration": 9,
    "start_time": "2024-02-19T08:08:48.587Z"
   },
   {
    "duration": 30,
    "start_time": "2024-02-19T08:08:48.598Z"
   },
   {
    "duration": 9,
    "start_time": "2024-02-19T08:08:48.629Z"
   },
   {
    "duration": 50,
    "start_time": "2024-02-19T08:08:48.639Z"
   },
   {
    "duration": 16,
    "start_time": "2024-02-19T08:08:48.691Z"
   },
   {
    "duration": 75,
    "start_time": "2024-02-19T08:08:48.708Z"
   },
   {
    "duration": 3,
    "start_time": "2024-02-19T08:08:48.784Z"
   },
   {
    "duration": 4,
    "start_time": "2024-02-19T08:08:48.788Z"
   },
   {
    "duration": 8,
    "start_time": "2024-02-19T08:08:48.794Z"
   },
   {
    "duration": 25,
    "start_time": "2024-02-19T08:08:48.803Z"
   },
   {
    "duration": 24,
    "start_time": "2024-02-19T08:08:48.830Z"
   },
   {
    "duration": 45,
    "start_time": "2024-02-19T08:08:48.855Z"
   },
   {
    "duration": 20,
    "start_time": "2024-02-19T08:08:48.901Z"
   },
   {
    "duration": 3595,
    "start_time": "2024-02-19T08:08:48.922Z"
   },
   {
    "duration": 3,
    "start_time": "2024-02-19T08:08:52.519Z"
   },
   {
    "duration": 58,
    "start_time": "2024-02-19T08:08:52.524Z"
   },
   {
    "duration": 4,
    "start_time": "2024-02-19T08:08:52.583Z"
   },
   {
    "duration": 2741,
    "start_time": "2024-02-19T08:08:52.588Z"
   },
   {
    "duration": 4,
    "start_time": "2024-02-19T08:08:55.330Z"
   },
   {
    "duration": 13,
    "start_time": "2024-02-19T08:08:55.335Z"
   },
   {
    "duration": 3,
    "start_time": "2024-02-19T08:08:55.350Z"
   },
   {
    "duration": 1351,
    "start_time": "2024-02-19T08:08:55.355Z"
   },
   {
    "duration": 4,
    "start_time": "2024-02-19T08:08:56.708Z"
   },
   {
    "duration": 9,
    "start_time": "2024-02-19T08:08:56.713Z"
   },
   {
    "duration": 2342,
    "start_time": "2024-02-19T08:08:56.723Z"
   },
   {
    "duration": 52,
    "start_time": "2024-02-19T08:08:59.067Z"
   },
   {
    "duration": 7,
    "start_time": "2024-02-19T08:08:59.120Z"
   },
   {
    "duration": 3,
    "start_time": "2024-02-19T08:08:59.129Z"
   },
   {
    "duration": 4,
    "start_time": "2024-02-19T08:08:59.136Z"
   },
   {
    "duration": 12,
    "start_time": "2024-02-19T08:08:59.141Z"
   },
   {
    "duration": 12,
    "start_time": "2024-02-19T08:08:59.154Z"
   },
   {
    "duration": 1899,
    "start_time": "2024-02-19T08:08:59.183Z"
   },
   {
    "duration": 1538,
    "start_time": "2024-02-19T08:14:31.129Z"
   },
   {
    "duration": 910,
    "start_time": "2024-02-19T08:14:32.669Z"
   },
   {
    "duration": 26,
    "start_time": "2024-02-19T08:14:33.580Z"
   },
   {
    "duration": 21,
    "start_time": "2024-02-19T08:14:33.608Z"
   },
   {
    "duration": 22,
    "start_time": "2024-02-19T08:14:33.630Z"
   },
   {
    "duration": 62,
    "start_time": "2024-02-19T08:14:33.653Z"
   },
   {
    "duration": 4,
    "start_time": "2024-02-19T08:14:33.716Z"
   },
   {
    "duration": 3,
    "start_time": "2024-02-19T08:14:33.721Z"
   },
   {
    "duration": 8,
    "start_time": "2024-02-19T08:14:33.725Z"
   },
   {
    "duration": 6,
    "start_time": "2024-02-19T08:14:33.735Z"
   },
   {
    "duration": 4,
    "start_time": "2024-02-19T08:14:33.742Z"
   },
   {
    "duration": 37,
    "start_time": "2024-02-19T08:14:33.748Z"
   },
   {
    "duration": 8,
    "start_time": "2024-02-19T08:14:33.787Z"
   },
   {
    "duration": 14,
    "start_time": "2024-02-19T08:14:33.796Z"
   },
   {
    "duration": 8,
    "start_time": "2024-02-19T08:14:33.812Z"
   },
   {
    "duration": 79,
    "start_time": "2024-02-19T08:14:33.822Z"
   },
   {
    "duration": 17,
    "start_time": "2024-02-19T08:14:33.903Z"
   },
   {
    "duration": 76,
    "start_time": "2024-02-19T08:14:33.921Z"
   },
   {
    "duration": 3,
    "start_time": "2024-02-19T08:14:33.998Z"
   },
   {
    "duration": 5,
    "start_time": "2024-02-19T08:14:34.002Z"
   },
   {
    "duration": 6,
    "start_time": "2024-02-19T08:14:34.008Z"
   },
   {
    "duration": 25,
    "start_time": "2024-02-19T08:14:34.016Z"
   },
   {
    "duration": 49,
    "start_time": "2024-02-19T08:14:34.042Z"
   },
   {
    "duration": 22,
    "start_time": "2024-02-19T08:14:34.093Z"
   },
   {
    "duration": 5,
    "start_time": "2024-02-19T08:14:34.117Z"
   },
   {
    "duration": 3005,
    "start_time": "2024-02-19T08:14:34.123Z"
   },
   {
    "duration": 4,
    "start_time": "2024-02-19T08:14:37.130Z"
   },
   {
    "duration": 56,
    "start_time": "2024-02-19T08:14:37.137Z"
   },
   {
    "duration": 5,
    "start_time": "2024-02-19T08:14:37.195Z"
   },
   {
    "duration": 2927,
    "start_time": "2024-02-19T08:14:37.202Z"
   },
   {
    "duration": 3,
    "start_time": "2024-02-19T08:14:40.131Z"
   },
   {
    "duration": 20,
    "start_time": "2024-02-19T08:14:40.136Z"
   },
   {
    "duration": 5,
    "start_time": "2024-02-19T08:14:40.157Z"
   },
   {
    "duration": 1513,
    "start_time": "2024-02-19T08:14:40.163Z"
   },
   {
    "duration": 6,
    "start_time": "2024-02-19T08:14:41.678Z"
   },
   {
    "duration": 10,
    "start_time": "2024-02-19T08:14:41.686Z"
   },
   {
    "duration": 2572,
    "start_time": "2024-02-19T08:14:41.697Z"
   },
   {
    "duration": 11,
    "start_time": "2024-02-19T08:14:44.271Z"
   },
   {
    "duration": 71,
    "start_time": "2024-02-19T08:14:44.284Z"
   },
   {
    "duration": 41,
    "start_time": "2024-02-19T08:14:44.357Z"
   },
   {
    "duration": 2084,
    "start_time": "2024-02-19T08:14:44.399Z"
   },
   {
    "duration": 968040,
    "start_time": "2024-02-19T08:14:46.487Z"
   },
   {
    "duration": 8,
    "start_time": "2024-02-19T08:30:54.528Z"
   },
   {
    "duration": 12383,
    "start_time": "2024-02-19T08:30:54.538Z"
   },
   {
    "duration": 145,
    "start_time": "2024-02-19T08:31:06.925Z"
   },
   {
    "duration": 1633,
    "start_time": "2024-02-19T10:20:52.213Z"
   },
   {
    "duration": 2079,
    "start_time": "2024-02-19T10:20:53.848Z"
   },
   {
    "duration": 24,
    "start_time": "2024-02-19T10:20:55.929Z"
   },
   {
    "duration": 28,
    "start_time": "2024-02-19T10:20:55.955Z"
   },
   {
    "duration": 45,
    "start_time": "2024-02-19T10:20:55.984Z"
   },
   {
    "duration": 73,
    "start_time": "2024-02-19T10:20:56.030Z"
   },
   {
    "duration": 3,
    "start_time": "2024-02-19T10:20:56.105Z"
   },
   {
    "duration": 26,
    "start_time": "2024-02-19T10:20:56.110Z"
   },
   {
    "duration": 20,
    "start_time": "2024-02-19T10:20:56.137Z"
   },
   {
    "duration": 21,
    "start_time": "2024-02-19T10:20:56.160Z"
   },
   {
    "duration": 23,
    "start_time": "2024-02-19T10:20:56.182Z"
   },
   {
    "duration": 51,
    "start_time": "2024-02-19T10:20:56.206Z"
   },
   {
    "duration": 19,
    "start_time": "2024-02-19T10:20:56.258Z"
   },
   {
    "duration": 34,
    "start_time": "2024-02-19T10:20:56.278Z"
   },
   {
    "duration": 29,
    "start_time": "2024-02-19T10:20:56.314Z"
   },
   {
    "duration": 59,
    "start_time": "2024-02-19T10:20:56.344Z"
   },
   {
    "duration": 17,
    "start_time": "2024-02-19T10:20:56.404Z"
   },
   {
    "duration": 79,
    "start_time": "2024-02-19T10:20:56.422Z"
   },
   {
    "duration": 3,
    "start_time": "2024-02-19T10:20:56.502Z"
   },
   {
    "duration": 43,
    "start_time": "2024-02-19T10:20:56.506Z"
   },
   {
    "duration": 35,
    "start_time": "2024-02-19T10:20:56.551Z"
   },
   {
    "duration": 58,
    "start_time": "2024-02-19T10:20:56.587Z"
   },
   {
    "duration": 39,
    "start_time": "2024-02-19T10:20:56.647Z"
   },
   {
    "duration": 19,
    "start_time": "2024-02-19T10:20:56.687Z"
   },
   {
    "duration": 32,
    "start_time": "2024-02-19T10:20:56.707Z"
   },
   {
    "duration": 2580,
    "start_time": "2024-02-19T10:20:56.741Z"
   },
   {
    "duration": 4,
    "start_time": "2024-02-19T10:20:59.322Z"
   },
   {
    "duration": 39,
    "start_time": "2024-02-19T10:20:59.345Z"
   },
   {
    "duration": 4,
    "start_time": "2024-02-19T10:20:59.386Z"
   },
   {
    "duration": 3173,
    "start_time": "2024-02-19T10:20:59.391Z"
   },
   {
    "duration": 4,
    "start_time": "2024-02-19T10:21:02.566Z"
   },
   {
    "duration": 302,
    "start_time": "2024-02-19T10:21:02.571Z"
   },
   {
    "duration": 137,
    "start_time": "2024-02-19T10:21:02.874Z"
   },
   {
    "duration": 1404,
    "start_time": "2024-02-19T10:21:03.012Z"
   },
   {
    "duration": 2,
    "start_time": "2024-02-19T10:21:04.418Z"
   },
   {
    "duration": 115,
    "start_time": "2024-02-19T10:21:04.422Z"
   },
   {
    "duration": 2226,
    "start_time": "2024-02-19T10:21:04.539Z"
   },
   {
    "duration": 4,
    "start_time": "2024-02-19T10:21:06.766Z"
   },
   {
    "duration": 162,
    "start_time": "2024-02-19T10:21:06.771Z"
   },
   {
    "duration": 43,
    "start_time": "2024-02-19T10:21:06.934Z"
   },
   {
    "duration": 2147,
    "start_time": "2024-02-19T10:21:06.978Z"
   },
   {
    "duration": 0,
    "start_time": "2024-02-19T10:21:09.127Z"
   },
   {
    "duration": 0,
    "start_time": "2024-02-19T10:21:09.128Z"
   },
   {
    "duration": 0,
    "start_time": "2024-02-19T10:21:09.144Z"
   },
   {
    "duration": 2111,
    "start_time": "2024-02-19T10:22:33.137Z"
   },
   {
    "duration": 815015,
    "start_time": "2024-02-19T10:22:43.704Z"
   },
   {
    "duration": 5,
    "start_time": "2024-02-19T10:37:05.396Z"
   },
   {
    "duration": 3,
    "start_time": "2024-02-19T11:03:58.437Z"
   },
   {
    "duration": 1445,
    "start_time": "2024-02-19T11:08:25.962Z"
   },
   {
    "duration": 1267,
    "start_time": "2024-02-19T11:08:38.488Z"
   },
   {
    "duration": 10,
    "start_time": "2024-02-19T11:11:29.760Z"
   },
   {
    "duration": 125,
    "start_time": "2024-02-19T11:11:36.331Z"
   },
   {
    "duration": 1349,
    "start_time": "2024-02-19T11:11:48.456Z"
   },
   {
    "duration": 4,
    "start_time": "2024-02-19T11:29:39.959Z"
   },
   {
    "duration": 1366,
    "start_time": "2024-02-19T11:31:38.361Z"
   },
   {
    "duration": 656,
    "start_time": "2024-02-19T11:31:50.289Z"
   },
   {
    "duration": 785,
    "start_time": "2024-02-19T11:33:31.763Z"
   },
   {
    "duration": 3,
    "start_time": "2024-02-19T11:34:06.996Z"
   },
   {
    "duration": 654,
    "start_time": "2024-02-19T11:34:08.991Z"
   },
   {
    "duration": 763,
    "start_time": "2024-02-19T11:34:14.988Z"
   },
   {
    "duration": 1509,
    "start_time": "2024-02-19T11:36:17.941Z"
   },
   {
    "duration": 1320,
    "start_time": "2024-02-19T11:36:58.426Z"
   },
   {
    "duration": 1589,
    "start_time": "2024-02-19T11:38:17.255Z"
   },
   {
    "duration": 71,
    "start_time": "2024-02-19T11:40:04.656Z"
   },
   {
    "duration": 72,
    "start_time": "2024-02-19T11:40:23.640Z"
   },
   {
    "duration": 1257,
    "start_time": "2024-02-19T11:40:27.487Z"
   },
   {
    "duration": 2546,
    "start_time": "2024-02-19T11:40:35.503Z"
   },
   {
    "duration": 4,
    "start_time": "2024-02-19T11:42:34.481Z"
   },
   {
    "duration": 2832,
    "start_time": "2024-02-19T11:43:16.218Z"
   },
   {
    "duration": 8,
    "start_time": "2024-02-19T12:28:06.900Z"
   },
   {
    "duration": 21,
    "start_time": "2024-02-19T12:28:17.925Z"
   },
   {
    "duration": 14,
    "start_time": "2024-02-19T12:28:34.023Z"
   },
   {
    "duration": 1335,
    "start_time": "2024-02-19T12:29:09.615Z"
   },
   {
    "duration": 791,
    "start_time": "2024-02-19T12:29:10.951Z"
   },
   {
    "duration": 21,
    "start_time": "2024-02-19T12:29:11.743Z"
   },
   {
    "duration": 93,
    "start_time": "2024-02-19T12:29:11.766Z"
   },
   {
    "duration": 25,
    "start_time": "2024-02-19T12:29:11.860Z"
   },
   {
    "duration": 46,
    "start_time": "2024-02-19T12:29:11.888Z"
   },
   {
    "duration": 4,
    "start_time": "2024-02-19T12:29:11.936Z"
   },
   {
    "duration": 41,
    "start_time": "2024-02-19T12:29:11.941Z"
   },
   {
    "duration": 18,
    "start_time": "2024-02-19T12:29:11.983Z"
   },
   {
    "duration": 29,
    "start_time": "2024-02-19T12:29:12.004Z"
   },
   {
    "duration": 15,
    "start_time": "2024-02-19T12:29:12.034Z"
   },
   {
    "duration": 57,
    "start_time": "2024-02-19T12:29:12.050Z"
   },
   {
    "duration": 93,
    "start_time": "2024-02-19T12:29:12.108Z"
   },
   {
    "duration": 43,
    "start_time": "2024-02-19T12:29:12.203Z"
   },
   {
    "duration": 54,
    "start_time": "2024-02-19T12:29:12.248Z"
   },
   {
    "duration": 45,
    "start_time": "2024-02-19T12:29:12.303Z"
   },
   {
    "duration": 78,
    "start_time": "2024-02-19T12:29:12.350Z"
   },
   {
    "duration": 65,
    "start_time": "2024-02-19T12:29:12.429Z"
   },
   {
    "duration": 2,
    "start_time": "2024-02-19T12:29:12.496Z"
   },
   {
    "duration": 46,
    "start_time": "2024-02-19T12:29:12.499Z"
   },
   {
    "duration": 55,
    "start_time": "2024-02-19T12:29:12.546Z"
   },
   {
    "duration": 77,
    "start_time": "2024-02-19T12:29:12.602Z"
   },
   {
    "duration": 55,
    "start_time": "2024-02-19T12:29:12.680Z"
   },
   {
    "duration": 31,
    "start_time": "2024-02-19T12:29:12.737Z"
   },
   {
    "duration": 49,
    "start_time": "2024-02-19T12:29:12.770Z"
   },
   {
    "duration": 2411,
    "start_time": "2024-02-19T12:29:12.821Z"
   },
   {
    "duration": 11,
    "start_time": "2024-02-19T12:29:15.234Z"
   },
   {
    "duration": 109,
    "start_time": "2024-02-19T12:29:15.248Z"
   },
   {
    "duration": 25,
    "start_time": "2024-02-19T12:29:15.358Z"
   },
   {
    "duration": 2405,
    "start_time": "2024-02-19T12:29:15.384Z"
   },
   {
    "duration": 4,
    "start_time": "2024-02-19T12:29:17.790Z"
   },
   {
    "duration": 21,
    "start_time": "2024-02-19T12:29:17.795Z"
   },
   {
    "duration": 10,
    "start_time": "2024-02-19T12:29:17.818Z"
   },
   {
    "duration": 1207,
    "start_time": "2024-02-19T12:29:17.829Z"
   },
   {
    "duration": 3,
    "start_time": "2024-02-19T12:29:19.044Z"
   },
   {
    "duration": 42,
    "start_time": "2024-02-19T12:29:19.048Z"
   },
   {
    "duration": 2234,
    "start_time": "2024-02-19T12:29:19.092Z"
   },
   {
    "duration": 5,
    "start_time": "2024-02-19T12:29:21.328Z"
   },
   {
    "duration": 133,
    "start_time": "2024-02-19T12:29:21.334Z"
   },
   {
    "duration": 176,
    "start_time": "2024-02-19T12:29:21.469Z"
   },
   {
    "duration": 1706,
    "start_time": "2024-02-19T12:29:21.646Z"
   },
   {
    "duration": 91,
    "start_time": "2024-02-19T12:29:23.355Z"
   },
   {
    "duration": 2603,
    "start_time": "2024-02-19T12:29:23.447Z"
   },
   {
    "duration": 806519,
    "start_time": "2024-02-19T12:29:26.053Z"
   },
   {
    "duration": 6,
    "start_time": "2024-02-19T12:42:52.573Z"
   },
   {
    "duration": 33307,
    "start_time": "2024-02-19T12:42:52.580Z"
   },
   {
    "duration": 1244,
    "start_time": "2024-02-19T12:47:57.592Z"
   },
   {
    "duration": 787,
    "start_time": "2024-02-19T12:47:58.838Z"
   },
   {
    "duration": 25,
    "start_time": "2024-02-19T12:47:59.627Z"
   },
   {
    "duration": 17,
    "start_time": "2024-02-19T12:47:59.654Z"
   },
   {
    "duration": 40,
    "start_time": "2024-02-19T12:47:59.673Z"
   },
   {
    "duration": 54,
    "start_time": "2024-02-19T12:47:59.715Z"
   },
   {
    "duration": 42,
    "start_time": "2024-02-19T12:47:59.770Z"
   },
   {
    "duration": 62,
    "start_time": "2024-02-19T12:47:59.814Z"
   },
   {
    "duration": 49,
    "start_time": "2024-02-19T12:47:59.877Z"
   },
   {
    "duration": 5,
    "start_time": "2024-02-19T12:47:59.929Z"
   },
   {
    "duration": 4,
    "start_time": "2024-02-19T12:47:59.936Z"
   },
   {
    "duration": 9,
    "start_time": "2024-02-19T12:47:59.942Z"
   },
   {
    "duration": 14,
    "start_time": "2024-02-19T12:47:59.952Z"
   },
   {
    "duration": 28,
    "start_time": "2024-02-19T12:47:59.967Z"
   },
   {
    "duration": 7,
    "start_time": "2024-02-19T12:47:59.997Z"
   },
   {
    "duration": 121,
    "start_time": "2024-02-19T12:48:00.006Z"
   },
   {
    "duration": 101,
    "start_time": "2024-02-19T12:48:00.128Z"
   },
   {
    "duration": 145,
    "start_time": "2024-02-19T12:48:00.231Z"
   },
   {
    "duration": 2,
    "start_time": "2024-02-19T12:48:00.378Z"
   },
   {
    "duration": 81,
    "start_time": "2024-02-19T12:48:00.381Z"
   },
   {
    "duration": 88,
    "start_time": "2024-02-19T12:48:00.463Z"
   },
   {
    "duration": 156,
    "start_time": "2024-02-19T12:48:00.552Z"
   },
   {
    "duration": 109,
    "start_time": "2024-02-19T12:48:00.710Z"
   },
   {
    "duration": 38,
    "start_time": "2024-02-19T12:48:00.820Z"
   },
   {
    "duration": 54,
    "start_time": "2024-02-19T12:48:00.859Z"
   },
   {
    "duration": 2404,
    "start_time": "2024-02-19T12:48:00.914Z"
   },
   {
    "duration": 3,
    "start_time": "2024-02-19T12:48:03.320Z"
   },
   {
    "duration": 227,
    "start_time": "2024-02-19T12:48:03.345Z"
   },
   {
    "duration": 91,
    "start_time": "2024-02-19T12:48:03.573Z"
   },
   {
    "duration": 2640,
    "start_time": "2024-02-19T12:48:03.666Z"
   },
   {
    "duration": 4,
    "start_time": "2024-02-19T12:48:06.308Z"
   },
   {
    "duration": 170,
    "start_time": "2024-02-19T12:48:06.313Z"
   },
   {
    "duration": 4,
    "start_time": "2024-02-19T12:48:06.484Z"
   },
   {
    "duration": 1115,
    "start_time": "2024-02-19T12:48:06.489Z"
   },
   {
    "duration": 3,
    "start_time": "2024-02-19T12:48:07.606Z"
   },
   {
    "duration": 30,
    "start_time": "2024-02-19T12:48:07.610Z"
   },
   {
    "duration": 2109,
    "start_time": "2024-02-19T12:48:07.642Z"
   },
   {
    "duration": 4,
    "start_time": "2024-02-19T12:48:09.752Z"
   },
   {
    "duration": 36,
    "start_time": "2024-02-19T12:48:09.757Z"
   },
   {
    "duration": 38,
    "start_time": "2024-02-19T12:48:09.795Z"
   },
   {
    "duration": 1812,
    "start_time": "2024-02-19T12:48:09.834Z"
   },
   {
    "duration": 5,
    "start_time": "2024-02-19T12:48:11.648Z"
   },
   {
    "duration": 2994,
    "start_time": "2024-02-19T12:48:11.655Z"
   },
   {
    "duration": 800889,
    "start_time": "2024-02-19T12:48:14.651Z"
   },
   {
    "duration": 7,
    "start_time": "2024-02-19T13:01:35.541Z"
   },
   {
    "duration": 33628,
    "start_time": "2024-02-19T13:01:35.550Z"
   },
   {
    "duration": 22040,
    "start_time": "2024-02-19T13:16:10.905Z"
   },
   {
    "duration": 21394,
    "start_time": "2024-02-19T13:17:50.265Z"
   },
   {
    "duration": 4,
    "start_time": "2024-02-19T13:22:59.468Z"
   },
   {
    "duration": 26,
    "start_time": "2024-02-19T13:30:27.568Z"
   },
   {
    "duration": 37799,
    "start_time": "2024-02-19T13:35:33.407Z"
   },
   {
    "duration": 28,
    "start_time": "2024-02-19T13:37:01.208Z"
   },
   {
    "duration": 29,
    "start_time": "2024-02-19T13:39:46.447Z"
   },
   {
    "duration": 1427,
    "start_time": "2024-02-19T13:51:20.173Z"
   },
   {
    "duration": 739,
    "start_time": "2024-02-19T13:52:02.149Z"
   },
   {
    "duration": 4967651,
    "start_time": "2024-02-19T13:53:21.216Z"
   },
   {
    "duration": 250853,
    "start_time": "2024-02-19T15:19:37.477Z"
   },
   {
    "duration": 249646,
    "start_time": "2024-02-19T15:25:38.018Z"
   },
   {
    "duration": 249592,
    "start_time": "2024-02-19T15:31:42.335Z"
   },
   {
    "duration": 0,
    "start_time": "2024-02-19T15:38:19.752Z"
   },
   {
    "duration": 114508,
    "start_time": "2024-02-19T15:38:21.824Z"
   },
   {
    "duration": 68,
    "start_time": "2024-02-19T15:41:34.859Z"
   },
   {
    "duration": 25478,
    "start_time": "2024-02-19T15:41:53.100Z"
   },
   {
    "duration": 25404,
    "start_time": "2024-02-19T15:42:50.683Z"
   },
   {
    "duration": 25469,
    "start_time": "2024-02-19T15:44:11.827Z"
   },
   {
    "duration": 4,
    "start_time": "2024-02-19T15:46:53.950Z"
   },
   {
    "duration": 2529710,
    "start_time": "2024-02-19T15:56:18.787Z"
   },
   {
    "duration": 11,
    "start_time": "2024-02-19T16:41:28.339Z"
   },
   {
    "duration": 1439503,
    "start_time": "2024-02-19T16:42:49.735Z"
   },
   {
    "duration": 59423,
    "start_time": "2024-02-19T17:10:32.751Z"
   },
   {
    "duration": 71,
    "start_time": "2024-02-19T17:11:43.462Z"
   },
   {
    "duration": 68523,
    "start_time": "2024-02-19T17:11:48.606Z"
   },
   {
    "duration": 67530,
    "start_time": "2024-02-19T17:15:17.168Z"
   },
   {
    "duration": 50585,
    "start_time": "2024-02-19T17:18:12.650Z"
   },
   {
    "duration": 16,
    "start_time": "2024-02-19T17:19:57.438Z"
   },
   {
    "duration": 5,
    "start_time": "2024-02-19T17:21:00.409Z"
   },
   {
    "duration": 40935,
    "start_time": "2024-02-19T17:22:00.909Z"
   },
   {
    "duration": 0,
    "start_time": "2024-02-19T17:22:41.845Z"
   },
   {
    "duration": 48010,
    "start_time": "2024-02-19T17:22:52.564Z"
   },
   {
    "duration": 8656,
    "start_time": "2024-02-19T17:30:05.015Z"
   },
   {
    "duration": 1759200,
    "start_time": "2024-02-19T17:30:21.859Z"
   },
   {
    "duration": 8398,
    "start_time": "2024-02-19T18:03:22.377Z"
   },
   {
    "duration": 30,
    "start_time": "2024-02-19T18:03:42.970Z"
   },
   {
    "duration": 78,
    "start_time": "2024-02-19T18:06:20.909Z"
   },
   {
    "duration": 27,
    "start_time": "2024-02-19T18:10:48.180Z"
   },
   {
    "duration": 17,
    "start_time": "2024-02-19T18:11:37.388Z"
   },
   {
    "duration": 13003,
    "start_time": "2024-02-19T18:12:07.396Z"
   },
   {
    "duration": 29,
    "start_time": "2024-02-19T18:13:03.120Z"
   },
   {
    "duration": 8323,
    "start_time": "2024-02-19T18:13:46.482Z"
   },
   {
    "duration": 29,
    "start_time": "2024-02-19T18:14:03.754Z"
   },
   {
    "duration": 1309,
    "start_time": "2024-02-19T18:19:53.255Z"
   },
   {
    "duration": 786,
    "start_time": "2024-02-19T18:19:54.566Z"
   },
   {
    "duration": 21,
    "start_time": "2024-02-19T18:19:55.354Z"
   },
   {
    "duration": 17,
    "start_time": "2024-02-19T18:19:55.377Z"
   },
   {
    "duration": 20,
    "start_time": "2024-02-19T18:19:55.395Z"
   },
   {
    "duration": 56,
    "start_time": "2024-02-19T18:19:55.417Z"
   },
   {
    "duration": 3,
    "start_time": "2024-02-19T18:19:55.475Z"
   },
   {
    "duration": 16,
    "start_time": "2024-02-19T18:19:55.480Z"
   },
   {
    "duration": 16,
    "start_time": "2024-02-19T18:19:55.497Z"
   },
   {
    "duration": 14,
    "start_time": "2024-02-19T18:19:55.515Z"
   },
   {
    "duration": 7,
    "start_time": "2024-02-19T18:19:55.531Z"
   },
   {
    "duration": 14,
    "start_time": "2024-02-19T18:19:55.539Z"
   },
   {
    "duration": 11,
    "start_time": "2024-02-19T18:19:55.554Z"
   },
   {
    "duration": 38,
    "start_time": "2024-02-19T18:19:55.567Z"
   },
   {
    "duration": 19,
    "start_time": "2024-02-19T18:19:55.606Z"
   },
   {
    "duration": 36,
    "start_time": "2024-02-19T18:19:55.627Z"
   },
   {
    "duration": 15,
    "start_time": "2024-02-19T18:19:55.665Z"
   },
   {
    "duration": 63,
    "start_time": "2024-02-19T18:19:55.682Z"
   },
   {
    "duration": 3,
    "start_time": "2024-02-19T18:19:55.747Z"
   },
   {
    "duration": 5,
    "start_time": "2024-02-19T18:19:55.751Z"
   },
   {
    "duration": 8,
    "start_time": "2024-02-19T18:19:55.758Z"
   },
   {
    "duration": 21,
    "start_time": "2024-02-19T18:19:55.767Z"
   },
   {
    "duration": 29,
    "start_time": "2024-02-19T18:19:55.790Z"
   },
   {
    "duration": 32,
    "start_time": "2024-02-19T18:19:55.821Z"
   },
   {
    "duration": 3,
    "start_time": "2024-02-19T18:19:55.855Z"
   },
   {
    "duration": 2413,
    "start_time": "2024-02-19T18:19:55.860Z"
   },
   {
    "duration": 3,
    "start_time": "2024-02-19T18:19:58.274Z"
   },
   {
    "duration": 60,
    "start_time": "2024-02-19T18:19:58.280Z"
   },
   {
    "duration": 4,
    "start_time": "2024-02-19T18:19:58.341Z"
   },
   {
    "duration": 2280,
    "start_time": "2024-02-19T18:19:58.346Z"
   },
   {
    "duration": 5,
    "start_time": "2024-02-19T18:20:00.627Z"
   },
   {
    "duration": 54,
    "start_time": "2024-02-19T18:20:00.633Z"
   },
   {
    "duration": 34,
    "start_time": "2024-02-19T18:20:00.688Z"
   },
   {
    "duration": 1220,
    "start_time": "2024-02-19T18:20:00.723Z"
   },
   {
    "duration": 3,
    "start_time": "2024-02-19T18:20:01.945Z"
   },
   {
    "duration": 33,
    "start_time": "2024-02-19T18:20:01.949Z"
   },
   {
    "duration": 2215,
    "start_time": "2024-02-19T18:20:01.983Z"
   },
   {
    "duration": 4,
    "start_time": "2024-02-19T18:20:04.199Z"
   },
   {
    "duration": 13,
    "start_time": "2024-02-19T18:20:04.204Z"
   },
   {
    "duration": 9,
    "start_time": "2024-02-19T18:20:04.218Z"
   },
   {
    "duration": 1920,
    "start_time": "2024-02-19T18:20:04.229Z"
   },
   {
    "duration": 3,
    "start_time": "2024-02-19T18:20:06.244Z"
   },
   {
    "duration": 2297,
    "start_time": "2024-02-19T18:20:06.249Z"
   },
   {
    "duration": 1705618,
    "start_time": "2024-02-19T18:20:08.547Z"
   },
   {
    "duration": 6,
    "start_time": "2024-02-19T18:48:34.166Z"
   },
   {
    "duration": 8355,
    "start_time": "2024-02-19T18:48:34.173Z"
   },
   {
    "duration": 31,
    "start_time": "2024-02-19T18:48:42.529Z"
   },
   {
    "duration": 8,
    "start_time": "2024-02-20T13:18:42.236Z"
   },
   {
    "duration": 42,
    "start_time": "2024-02-20T13:19:27.908Z"
   },
   {
    "duration": 1513,
    "start_time": "2024-02-20T13:19:43.176Z"
   },
   {
    "duration": 2013,
    "start_time": "2024-02-20T13:19:44.691Z"
   },
   {
    "duration": 24,
    "start_time": "2024-02-20T13:19:46.705Z"
   },
   {
    "duration": 19,
    "start_time": "2024-02-20T13:19:46.731Z"
   },
   {
    "duration": 19,
    "start_time": "2024-02-20T13:19:46.751Z"
   },
   {
    "duration": 35,
    "start_time": "2024-02-20T13:19:46.772Z"
   },
   {
    "duration": 2,
    "start_time": "2024-02-20T13:19:46.809Z"
   },
   {
    "duration": 19,
    "start_time": "2024-02-20T13:19:46.813Z"
   },
   {
    "duration": 14,
    "start_time": "2024-02-20T13:19:46.833Z"
   },
   {
    "duration": 10,
    "start_time": "2024-02-20T13:19:46.849Z"
   },
   {
    "duration": 13,
    "start_time": "2024-02-20T13:19:46.860Z"
   },
   {
    "duration": 13,
    "start_time": "2024-02-20T13:19:46.874Z"
   },
   {
    "duration": 14,
    "start_time": "2024-02-20T13:19:46.888Z"
   },
   {
    "duration": 20,
    "start_time": "2024-02-20T13:19:46.904Z"
   },
   {
    "duration": 8,
    "start_time": "2024-02-20T13:19:46.925Z"
   },
   {
    "duration": 37,
    "start_time": "2024-02-20T13:19:46.934Z"
   },
   {
    "duration": 15,
    "start_time": "2024-02-20T13:19:46.972Z"
   },
   {
    "duration": 72,
    "start_time": "2024-02-20T13:19:46.988Z"
   },
   {
    "duration": 3,
    "start_time": "2024-02-20T13:19:47.061Z"
   },
   {
    "duration": 19,
    "start_time": "2024-02-20T13:19:47.066Z"
   },
   {
    "duration": 21,
    "start_time": "2024-02-20T13:19:47.087Z"
   },
   {
    "duration": 49,
    "start_time": "2024-02-20T13:19:47.109Z"
   },
   {
    "duration": 36,
    "start_time": "2024-02-20T13:19:47.160Z"
   },
   {
    "duration": 30,
    "start_time": "2024-02-20T13:19:47.197Z"
   },
   {
    "duration": 21,
    "start_time": "2024-02-20T13:19:47.229Z"
   },
   {
    "duration": 2558,
    "start_time": "2024-02-20T13:19:47.252Z"
   },
   {
    "duration": 4,
    "start_time": "2024-02-20T13:19:49.811Z"
   },
   {
    "duration": 58,
    "start_time": "2024-02-20T13:19:49.818Z"
   },
   {
    "duration": 3,
    "start_time": "2024-02-20T13:19:49.878Z"
   },
   {
    "duration": 2454,
    "start_time": "2024-02-20T13:19:49.882Z"
   },
   {
    "duration": 3,
    "start_time": "2024-02-20T13:19:52.344Z"
   },
   {
    "duration": 19,
    "start_time": "2024-02-20T13:19:52.349Z"
   },
   {
    "duration": 21,
    "start_time": "2024-02-20T13:19:52.370Z"
   },
   {
    "duration": 1371,
    "start_time": "2024-02-20T13:19:52.392Z"
   },
   {
    "duration": 3,
    "start_time": "2024-02-20T13:19:53.765Z"
   },
   {
    "duration": 28,
    "start_time": "2024-02-20T13:19:53.769Z"
   },
   {
    "duration": 2208,
    "start_time": "2024-02-20T13:19:53.798Z"
   },
   {
    "duration": 4,
    "start_time": "2024-02-20T13:19:56.008Z"
   },
   {
    "duration": 9,
    "start_time": "2024-02-20T13:19:56.013Z"
   },
   {
    "duration": 12,
    "start_time": "2024-02-20T13:19:56.023Z"
   },
   {
    "duration": 2118,
    "start_time": "2024-02-20T13:19:56.036Z"
   },
   {
    "duration": 4,
    "start_time": "2024-02-20T13:19:58.246Z"
   },
   {
    "duration": 2795,
    "start_time": "2024-02-20T13:19:58.251Z"
   },
   {
    "duration": 1722539,
    "start_time": "2024-02-20T13:20:01.048Z"
   },
   {
    "duration": 7,
    "start_time": "2024-02-20T13:48:43.589Z"
   },
   {
    "duration": 3785,
    "start_time": "2024-02-20T13:48:43.597Z"
   },
   {
    "duration": 0,
    "start_time": "2024-02-20T13:48:47.383Z"
   },
   {
    "duration": 4,
    "start_time": "2024-02-20T13:56:39.265Z"
   },
   {
    "duration": 4,
    "start_time": "2024-02-20T13:56:45.837Z"
   },
   {
    "duration": 3671,
    "start_time": "2024-02-20T13:56:51.153Z"
   },
   {
    "duration": 3,
    "start_time": "2024-02-20T13:57:54.566Z"
   },
   {
    "duration": 4,
    "start_time": "2024-02-20T13:58:05.133Z"
   },
   {
    "duration": 3649,
    "start_time": "2024-02-20T13:58:21.605Z"
   },
   {
    "duration": 3684,
    "start_time": "2024-02-20T13:58:42.969Z"
   },
   {
    "duration": 3802,
    "start_time": "2024-02-20T13:59:23.542Z"
   },
   {
    "duration": 8,
    "start_time": "2024-02-20T14:03:28.185Z"
   },
   {
    "duration": 8,
    "start_time": "2024-02-20T14:04:35.585Z"
   },
   {
    "duration": 3686,
    "start_time": "2024-02-20T14:04:39.169Z"
   },
   {
    "duration": 14,
    "start_time": "2024-02-20T14:17:47.289Z"
   },
   {
    "duration": 8261,
    "start_time": "2024-02-20T14:18:10.998Z"
   },
   {
    "duration": 3641,
    "start_time": "2024-02-20T14:19:46.341Z"
   },
   {
    "duration": 8,
    "start_time": "2024-02-20T14:19:54.453Z"
   },
   {
    "duration": 1251,
    "start_time": "2024-02-20T14:21:37.596Z"
   },
   {
    "duration": 779,
    "start_time": "2024-02-20T14:21:38.849Z"
   },
   {
    "duration": 28,
    "start_time": "2024-02-20T14:21:39.630Z"
   },
   {
    "duration": 28,
    "start_time": "2024-02-20T14:21:39.660Z"
   },
   {
    "duration": 22,
    "start_time": "2024-02-20T14:21:39.689Z"
   },
   {
    "duration": 71,
    "start_time": "2024-02-20T14:21:39.712Z"
   },
   {
    "duration": 3,
    "start_time": "2024-02-20T14:21:39.784Z"
   },
   {
    "duration": 18,
    "start_time": "2024-02-20T14:21:39.788Z"
   },
   {
    "duration": 29,
    "start_time": "2024-02-20T14:21:39.807Z"
   },
   {
    "duration": 20,
    "start_time": "2024-02-20T14:21:39.838Z"
   },
   {
    "duration": 27,
    "start_time": "2024-02-20T14:21:39.860Z"
   },
   {
    "duration": 24,
    "start_time": "2024-02-20T14:21:39.888Z"
   },
   {
    "duration": 17,
    "start_time": "2024-02-20T14:21:39.914Z"
   },
   {
    "duration": 23,
    "start_time": "2024-02-20T14:21:39.932Z"
   },
   {
    "duration": 8,
    "start_time": "2024-02-20T14:21:39.956Z"
   },
   {
    "duration": 35,
    "start_time": "2024-02-20T14:21:39.965Z"
   },
   {
    "duration": 15,
    "start_time": "2024-02-20T14:21:40.001Z"
   },
   {
    "duration": 78,
    "start_time": "2024-02-20T14:21:40.017Z"
   },
   {
    "duration": 3,
    "start_time": "2024-02-20T14:21:40.096Z"
   },
   {
    "duration": 8,
    "start_time": "2024-02-20T14:21:40.100Z"
   },
   {
    "duration": 19,
    "start_time": "2024-02-20T14:21:40.109Z"
   },
   {
    "duration": 25,
    "start_time": "2024-02-20T14:21:40.129Z"
   },
   {
    "duration": 26,
    "start_time": "2024-02-20T14:21:40.155Z"
   },
   {
    "duration": 17,
    "start_time": "2024-02-20T14:21:40.182Z"
   },
   {
    "duration": 27,
    "start_time": "2024-02-20T14:21:40.201Z"
   },
   {
    "duration": 2366,
    "start_time": "2024-02-20T14:21:40.229Z"
   },
   {
    "duration": 4,
    "start_time": "2024-02-20T14:21:42.597Z"
   },
   {
    "duration": 51,
    "start_time": "2024-02-20T14:21:42.605Z"
   },
   {
    "duration": 4,
    "start_time": "2024-02-20T14:21:42.657Z"
   },
   {
    "duration": 2274,
    "start_time": "2024-02-20T14:21:42.663Z"
   },
   {
    "duration": 7,
    "start_time": "2024-02-20T14:21:44.939Z"
   },
   {
    "duration": 10,
    "start_time": "2024-02-20T14:21:44.948Z"
   },
   {
    "duration": 3,
    "start_time": "2024-02-20T14:21:44.960Z"
   },
   {
    "duration": 1150,
    "start_time": "2024-02-20T14:21:44.964Z"
   },
   {
    "duration": 3,
    "start_time": "2024-02-20T14:21:46.115Z"
   },
   {
    "duration": 11,
    "start_time": "2024-02-20T14:21:46.119Z"
   },
   {
    "duration": 2151,
    "start_time": "2024-02-20T14:21:46.131Z"
   },
   {
    "duration": 4,
    "start_time": "2024-02-20T14:21:48.283Z"
   },
   {
    "duration": 9,
    "start_time": "2024-02-20T14:21:48.289Z"
   },
   {
    "duration": 19,
    "start_time": "2024-02-20T14:21:48.300Z"
   },
   {
    "duration": 1828,
    "start_time": "2024-02-20T14:21:48.320Z"
   },
   {
    "duration": 5,
    "start_time": "2024-02-20T14:21:50.150Z"
   },
   {
    "duration": 2709,
    "start_time": "2024-02-20T14:21:50.246Z"
   },
   {
    "duration": 1756315,
    "start_time": "2024-02-20T14:21:53.046Z"
   },
   {
    "duration": 6,
    "start_time": "2024-02-20T14:51:09.362Z"
   },
   {
    "duration": 3838,
    "start_time": "2024-02-20T14:51:09.370Z"
   },
   {
    "duration": 8,
    "start_time": "2024-02-20T14:51:13.209Z"
   },
   {
    "duration": 9,
    "start_time": "2024-02-20T14:52:59.503Z"
   }
  ],
  "kernelspec": {
   "display_name": "Python 3 (ipykernel)",
   "language": "python",
   "name": "python3"
  },
  "language_info": {
   "codemirror_mode": {
    "name": "ipython",
    "version": 3
   },
   "file_extension": ".py",
   "mimetype": "text/x-python",
   "name": "python",
   "nbconvert_exporter": "python",
   "pygments_lexer": "ipython3",
   "version": "3.9.18"
  },
  "toc": {
   "base_numbering": 1,
   "nav_menu": {},
   "number_sections": true,
   "sideBar": true,
   "skip_h1_title": true,
   "title_cell": "Table of Contents",
   "title_sidebar": "Contents",
   "toc_cell": false,
   "toc_position": {
    "height": "calc(100% - 180px)",
    "left": "10px",
    "top": "150px",
    "width": "427.628px"
   },
   "toc_section_display": true,
   "toc_window_display": true
  }
 },
 "nbformat": 4,
 "nbformat_minor": 5
}
