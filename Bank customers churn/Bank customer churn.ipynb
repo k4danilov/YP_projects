{
 "cells": [
  {
   "cell_type": "markdown",
   "id": "036d5eed-f5c5-453b-bd13-1dc0d5767201",
   "metadata": {},
   "source": [
    "# Прогнозирование оттока клиентов банков с помощью бинарной классификации"
   ]
  },
  {
   "cell_type": "markdown",
   "id": "681e70ca-ac5f-4b52-b986-3b32358915f4",
   "metadata": {},
   "source": [
    "## Шаг. 1. Загрузите и подготовьте данные. Поясните порядок действий."
   ]
  },
  {
   "cell_type": "code",
   "execution_count": 1,
   "id": "fec0e81d-7aef-415e-ae8e-6759d8533163",
   "metadata": {},
   "outputs": [],
   "source": [
    "import pandas as pd\n",
    "import matplotlib.pyplot as plt\n",
    "import numpy as np\n",
    "import seaborn as sns\n",
    "from scipy import stats as st\n",
    "from sklearn.model_selection import train_test_split\n",
    "from sklearn.tree import DecisionTreeClassifier\n",
    "from sklearn.metrics import accuracy_score\n",
    "from sklearn.ensemble import RandomForestClassifier\n",
    "from sklearn.linear_model import LogisticRegression\n",
    "from sklearn.dummy import DummyClassifier\n",
    "from sklearn.preprocessing import StandardScaler\n",
    "from sklearn.metrics import f1_score\n",
    "from tqdm import tqdm\n",
    "from sklearn.metrics import confusion_matrix\n",
    "from sklearn.utils import shuffle\n",
    "from sklearn.metrics import precision_recall_curve\n",
    "from sklearn.metrics import roc_curve\n",
    "from sklearn.metrics import roc_auc_score\n",
    "from sklearn.metrics import precision_score, recall_score"
   ]
  },
  {
   "cell_type": "code",
   "execution_count": 2,
   "id": "4d30578c-db38-4b26-a2d1-2902c0d1262d",
   "metadata": {},
   "outputs": [],
   "source": [
    "try:\n",
    "    df = pd.read_csv('/datasets/Churn.csv')\n",
    "except:\n",
    "    df = pd.read_csv('churn.csv')"
   ]
  },
  {
   "cell_type": "code",
   "execution_count": 3,
   "id": "a7e57eb0-62e0-4e68-b64c-960e8402ca49",
   "metadata": {},
   "outputs": [
    {
     "data": {
      "text/html": [
       "<div>\n",
       "<style scoped>\n",
       "    .dataframe tbody tr th:only-of-type {\n",
       "        vertical-align: middle;\n",
       "    }\n",
       "\n",
       "    .dataframe tbody tr th {\n",
       "        vertical-align: top;\n",
       "    }\n",
       "\n",
       "    .dataframe thead th {\n",
       "        text-align: right;\n",
       "    }\n",
       "</style>\n",
       "<table border=\"1\" class=\"dataframe\">\n",
       "  <thead>\n",
       "    <tr style=\"text-align: right;\">\n",
       "      <th></th>\n",
       "      <th>RowNumber</th>\n",
       "      <th>CustomerId</th>\n",
       "      <th>Surname</th>\n",
       "      <th>CreditScore</th>\n",
       "      <th>Geography</th>\n",
       "      <th>Gender</th>\n",
       "      <th>Age</th>\n",
       "      <th>Tenure</th>\n",
       "      <th>Balance</th>\n",
       "      <th>NumOfProducts</th>\n",
       "      <th>HasCrCard</th>\n",
       "      <th>IsActiveMember</th>\n",
       "      <th>EstimatedSalary</th>\n",
       "      <th>Exited</th>\n",
       "    </tr>\n",
       "  </thead>\n",
       "  <tbody>\n",
       "    <tr>\n",
       "      <th>0</th>\n",
       "      <td>1</td>\n",
       "      <td>15634602</td>\n",
       "      <td>Hargrave</td>\n",
       "      <td>619</td>\n",
       "      <td>France</td>\n",
       "      <td>Female</td>\n",
       "      <td>42</td>\n",
       "      <td>2.0</td>\n",
       "      <td>0.00</td>\n",
       "      <td>1</td>\n",
       "      <td>1</td>\n",
       "      <td>1</td>\n",
       "      <td>101348.88</td>\n",
       "      <td>1</td>\n",
       "    </tr>\n",
       "    <tr>\n",
       "      <th>1</th>\n",
       "      <td>2</td>\n",
       "      <td>15647311</td>\n",
       "      <td>Hill</td>\n",
       "      <td>608</td>\n",
       "      <td>Spain</td>\n",
       "      <td>Female</td>\n",
       "      <td>41</td>\n",
       "      <td>1.0</td>\n",
       "      <td>83807.86</td>\n",
       "      <td>1</td>\n",
       "      <td>0</td>\n",
       "      <td>1</td>\n",
       "      <td>112542.58</td>\n",
       "      <td>0</td>\n",
       "    </tr>\n",
       "    <tr>\n",
       "      <th>2</th>\n",
       "      <td>3</td>\n",
       "      <td>15619304</td>\n",
       "      <td>Onio</td>\n",
       "      <td>502</td>\n",
       "      <td>France</td>\n",
       "      <td>Female</td>\n",
       "      <td>42</td>\n",
       "      <td>8.0</td>\n",
       "      <td>159660.80</td>\n",
       "      <td>3</td>\n",
       "      <td>1</td>\n",
       "      <td>0</td>\n",
       "      <td>113931.57</td>\n",
       "      <td>1</td>\n",
       "    </tr>\n",
       "    <tr>\n",
       "      <th>3</th>\n",
       "      <td>4</td>\n",
       "      <td>15701354</td>\n",
       "      <td>Boni</td>\n",
       "      <td>699</td>\n",
       "      <td>France</td>\n",
       "      <td>Female</td>\n",
       "      <td>39</td>\n",
       "      <td>1.0</td>\n",
       "      <td>0.00</td>\n",
       "      <td>2</td>\n",
       "      <td>0</td>\n",
       "      <td>0</td>\n",
       "      <td>93826.63</td>\n",
       "      <td>0</td>\n",
       "    </tr>\n",
       "    <tr>\n",
       "      <th>4</th>\n",
       "      <td>5</td>\n",
       "      <td>15737888</td>\n",
       "      <td>Mitchell</td>\n",
       "      <td>850</td>\n",
       "      <td>Spain</td>\n",
       "      <td>Female</td>\n",
       "      <td>43</td>\n",
       "      <td>2.0</td>\n",
       "      <td>125510.82</td>\n",
       "      <td>1</td>\n",
       "      <td>1</td>\n",
       "      <td>1</td>\n",
       "      <td>79084.10</td>\n",
       "      <td>0</td>\n",
       "    </tr>\n",
       "    <tr>\n",
       "      <th>5</th>\n",
       "      <td>6</td>\n",
       "      <td>15574012</td>\n",
       "      <td>Chu</td>\n",
       "      <td>645</td>\n",
       "      <td>Spain</td>\n",
       "      <td>Male</td>\n",
       "      <td>44</td>\n",
       "      <td>8.0</td>\n",
       "      <td>113755.78</td>\n",
       "      <td>2</td>\n",
       "      <td>1</td>\n",
       "      <td>0</td>\n",
       "      <td>149756.71</td>\n",
       "      <td>1</td>\n",
       "    </tr>\n",
       "    <tr>\n",
       "      <th>6</th>\n",
       "      <td>7</td>\n",
       "      <td>15592531</td>\n",
       "      <td>Bartlett</td>\n",
       "      <td>822</td>\n",
       "      <td>France</td>\n",
       "      <td>Male</td>\n",
       "      <td>50</td>\n",
       "      <td>7.0</td>\n",
       "      <td>0.00</td>\n",
       "      <td>2</td>\n",
       "      <td>1</td>\n",
       "      <td>1</td>\n",
       "      <td>10062.80</td>\n",
       "      <td>0</td>\n",
       "    </tr>\n",
       "    <tr>\n",
       "      <th>7</th>\n",
       "      <td>8</td>\n",
       "      <td>15656148</td>\n",
       "      <td>Obinna</td>\n",
       "      <td>376</td>\n",
       "      <td>Germany</td>\n",
       "      <td>Female</td>\n",
       "      <td>29</td>\n",
       "      <td>4.0</td>\n",
       "      <td>115046.74</td>\n",
       "      <td>4</td>\n",
       "      <td>1</td>\n",
       "      <td>0</td>\n",
       "      <td>119346.88</td>\n",
       "      <td>1</td>\n",
       "    </tr>\n",
       "    <tr>\n",
       "      <th>8</th>\n",
       "      <td>9</td>\n",
       "      <td>15792365</td>\n",
       "      <td>He</td>\n",
       "      <td>501</td>\n",
       "      <td>France</td>\n",
       "      <td>Male</td>\n",
       "      <td>44</td>\n",
       "      <td>4.0</td>\n",
       "      <td>142051.07</td>\n",
       "      <td>2</td>\n",
       "      <td>0</td>\n",
       "      <td>1</td>\n",
       "      <td>74940.50</td>\n",
       "      <td>0</td>\n",
       "    </tr>\n",
       "    <tr>\n",
       "      <th>9</th>\n",
       "      <td>10</td>\n",
       "      <td>15592389</td>\n",
       "      <td>H?</td>\n",
       "      <td>684</td>\n",
       "      <td>France</td>\n",
       "      <td>Male</td>\n",
       "      <td>27</td>\n",
       "      <td>2.0</td>\n",
       "      <td>134603.88</td>\n",
       "      <td>1</td>\n",
       "      <td>1</td>\n",
       "      <td>1</td>\n",
       "      <td>71725.73</td>\n",
       "      <td>0</td>\n",
       "    </tr>\n",
       "  </tbody>\n",
       "</table>\n",
       "</div>"
      ],
      "text/plain": [
       "   RowNumber  CustomerId   Surname  CreditScore Geography  Gender  Age  \\\n",
       "0          1    15634602  Hargrave          619    France  Female   42   \n",
       "1          2    15647311      Hill          608     Spain  Female   41   \n",
       "2          3    15619304      Onio          502    France  Female   42   \n",
       "3          4    15701354      Boni          699    France  Female   39   \n",
       "4          5    15737888  Mitchell          850     Spain  Female   43   \n",
       "5          6    15574012       Chu          645     Spain    Male   44   \n",
       "6          7    15592531  Bartlett          822    France    Male   50   \n",
       "7          8    15656148    Obinna          376   Germany  Female   29   \n",
       "8          9    15792365        He          501    France    Male   44   \n",
       "9         10    15592389        H?          684    France    Male   27   \n",
       "\n",
       "   Tenure    Balance  NumOfProducts  HasCrCard  IsActiveMember  \\\n",
       "0     2.0       0.00              1          1               1   \n",
       "1     1.0   83807.86              1          0               1   \n",
       "2     8.0  159660.80              3          1               0   \n",
       "3     1.0       0.00              2          0               0   \n",
       "4     2.0  125510.82              1          1               1   \n",
       "5     8.0  113755.78              2          1               0   \n",
       "6     7.0       0.00              2          1               1   \n",
       "7     4.0  115046.74              4          1               0   \n",
       "8     4.0  142051.07              2          0               1   \n",
       "9     2.0  134603.88              1          1               1   \n",
       "\n",
       "   EstimatedSalary  Exited  \n",
       "0        101348.88       1  \n",
       "1        112542.58       0  \n",
       "2        113931.57       1  \n",
       "3         93826.63       0  \n",
       "4         79084.10       0  \n",
       "5        149756.71       1  \n",
       "6         10062.80       0  \n",
       "7        119346.88       1  \n",
       "8         74940.50       0  \n",
       "9         71725.73       0  "
      ]
     },
     "execution_count": 3,
     "metadata": {},
     "output_type": "execute_result"
    }
   ],
   "source": [
    "df.head(10)"
   ]
  },
  {
   "cell_type": "code",
   "execution_count": 4,
   "id": "d831d2f1-514f-4084-9aa5-34f0f068fcb9",
   "metadata": {},
   "outputs": [
    {
     "data": {
      "text/plain": [
       "(10000, 14)"
      ]
     },
     "execution_count": 4,
     "metadata": {},
     "output_type": "execute_result"
    }
   ],
   "source": [
    "df.shape"
   ]
  },
  {
   "cell_type": "code",
   "execution_count": 5,
   "id": "9fff2b19-ccf1-4ea9-ac3e-16942059ecc5",
   "metadata": {},
   "outputs": [
    {
     "name": "stdout",
     "output_type": "stream",
     "text": [
      "<class 'pandas.core.frame.DataFrame'>\n",
      "RangeIndex: 10000 entries, 0 to 9999\n",
      "Data columns (total 14 columns):\n",
      " #   Column           Non-Null Count  Dtype  \n",
      "---  ------           --------------  -----  \n",
      " 0   RowNumber        10000 non-null  int64  \n",
      " 1   CustomerId       10000 non-null  int64  \n",
      " 2   Surname          10000 non-null  object \n",
      " 3   CreditScore      10000 non-null  int64  \n",
      " 4   Geography        10000 non-null  object \n",
      " 5   Gender           10000 non-null  object \n",
      " 6   Age              10000 non-null  int64  \n",
      " 7   Tenure           9091 non-null   float64\n",
      " 8   Balance          10000 non-null  float64\n",
      " 9   NumOfProducts    10000 non-null  int64  \n",
      " 10  HasCrCard        10000 non-null  int64  \n",
      " 11  IsActiveMember   10000 non-null  int64  \n",
      " 12  EstimatedSalary  10000 non-null  float64\n",
      " 13  Exited           10000 non-null  int64  \n",
      "dtypes: float64(3), int64(8), object(3)\n",
      "memory usage: 1.1+ MB\n"
     ]
    }
   ],
   "source": [
    "df.info()"
   ]
  },
  {
   "cell_type": "markdown",
   "id": "0d00060d-3801-4e60-b8d6-1602773d234f",
   "metadata": {},
   "source": [
    "df.corr()"
   ]
  },
  {
   "cell_type": "code",
   "execution_count": 6,
   "id": "79b7951b-0ead-4aca-8441-b78775e9e5b6",
   "metadata": {},
   "outputs": [
    {
     "data": {
      "text/plain": [
       "0"
      ]
     },
     "execution_count": 6,
     "metadata": {},
     "output_type": "execute_result"
    }
   ],
   "source": [
    "df.duplicated().sum()"
   ]
  },
  {
   "cell_type": "markdown",
   "id": "3f6ad310-6952-4a2b-aca4-7c2e8159f700",
   "metadata": {},
   "source": [
    "**Вывод:** Необходимо привести названия столбцов к нижнему регистру. Пропущены значения в столбце Tenure. В датасете 10 тысяч строк, что достаточно для качественного обучения моделей. Мультиколлинеарность не наблюдается. Явные дубликаты отсутствуют."
   ]
  },
  {
   "cell_type": "markdown",
   "id": "4e0b589a-c77a-451d-880f-e2128a648624",
   "metadata": {},
   "source": [
    "## Шаг 2. Предобработка данных"
   ]
  },
  {
   "cell_type": "code",
   "execution_count": 7,
   "id": "0a9c90b9-1a4b-4eb1-a9ba-3f73857f7288",
   "metadata": {},
   "outputs": [],
   "source": [
    "df.columns = map(str.lower, df.columns) # приводим названия столбцов к нижнему регистру"
   ]
  },
  {
   "cell_type": "code",
   "execution_count": 8,
   "id": "300a57a4-9ce3-4c7b-a5cd-5865629280fc",
   "metadata": {},
   "outputs": [],
   "source": [
    "# разделим названия столбцов на отдельные слова нижним подчеркиванием \n",
    "df = df.rename(columns={'rownumber':'row_number', 'customerid':'customer_id', 'creditscore':'credit_score', 'numofproducts':'num_of_products', 'hascrcard':'has_cr_card', 'isactivemember':'is_active_member', 'estimatedsalary':'estimated_salary'})"
   ]
  },
  {
   "cell_type": "code",
   "execution_count": 9,
   "id": "f71b8a33-2957-422a-9e4a-ba1c66393c3e",
   "metadata": {},
   "outputs": [
    {
     "data": {
      "text/html": [
       "<div>\n",
       "<style scoped>\n",
       "    .dataframe tbody tr th:only-of-type {\n",
       "        vertical-align: middle;\n",
       "    }\n",
       "\n",
       "    .dataframe tbody tr th {\n",
       "        vertical-align: top;\n",
       "    }\n",
       "\n",
       "    .dataframe thead th {\n",
       "        text-align: right;\n",
       "    }\n",
       "</style>\n",
       "<table border=\"1\" class=\"dataframe\">\n",
       "  <thead>\n",
       "    <tr style=\"text-align: right;\">\n",
       "      <th></th>\n",
       "      <th>row_number</th>\n",
       "      <th>customer_id</th>\n",
       "      <th>surname</th>\n",
       "      <th>credit_score</th>\n",
       "      <th>geography</th>\n",
       "      <th>gender</th>\n",
       "      <th>age</th>\n",
       "      <th>tenure</th>\n",
       "      <th>balance</th>\n",
       "      <th>num_of_products</th>\n",
       "      <th>has_cr_card</th>\n",
       "      <th>is_active_member</th>\n",
       "      <th>estimated_salary</th>\n",
       "      <th>exited</th>\n",
       "    </tr>\n",
       "  </thead>\n",
       "  <tbody>\n",
       "    <tr>\n",
       "      <th>30</th>\n",
       "      <td>31</td>\n",
       "      <td>15589475</td>\n",
       "      <td>Azikiwe</td>\n",
       "      <td>591</td>\n",
       "      <td>Spain</td>\n",
       "      <td>Female</td>\n",
       "      <td>39</td>\n",
       "      <td>NaN</td>\n",
       "      <td>0.00</td>\n",
       "      <td>3</td>\n",
       "      <td>1</td>\n",
       "      <td>0</td>\n",
       "      <td>140469.38</td>\n",
       "      <td>1</td>\n",
       "    </tr>\n",
       "    <tr>\n",
       "      <th>48</th>\n",
       "      <td>49</td>\n",
       "      <td>15766205</td>\n",
       "      <td>Yin</td>\n",
       "      <td>550</td>\n",
       "      <td>Germany</td>\n",
       "      <td>Male</td>\n",
       "      <td>38</td>\n",
       "      <td>NaN</td>\n",
       "      <td>103391.38</td>\n",
       "      <td>1</td>\n",
       "      <td>0</td>\n",
       "      <td>1</td>\n",
       "      <td>90878.13</td>\n",
       "      <td>0</td>\n",
       "    </tr>\n",
       "    <tr>\n",
       "      <th>51</th>\n",
       "      <td>52</td>\n",
       "      <td>15768193</td>\n",
       "      <td>Trevisani</td>\n",
       "      <td>585</td>\n",
       "      <td>Germany</td>\n",
       "      <td>Male</td>\n",
       "      <td>36</td>\n",
       "      <td>NaN</td>\n",
       "      <td>146050.97</td>\n",
       "      <td>2</td>\n",
       "      <td>0</td>\n",
       "      <td>0</td>\n",
       "      <td>86424.57</td>\n",
       "      <td>0</td>\n",
       "    </tr>\n",
       "    <tr>\n",
       "      <th>53</th>\n",
       "      <td>54</td>\n",
       "      <td>15702298</td>\n",
       "      <td>Parkhill</td>\n",
       "      <td>655</td>\n",
       "      <td>Germany</td>\n",
       "      <td>Male</td>\n",
       "      <td>41</td>\n",
       "      <td>NaN</td>\n",
       "      <td>125561.97</td>\n",
       "      <td>1</td>\n",
       "      <td>0</td>\n",
       "      <td>0</td>\n",
       "      <td>164040.94</td>\n",
       "      <td>1</td>\n",
       "    </tr>\n",
       "    <tr>\n",
       "      <th>60</th>\n",
       "      <td>61</td>\n",
       "      <td>15651280</td>\n",
       "      <td>Hunter</td>\n",
       "      <td>742</td>\n",
       "      <td>Germany</td>\n",
       "      <td>Male</td>\n",
       "      <td>35</td>\n",
       "      <td>NaN</td>\n",
       "      <td>136857.00</td>\n",
       "      <td>1</td>\n",
       "      <td>0</td>\n",
       "      <td>0</td>\n",
       "      <td>84509.57</td>\n",
       "      <td>0</td>\n",
       "    </tr>\n",
       "    <tr>\n",
       "      <th>...</th>\n",
       "      <td>...</td>\n",
       "      <td>...</td>\n",
       "      <td>...</td>\n",
       "      <td>...</td>\n",
       "      <td>...</td>\n",
       "      <td>...</td>\n",
       "      <td>...</td>\n",
       "      <td>...</td>\n",
       "      <td>...</td>\n",
       "      <td>...</td>\n",
       "      <td>...</td>\n",
       "      <td>...</td>\n",
       "      <td>...</td>\n",
       "      <td>...</td>\n",
       "    </tr>\n",
       "    <tr>\n",
       "      <th>9944</th>\n",
       "      <td>9945</td>\n",
       "      <td>15703923</td>\n",
       "      <td>Cameron</td>\n",
       "      <td>744</td>\n",
       "      <td>Germany</td>\n",
       "      <td>Male</td>\n",
       "      <td>41</td>\n",
       "      <td>NaN</td>\n",
       "      <td>190409.34</td>\n",
       "      <td>2</td>\n",
       "      <td>1</td>\n",
       "      <td>1</td>\n",
       "      <td>138361.48</td>\n",
       "      <td>0</td>\n",
       "    </tr>\n",
       "    <tr>\n",
       "      <th>9956</th>\n",
       "      <td>9957</td>\n",
       "      <td>15707861</td>\n",
       "      <td>Nucci</td>\n",
       "      <td>520</td>\n",
       "      <td>France</td>\n",
       "      <td>Female</td>\n",
       "      <td>46</td>\n",
       "      <td>NaN</td>\n",
       "      <td>85216.61</td>\n",
       "      <td>1</td>\n",
       "      <td>1</td>\n",
       "      <td>0</td>\n",
       "      <td>117369.52</td>\n",
       "      <td>1</td>\n",
       "    </tr>\n",
       "    <tr>\n",
       "      <th>9964</th>\n",
       "      <td>9965</td>\n",
       "      <td>15642785</td>\n",
       "      <td>Douglas</td>\n",
       "      <td>479</td>\n",
       "      <td>France</td>\n",
       "      <td>Male</td>\n",
       "      <td>34</td>\n",
       "      <td>NaN</td>\n",
       "      <td>117593.48</td>\n",
       "      <td>2</td>\n",
       "      <td>0</td>\n",
       "      <td>0</td>\n",
       "      <td>113308.29</td>\n",
       "      <td>0</td>\n",
       "    </tr>\n",
       "    <tr>\n",
       "      <th>9985</th>\n",
       "      <td>9986</td>\n",
       "      <td>15586914</td>\n",
       "      <td>Nepean</td>\n",
       "      <td>659</td>\n",
       "      <td>France</td>\n",
       "      <td>Male</td>\n",
       "      <td>36</td>\n",
       "      <td>NaN</td>\n",
       "      <td>123841.49</td>\n",
       "      <td>2</td>\n",
       "      <td>1</td>\n",
       "      <td>0</td>\n",
       "      <td>96833.00</td>\n",
       "      <td>0</td>\n",
       "    </tr>\n",
       "    <tr>\n",
       "      <th>9999</th>\n",
       "      <td>10000</td>\n",
       "      <td>15628319</td>\n",
       "      <td>Walker</td>\n",
       "      <td>792</td>\n",
       "      <td>France</td>\n",
       "      <td>Female</td>\n",
       "      <td>28</td>\n",
       "      <td>NaN</td>\n",
       "      <td>130142.79</td>\n",
       "      <td>1</td>\n",
       "      <td>1</td>\n",
       "      <td>0</td>\n",
       "      <td>38190.78</td>\n",
       "      <td>0</td>\n",
       "    </tr>\n",
       "  </tbody>\n",
       "</table>\n",
       "<p>909 rows × 14 columns</p>\n",
       "</div>"
      ],
      "text/plain": [
       "      row_number  customer_id    surname  credit_score geography  gender  age  \\\n",
       "30            31     15589475    Azikiwe           591     Spain  Female   39   \n",
       "48            49     15766205        Yin           550   Germany    Male   38   \n",
       "51            52     15768193  Trevisani           585   Germany    Male   36   \n",
       "53            54     15702298   Parkhill           655   Germany    Male   41   \n",
       "60            61     15651280     Hunter           742   Germany    Male   35   \n",
       "...          ...          ...        ...           ...       ...     ...  ...   \n",
       "9944        9945     15703923    Cameron           744   Germany    Male   41   \n",
       "9956        9957     15707861      Nucci           520    France  Female   46   \n",
       "9964        9965     15642785    Douglas           479    France    Male   34   \n",
       "9985        9986     15586914     Nepean           659    France    Male   36   \n",
       "9999       10000     15628319     Walker           792    France  Female   28   \n",
       "\n",
       "      tenure    balance  num_of_products  has_cr_card  is_active_member  \\\n",
       "30       NaN       0.00                3            1                 0   \n",
       "48       NaN  103391.38                1            0                 1   \n",
       "51       NaN  146050.97                2            0                 0   \n",
       "53       NaN  125561.97                1            0                 0   \n",
       "60       NaN  136857.00                1            0                 0   \n",
       "...      ...        ...              ...          ...               ...   \n",
       "9944     NaN  190409.34                2            1                 1   \n",
       "9956     NaN   85216.61                1            1                 0   \n",
       "9964     NaN  117593.48                2            0                 0   \n",
       "9985     NaN  123841.49                2            1                 0   \n",
       "9999     NaN  130142.79                1            1                 0   \n",
       "\n",
       "      estimated_salary  exited  \n",
       "30           140469.38       1  \n",
       "48            90878.13       0  \n",
       "51            86424.57       0  \n",
       "53           164040.94       1  \n",
       "60            84509.57       0  \n",
       "...                ...     ...  \n",
       "9944         138361.48       0  \n",
       "9956         117369.52       1  \n",
       "9964         113308.29       0  \n",
       "9985          96833.00       0  \n",
       "9999          38190.78       0  \n",
       "\n",
       "[909 rows x 14 columns]"
      ]
     },
     "execution_count": 9,
     "metadata": {},
     "output_type": "execute_result"
    }
   ],
   "source": [
    "df[df['tenure'].isna()] # рассмотрим подробнее пропуски в столбце Tenure"
   ]
  },
  {
   "cell_type": "code",
   "execution_count": 10,
   "id": "3083390c-499d-4db3-b7a9-0320daefbdad",
   "metadata": {},
   "outputs": [
    {
     "data": {
      "text/html": [
       "<style  type=\"text/css\" >\n",
       "#T_39188_row0_col0,#T_39188_row1_col0,#T_39188_row2_col0,#T_39188_row3_col0,#T_39188_row4_col0,#T_39188_row5_col0,#T_39188_row6_col0,#T_39188_row8_col0,#T_39188_row9_col0,#T_39188_row10_col0,#T_39188_row11_col0,#T_39188_row12_col0,#T_39188_row13_col0{\n",
       "            background-color:  #3b4cc0;\n",
       "            color:  #f1f1f1;\n",
       "        }#T_39188_row7_col0{\n",
       "            background-color:  #b40426;\n",
       "            color:  #f1f1f1;\n",
       "        }</style><table id=\"T_39188_\" ><thead>    <tr>        <th class=\"blank level0\" ></th>        <th class=\"col_heading level0 col0\" >0</th>    </tr></thead><tbody>\n",
       "                <tr>\n",
       "                        <th id=\"T_39188_level0_row0\" class=\"row_heading level0 row0\" >row_number</th>\n",
       "                        <td id=\"T_39188_row0_col0\" class=\"data row0 col0\" >0.000000</td>\n",
       "            </tr>\n",
       "            <tr>\n",
       "                        <th id=\"T_39188_level0_row1\" class=\"row_heading level0 row1\" >customer_id</th>\n",
       "                        <td id=\"T_39188_row1_col0\" class=\"data row1 col0\" >0.000000</td>\n",
       "            </tr>\n",
       "            <tr>\n",
       "                        <th id=\"T_39188_level0_row2\" class=\"row_heading level0 row2\" >surname</th>\n",
       "                        <td id=\"T_39188_row2_col0\" class=\"data row2 col0\" >0.000000</td>\n",
       "            </tr>\n",
       "            <tr>\n",
       "                        <th id=\"T_39188_level0_row3\" class=\"row_heading level0 row3\" >credit_score</th>\n",
       "                        <td id=\"T_39188_row3_col0\" class=\"data row3 col0\" >0.000000</td>\n",
       "            </tr>\n",
       "            <tr>\n",
       "                        <th id=\"T_39188_level0_row4\" class=\"row_heading level0 row4\" >geography</th>\n",
       "                        <td id=\"T_39188_row4_col0\" class=\"data row4 col0\" >0.000000</td>\n",
       "            </tr>\n",
       "            <tr>\n",
       "                        <th id=\"T_39188_level0_row5\" class=\"row_heading level0 row5\" >gender</th>\n",
       "                        <td id=\"T_39188_row5_col0\" class=\"data row5 col0\" >0.000000</td>\n",
       "            </tr>\n",
       "            <tr>\n",
       "                        <th id=\"T_39188_level0_row6\" class=\"row_heading level0 row6\" >age</th>\n",
       "                        <td id=\"T_39188_row6_col0\" class=\"data row6 col0\" >0.000000</td>\n",
       "            </tr>\n",
       "            <tr>\n",
       "                        <th id=\"T_39188_level0_row7\" class=\"row_heading level0 row7\" >tenure</th>\n",
       "                        <td id=\"T_39188_row7_col0\" class=\"data row7 col0\" >9.100000</td>\n",
       "            </tr>\n",
       "            <tr>\n",
       "                        <th id=\"T_39188_level0_row8\" class=\"row_heading level0 row8\" >balance</th>\n",
       "                        <td id=\"T_39188_row8_col0\" class=\"data row8 col0\" >0.000000</td>\n",
       "            </tr>\n",
       "            <tr>\n",
       "                        <th id=\"T_39188_level0_row9\" class=\"row_heading level0 row9\" >num_of_products</th>\n",
       "                        <td id=\"T_39188_row9_col0\" class=\"data row9 col0\" >0.000000</td>\n",
       "            </tr>\n",
       "            <tr>\n",
       "                        <th id=\"T_39188_level0_row10\" class=\"row_heading level0 row10\" >has_cr_card</th>\n",
       "                        <td id=\"T_39188_row10_col0\" class=\"data row10 col0\" >0.000000</td>\n",
       "            </tr>\n",
       "            <tr>\n",
       "                        <th id=\"T_39188_level0_row11\" class=\"row_heading level0 row11\" >is_active_member</th>\n",
       "                        <td id=\"T_39188_row11_col0\" class=\"data row11 col0\" >0.000000</td>\n",
       "            </tr>\n",
       "            <tr>\n",
       "                        <th id=\"T_39188_level0_row12\" class=\"row_heading level0 row12\" >estimated_salary</th>\n",
       "                        <td id=\"T_39188_row12_col0\" class=\"data row12 col0\" >0.000000</td>\n",
       "            </tr>\n",
       "            <tr>\n",
       "                        <th id=\"T_39188_level0_row13\" class=\"row_heading level0 row13\" >exited</th>\n",
       "                        <td id=\"T_39188_row13_col0\" class=\"data row13 col0\" >0.000000</td>\n",
       "            </tr>\n",
       "    </tbody></table>"
      ],
      "text/plain": [
       "<pandas.io.formats.style.Styler at 0x7f7f5c4c47f0>"
      ]
     },
     "execution_count": 10,
     "metadata": {},
     "output_type": "execute_result"
    }
   ],
   "source": [
    "pd.DataFrame(round(df.isna().mean()*100,1)).style.background_gradient('coolwarm')"
   ]
  },
  {
   "cell_type": "markdown",
   "id": "40f89ea2-d472-4506-890d-f03a71455d4c",
   "metadata": {},
   "source": [
    "Поскольку пропусков в столбце более 5% мы не можем просто удалить строки с пропусками. Также нет никакой зависимости с дургими столбцами. Скорее всего произошли технические неполадки и данные удалились. Чтобы не \"шокировать\" будущую модель предлагается заменить пропуски медианными значениями. "
   ]
  },
  {
   "cell_type": "code",
   "execution_count": 11,
   "id": "99e6d492-8f88-4fa5-8dc7-4d8a2b311d4c",
   "metadata": {},
   "outputs": [],
   "source": [
    "df['tenure'] = df['tenure'].fillna(df['tenure'].median())"
   ]
  },
  {
   "cell_type": "code",
   "execution_count": 12,
   "id": "1890e748-96a7-4ef6-adfb-5c7430836e01",
   "metadata": {},
   "outputs": [
    {
     "data": {
      "text/plain": [
       "0"
      ]
     },
     "execution_count": 12,
     "metadata": {},
     "output_type": "execute_result"
    }
   ],
   "source": [
    "df['tenure'].isna().sum()"
   ]
  },
  {
   "cell_type": "code",
   "execution_count": 13,
   "id": "72b1b883-3de5-4901-97ba-c609fcf12ad8",
   "metadata": {},
   "outputs": [
    {
     "data": {
      "text/html": [
       "<div>\n",
       "<style scoped>\n",
       "    .dataframe tbody tr th:only-of-type {\n",
       "        vertical-align: middle;\n",
       "    }\n",
       "\n",
       "    .dataframe tbody tr th {\n",
       "        vertical-align: top;\n",
       "    }\n",
       "\n",
       "    .dataframe thead th {\n",
       "        text-align: right;\n",
       "    }\n",
       "</style>\n",
       "<table border=\"1\" class=\"dataframe\">\n",
       "  <thead>\n",
       "    <tr style=\"text-align: right;\">\n",
       "      <th></th>\n",
       "      <th>credit_score</th>\n",
       "      <th>geography</th>\n",
       "      <th>gender</th>\n",
       "      <th>age</th>\n",
       "      <th>tenure</th>\n",
       "      <th>balance</th>\n",
       "      <th>num_of_products</th>\n",
       "      <th>has_cr_card</th>\n",
       "      <th>is_active_member</th>\n",
       "      <th>estimated_salary</th>\n",
       "      <th>exited</th>\n",
       "    </tr>\n",
       "  </thead>\n",
       "  <tbody>\n",
       "    <tr>\n",
       "      <th>0</th>\n",
       "      <td>619</td>\n",
       "      <td>France</td>\n",
       "      <td>Female</td>\n",
       "      <td>42</td>\n",
       "      <td>2.0</td>\n",
       "      <td>0.00</td>\n",
       "      <td>1</td>\n",
       "      <td>1</td>\n",
       "      <td>1</td>\n",
       "      <td>101348.88</td>\n",
       "      <td>1</td>\n",
       "    </tr>\n",
       "    <tr>\n",
       "      <th>1</th>\n",
       "      <td>608</td>\n",
       "      <td>Spain</td>\n",
       "      <td>Female</td>\n",
       "      <td>41</td>\n",
       "      <td>1.0</td>\n",
       "      <td>83807.86</td>\n",
       "      <td>1</td>\n",
       "      <td>0</td>\n",
       "      <td>1</td>\n",
       "      <td>112542.58</td>\n",
       "      <td>0</td>\n",
       "    </tr>\n",
       "    <tr>\n",
       "      <th>2</th>\n",
       "      <td>502</td>\n",
       "      <td>France</td>\n",
       "      <td>Female</td>\n",
       "      <td>42</td>\n",
       "      <td>8.0</td>\n",
       "      <td>159660.80</td>\n",
       "      <td>3</td>\n",
       "      <td>1</td>\n",
       "      <td>0</td>\n",
       "      <td>113931.57</td>\n",
       "      <td>1</td>\n",
       "    </tr>\n",
       "    <tr>\n",
       "      <th>3</th>\n",
       "      <td>699</td>\n",
       "      <td>France</td>\n",
       "      <td>Female</td>\n",
       "      <td>39</td>\n",
       "      <td>1.0</td>\n",
       "      <td>0.00</td>\n",
       "      <td>2</td>\n",
       "      <td>0</td>\n",
       "      <td>0</td>\n",
       "      <td>93826.63</td>\n",
       "      <td>0</td>\n",
       "    </tr>\n",
       "    <tr>\n",
       "      <th>4</th>\n",
       "      <td>850</td>\n",
       "      <td>Spain</td>\n",
       "      <td>Female</td>\n",
       "      <td>43</td>\n",
       "      <td>2.0</td>\n",
       "      <td>125510.82</td>\n",
       "      <td>1</td>\n",
       "      <td>1</td>\n",
       "      <td>1</td>\n",
       "      <td>79084.10</td>\n",
       "      <td>0</td>\n",
       "    </tr>\n",
       "  </tbody>\n",
       "</table>\n",
       "</div>"
      ],
      "text/plain": [
       "   credit_score geography  gender  age  tenure    balance  num_of_products  \\\n",
       "0           619    France  Female   42     2.0       0.00                1   \n",
       "1           608     Spain  Female   41     1.0   83807.86                1   \n",
       "2           502    France  Female   42     8.0  159660.80                3   \n",
       "3           699    France  Female   39     1.0       0.00                2   \n",
       "4           850     Spain  Female   43     2.0  125510.82                1   \n",
       "\n",
       "   has_cr_card  is_active_member  estimated_salary  exited  \n",
       "0            1                 1         101348.88       1  \n",
       "1            0                 1         112542.58       0  \n",
       "2            1                 0         113931.57       1  \n",
       "3            0                 0          93826.63       0  \n",
       "4            1                 1          79084.10       0  "
      ]
     },
     "execution_count": 13,
     "metadata": {},
     "output_type": "execute_result"
    }
   ],
   "source": [
    "# избавимся от столбцов row_number, customer_id, surname поскольку они не влияет на целевой признак\n",
    "df = df.drop(['row_number', 'customer_id', 'surname'], axis=1)\n",
    "df.head()"
   ]
  },
  {
   "cell_type": "code",
   "execution_count": 14,
   "id": "c3544562-8f02-4568-84be-175a90a746b8",
   "metadata": {},
   "outputs": [
    {
     "data": {
      "text/plain": [
       "array(['France', 'Spain', 'Germany'], dtype=object)"
      ]
     },
     "execution_count": 14,
     "metadata": {},
     "output_type": "execute_result"
    }
   ],
   "source": [
    "df['geography'].unique()"
   ]
  },
  {
   "cell_type": "code",
   "execution_count": 15,
   "id": "f28eae7f-c9e6-41db-bebc-9af29f04f84a",
   "metadata": {},
   "outputs": [
    {
     "data": {
      "text/plain": [
       "array(['Female', 'Male'], dtype=object)"
      ]
     },
     "execution_count": 15,
     "metadata": {},
     "output_type": "execute_result"
    }
   ],
   "source": [
    "df['gender'].unique()"
   ]
  },
  {
   "cell_type": "markdown",
   "id": "2f94408c-0850-4f14-a2cd-569f60c5148f",
   "metadata": {},
   "source": [
    "**Вывод:** Преобразованы названия столбцов, заменены пропуски значений в столбце tenure, удалены столбцы, которые не влияют на целевой признак. Категориальные столбцы gender и geography можно преобразовать в численные с помощью прямого кодирования."
   ]
  },
  {
   "cell_type": "markdown",
   "id": "c08d7411-96dc-4cf1-9673-4068c2e1347f",
   "metadata": {},
   "source": [
    "## Шаг 3. Исследуйте баланс классов, обучите модель без учёта дисбаланса. Кратко опишите выводы."
   ]
  },
  {
   "cell_type": "code",
   "execution_count": 16,
   "id": "e8ad018c-4cfd-4132-ad3e-0bfdf764ddc7",
   "metadata": {},
   "outputs": [
    {
     "data": {
      "text/html": [
       "<div>\n",
       "<style scoped>\n",
       "    .dataframe tbody tr th:only-of-type {\n",
       "        vertical-align: middle;\n",
       "    }\n",
       "\n",
       "    .dataframe tbody tr th {\n",
       "        vertical-align: top;\n",
       "    }\n",
       "\n",
       "    .dataframe thead th {\n",
       "        text-align: right;\n",
       "    }\n",
       "</style>\n",
       "<table border=\"1\" class=\"dataframe\">\n",
       "  <thead>\n",
       "    <tr style=\"text-align: right;\">\n",
       "      <th></th>\n",
       "      <th>credit_score</th>\n",
       "      <th>age</th>\n",
       "      <th>tenure</th>\n",
       "      <th>balance</th>\n",
       "      <th>num_of_products</th>\n",
       "      <th>has_cr_card</th>\n",
       "      <th>is_active_member</th>\n",
       "      <th>estimated_salary</th>\n",
       "      <th>exited</th>\n",
       "      <th>geography_Germany</th>\n",
       "      <th>geography_Spain</th>\n",
       "      <th>gender_Male</th>\n",
       "    </tr>\n",
       "  </thead>\n",
       "  <tbody>\n",
       "    <tr>\n",
       "      <th>0</th>\n",
       "      <td>619</td>\n",
       "      <td>42</td>\n",
       "      <td>2.0</td>\n",
       "      <td>0.00</td>\n",
       "      <td>1</td>\n",
       "      <td>1</td>\n",
       "      <td>1</td>\n",
       "      <td>101348.88</td>\n",
       "      <td>1</td>\n",
       "      <td>0</td>\n",
       "      <td>0</td>\n",
       "      <td>0</td>\n",
       "    </tr>\n",
       "    <tr>\n",
       "      <th>1</th>\n",
       "      <td>608</td>\n",
       "      <td>41</td>\n",
       "      <td>1.0</td>\n",
       "      <td>83807.86</td>\n",
       "      <td>1</td>\n",
       "      <td>0</td>\n",
       "      <td>1</td>\n",
       "      <td>112542.58</td>\n",
       "      <td>0</td>\n",
       "      <td>0</td>\n",
       "      <td>1</td>\n",
       "      <td>0</td>\n",
       "    </tr>\n",
       "    <tr>\n",
       "      <th>2</th>\n",
       "      <td>502</td>\n",
       "      <td>42</td>\n",
       "      <td>8.0</td>\n",
       "      <td>159660.80</td>\n",
       "      <td>3</td>\n",
       "      <td>1</td>\n",
       "      <td>0</td>\n",
       "      <td>113931.57</td>\n",
       "      <td>1</td>\n",
       "      <td>0</td>\n",
       "      <td>0</td>\n",
       "      <td>0</td>\n",
       "    </tr>\n",
       "    <tr>\n",
       "      <th>3</th>\n",
       "      <td>699</td>\n",
       "      <td>39</td>\n",
       "      <td>1.0</td>\n",
       "      <td>0.00</td>\n",
       "      <td>2</td>\n",
       "      <td>0</td>\n",
       "      <td>0</td>\n",
       "      <td>93826.63</td>\n",
       "      <td>0</td>\n",
       "      <td>0</td>\n",
       "      <td>0</td>\n",
       "      <td>0</td>\n",
       "    </tr>\n",
       "    <tr>\n",
       "      <th>4</th>\n",
       "      <td>850</td>\n",
       "      <td>43</td>\n",
       "      <td>2.0</td>\n",
       "      <td>125510.82</td>\n",
       "      <td>1</td>\n",
       "      <td>1</td>\n",
       "      <td>1</td>\n",
       "      <td>79084.10</td>\n",
       "      <td>0</td>\n",
       "      <td>0</td>\n",
       "      <td>1</td>\n",
       "      <td>0</td>\n",
       "    </tr>\n",
       "  </tbody>\n",
       "</table>\n",
       "</div>"
      ],
      "text/plain": [
       "   credit_score  age  tenure    balance  num_of_products  has_cr_card  \\\n",
       "0           619   42     2.0       0.00                1            1   \n",
       "1           608   41     1.0   83807.86                1            0   \n",
       "2           502   42     8.0  159660.80                3            1   \n",
       "3           699   39     1.0       0.00                2            0   \n",
       "4           850   43     2.0  125510.82                1            1   \n",
       "\n",
       "   is_active_member  estimated_salary  exited  geography_Germany  \\\n",
       "0                 1         101348.88       1                  0   \n",
       "1                 1         112542.58       0                  0   \n",
       "2                 0         113931.57       1                  0   \n",
       "3                 0          93826.63       0                  0   \n",
       "4                 1          79084.10       0                  0   \n",
       "\n",
       "   geography_Spain  gender_Male  \n",
       "0                0            0  \n",
       "1                1            0  \n",
       "2                0            0  \n",
       "3                0            0  \n",
       "4                1            0  "
      ]
     },
     "execution_count": 16,
     "metadata": {},
     "output_type": "execute_result"
    }
   ],
   "source": [
    "# преобразование категориальных столбцов в цифровые\n",
    "df_ohe = pd.get_dummies(df, drop_first=True)\n",
    "df_ohe.head()"
   ]
  },
  {
   "cell_type": "code",
   "execution_count": 17,
   "id": "402ad71b-0ae9-4060-b0de-243ff9417a12",
   "metadata": {},
   "outputs": [],
   "source": [
    "# Разделим датафрейм на признаки и целевой признак\n",
    "target = df_ohe['exited']\n",
    "features = df_ohe.drop('exited', axis=1)"
   ]
  },
  {
   "cell_type": "code",
   "execution_count": 18,
   "id": "4998d740-cd6e-46a9-870c-34f60c372079",
   "metadata": {},
   "outputs": [],
   "source": [
    "# сначала необходимо выделить тестовую выборку из всего датасета\n",
    "features_1, features_test, target_1, target_test = train_test_split(features, target, test_size=0.2, random_state=12345, stratify=target)\n",
    "# затем выделяем обучающую и валдиационную выборки из оставшегося датасета\n",
    "features_train, features_valid, target_train, target_valid = train_test_split(features_1, target_1, test_size=0.25, random_state=12345, stratify=target_1)\n",
    "pd.options.mode.chained_assignment = None"
   ]
  },
  {
   "cell_type": "code",
   "execution_count": 19,
   "id": "439fbbf3-b7a7-4f9a-8945-6ef3d9861318",
   "metadata": {},
   "outputs": [
    {
     "data": {
      "text/html": [
       "<div>\n",
       "<style scoped>\n",
       "    .dataframe tbody tr th:only-of-type {\n",
       "        vertical-align: middle;\n",
       "    }\n",
       "\n",
       "    .dataframe tbody tr th {\n",
       "        vertical-align: top;\n",
       "    }\n",
       "\n",
       "    .dataframe thead th {\n",
       "        text-align: right;\n",
       "    }\n",
       "</style>\n",
       "<table border=\"1\" class=\"dataframe\">\n",
       "  <thead>\n",
       "    <tr style=\"text-align: right;\">\n",
       "      <th></th>\n",
       "      <th>credit_score</th>\n",
       "      <th>age</th>\n",
       "      <th>tenure</th>\n",
       "      <th>balance</th>\n",
       "      <th>num_of_products</th>\n",
       "      <th>has_cr_card</th>\n",
       "      <th>is_active_member</th>\n",
       "      <th>estimated_salary</th>\n",
       "      <th>geography_Germany</th>\n",
       "      <th>geography_Spain</th>\n",
       "      <th>gender_Male</th>\n",
       "    </tr>\n",
       "  </thead>\n",
       "  <tbody>\n",
       "    <tr>\n",
       "      <th>5536</th>\n",
       "      <td>-0.143332</td>\n",
       "      <td>0.577533</td>\n",
       "      <td>-0.001274</td>\n",
       "      <td>-1.220573</td>\n",
       "      <td>0.797767</td>\n",
       "      <td>1</td>\n",
       "      <td>1</td>\n",
       "      <td>1.029613</td>\n",
       "      <td>0</td>\n",
       "      <td>1</td>\n",
       "      <td>1</td>\n",
       "    </tr>\n",
       "    <tr>\n",
       "      <th>8530</th>\n",
       "      <td>1.632702</td>\n",
       "      <td>-0.564119</td>\n",
       "      <td>-1.092954</td>\n",
       "      <td>0.435807</td>\n",
       "      <td>-0.916018</td>\n",
       "      <td>1</td>\n",
       "      <td>0</td>\n",
       "      <td>0.237986</td>\n",
       "      <td>0</td>\n",
       "      <td>0</td>\n",
       "      <td>0</td>\n",
       "    </tr>\n",
       "    <tr>\n",
       "      <th>1762</th>\n",
       "      <td>1.116413</td>\n",
       "      <td>-0.468981</td>\n",
       "      <td>-1.456847</td>\n",
       "      <td>1.245822</td>\n",
       "      <td>-0.916018</td>\n",
       "      <td>1</td>\n",
       "      <td>1</td>\n",
       "      <td>-0.686104</td>\n",
       "      <td>0</td>\n",
       "      <td>0</td>\n",
       "      <td>0</td>\n",
       "    </tr>\n",
       "    <tr>\n",
       "      <th>9090</th>\n",
       "      <td>1.643028</td>\n",
       "      <td>0.006707</td>\n",
       "      <td>-0.001274</td>\n",
       "      <td>-1.220573</td>\n",
       "      <td>-0.916018</td>\n",
       "      <td>1</td>\n",
       "      <td>0</td>\n",
       "      <td>-0.391097</td>\n",
       "      <td>0</td>\n",
       "      <td>0</td>\n",
       "      <td>0</td>\n",
       "    </tr>\n",
       "    <tr>\n",
       "      <th>8777</th>\n",
       "      <td>-0.484083</td>\n",
       "      <td>-1.420358</td>\n",
       "      <td>-1.456847</td>\n",
       "      <td>1.421989</td>\n",
       "      <td>0.797767</td>\n",
       "      <td>1</td>\n",
       "      <td>0</td>\n",
       "      <td>-1.361559</td>\n",
       "      <td>0</td>\n",
       "      <td>1</td>\n",
       "      <td>1</td>\n",
       "    </tr>\n",
       "    <tr>\n",
       "      <th>...</th>\n",
       "      <td>...</td>\n",
       "      <td>...</td>\n",
       "      <td>...</td>\n",
       "      <td>...</td>\n",
       "      <td>...</td>\n",
       "      <td>...</td>\n",
       "      <td>...</td>\n",
       "      <td>...</td>\n",
       "      <td>...</td>\n",
       "      <td>...</td>\n",
       "      <td>...</td>\n",
       "    </tr>\n",
       "    <tr>\n",
       "      <th>2956</th>\n",
       "      <td>1.467489</td>\n",
       "      <td>-0.849532</td>\n",
       "      <td>1.090407</td>\n",
       "      <td>-1.220573</td>\n",
       "      <td>0.797767</td>\n",
       "      <td>1</td>\n",
       "      <td>0</td>\n",
       "      <td>1.727827</td>\n",
       "      <td>0</td>\n",
       "      <td>0</td>\n",
       "      <td>1</td>\n",
       "    </tr>\n",
       "    <tr>\n",
       "      <th>667</th>\n",
       "      <td>-1.516661</td>\n",
       "      <td>-0.944670</td>\n",
       "      <td>-0.729060</td>\n",
       "      <td>-1.220573</td>\n",
       "      <td>0.797767</td>\n",
       "      <td>1</td>\n",
       "      <td>1</td>\n",
       "      <td>0.760116</td>\n",
       "      <td>0</td>\n",
       "      <td>0</td>\n",
       "      <td>1</td>\n",
       "    </tr>\n",
       "    <tr>\n",
       "      <th>7371</th>\n",
       "      <td>2.066384</td>\n",
       "      <td>-0.849532</td>\n",
       "      <td>1.818193</td>\n",
       "      <td>1.243157</td>\n",
       "      <td>0.797767</td>\n",
       "      <td>1</td>\n",
       "      <td>0</td>\n",
       "      <td>-0.649923</td>\n",
       "      <td>0</td>\n",
       "      <td>0</td>\n",
       "      <td>1</td>\n",
       "    </tr>\n",
       "    <tr>\n",
       "      <th>9472</th>\n",
       "      <td>1.291951</td>\n",
       "      <td>3.336526</td>\n",
       "      <td>-1.820741</td>\n",
       "      <td>1.361543</td>\n",
       "      <td>-0.916018</td>\n",
       "      <td>1</td>\n",
       "      <td>1</td>\n",
       "      <td>0.602245</td>\n",
       "      <td>1</td>\n",
       "      <td>0</td>\n",
       "      <td>0</td>\n",
       "    </tr>\n",
       "    <tr>\n",
       "      <th>8193</th>\n",
       "      <td>-0.597666</td>\n",
       "      <td>2.575424</td>\n",
       "      <td>-0.001274</td>\n",
       "      <td>1.178790</td>\n",
       "      <td>-0.916018</td>\n",
       "      <td>1</td>\n",
       "      <td>1</td>\n",
       "      <td>-0.416088</td>\n",
       "      <td>0</td>\n",
       "      <td>0</td>\n",
       "      <td>0</td>\n",
       "    </tr>\n",
       "  </tbody>\n",
       "</table>\n",
       "<p>6000 rows × 11 columns</p>\n",
       "</div>"
      ],
      "text/plain": [
       "      credit_score       age    tenure   balance  num_of_products  \\\n",
       "5536     -0.143332  0.577533 -0.001274 -1.220573         0.797767   \n",
       "8530      1.632702 -0.564119 -1.092954  0.435807        -0.916018   \n",
       "1762      1.116413 -0.468981 -1.456847  1.245822        -0.916018   \n",
       "9090      1.643028  0.006707 -0.001274 -1.220573        -0.916018   \n",
       "8777     -0.484083 -1.420358 -1.456847  1.421989         0.797767   \n",
       "...            ...       ...       ...       ...              ...   \n",
       "2956      1.467489 -0.849532  1.090407 -1.220573         0.797767   \n",
       "667      -1.516661 -0.944670 -0.729060 -1.220573         0.797767   \n",
       "7371      2.066384 -0.849532  1.818193  1.243157         0.797767   \n",
       "9472      1.291951  3.336526 -1.820741  1.361543        -0.916018   \n",
       "8193     -0.597666  2.575424 -0.001274  1.178790        -0.916018   \n",
       "\n",
       "      has_cr_card  is_active_member  estimated_salary  geography_Germany  \\\n",
       "5536            1                 1          1.029613                  0   \n",
       "8530            1                 0          0.237986                  0   \n",
       "1762            1                 1         -0.686104                  0   \n",
       "9090            1                 0         -0.391097                  0   \n",
       "8777            1                 0         -1.361559                  0   \n",
       "...           ...               ...               ...                ...   \n",
       "2956            1                 0          1.727827                  0   \n",
       "667             1                 1          0.760116                  0   \n",
       "7371            1                 0         -0.649923                  0   \n",
       "9472            1                 1          0.602245                  1   \n",
       "8193            1                 1         -0.416088                  0   \n",
       "\n",
       "      geography_Spain  gender_Male  \n",
       "5536                1            1  \n",
       "8530                0            0  \n",
       "1762                0            0  \n",
       "9090                0            0  \n",
       "8777                1            1  \n",
       "...               ...          ...  \n",
       "2956                0            1  \n",
       "667                 0            1  \n",
       "7371                0            1  \n",
       "9472                0            0  \n",
       "8193                0            0  \n",
       "\n",
       "[6000 rows x 11 columns]"
      ]
     },
     "execution_count": 19,
     "metadata": {},
     "output_type": "execute_result"
    }
   ],
   "source": [
    "# производим стандартизацию численных значений\n",
    "numeric = ['credit_score', 'age', 'tenure', 'balance', 'num_of_products', 'estimated_salary']\n",
    "scaler = StandardScaler()\n",
    "scaler.fit(features_train[numeric])\n",
    "features_train[numeric] = scaler.transform(features_train[numeric])\n",
    "features_valid[numeric] = scaler.transform(features_valid[numeric])\n",
    "features_test[numeric] = scaler.transform(features_test[numeric])\n"
   ]
  },
  {
   "cell_type": "code",
   "execution_count": 20,
   "id": "70222814-d825-483f-831d-27fbad07d3ce",
   "metadata": {
    "scrolled": true
   },
   "outputs": [
    {
     "name": "stdout",
     "output_type": "stream",
     "text": [
      "(6000, 11)\n",
      "(2000, 11)\n",
      "(2000, 11)\n"
     ]
    }
   ],
   "source": [
    "print(features_train.shape)\n",
    "print(features_valid.shape)\n",
    "print(features_test.shape)"
   ]
  },
  {
   "cell_type": "code",
   "execution_count": 21,
   "id": "0df26328-8564-4691-935c-5358a385195c",
   "metadata": {},
   "outputs": [
    {
     "data": {
      "image/png": "[encoded data removed]",
      "text/plain": [
       "<Figure size 432x288 with 1 Axes>"
      ]
     },
     "metadata": {
      "needs_background": "light"
     },
     "output_type": "display_data"
    }
   ],
   "source": [
    "# рассмотрим баланс классов целевого признака\n",
    "class_balance = target.value_counts(normalize=True).reset_index()\n",
    "sns.barplot(y='exited', x='index', data=class_balance, palette='cividis');"
   ]
  },
  {
   "cell_type": "markdown",
   "id": "c3d6c275-3374-46eb-9c6d-ba2c81706897",
   "metadata": {},
   "source": [
    "Как видно из диаграммы, в данных наблюдается дисбаланс."
   ]
  },
  {
   "cell_type": "code",
   "execution_count": 22,
   "id": "77d8a082-b73b-4f3a-bf86-b602bf6b640b",
   "metadata": {},
   "outputs": [],
   "source": [
    "# создадим функцию для обучения моделей с помощью разных алгоритмов\n",
    "\n",
    "def training(features_train, target_train, features_valid, target_valid):\n",
    "    \n",
    "    # обучение модели древа решений\n",
    "    \n",
    "    model_DT = DecisionTreeClassifier(random_state=12345)\n",
    "    model_DT.fit(features_train, target_train)\n",
    "    predictions_DT = model_DT.predict(features_valid)\n",
    "\n",
    "    # обучение модели случайный лес\n",
    "    \n",
    "    model_RF = RandomForestClassifier(random_state=12345, n_estimators=100)\n",
    "    model_RF.fit(features_train, target_train)\n",
    "    predictions_RF = model_RF.predict(features_valid)\n",
    "\n",
    "    # обучение модели логистической регресии\n",
    "    \n",
    "    model_LR = LogisticRegression(solver='liblinear')\n",
    "    model_LR.fit(features_train, target_train)\n",
    "    predictions_LR = model_LR.predict(features_valid)\n",
    "\n",
    "    print(\n",
    "        \"F1-метрика для древа решений -\", f1_score(target_valid, predictions_DT),\n",
    "        \",\", \"матрица ошибок:\", confusion_matrix(target_valid, predictions_DT)\n",
    "    )\n",
    "    \n",
    "    print(\n",
    "        \"F1-метрика для cлучайного леса -\", f1_score(target_valid, predictions_RF),\n",
    "        \",\", \"матрица ошибок:\", confusion_matrix(target_valid, predictions_RF)\n",
    "    )\n",
    "    \n",
    "    print(\n",
    "        \"F1-метрика для логистической регрессии -\", f1_score(target_valid, predictions_LR),\n",
    "        \",\", \"матрица ошибок:\", confusion_matrix(target_valid, predictions_LR)\n",
    "    )"
   ]
  },
  {
   "cell_type": "code",
   "execution_count": 23,
   "id": "1871289f-dd03-4953-afb4-e66d60bcaa80",
   "metadata": {},
   "outputs": [
    {
     "name": "stdout",
     "output_type": "stream",
     "text": [
      "F1-метрика для древа решений - 0.5000000000000001 , матрица ошибок: [[1367  226]\n",
      " [ 196  211]]\n",
      "F1-метрика для cлучайного леса - 0.5555555555555556 , матрица ошибок: [[1532   61]\n",
      " [ 227  180]]\n",
      "F1-метрика для логистической регрессии - 0.3214953271028037 , матрица ошибок: [[1551   42]\n",
      " [ 321   86]]\n"
     ]
    }
   ],
   "source": [
    "training(features_train, target_train, features_valid, target_valid)"
   ]
  },
  {
   "cell_type": "markdown",
   "id": "2a765eed-1318-4ec1-91a7-28e373e4e312",
   "metadata": {},
   "source": [
    "Вывод: Для создания качественной модели, подготовлены признаки: преобразованы категориальные столбцы в численные и масшатабированы признаки. В данных наблюдается дисбаланс классов. Обучены 3 модели без учета дисбаланса классов:\n",
    "- Наивысшее значение f1-метрики показала модель RF, однако, алгоритм все равно имеет склонность к FN-ответам, что сильно понижает качетсво модели.\n",
    "- Наихудшее значение f1-метрики показала модели LR, где еще больше FN-ответов, что приводит к тому, что положительные значения почти не могут быть предсказаны."
   ]
  },
  {
   "cell_type": "markdown",
   "id": "654410a6-475d-4304-a9df-a0d6f146db33",
   "metadata": {},
   "source": [
    "## Шаг 4. Улучшите качество модели, учитывая дисбаланс классов. Обучите разные модели и найдите лучшую. Кратко опишите выводы."
   ]
  },
  {
   "cell_type": "markdown",
   "id": "11f181e9-87fb-419c-a621-048157eb07dd",
   "metadata": {},
   "source": [
    "### Размер выборки"
   ]
  },
  {
   "cell_type": "code",
   "execution_count": 24,
   "id": "cb35ceb2-6e4f-4e7f-b6f6-33d6f3eff252",
   "metadata": {},
   "outputs": [
    {
     "data": {
      "text/html": [
       "<div>\n",
       "<style scoped>\n",
       "    .dataframe tbody tr th:only-of-type {\n",
       "        vertical-align: middle;\n",
       "    }\n",
       "\n",
       "    .dataframe tbody tr th {\n",
       "        vertical-align: top;\n",
       "    }\n",
       "\n",
       "    .dataframe thead th {\n",
       "        text-align: right;\n",
       "    }\n",
       "</style>\n",
       "<table border=\"1\" class=\"dataframe\">\n",
       "  <thead>\n",
       "    <tr style=\"text-align: right;\">\n",
       "      <th></th>\n",
       "      <th>index</th>\n",
       "      <th>exited</th>\n",
       "    </tr>\n",
       "  </thead>\n",
       "  <tbody>\n",
       "    <tr>\n",
       "      <th>0</th>\n",
       "      <td>0</td>\n",
       "      <td>0.7963</td>\n",
       "    </tr>\n",
       "    <tr>\n",
       "      <th>1</th>\n",
       "      <td>1</td>\n",
       "      <td>0.2037</td>\n",
       "    </tr>\n",
       "  </tbody>\n",
       "</table>\n",
       "</div>"
      ],
      "text/plain": [
       "   index  exited\n",
       "0      0  0.7963\n",
       "1      1  0.2037"
      ]
     },
     "execution_count": 24,
     "metadata": {},
     "output_type": "execute_result"
    }
   ],
   "source": [
    "class_balance"
   ]
  },
  {
   "cell_type": "markdown",
   "id": "0dde4d26-6aa6-4b83-9db8-b1729c0369f6",
   "metadata": {},
   "source": [
    "В связи с соотношением отрицательного класса к положительному 4:1, необоходимо увеличить долю положительного класса в 4 раза."
   ]
  },
  {
   "cell_type": "code",
   "execution_count": 25,
   "id": "67009d31-7a1c-443e-8505-aebbdb5a90d1",
   "metadata": {},
   "outputs": [],
   "source": [
    "# создадим функцию для реализации upsampling-a:\n",
    "def upsample(features, target, repeat):\n",
    "    features_zeros = features[target == 0]\n",
    "    features_ones = features[target == 1]\n",
    "    target_zeros = target[target ==0]\n",
    "    target_ones = target[target == 1]\n",
    "\n",
    "    features_upsampled = pd.concat([features_zeros] + [features_ones] * repeat)\n",
    "    target_upsampled = pd.concat([target_zeros] + [target_ones] * repeat)\n",
    "\n",
    "    features_upsampled, target_upsampled = shuffle(features_upsampled, target_upsampled, random_state=12345)\n",
    "    return features_upsampled, target_upsampled"
   ]
  },
  {
   "cell_type": "code",
   "execution_count": 26,
   "id": "6afc808d-c69b-4d58-80d2-b5e5e4f5a5df",
   "metadata": {},
   "outputs": [],
   "source": [
    "features_upsampled, target_upsampled = upsample(features_train, target_train, 4)"
   ]
  },
  {
   "cell_type": "code",
   "execution_count": 27,
   "id": "134b7729-c723-40b1-a943-e65520ba2452",
   "metadata": {},
   "outputs": [
    {
     "data": {
      "text/plain": [
       "1    0.505947\n",
       "0    0.494053\n",
       "Name: exited, dtype: float64"
      ]
     },
     "execution_count": 27,
     "metadata": {},
     "output_type": "execute_result"
    }
   ],
   "source": [
    "# проверим баланс классов после upsampling-a\n",
    "target_upsampled.value_counts(normalize=1)"
   ]
  },
  {
   "cell_type": "markdown",
   "id": "37b7e2ed-cf49-42f2-bee9-3b9025b3cd75",
   "metadata": {},
   "source": [
    "### Обучение моделей с учетом дисбаланса классов"
   ]
  },
  {
   "cell_type": "code",
   "execution_count": 28,
   "id": "bb435538-4919-4e3e-9dda-31965c99468f",
   "metadata": {},
   "outputs": [],
   "source": [
    "# создадим функцию для обучения моделей с помощью разных алгоритмов, для логистической регресии добавим аргумент class_weight \n",
    "def training_class_balanced(features_train, target_train, features_valid, target_valid):\n",
    "    model_DT = DecisionTreeClassifier(random_state=12345)\n",
    "    model_DT.fit(features_train, target_train)\n",
    "    predictions_DT = model_DT.predict(features_valid)\n",
    "\n",
    "    model_RF = RandomForestClassifier(random_state=12345, n_estimators=100)\n",
    "    model_RF.fit(features_train, target_train)\n",
    "    predictions_RF = model_RF.predict(features_valid)\n",
    "\n",
    "    model_LR = LogisticRegression(solver='liblinear', class_weight='balanced')\n",
    "    model_LR.fit(features_train, target_train)\n",
    "    predictions_LR = model_LR.predict(features_valid)\n",
    "\n",
    "    print(\"F1-метрика для древа решений -\", f1_score(target_valid, predictions_DT), \",\", \"матрица ошибок:\", confusion_matrix(target_valid, predictions_DT))\n",
    "    print(\"F1-метрика для cлучайного леса -\", f1_score(target_valid, predictions_RF), \",\", \"матрица ошибок:\", confusion_matrix(target_valid, predictions_RF))\n",
    "    print(\"F1-метрика для логистической регрессии -\", f1_score(target_valid, predictions_LR), \",\", \"матрица ошибок:\", confusion_matrix(target_valid, predictions_LR))"
   ]
  },
  {
   "cell_type": "code",
   "execution_count": 29,
   "id": "6612d20c-d040-4dd4-8432-c98b1c443903",
   "metadata": {},
   "outputs": [
    {
     "name": "stdout",
     "output_type": "stream",
     "text": [
      "F1-метрика для древа решений - 0.5 , матрица ошибок: [[1382  211]\n",
      " [ 201  206]]\n",
      "F1-метрика для cлучайного леса - 0.5959183673469388 , матрица ошибок: [[1484  109]\n",
      " [ 188  219]]\n",
      "F1-метрика для логистической регрессии - 0.5113043478260869 , матрица ошибок: [[1144  449]\n",
      " [ 113  294]]\n"
     ]
    }
   ],
   "source": [
    "training_class_balanced(features_upsampled, target_upsampled, features_valid, target_valid)"
   ]
  },
  {
   "cell_type": "markdown",
   "id": "354b0c2c-31b1-4480-8b75-deda9773d9d3",
   "metadata": {},
   "source": [
    "По результату улучшения качества моделей увеличилась и f1-метрика. Больше всего метрика поднялась у логистической регрессии, а нивысшее значение все также у алгоритма случайного леса."
   ]
  },
  {
   "cell_type": "markdown",
   "id": "38160706-2efb-450f-bb5c-462afccf0ae1",
   "metadata": {},
   "source": [
    "### Сравнение качества модели RF со случайной моделью"
   ]
  },
  {
   "cell_type": "markdown",
   "id": "12574015-5f0c-4f03-b1ff-728e9a970d8b",
   "metadata": {},
   "source": [
    "Чтобы выявить, как сильно наша модель отличается от случайной, посчитаем площадь под ROC-кривой — AUC-ROC"
   ]
  },
  {
   "cell_type": "code",
   "execution_count": 30,
   "id": "9b23c293-d82b-4694-b237-ebadf2006077",
   "metadata": {},
   "outputs": [],
   "source": [
    "model_RF = RandomForestClassifier(random_state=12345, n_estimators=100)\n",
    "model_RF.fit(features_upsampled, target_upsampled)\n",
    "predictions_RF = model_RF.predict(features_valid)"
   ]
  },
  {
   "cell_type": "code",
   "execution_count": 31,
   "id": "723ace09-cc99-41f7-a2c9-9f3fb12de4ae",
   "metadata": {},
   "outputs": [
    {
     "data": {
      "image/png": "[encoded data removed]",
      "text/plain": [
       "<Figure size 432x288 with 1 Axes>"
      ]
     },
     "metadata": {
      "needs_background": "light"
     },
     "output_type": "display_data"
    }
   ],
   "source": [
    "# пострим ROC-кривую\n",
    "probabilities_valid = model_RF.predict_proba(features_valid)\n",
    "probabilities_one_valid = probabilities_valid[:, 1]\n",
    "\n",
    "fpr, tpr, thresholds = roc_curve(target_valid, probabilities_one_valid)\n",
    "\n",
    "plt.figure()\n",
    "plt.plot(fpr, tpr)\n",
    "plt.plot([0, 1], [0, 1], linestyle='--')\n",
    "plt.xlim([0, 1])\n",
    "plt.ylim([0, 1])\n",
    "plt.xlabel('False Positive Rate')\n",
    "plt.ylabel('True Positive Rate')\n",
    "plt.title('ROC-кривая')\n",
    "plt.show()"
   ]
  },
  {
   "cell_type": "code",
   "execution_count": 32,
   "id": "bf644503-3f3e-4eaa-aa0f-e12f77c95b29",
   "metadata": {},
   "outputs": [
    {
     "data": {
      "text/plain": [
       "0.851502504044877"
      ]
     },
     "execution_count": 32,
     "metadata": {},
     "output_type": "execute_result"
    }
   ],
   "source": [
    "auc_roc = roc_auc_score(target_valid, probabilities_one_valid)\n",
    "auc_roc"
   ]
  },
  {
   "cell_type": "markdown",
   "id": "f80ac8a2-4ba2-49ed-800d-740ea7258af3",
   "metadata": {},
   "source": [
    "Как видно из графика метрика AUC-ROC больше, чем у случайной модели, но до идельного значения еще далеко (AUC-ROC = 1)"
   ]
  },
  {
   "cell_type": "markdown",
   "id": "e811f6da-e47f-479a-98be-6765229b7ae8",
   "metadata": {},
   "source": [
    "### Подбор гиперпараметров для улучшения F1-меры"
   ]
  },
  {
   "cell_type": "code",
   "execution_count": 33,
   "id": "4e6843b7-103f-4f59-b7ba-670adb752e97",
   "metadata": {},
   "outputs": [
    {
     "name": "stderr",
     "output_type": "stream",
     "text": [
      "100%|██████████| 10/10 [01:02<00:00,  6.30s/it]"
     ]
    },
    {
     "name": "stdout",
     "output_type": "stream",
     "text": [
      "Наивысшее значение f1-меры =  0.6348448687350835\n",
      "Наивысшее значение f1-меры при depth =  12\n",
      "Наивысшее значение f1-меры при n_est =  91\n"
     ]
    },
    {
     "name": "stderr",
     "output_type": "stream",
     "text": [
      "\n"
     ]
    }
   ],
   "source": [
    "best_result = 0\n",
    "for est in tqdm(range(1, 101, 10)):\n",
    "    for depth in range(1, 20):\n",
    "        model = RandomForestClassifier(random_state=12345, n_estimators=est, max_depth=depth) \n",
    "        model.fit(features_upsampled, target_upsampled)\n",
    "        predictions = model.predict(features_valid)\n",
    "        result = f1_score(target_valid, predictions) \n",
    "        if result > best_result:\n",
    "            best_model_RF = model\n",
    "            best_result = result\n",
    "            best_depth = depth\n",
    "            best_est = est\n",
    "print(\"Наивысшее значение f1-меры = \", best_result)\n",
    "print(\"Наивысшее значение f1-меры при depth = \", best_depth)\n",
    "print(\"Наивысшее значение f1-меры при n_est = \", best_est)"
   ]
  },
  {
   "cell_type": "markdown",
   "id": "b9969242-f209-41d8-aba2-178c25a919da",
   "metadata": {},
   "source": [
    "### Подбор оптимального порога классификации"
   ]
  },
  {
   "cell_type": "code",
   "execution_count": 34,
   "id": "a7cb1e35-e6a6-4c1e-b1ea-e76873d736d1",
   "metadata": {},
   "outputs": [
    {
     "name": "stdout",
     "output_type": "stream",
     "text": [
      "Порог = 0.00 | f1 = 0.338\n",
      "Порог = 0.05 | f1 = 0.364\n",
      "Порог = 0.10 | f1 = 0.403\n",
      "Порог = 0.15 | f1 = 0.442\n",
      "Порог = 0.20 | f1 = 0.482\n",
      "Порог = 0.25 | f1 = 0.522\n",
      "Порог = 0.30 | f1 = 0.551\n",
      "Порог = 0.35 | f1 = 0.576\n",
      "Порог = 0.40 | f1 = 0.600\n",
      "Порог = 0.45 | f1 = 0.612\n",
      "Порог = 0.50 | f1 = 0.635\n",
      "Порог = 0.55 | f1 = 0.625\n",
      "Порог = 0.60 | f1 = 0.603\n",
      "Порог = 0.65 | f1 = 0.586\n",
      "Порог = 0.70 | f1 = 0.544\n",
      "Порог = 0.75 | f1 = 0.507\n",
      "Порог = 0.80 | f1 = 0.451\n",
      "Порог = 0.85 | f1 = 0.388\n",
      "Порог = 0.90 | f1 = 0.269\n",
      "Порог = 0.95 | f1 = 0.071\n"
     ]
    }
   ],
   "source": [
    "probabilities_valid = best_model_RF.predict_proba(features_valid)\n",
    "probabilities_one_valid = probabilities_valid[:, 1]\n",
    "\n",
    "for threshold in np.arange(0, 1, 0.05):\n",
    "    predicted_valid = probabilities_one_valid > threshold\n",
    "    f1 = f1_score(target_valid, predicted_valid)\n",
    "\n",
    "    print(\"Порог = {:.2f} | f1 = {:.3f}\".format(\n",
    "        threshold, f1))"
   ]
  },
  {
   "cell_type": "markdown",
   "id": "7ff686b1-09f9-42ff-866d-cdba50f90f68",
   "metadata": {},
   "source": [
    "Лучшее значение f1-меры показывает порог классификации равный 0.5, т.e. оставляем значени по умолчанию."
   ]
  },
  {
   "cell_type": "markdown",
   "id": "7a097c40-d441-463c-b6e0-579da6ae8183",
   "metadata": {},
   "source": [
    "Вывод: \n",
    "- Улучшено качство модели с помощью upsampling\n",
    "- Обучена модель с учетом дисбаланса классов,  f1-мера увеличилась, что говорит об эффективности проделанных действий. Наилучшей моделью оказалась модель случайного леса. Далее будем работать только с одной моделью.\n",
    "- Качество метрики AUC-ROC выше, чем у случайной модели и составляет 0.844\n",
    "- Подобрали оптимальные гиперпараметры для максимизации f1-меры : max_depth = 16, n_estimators = 91."
   ]
  },
  {
   "cell_type": "markdown",
   "id": "c097801b-be42-4fec-9578-49152e5f91d1",
   "metadata": {},
   "source": [
    "## Шаг 5. Проведите финальное тестирование."
   ]
  },
  {
   "cell_type": "markdown",
   "id": "2d0cd5b3-2d29-41d1-a863-d95f2acbb436",
   "metadata": {},
   "source": [
    "### Оценка F1-меры для тестовой выборки"
   ]
  },
  {
   "cell_type": "code",
   "execution_count": 35,
   "id": "d7cea010-d2e3-4119-883a-7487709a961b",
   "metadata": {},
   "outputs": [
    {
     "data": {
      "text/plain": [
       "0.6125290023201856"
      ]
     },
     "execution_count": 35,
     "metadata": {},
     "output_type": "execute_result"
    }
   ],
   "source": [
    "# проведем оценку f1-меры на тестовой выборке\n",
    "predictions_test = best_model_RF.predict(features_test)\n",
    "f1_test = f1_score(target_test, predictions_test)\n",
    "f1_test"
   ]
  },
  {
   "cell_type": "markdown",
   "id": "3d80faa1-2b67-464a-a303-9b0b8d98e119",
   "metadata": {},
   "source": [
    "Значение F1-меры выше порогового значения."
   ]
  },
  {
   "cell_type": "markdown",
   "id": "cb9880fb-8d1b-4705-a4d8-ca07f9e2543f",
   "metadata": {},
   "source": [
    "### Сравнение метрик с константной моделью"
   ]
  },
  {
   "cell_type": "code",
   "execution_count": 36,
   "id": "8902a862-4e1a-41fe-84ac-6930d4820eb2",
   "metadata": {},
   "outputs": [
    {
     "data": {
      "text/plain": [
       "0    2000\n",
       "dtype: int64"
      ]
     },
     "execution_count": 36,
     "metadata": {},
     "output_type": "execute_result"
    }
   ],
   "source": [
    "# создадим константную модель \n",
    "predictions_const = pd.Series([0]*len(target_test))\n",
    "predictions_const.value_counts()\n"
   ]
  },
  {
   "cell_type": "code",
   "execution_count": 37,
   "id": "67d00d9f-0a7b-4cc0-bda8-2c71a9350f3a",
   "metadata": {},
   "outputs": [],
   "source": [
    "def final_comparison(target, predictions):\n",
    "    accuracy = accuracy_score(target, predictions)\n",
    "    auc_roc = roc_auc_score(target, predictions)\n",
    "    print(\"Accuracy равна\", accuracy, \",\", \"AUC-ROC равна\", auc_roc)"
   ]
  },
  {
   "cell_type": "code",
   "execution_count": 38,
   "id": "cdf7f3ac-fb9f-40f7-b59a-0652eb9efeca",
   "metadata": {},
   "outputs": [
    {
     "name": "stdout",
     "output_type": "stream",
     "text": [
      "Accuracy равна 0.7965 , AUC-ROC равна 0.5\n"
     ]
    }
   ],
   "source": [
    "# Метрики accuracy и AUC-ROC для константной модели\n",
    "final_comparison(target_test, predictions_const)"
   ]
  },
  {
   "cell_type": "code",
   "execution_count": 39,
   "id": "a10bb1c5-a8db-47b3-9545-9a1f626c7f04",
   "metadata": {},
   "outputs": [
    {
     "name": "stdout",
     "output_type": "stream",
     "text": [
      "Accuracy равна 0.833 , AUC-ROC равна 0.7643745440355609\n"
     ]
    }
   ],
   "source": [
    "# Метрики accuracy и AUC-ROC для финальной модели\n",
    "predictions_best_model_RF = best_model_RF.predict(features_test)\n",
    "final_comparison(target_test, predictions_best_model_RF)"
   ]
  },
  {
   "cell_type": "markdown",
   "id": "554baf89-7313-495b-bbc2-0c50884e3507",
   "metadata": {},
   "source": [
    "Сравнив полученную финальную модель с константной, делаем вывод о том, что модель имеет место быть и лучше использовать её для предсказания оттока клиентов, чем более простую константную модель."
   ]
  },
  {
   "cell_type": "markdown",
   "id": "e39527ff-e1d2-4421-80b6-44a053da490e",
   "metadata": {},
   "source": [
    "**Общий вывод:** \n",
    "- Загружены и проанализированы данные о поведении пользователей \"Бета-Банка\".\n",
    "- Данные приведены к виду, в котором можно качественно строить модели машинного обучения\n",
    "- Построены модели машинного обучения с учетом и без учета дисбаланса классов. При учитывании дисбаланса классов модели имеют f1-меру выше.\n",
    "- Для улучшении качества модели произведен upsampling, выбрана наилучшая модель (случайный лес) и подобраны гиперпараметры для максимизации f1-меры.\n",
    "- Сравнили получвшуюся финальную модель с константной, тем самым удостоверившись в том, что модель рабочая\n",
    "- Получившая f1-мера выше пороговой (0.59) и составляет 0.61 на тестовой выборке."
   ]
  },
  {
   "cell_type": "markdown",
   "id": "6edcf792",
   "metadata": {},
   "source": [
    "\n",
    "<div style=\"background: #B0E0E6; padding: 5px; border: 1px solid SteelBlue; border-radius: 5px;\">\n",
    "    <font color='4682B4'><u><b>КОММЕНТАРИЙ СТУДЕНТА</b></u></font>\n",
    "    <br />\n",
    "    <font color='4682B4'> Спасибо еще раз ревью. Советы все по делу, постараюсь учесть в будущих проектах! </font>\n",
    "</div>"
   ]
  },
  {
   "cell_type": "markdown",
   "id": "3406ff7a",
   "metadata": {},
   "source": [
    "<div class=\"alert alert-success\">\n",
    "<b>КОММЕНТАРИЙ V2</b> \t\n",
    "\n",
    "Был рад совместной работе, Кирилл!\n",
    "</div>"
   ]
  }
 ],
 "metadata": {
  "ExecuteTimeLog": [
   {
    "duration": 1847,
    "start_time": "2024-01-30T15:39:05.945Z"
   },
   {
    "duration": 84,
    "start_time": "2024-01-30T15:39:07.795Z"
   },
   {
    "duration": 27,
    "start_time": "2024-01-30T15:39:07.880Z"
   },
   {
    "duration": 5,
    "start_time": "2024-01-30T15:39:07.908Z"
   },
   {
    "duration": 13,
    "start_time": "2024-01-30T15:39:07.915Z"
   },
   {
    "duration": 10,
    "start_time": "2024-01-30T15:39:07.930Z"
   },
   {
    "duration": 3,
    "start_time": "2024-01-30T15:39:07.942Z"
   },
   {
    "duration": 38,
    "start_time": "2024-01-30T15:39:07.946Z"
   },
   {
    "duration": 24,
    "start_time": "2024-01-30T15:39:07.986Z"
   },
   {
    "duration": 72,
    "start_time": "2024-01-30T15:39:08.011Z"
   },
   {
    "duration": 7,
    "start_time": "2024-01-30T15:39:08.086Z"
   },
   {
    "duration": 4,
    "start_time": "2024-01-30T15:39:08.096Z"
   },
   {
    "duration": 14,
    "start_time": "2024-01-30T15:39:08.102Z"
   },
   {
    "duration": 4,
    "start_time": "2024-01-30T15:39:08.120Z"
   },
   {
    "duration": 6,
    "start_time": "2024-01-30T15:39:08.126Z"
   },
   {
    "duration": 58,
    "start_time": "2024-01-30T15:39:08.134Z"
   },
   {
    "duration": 6,
    "start_time": "2024-01-30T15:39:08.194Z"
   },
   {
    "duration": 9,
    "start_time": "2024-01-30T15:39:08.202Z"
   },
   {
    "duration": 27,
    "start_time": "2024-01-30T15:39:08.212Z"
   },
   {
    "duration": 4,
    "start_time": "2024-01-30T15:39:08.241Z"
   },
   {
    "duration": 158,
    "start_time": "2024-01-30T15:39:08.246Z"
   },
   {
    "duration": 5,
    "start_time": "2024-01-30T15:39:08.406Z"
   },
   {
    "duration": 982,
    "start_time": "2024-01-30T15:39:08.412Z"
   },
   {
    "duration": 88,
    "start_time": "2024-01-30T15:39:09.396Z"
   },
   {
    "duration": 6,
    "start_time": "2024-01-30T15:39:09.486Z"
   },
   {
    "duration": 10,
    "start_time": "2024-01-30T15:39:09.494Z"
   },
   {
    "duration": 5,
    "start_time": "2024-01-30T15:39:09.505Z"
   },
   {
    "duration": 5,
    "start_time": "2024-01-30T15:39:09.512Z"
   },
   {
    "duration": 1176,
    "start_time": "2024-01-30T15:39:09.518Z"
   },
   {
    "duration": 1168,
    "start_time": "2024-01-30T15:39:10.781Z"
   },
   {
    "duration": 190,
    "start_time": "2024-01-30T15:39:11.951Z"
   },
   {
    "duration": 6,
    "start_time": "2024-01-30T15:39:12.143Z"
   },
   {
    "duration": 71750,
    "start_time": "2024-01-30T15:39:12.150Z"
   },
   {
    "duration": 105,
    "start_time": "2024-01-30T15:40:23.902Z"
   },
   {
    "duration": 67,
    "start_time": "2024-01-30T15:40:24.016Z"
   },
   {
    "duration": 9,
    "start_time": "2024-01-30T15:40:24.085Z"
   },
   {
    "duration": 4,
    "start_time": "2024-01-30T15:40:24.096Z"
   },
   {
    "duration": 8,
    "start_time": "2024-01-30T15:40:24.102Z"
   },
   {
    "duration": 89,
    "start_time": "2024-01-30T15:40:24.111Z"
   },
   {
    "duration": 1542,
    "start_time": "2024-01-30T15:46:35.912Z"
   },
   {
    "duration": 48,
    "start_time": "2024-01-30T15:46:37.456Z"
   },
   {
    "duration": 20,
    "start_time": "2024-01-30T15:46:37.505Z"
   },
   {
    "duration": 18,
    "start_time": "2024-01-30T15:46:37.527Z"
   },
   {
    "duration": 27,
    "start_time": "2024-01-30T15:46:37.547Z"
   },
   {
    "duration": 31,
    "start_time": "2024-01-30T15:46:37.575Z"
   },
   {
    "duration": 13,
    "start_time": "2024-01-30T15:46:37.608Z"
   },
   {
    "duration": 24,
    "start_time": "2024-01-30T15:46:37.622Z"
   },
   {
    "duration": 51,
    "start_time": "2024-01-30T15:46:37.647Z"
   },
   {
    "duration": 52,
    "start_time": "2024-01-30T15:46:37.700Z"
   },
   {
    "duration": 4,
    "start_time": "2024-01-30T15:46:37.753Z"
   },
   {
    "duration": 30,
    "start_time": "2024-01-30T15:46:37.759Z"
   },
   {
    "duration": 22,
    "start_time": "2024-01-30T15:46:37.792Z"
   },
   {
    "duration": 24,
    "start_time": "2024-01-30T15:46:37.818Z"
   },
   {
    "duration": 8,
    "start_time": "2024-01-30T15:46:37.843Z"
   },
   {
    "duration": 27,
    "start_time": "2024-01-30T15:46:37.852Z"
   },
   {
    "duration": 7,
    "start_time": "2024-01-30T15:46:37.880Z"
   },
   {
    "duration": 21,
    "start_time": "2024-01-30T15:46:37.889Z"
   },
   {
    "duration": 46,
    "start_time": "2024-01-30T15:46:37.912Z"
   },
   {
    "duration": 11,
    "start_time": "2024-01-30T15:46:37.960Z"
   },
   {
    "duration": 210,
    "start_time": "2024-01-30T15:46:37.972Z"
   },
   {
    "duration": 9,
    "start_time": "2024-01-30T15:46:38.184Z"
   },
   {
    "duration": 1089,
    "start_time": "2024-01-30T15:46:38.195Z"
   },
   {
    "duration": 94,
    "start_time": "2024-01-30T15:46:39.287Z"
   },
   {
    "duration": 7,
    "start_time": "2024-01-30T15:46:39.384Z"
   },
   {
    "duration": 22,
    "start_time": "2024-01-30T15:46:39.394Z"
   },
   {
    "duration": 8,
    "start_time": "2024-01-30T15:46:39.417Z"
   },
   {
    "duration": 5,
    "start_time": "2024-01-30T15:46:39.426Z"
   },
   {
    "duration": 1249,
    "start_time": "2024-01-30T15:46:39.433Z"
   },
   {
    "duration": 1097,
    "start_time": "2024-01-30T15:46:40.684Z"
   },
   {
    "duration": 187,
    "start_time": "2024-01-30T15:46:41.787Z"
   },
   {
    "duration": 8,
    "start_time": "2024-01-30T15:46:41.982Z"
   },
   {
    "duration": 70070,
    "start_time": "2024-01-30T15:46:41.992Z"
   },
   {
    "duration": 94,
    "start_time": "2024-01-30T15:47:52.064Z"
   },
   {
    "duration": 68,
    "start_time": "2024-01-30T15:47:52.159Z"
   },
   {
    "duration": 5,
    "start_time": "2024-01-30T15:47:52.229Z"
   },
   {
    "duration": 31,
    "start_time": "2024-01-30T15:47:52.235Z"
   },
   {
    "duration": 21,
    "start_time": "2024-01-30T15:47:52.268Z"
   },
   {
    "duration": 56,
    "start_time": "2024-01-30T15:47:52.295Z"
   },
   {
    "duration": 268,
    "start_time": "2024-01-30T19:38:54.570Z"
   },
   {
    "duration": 70,
    "start_time": "2024-01-30T20:17:55.068Z"
   },
   {
    "duration": 53,
    "start_time": "2024-01-30T20:24:16.779Z"
   },
   {
    "duration": 1641,
    "start_time": "2024-01-30T20:24:23.891Z"
   },
   {
    "duration": 82,
    "start_time": "2024-01-30T20:24:25.534Z"
   },
   {
    "duration": 24,
    "start_time": "2024-01-30T20:24:25.617Z"
   },
   {
    "duration": 4,
    "start_time": "2024-01-30T20:24:25.644Z"
   },
   {
    "duration": 14,
    "start_time": "2024-01-30T20:24:25.649Z"
   },
   {
    "duration": 10,
    "start_time": "2024-01-30T20:24:25.665Z"
   },
   {
    "duration": 3,
    "start_time": "2024-01-30T20:24:25.676Z"
   },
   {
    "duration": 3,
    "start_time": "2024-01-30T20:24:25.681Z"
   },
   {
    "duration": 51,
    "start_time": "2024-01-30T20:24:25.686Z"
   },
   {
    "duration": 57,
    "start_time": "2024-01-30T20:24:25.740Z"
   },
   {
    "duration": 4,
    "start_time": "2024-01-30T20:24:25.799Z"
   },
   {
    "duration": 5,
    "start_time": "2024-01-30T20:24:25.823Z"
   },
   {
    "duration": 15,
    "start_time": "2024-01-30T20:24:25.833Z"
   },
   {
    "duration": 7,
    "start_time": "2024-01-30T20:24:25.849Z"
   },
   {
    "duration": 4,
    "start_time": "2024-01-30T20:24:25.857Z"
   },
   {
    "duration": 19,
    "start_time": "2024-01-30T20:24:25.863Z"
   },
   {
    "duration": 5,
    "start_time": "2024-01-30T20:24:25.883Z"
   },
   {
    "duration": 45,
    "start_time": "2024-01-30T20:24:25.889Z"
   },
   {
    "duration": 26,
    "start_time": "2024-01-30T20:24:25.936Z"
   },
   {
    "duration": 3,
    "start_time": "2024-01-30T20:24:25.964Z"
   },
   {
    "duration": 138,
    "start_time": "2024-01-30T20:24:25.968Z"
   },
   {
    "duration": 5,
    "start_time": "2024-01-30T20:24:26.107Z"
   },
   {
    "duration": 911,
    "start_time": "2024-01-30T20:24:26.114Z"
   },
   {
    "duration": 11,
    "start_time": "2024-01-30T20:24:27.027Z"
   },
   {
    "duration": 88,
    "start_time": "2024-01-30T20:24:27.042Z"
   },
   {
    "duration": 12,
    "start_time": "2024-01-30T20:24:27.132Z"
   },
   {
    "duration": 5,
    "start_time": "2024-01-30T20:24:27.145Z"
   },
   {
    "duration": 5,
    "start_time": "2024-01-30T20:24:27.154Z"
   },
   {
    "duration": 1175,
    "start_time": "2024-01-30T20:24:27.160Z"
   },
   {
    "duration": 1140,
    "start_time": "2024-01-30T20:24:28.338Z"
   },
   {
    "duration": 180,
    "start_time": "2024-01-30T20:24:29.480Z"
   },
   {
    "duration": 7,
    "start_time": "2024-01-30T20:24:29.661Z"
   },
   {
    "duration": 69681,
    "start_time": "2024-01-30T20:24:29.669Z"
   },
   {
    "duration": 98,
    "start_time": "2024-01-30T20:25:39.352Z"
   },
   {
    "duration": 52,
    "start_time": "2024-01-30T20:25:39.451Z"
   },
   {
    "duration": 30,
    "start_time": "2024-01-30T20:25:39.505Z"
   },
   {
    "duration": 2,
    "start_time": "2024-01-30T20:25:39.537Z"
   },
   {
    "duration": 15,
    "start_time": "2024-01-30T20:25:39.541Z"
   },
   {
    "duration": 49,
    "start_time": "2024-01-30T20:25:39.557Z"
   },
   {
    "duration": 5,
    "start_time": "2024-01-30T21:11:27.327Z"
   },
   {
    "duration": 846,
    "start_time": "2024-01-30T21:11:34.483Z"
   },
   {
    "duration": 5,
    "start_time": "2024-01-30T21:12:35.484Z"
   },
   {
    "duration": 974,
    "start_time": "2024-01-30T21:12:38.147Z"
   },
   {
    "duration": 97,
    "start_time": "2024-01-30T21:39:56.584Z"
   },
   {
    "duration": 52,
    "start_time": "2024-02-14T11:26:50.661Z"
   },
   {
    "duration": 1604,
    "start_time": "2024-02-14T11:26:56.975Z"
   },
   {
    "duration": 84,
    "start_time": "2024-02-14T11:26:58.581Z"
   },
   {
    "duration": 20,
    "start_time": "2024-02-14T11:26:58.668Z"
   },
   {
    "duration": 8,
    "start_time": "2024-02-14T11:26:58.690Z"
   },
   {
    "duration": 33,
    "start_time": "2024-02-14T11:26:58.700Z"
   },
   {
    "duration": 29,
    "start_time": "2024-02-14T11:26:58.735Z"
   },
   {
    "duration": 5,
    "start_time": "2024-02-14T11:26:58.766Z"
   },
   {
    "duration": 13,
    "start_time": "2024-02-14T11:26:58.772Z"
   },
   {
    "duration": 29,
    "start_time": "2024-02-14T11:26:58.786Z"
   },
   {
    "duration": 64,
    "start_time": "2024-02-14T11:26:58.817Z"
   },
   {
    "duration": 4,
    "start_time": "2024-02-14T11:26:58.883Z"
   },
   {
    "duration": 19,
    "start_time": "2024-02-14T11:26:58.889Z"
   },
   {
    "duration": 21,
    "start_time": "2024-02-14T11:26:58.910Z"
   },
   {
    "duration": 16,
    "start_time": "2024-02-14T11:26:58.934Z"
   },
   {
    "duration": 15,
    "start_time": "2024-02-14T11:26:58.951Z"
   },
   {
    "duration": 28,
    "start_time": "2024-02-14T11:26:58.968Z"
   },
   {
    "duration": 46,
    "start_time": "2024-02-14T11:26:58.998Z"
   },
   {
    "duration": 21,
    "start_time": "2024-02-14T11:26:59.046Z"
   },
   {
    "duration": 46,
    "start_time": "2024-02-14T11:26:59.069Z"
   },
   {
    "duration": 31,
    "start_time": "2024-02-14T11:26:59.117Z"
   },
   {
    "duration": 131,
    "start_time": "2024-02-14T11:26:59.150Z"
   },
   {
    "duration": 5,
    "start_time": "2024-02-14T11:26:59.283Z"
   },
   {
    "duration": 889,
    "start_time": "2024-02-14T11:26:59.290Z"
   },
   {
    "duration": 99,
    "start_time": "2024-02-14T11:27:00.180Z"
   },
   {
    "duration": 110,
    "start_time": "2024-02-14T11:27:00.281Z"
   },
   {
    "duration": 79,
    "start_time": "2024-02-14T11:27:00.393Z"
   },
   {
    "duration": 58,
    "start_time": "2024-02-14T11:27:00.474Z"
   },
   {
    "duration": 50,
    "start_time": "2024-02-14T11:27:00.534Z"
   },
   {
    "duration": 1181,
    "start_time": "2024-02-14T11:27:00.585Z"
   },
   {
    "duration": 1060,
    "start_time": "2024-02-14T11:27:01.769Z"
   },
   {
    "duration": 177,
    "start_time": "2024-02-14T11:27:02.831Z"
   },
   {
    "duration": 6,
    "start_time": "2024-02-14T11:27:03.009Z"
   },
   {
    "duration": 62988,
    "start_time": "2024-02-14T11:27:03.016Z"
   },
   {
    "duration": 88,
    "start_time": "2024-02-14T11:28:06.005Z"
   },
   {
    "duration": 52,
    "start_time": "2024-02-14T11:28:06.095Z"
   },
   {
    "duration": 21,
    "start_time": "2024-02-14T11:28:06.148Z"
   },
   {
    "duration": 41,
    "start_time": "2024-02-14T11:28:06.171Z"
   },
   {
    "duration": 31,
    "start_time": "2024-02-14T11:28:06.214Z"
   },
   {
    "duration": 65,
    "start_time": "2024-02-14T11:28:06.247Z"
   }
  ],
  "kernelspec": {
   "display_name": "Python 3 (ipykernel)",
   "language": "python",
   "name": "python3"
  },
  "language_info": {
   "codemirror_mode": {
    "name": "ipython",
    "version": 3
   },
   "file_extension": ".py",
   "mimetype": "text/x-python",
   "name": "python",
   "nbconvert_exporter": "python",
   "pygments_lexer": "ipython3",
   "version": "3.9.18"
  },
  "toc": {
   "base_numbering": 1,
   "nav_menu": {},
   "number_sections": true,
   "sideBar": true,
   "skip_h1_title": true,
   "title_cell": "Table of Contents",
   "title_sidebar": "Contents",
   "toc_cell": false,
   "toc_position": {
    "height": "calc(100% - 180px)",
    "left": "10px",
    "top": "150px",
    "width": "396.638px"
   },
   "toc_section_display": true,
   "toc_window_display": true
  }
 },
 "nbformat": 4,
 "nbformat_minor": 5
}
