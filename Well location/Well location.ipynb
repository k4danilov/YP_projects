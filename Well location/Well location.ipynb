{
 "cells": [
  {
   "cell_type": "markdown",
   "id": "27124e65-ec2e-46cd-b565-b49dc09d701e",
   "metadata": {},
   "source": [
    "# Выбор локации для скважины"
   ]
  },
  {
   "cell_type": "markdown",
   "id": "a74c917a-2797-4415-b151-a3ed8482b04f",
   "metadata": {},
   "source": [
    "## Шаг. 1. Загрузка данных"
   ]
  },
  {
   "cell_type": "code",
   "execution_count": 2,
   "id": "49088561-e478-45bc-a8cd-2f354b289c7d",
   "metadata": {},
   "outputs": [],
   "source": [
    "import pandas as pd\n",
    "import matplotlib.pyplot as plt\n",
    "import numpy as np\n",
    "import seaborn as sns\n",
    "import sweetviz as sv\n",
    "from scipy import stats as st\n",
    "from sklearn.model_selection import train_test_split\n",
    "from sklearn.tree import DecisionTreeClassifier\n",
    "from sklearn.metrics import accuracy_score\n",
    "from sklearn.ensemble import RandomForestClassifier\n",
    "from sklearn.linear_model import LogisticRegression\n",
    "from sklearn.linear_model import LinearRegression\n",
    "from sklearn.dummy import DummyClassifier\n",
    "from sklearn.preprocessing import StandardScaler\n",
    "from sklearn.metrics import f1_score\n",
    "from tqdm import tqdm\n",
    "from sklearn.metrics import confusion_matrix\n",
    "from sklearn.utils import shuffle\n",
    "from sklearn.metrics import precision_recall_curve\n",
    "from sklearn.metrics import roc_curve\n",
    "from sklearn.metrics import roc_auc_score\n",
    "from sklearn.metrics import precision_score, recall_score\n",
    "from sklearn.metrics import mean_squared_error"
   ]
  },
  {
   "cell_type": "code",
   "execution_count": 3,
   "id": "6134e127-375a-46f0-9230-688758726e8b",
   "metadata": {},
   "outputs": [],
   "source": [
    "try:\n",
    "    data_1 = pd.read_csv('/datasets/geo_data_0.csv')\n",
    "    data_2 = pd.read_csv('/datasets/geo_data_1.csv')\n",
    "    data_3 = pd.read_csv('/datasets/geo_data_2.csv')\n",
    "except:\n",
    "    data_1 = pd.read_csv('geo_data_0.csv')\n",
    "    data_2 = pd.read_csv('geo_data_1.csv')\n",
    "    data_3 = pd.read_csv('geo_data_2.csv')"
   ]
  },
  {
   "cell_type": "code",
   "execution_count": 4,
   "id": "87e7fc53-14e3-4480-958f-0bdcc81663b8",
   "metadata": {},
   "outputs": [
    {
     "name": "stdout",
     "output_type": "stream",
     "text": [
      "      id        f0        f1        f2     product\n",
      "0  txEyH  0.705745 -0.497823  1.221170  105.280062\n",
      "1  2acmU  1.334711 -0.340164  4.365080   73.037750\n",
      "2  409Wp  1.022732  0.151990  1.419926   85.265647\n",
      "3  iJLyR -0.032172  0.139033  2.978566  168.620776\n",
      "4  Xdl7t  1.988431  0.155413  4.751769  154.036647\n",
      "      id         f0         f1        f2     product\n",
      "0  kBEdx -15.001348  -8.276000 -0.005876    3.179103\n",
      "1  62mP7  14.272088  -3.475083  0.999183   26.953261\n",
      "2  vyE1P   6.263187  -5.948386  5.001160  134.766305\n",
      "3  KcrkZ -13.081196 -11.506057  4.999415  137.945408\n",
      "4  AHL4O  12.702195  -8.147433  5.004363  134.766305\n",
      "      id        f0        f1        f2     product\n",
      "0  fwXo0 -1.146987  0.963328 -0.828965   27.758673\n",
      "1  WJtFt  0.262778  0.269839 -2.530187   56.069697\n",
      "2  ovLUW  0.194587  0.289035 -5.586433   62.871910\n",
      "3  q6cA6  2.236060 -0.553760  0.930038  114.572842\n",
      "4  WPMUX -0.515993  1.716266  5.899011  149.600746\n"
     ]
    }
   ],
   "source": [
    "print(data_1.head())\n",
    "print(data_2.head())\n",
    "print(data_3.head())"
   ]
  },
  {
   "cell_type": "code",
   "execution_count": 5,
   "id": "431dcc5d-a027-4c75-9b03-63d896d2f240",
   "metadata": {},
   "outputs": [
    {
     "name": "stdout",
     "output_type": "stream",
     "text": [
      "(100000, 5)\n",
      "(100000, 5)\n",
      "(100000, 5)\n"
     ]
    }
   ],
   "source": [
    "print(data_1.shape)\n",
    "print(data_2.shape)\n",
    "print(data_3.shape)"
   ]
  },
  {
   "cell_type": "code",
   "execution_count": 6,
   "id": "cc18bf99-6fdf-4dfb-9c16-506a2bea583c",
   "metadata": {},
   "outputs": [
    {
     "name": "stdout",
     "output_type": "stream",
     "text": [
      "<class 'pandas.core.frame.DataFrame'>\n",
      "RangeIndex: 100000 entries, 0 to 99999\n",
      "Data columns (total 5 columns):\n",
      " #   Column   Non-Null Count   Dtype  \n",
      "---  ------   --------------   -----  \n",
      " 0   id       100000 non-null  object \n",
      " 1   f0       100000 non-null  float64\n",
      " 2   f1       100000 non-null  float64\n",
      " 3   f2       100000 non-null  float64\n",
      " 4   product  100000 non-null  float64\n",
      "dtypes: float64(4), object(1)\n",
      "memory usage: 3.8+ MB\n",
      "None\n",
      "<class 'pandas.core.frame.DataFrame'>\n",
      "RangeIndex: 100000 entries, 0 to 99999\n",
      "Data columns (total 5 columns):\n",
      " #   Column   Non-Null Count   Dtype  \n",
      "---  ------   --------------   -----  \n",
      " 0   id       100000 non-null  object \n",
      " 1   f0       100000 non-null  float64\n",
      " 2   f1       100000 non-null  float64\n",
      " 3   f2       100000 non-null  float64\n",
      " 4   product  100000 non-null  float64\n",
      "dtypes: float64(4), object(1)\n",
      "memory usage: 3.8+ MB\n",
      "None\n",
      "<class 'pandas.core.frame.DataFrame'>\n",
      "RangeIndex: 100000 entries, 0 to 99999\n",
      "Data columns (total 5 columns):\n",
      " #   Column   Non-Null Count   Dtype  \n",
      "---  ------   --------------   -----  \n",
      " 0   id       100000 non-null  object \n",
      " 1   f0       100000 non-null  float64\n",
      " 2   f1       100000 non-null  float64\n",
      " 3   f2       100000 non-null  float64\n",
      " 4   product  100000 non-null  float64\n",
      "dtypes: float64(4), object(1)\n",
      "memory usage: 3.8+ MB\n",
      "None\n"
     ]
    }
   ],
   "source": [
    "print(data_1.info())\n",
    "print(data_2.info())\n",
    "print(data_3.info())"
   ]
  },
  {
   "cell_type": "code",
   "execution_count": 7,
   "id": "d6b967d6-a1ac-42a0-8948-b8fabbb19870",
   "metadata": {},
   "outputs": [
    {
     "name": "stdout",
     "output_type": "stream",
     "text": [
      "0\n",
      "0\n",
      "0\n"
     ]
    }
   ],
   "source": [
    "print(data_1.duplicated().sum())\n",
    "print(data_2.duplicated().sum())\n",
    "print(data_3.duplicated().sum())"
   ]
  },
  {
   "cell_type": "markdown",
   "id": "1a6d534f-0bfb-45eb-a3f2-a76613af8a1b",
   "metadata": {},
   "source": [
    "Вывод: В датасете 100 тысяч строк, что достаточно для качественного обучения моделей. Явные дубликаты отсутствуют. Пропуски отсутствуют"
   ]
  },
  {
   "cell_type": "code",
   "execution_count": 28,
   "id": "0f54d8ed",
   "metadata": {},
   "outputs": [
    {
     "data": {
      "application/vnd.jupyter.widget-view+json": {
       "model_id": "095e391f969f496ab9a36aad16ed9901",
       "version_major": 2,
       "version_minor": 0
      },
      "text/plain": [
       "                                             |          | [  0%]   00:00 -> (? left)"
      ]
     },
     "metadata": {},
     "output_type": "display_data"
    }
   ],
   "source": [
    "report = sv.analyze([data_1, \" Permit Logs\"])"
   ]
  },
  {
   "cell_type": "code",
   "execution_count": 29,
   "id": "b2b8854d",
   "metadata": {},
   "outputs": [
    {
     "name": "stdout",
     "output_type": "stream",
     "text": [
      "Report common analysis.html was generated! NOTEBOOK/COLAB USERS: the web browser MAY not pop up, regardless, the report IS saved in your notebook/colab files.\n"
     ]
    }
   ],
   "source": [
    "report.show_html('common analysis.html')"
   ]
  },
  {
   "cell_type": "markdown",
   "id": "c67532f6-e7a2-4c4c-9392-18a278346016",
   "metadata": {},
   "source": [
    "## Шаг 2. Обучение и проверка моделей для каждого региона"
   ]
  },
  {
   "cell_type": "code",
   "execution_count": 8,
   "id": "b35191f4-2ce2-4765-817b-39bc9c3ac292",
   "metadata": {},
   "outputs": [
    {
     "data": {
      "text/plain": [
       "0    105.280062\n",
       "1     73.037750\n",
       "2     85.265647\n",
       "3    168.620776\n",
       "4    154.036647\n",
       "Name: product, dtype: float64"
      ]
     },
     "execution_count": 8,
     "metadata": {},
     "output_type": "execute_result"
    }
   ],
   "source": [
    "# выделяем признаки и целевой признак для 3-х датафреймов\n",
    "# удаляем для признаков столбец id, поскольу он не характеризует целевой признак\n",
    "    \n",
    "features_1 = data_1.drop(['id', 'product'], axis=1)\n",
    "target_1 = data_1['product']\n",
    "\n",
    "features_2 = data_2.drop(['id', 'product'], axis=1)\n",
    "target_2 = data_2['product']\n",
    "\n",
    "features_3 = data_3.drop(['id', 'product'], axis=1)\n",
    "target_3 = data_3['product']\n",
    "\n",
    "target_1.head()"
   ]
  },
  {
   "cell_type": "code",
   "execution_count": 9,
   "id": "bfeb68c4-d08c-4628-874c-78943d4b567c",
   "metadata": {},
   "outputs": [],
   "source": [
    "# делим данные на обучающую и валидационную выборки\n",
    "\n",
    "features_train_1, features_valid_1, target_train_1, target_valid_1 = train_test_split(features_1, target_1, test_size=0.25, random_state=12345)\n",
    "\n",
    "features_train_2, features_valid_2, target_train_2, target_valid_2 = train_test_split(features_2, target_2, test_size=0.25, random_state=12345)\n",
    "\n",
    "features_train_3, features_valid_3, target_train_3, target_valid_3 = train_test_split(features_3, target_3, test_size=0.25, random_state=12345)"
   ]
  },
  {
   "cell_type": "code",
   "execution_count": 10,
   "id": "61ec7ff6-d493-4477-afde-cd2ca68f77e1",
   "metadata": {},
   "outputs": [
    {
     "name": "stdout",
     "output_type": "stream",
     "text": [
      "(75000, 3)\n",
      "(75000, 3)\n",
      "(75000, 3)\n"
     ]
    }
   ],
   "source": [
    "print(features_train_1.shape)\n",
    "print(features_train_2.shape)\n",
    "print(features_train_3.shape)"
   ]
  },
  {
   "cell_type": "markdown",
   "id": "9b700049-17d9-4f68-b5c1-aa91b4c83a56",
   "metadata": {},
   "source": [
    "**Первый нефтяной регион**"
   ]
  },
  {
   "cell_type": "code",
   "execution_count": 11,
   "id": "27e481b1-96f4-4836-ad90-4443e5bedec8",
   "metadata": {},
   "outputs": [
    {
     "name": "stdout",
     "output_type": "stream",
     "text": [
      "RMSE для первого нефтяного региона: 37.58\n",
      "Средний запас предсказанного сырья для первого нефтяного региона: 92.59\n"
     ]
    }
   ],
   "source": [
    "# обучим модель линейной регрессии \n",
    "\n",
    "model_1 = LinearRegression()\n",
    "model_1.fit(features_train_1, target_train_1)\n",
    "predictions_1 = model_1.predict(features_valid_1)\n",
    "mse_1 = mean_squared_error(target_valid_1, predictions_1)\n",
    "rmse_1 = mse_1**0.5\n",
    "print(\"RMSE для первого нефтяного региона:\", rmse_1.round(2))\n",
    "print(\"Средний запас предсказанного сырья для первого нефтяного региона:\", predictions_1.mean().round(2))"
   ]
  },
  {
   "cell_type": "code",
   "execution_count": 12,
   "id": "5b36dff4-a031-4060-bf82-fe741b80dee0",
   "metadata": {},
   "outputs": [
    {
     "name": "stdout",
     "output_type": "stream",
     "text": [
      "RMSE: 44.29\n"
     ]
    }
   ],
   "source": [
    "predictions = pd.Series(target_1.mean(), index=target_1.index)\n",
    "mse = mean_squared_error(target_1, predictions)\n",
    "rmse = mse**0.5\n",
    "\n",
    "print(\"RMSE:\", rmse.round(2))"
   ]
  },
  {
   "cell_type": "markdown",
   "id": "643f9976-13f7-49c7-950d-915ee23d39d6",
   "metadata": {},
   "source": [
    "**Второй нефтяной регион**"
   ]
  },
  {
   "cell_type": "code",
   "execution_count": 13,
   "id": "72cda683-9ba8-4256-8ca4-2b2af532f395",
   "metadata": {},
   "outputs": [
    {
     "name": "stdout",
     "output_type": "stream",
     "text": [
      "RMSE для второго нефтяного региона: 0.89\n",
      "Средний запас предсказанного сырья для второго нефтяного региона: 68.73\n"
     ]
    }
   ],
   "source": [
    "# обучим модель линейной регрессии \n",
    "\n",
    "model_2 = LinearRegression()\n",
    "model_2.fit(features_train_2, target_train_2)\n",
    "predictions_2 = model_2.predict(features_valid_2)\n",
    "mse_2 = mean_squared_error(target_valid_2, predictions_2)\n",
    "rmse_2 = mse_2**0.5\n",
    "print(\"RMSE для второго нефтяного региона:\", rmse_2.round(2))\n",
    "print(\"Средний запас предсказанного сырья для второго нефтяного региона:\", predictions_2.mean().round(2))"
   ]
  },
  {
   "cell_type": "code",
   "execution_count": 14,
   "id": "941a743e-d428-43ea-828a-0090615b8a72",
   "metadata": {},
   "outputs": [
    {
     "name": "stdout",
     "output_type": "stream",
     "text": [
      "RMSE: 45.94\n"
     ]
    }
   ],
   "source": [
    "predictions = pd.Series(target_2.mean(), index=target_2.index)\n",
    "mse = mean_squared_error(target_2, predictions)\n",
    "rmse = mse**0.5\n",
    "\n",
    "print(\"RMSE:\", rmse.round(2))"
   ]
  },
  {
   "cell_type": "markdown",
   "id": "b306bf4e-9420-4d4c-be39-843e97bfaa69",
   "metadata": {},
   "source": [
    "**Третий нефтяной регион**"
   ]
  },
  {
   "cell_type": "code",
   "execution_count": 15,
   "id": "23a4def7-4d4d-43a6-9d2d-229429a0e780",
   "metadata": {},
   "outputs": [
    {
     "name": "stdout",
     "output_type": "stream",
     "text": [
      "RMSE для третьего нефтяного региона: 40.03\n",
      "Средний запас предсказанного сырья для третьего нефтяного региона: 94.97\n"
     ]
    }
   ],
   "source": [
    "# обучим модель линейной регрессии \n",
    "\n",
    "model_3 = LinearRegression()\n",
    "model_3.fit(features_train_3, target_train_3)\n",
    "predictions_3 = model_3.predict(features_valid_3)\n",
    "mse_3 = mean_squared_error(target_valid_3, predictions_3)\n",
    "rmse_3 = mse_3**0.5\n",
    "print(\"RMSE для третьего нефтяного региона:\", rmse_3.round(2))\n",
    "print(\"Средний запас предсказанного сырья для третьего нефтяного региона:\", predictions_3.mean().round(2))"
   ]
  },
  {
   "cell_type": "code",
   "execution_count": 16,
   "id": "bce8e7f7-c96b-4085-af9a-5573f0e60c3c",
   "metadata": {},
   "outputs": [
    {
     "name": "stdout",
     "output_type": "stream",
     "text": [
      "RMSE: 44.75\n"
     ]
    }
   ],
   "source": [
    "predictions = pd.Series(target_3.mean(), index=target_3.index)\n",
    "mse = mean_squared_error(target_3, predictions)\n",
    "rmse = mse**0.5\n",
    "\n",
    "print(\"RMSE:\", rmse.round(2))"
   ]
  },
  {
   "cell_type": "markdown",
   "id": "39c4620e-fdb7-4b0d-ae5e-d1f5ad5f55ce",
   "metadata": {},
   "source": [
    "**Вывод:** Полученные модели линейной регрессии сравнили с константной моделью для проверки адекватности. В каждом из вариантов линейная регрессия имела меньшее значение rmse, чем константная модель, что говорит об адекватности полученных моделей. \n",
    "Также можно заметить, что чем выше среднее значение запасов на скважину, тем меньше корень из среднеквадратичной ошибки. Наименьший разброс значений наблюдается у второго нефтяного региона. Больше всего запасов на скважину прогнозируется в третьем регионе"
   ]
  },
  {
   "cell_type": "markdown",
   "id": "7c4f1881-472d-48b6-b3da-db96a69426df",
   "metadata": {},
   "source": [
    "## Шаг 3. Подготовка к расчёту прибыли"
   ]
  },
  {
   "cell_type": "code",
   "execution_count": 17,
   "id": "d560de19-3d92-42f9-81e3-f508fcc3ea6d",
   "metadata": {},
   "outputs": [],
   "source": [
    "BUDGET = 10000000000 # бюджет на разработку региона\n",
    "BARREL_REVENUE = 450000 # доход с 1000 баррелей нефти\n",
    "DEVELOPMENT_POINTS = 200 # кол-во скважин в регионе для разработки"
   ]
  },
  {
   "cell_type": "code",
   "execution_count": 18,
   "id": "d93e4f17-8df7-45de-bd46-262c9d74dc1b",
   "metadata": {},
   "outputs": [
    {
     "name": "stdout",
     "output_type": "stream",
     "text": [
      "Минимальный объем сырья для безубыточной разработки скважины составялет 111.11111111111111 тыс. баррелей\n"
     ]
    }
   ],
   "source": [
    "# Для выхода в плюс необходимо, чтобы доход с продажи нефти превысил бюджет на разработку нефтяного региона.\n",
    "\n",
    "x = DEVELOPMENT_POINTS  * BARREL_REVENUE # рассчитаем доход со всех скважин, если бы запас сырья у каждой был 1 тыс. баррелей\n",
    "minimal_reserves_per_well = BUDGET / x # рассчитаем минимальный запас у скважины для безубыточной разработки, т.е. чтобы доход от нефти был не меньше, чем инвестиции\n",
    "print('Минимальный объем сырья для безубыточной разработки скважины составялет', minimal_reserves_per_well, \"тыс. баррелей\")"
   ]
  },
  {
   "cell_type": "code",
   "execution_count": 19,
   "id": "11286c01-1f0b-4384-87de-0672f2b546d3",
   "metadata": {},
   "outputs": [
    {
     "name": "stdout",
     "output_type": "stream",
     "text": [
      "92.59256778438035\n",
      "68.728546895446\n",
      "94.96504596800489\n"
     ]
    }
   ],
   "source": [
    "# еще раз выведем на экран средний прогнозируемый объем запасов на скважину\n",
    "\n",
    "print(predictions_1.mean())\n",
    "print(predictions_2.mean())\n",
    "print(predictions_3.mean())"
   ]
  },
  {
   "cell_type": "markdown",
   "id": "d691b395-fa28-4315-bd8f-2c8db3ab5d6d",
   "metadata": {},
   "source": [
    "**Вывод:** Рассчитан минимальный объем сырья на скважину для безубыточной разработки скважины, который составляет 111,1 тыс. баррелей нефти. Средний прогнозируемый объем запасов на скважину меньше, чем объём сырья для безубыточной разработки новой скважины. На данный момент, кажется, что проекты окажутся неокупаемыми в каждом из регионов. Поэтому будем выбирать зоны для бурения с максимальными запасами."
   ]
  },
  {
   "cell_type": "markdown",
   "id": "5eb367fe-5aff-4342-a6bb-ae8b1daeb875",
   "metadata": {},
   "source": [
    "## Шаг 4. Функция для расчёта прибыли по выбранным скважинам и предсказаниям модели"
   ]
  },
  {
   "cell_type": "code",
   "execution_count": 20,
   "id": "5658f49c-8173-4c29-af17-6149ff0b05a6",
   "metadata": {},
   "outputs": [],
   "source": [
    "def income_calculation(target_valid, predictions):\n",
    "    predictions_sorted = pd.Series(predictions).sort_values(ascending=False)\n",
    "    predictions_top200 = predictions_sorted.head(200).index\n",
    "    revenue = target_valid.reset_index(drop=True).iloc[predictions_top200].sum()*BARREL_REVENUE - BUDGET\n",
    "    return revenue/1000000000"
   ]
  },
  {
   "cell_type": "code",
   "execution_count": 21,
   "id": "8e036c0d-94ad-4ed3-9589-500824490423",
   "metadata": {},
   "outputs": [
    {
     "name": "stdout",
     "output_type": "stream",
     "text": [
      "Прибыль от первого нефтяного региона: 3.321 млрд. рублей\n"
     ]
    }
   ],
   "source": [
    "print(\"Прибыль от первого нефтяного региона:\", round(income_calculation(target_valid_1, predictions_1), 3), \"млрд. рублей\")"
   ]
  },
  {
   "cell_type": "code",
   "execution_count": 22,
   "id": "6b4f3ba8-f1d9-455f-8325-65f4494141c4",
   "metadata": {},
   "outputs": [
    {
     "name": "stdout",
     "output_type": "stream",
     "text": [
      "Прибыль от второго нефтяного региона: 2.415 млрд. руб.\n"
     ]
    }
   ],
   "source": [
    "print(\"Прибыль от второго нефтяного региона:\", round(income_calculation(target_valid_2, predictions_2), 3), \"млрд. руб.\")"
   ]
  },
  {
   "cell_type": "code",
   "execution_count": 23,
   "id": "c1f25e45-d1ea-483a-b1a7-de7623ba7191",
   "metadata": {},
   "outputs": [
    {
     "name": "stdout",
     "output_type": "stream",
     "text": [
      "Прибыль от третьего нефтяного региона: 2.71 млрд. руб.\n"
     ]
    }
   ],
   "source": [
    "print(\"Прибыль от третьего нефтяного региона:\", round(income_calculation(target_valid_3, predictions_3), 3), \"млрд. руб.\")"
   ]
  },
  {
   "cell_type": "markdown",
   "id": "aefecb3b-56e8-47a2-be6c-0af8ff143590",
   "metadata": {},
   "source": [
    "**Вывод:** Расчет прибыли для 200 лучших по запасам точек показал, что наибольшую прибыль можно получить с первого нефтяного региона"
   ]
  },
  {
   "cell_type": "markdown",
   "id": "23b51f79-318f-4b05-894d-aab4e3da87dc",
   "metadata": {},
   "source": [
    "## Шаг 5. Расчет рисков и прибыли для каждого региона."
   ]
  },
  {
   "cell_type": "code",
   "execution_count": 24,
   "id": "dbcf4b8e-5b3d-4e32-99f0-1ae895572c43",
   "metadata": {},
   "outputs": [],
   "source": [
    "state = np.random.RandomState(12345)\n",
    "def bootstrap(target_valid, predictions):\n",
    "    values = []\n",
    "    for i in range(1000):\n",
    "        predicted = pd.Series(predictions)\n",
    "        subsample = predicted.sample(n=500, replace=True, random_state=state)\n",
    "        values.append(income_calculation(target_valid, subsample))\n",
    "\n",
    "    values = pd.Series(values)\n",
    "    lower = values.quantile(0.025)\n",
    "    higher = values.quantile(0.975)\n",
    "\n",
    "    # визуализируем\n",
    "    values.hist(figsize=(10, 5), bins=50, color='orange')\n",
    "    plt.grid(True)\n",
    "    plt.axvline(values.quantile(0.025), color='red')\n",
    "    plt.axvline(values.quantile(0.975), color='green')\n",
    "    plt.legend(['Нижняя граница доверительного интервала', \n",
    "                'Верхняя граница доверительного интервала', 'Распределение прибыли'])\n",
    "    plt.xlabel('Прибыль, млрд. руб.')\n",
    "    plt.ylabel('Количество скважин')\n",
    "    plt.title('Распределение прибыли')\n",
    "    plt.show()\n",
    "\n",
    "    print('Средняя прибыль:',round(sum(values)/len(values),3), \"млрд. руб.\")\n",
    "    print('Верхнее значение доверительного интервала:', round(higher,3), \"млрд. руб.\")\n",
    "    print('Нижнее значение доверительного интервала:', round(lower,3), \"млрд. руб.\")\n",
    "    print('Риск убытков:',round(len(values[values < 0])/len(values)*100,2), \"%\")  "
   ]
  },
  {
   "cell_type": "code",
   "execution_count": 25,
   "id": "e46c660d-a9ee-403d-bb80-36ffc5893de2",
   "metadata": {},
   "outputs": [
    {
     "name": "stdout",
     "output_type": "stream",
     "text": [
      "Первый нефтяной регион:\n"
     ]
    },
    {
     "data": {
      "image/png": "[encoded data removed]",
      "text/plain": [
       "<Figure size 720x360 with 1 Axes>"
      ]
     },
     "metadata": {
      "needs_background": "light"
     },
     "output_type": "display_data"
    },
    {
     "name": "stdout",
     "output_type": "stream",
     "text": [
      "Средняя прибыль: 0.396 млрд. руб.\n",
      "Верхнее значение доверительного интервала: 0.91 млрд. руб.\n",
      "Нижнее значение доверительного интервала: -0.111 млрд. руб.\n",
      "Риск убытков: 6.9 %\n",
      "None\n"
     ]
    }
   ],
   "source": [
    "print(\"Первый нефтяной регион:\")\n",
    "print(bootstrap(target_valid_1, predictions_1))"
   ]
  },
  {
   "cell_type": "code",
   "execution_count": 26,
   "id": "4b13b561-d325-48d9-a375-de47e307e69e",
   "metadata": {},
   "outputs": [
    {
     "name": "stdout",
     "output_type": "stream",
     "text": [
      "Второй нефтяной регион:\n"
     ]
    },
    {
     "data": {
      "image/png": "[encoded data removed]",
      "text/plain": [
       "<Figure size 720x360 with 1 Axes>"
      ]
     },
     "metadata": {
      "needs_background": "light"
     },
     "output_type": "display_data"
    },
    {
     "name": "stdout",
     "output_type": "stream",
     "text": [
      "Средняя прибыль: 0.461 млрд. руб.\n",
      "Верхнее значение доверительного интервала: 0.863 млрд. руб.\n",
      "Нижнее значение доверительного интервала: 0.078 млрд. руб.\n",
      "Риск убытков: 0.7 %\n",
      "None\n"
     ]
    }
   ],
   "source": [
    "print(\"Второй нефтяной регион:\")\n",
    "print(bootstrap(target_valid_2, predictions_2))"
   ]
  },
  {
   "cell_type": "code",
   "execution_count": 27,
   "id": "d7f9ee09-db56-496e-af59-601f7c0baa64",
   "metadata": {},
   "outputs": [
    {
     "name": "stdout",
     "output_type": "stream",
     "text": [
      "Третий нефтяной регион:\n"
     ]
    },
    {
     "data": {
      "image/png": "[encoded data removed]",
      "text/plain": [
       "<Figure size 720x360 with 1 Axes>"
      ]
     },
     "metadata": {
      "needs_background": "light"
     },
     "output_type": "display_data"
    },
    {
     "name": "stdout",
     "output_type": "stream",
     "text": [
      "Средняя прибыль: 0.393 млрд. руб.\n",
      "Верхнее значение доверительного интервала: 0.935 млрд. руб.\n",
      "Нижнее значение доверительного интервала: -0.112 млрд. руб.\n",
      "Риск убытков: 6.5 %\n",
      "None\n"
     ]
    }
   ],
   "source": [
    "print(\"Третий нефтяной регион:\")\n",
    "print(bootstrap(target_valid_3, predictions_3))"
   ]
  },
  {
   "cell_type": "markdown",
   "id": "081b9431-b113-41be-b124-78c5f079a349",
   "metadata": {},
   "source": [
    "**Вывод:** В ходе исследования выяснилось, что:\n",
    "- У второго нефтяного региона самый низкий RMSE и самый низкий запас предсказанного сырья на скважину. \n",
    "- При бурении 200 лучших скважин, наибольшую прибыль можно получить на первом нефтяном регионе.\n",
    "- С помощью техники bootstrap выяснено, что второй регион имеет наивысшее значений средней прибыли и нименьший риск убытков.\n",
    "- Таким образом, предлагается разрабатывать именно второй нефтяной регион."
   ]
  }
 ],
 "metadata": {
  "ExecuteTimeLog": [
   {
    "duration": 108,
    "start_time": "2024-02-06T11:54:24.517Z"
   },
   {
    "duration": 1431,
    "start_time": "2024-02-06T11:59:09.126Z"
   },
   {
    "duration": 5026,
    "start_time": "2024-02-06T11:59:46.459Z"
   },
   {
    "duration": 1558,
    "start_time": "2024-02-06T11:59:51.487Z"
   },
   {
    "duration": 1670,
    "start_time": "2024-02-06T11:59:53.046Z"
   },
   {
    "duration": 13,
    "start_time": "2024-02-06T11:59:54.718Z"
   },
   {
    "duration": 8,
    "start_time": "2024-02-06T11:59:54.733Z"
   },
   {
    "duration": 43,
    "start_time": "2024-02-06T11:59:54.743Z"
   },
   {
    "duration": 137,
    "start_time": "2024-02-06T11:59:54.788Z"
   },
   {
    "duration": 12,
    "start_time": "2024-02-06T11:59:54.926Z"
   },
   {
    "duration": 52,
    "start_time": "2024-02-06T11:59:54.940Z"
   },
   {
    "duration": 4,
    "start_time": "2024-02-06T11:59:54.994Z"
   },
   {
    "duration": 73,
    "start_time": "2024-02-06T11:59:54.999Z"
   },
   {
    "duration": 10,
    "start_time": "2024-02-06T11:59:55.074Z"
   },
   {
    "duration": 24,
    "start_time": "2024-02-06T11:59:55.174Z"
   },
   {
    "duration": 9,
    "start_time": "2024-02-06T11:59:55.273Z"
   },
   {
    "duration": 102,
    "start_time": "2024-02-06T11:59:55.289Z"
   },
   {
    "duration": 81,
    "start_time": "2024-02-06T11:59:55.393Z"
   },
   {
    "duration": 4,
    "start_time": "2024-02-06T11:59:55.476Z"
   },
   {
    "duration": 93,
    "start_time": "2024-02-06T11:59:55.482Z"
   },
   {
    "duration": 14,
    "start_time": "2024-02-06T11:59:55.576Z"
   },
   {
    "duration": 9,
    "start_time": "2024-02-06T11:59:55.591Z"
   },
   {
    "duration": 13,
    "start_time": "2024-02-06T11:59:55.601Z"
   },
   {
    "duration": 15,
    "start_time": "2024-02-06T11:59:55.615Z"
   },
   {
    "duration": 11,
    "start_time": "2024-02-06T11:59:55.632Z"
   },
   {
    "duration": 22,
    "start_time": "2024-02-06T11:59:55.644Z"
   },
   {
    "duration": 1178,
    "start_time": "2024-02-06T11:59:55.668Z"
   },
   {
    "duration": 1270,
    "start_time": "2024-02-06T11:59:56.847Z"
   },
   {
    "duration": 1166,
    "start_time": "2024-02-06T11:59:58.118Z"
   },
   {
    "duration": 3401,
    "start_time": "2024-02-06T12:01:09.374Z"
   },
   {
    "duration": 2072,
    "start_time": "2024-02-06T12:01:12.778Z"
   },
   {
    "duration": 426,
    "start_time": "2024-02-06T12:01:14.851Z"
   },
   {
    "duration": 15,
    "start_time": "2024-02-06T12:01:15.280Z"
   },
   {
    "duration": 22,
    "start_time": "2024-02-06T12:01:15.296Z"
   },
   {
    "duration": 75,
    "start_time": "2024-02-06T12:01:15.320Z"
   },
   {
    "duration": 135,
    "start_time": "2024-02-06T12:01:15.396Z"
   },
   {
    "duration": 14,
    "start_time": "2024-02-06T12:01:15.533Z"
   },
   {
    "duration": 67,
    "start_time": "2024-02-06T12:01:15.548Z"
   },
   {
    "duration": 3,
    "start_time": "2024-02-06T12:01:15.617Z"
   },
   {
    "duration": 50,
    "start_time": "2024-02-06T12:01:15.622Z"
   },
   {
    "duration": 100,
    "start_time": "2024-02-06T12:01:15.677Z"
   },
   {
    "duration": 25,
    "start_time": "2024-02-06T12:01:15.778Z"
   },
   {
    "duration": 172,
    "start_time": "2024-02-06T12:01:15.805Z"
   },
   {
    "duration": 32,
    "start_time": "2024-02-06T12:01:15.979Z"
   },
   {
    "duration": 97,
    "start_time": "2024-02-06T12:01:16.079Z"
   },
   {
    "duration": 28,
    "start_time": "2024-02-06T12:01:16.178Z"
   },
   {
    "duration": 28,
    "start_time": "2024-02-06T12:01:16.207Z"
   },
   {
    "duration": 29,
    "start_time": "2024-02-06T12:01:16.237Z"
   },
   {
    "duration": 28,
    "start_time": "2024-02-06T12:01:16.267Z"
   },
   {
    "duration": 38,
    "start_time": "2024-02-06T12:01:16.297Z"
   },
   {
    "duration": 41,
    "start_time": "2024-02-06T12:01:16.337Z"
   },
   {
    "duration": 22,
    "start_time": "2024-02-06T12:01:16.380Z"
   },
   {
    "duration": 13,
    "start_time": "2024-02-06T12:01:16.404Z"
   },
   {
    "duration": 1209,
    "start_time": "2024-02-06T12:01:16.418Z"
   },
   {
    "duration": 1222,
    "start_time": "2024-02-06T12:01:17.628Z"
   },
   {
    "duration": 1158,
    "start_time": "2024-02-06T12:01:18.852Z"
   },
   {
    "duration": 3922,
    "start_time": "2024-02-06T12:01:28.486Z"
   },
   {
    "duration": 313,
    "start_time": "2024-02-06T12:02:08.254Z"
   }
  ],
  "kernelspec": {
   "display_name": "Python 3 (ipykernel)",
   "language": "python",
   "name": "python3"
  },
  "language_info": {
   "codemirror_mode": {
    "name": "ipython",
    "version": 3
   },
   "file_extension": ".py",
   "mimetype": "text/x-python",
   "name": "python",
   "nbconvert_exporter": "python",
   "pygments_lexer": "ipython3",
   "version": "3.9.18"
  },
  "toc": {
   "base_numbering": 1,
   "nav_menu": {},
   "number_sections": true,
   "sideBar": true,
   "skip_h1_title": true,
   "title_cell": "Table of Contents",
   "title_sidebar": "Contents",
   "toc_cell": false,
   "toc_position": {},
   "toc_section_display": true,
   "toc_window_display": true
  }
 },
 "nbformat": 4,
 "nbformat_minor": 5
}
